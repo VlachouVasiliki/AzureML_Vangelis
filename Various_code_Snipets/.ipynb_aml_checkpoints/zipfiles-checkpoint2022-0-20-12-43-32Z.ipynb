{
  "cells": [
    {
      "cell_type": "code",
      "source": [
        "#import gzip\r\n",
        "import zipfile"
      ],
      "outputs": [],
      "execution_count": 22,
      "metadata": {
        "gather": {
          "logged": 1642682388251
        }
      }
    },
    {
      "cell_type": "code",
      "source": [
        "import os"
      ],
      "outputs": [],
      "execution_count": 13,
      "metadata": {
        "jupyter": {
          "source_hidden": false,
          "outputs_hidden": false
        },
        "nteract": {
          "transient": {
            "deleting": false
          }
        },
        "gather": {
          "logged": 1642682085421
        }
      }
    },
    {
      "cell_type": "code",
      "source": [
        "zipObj = ZipFile('text1.zip', 'w',compression =zipfile.ZIP_DEFLATED)"
      ],
      "outputs": [],
      "execution_count": 23,
      "metadata": {
        "jupyter": {
          "source_hidden": false,
          "outputs_hidden": false
        },
        "nteract": {
          "transient": {
            "deleting": false
          }
        },
        "gather": {
          "logged": 1642682398729
        }
      }
    },
    {
      "cell_type": "code",
      "source": [
        "print(os.getcwdb())"
      ],
      "outputs": [],
      "execution_count": null,
      "metadata": {
        "jupyter": {
          "source_hidden": false,
          "outputs_hidden": false
        },
        "nteract": {
          "transient": {
            "deleting": false
          }
        },
        "gather": {
          "logged": 1642681734251
        }
      }
    },
    {
      "cell_type": "code",
      "source": [
        "filetozip = '/mnt/resource/batch/tasks/shared/LS_root/mounts/clusters/vkontogcompute/code/Users/mchouliarea/Txns_NLP_202102_exp.txt'"
      ],
      "outputs": [],
      "execution_count": 25,
      "metadata": {
        "jupyter": {
          "source_hidden": false,
          "outputs_hidden": false
        },
        "nteract": {
          "transient": {
            "deleting": false
          }
        },
        "gather": {
          "logged": 1642682472618
        }
      }
    },
    {
      "cell_type": "code",
      "source": [
        "zipObj.write(filetozip)"
      ],
      "outputs": [
        {
          "output_type": "stream",
          "name": "stderr",
          "text": "/anaconda/envs/azureml_py36/lib/python3.6/zipfile.py:1378: UserWarning: Duplicate name: 'mnt/resource/batch/tasks/shared/LS_root/mounts/clusters/vkontogcompute/code/Users/mchouliarea/Txns_NLP_202102_exp.txt'\n  return self._open_to_write(zinfo, force_zip64=force_zip64)\n"
        }
      ],
      "execution_count": 26,
      "metadata": {
        "jupyter": {
          "source_hidden": false,
          "outputs_hidden": false
        },
        "nteract": {
          "transient": {
            "deleting": false
          }
        },
        "gather": {
          "logged": 1642682488216
        }
      }
    },
    {
      "cell_type": "code",
      "source": [
        "zipObj.close()"
      ],
      "outputs": [],
      "execution_count": 27,
      "metadata": {
        "jupyter": {
          "source_hidden": false,
          "outputs_hidden": false
        },
        "nteract": {
          "transient": {
            "deleting": false
          }
        },
        "gather": {
          "logged": 1642682489079
        }
      }
    }
  ],
  "metadata": {
    "kernelspec": {
      "name": "python3-azureml",
      "language": "python",
      "display_name": "Python 3.6 - AzureML"
    },
    "language_info": {
      "name": "python",
      "version": "3.6.9",
      "mimetype": "text/x-python",
      "codemirror_mode": {
        "name": "ipython",
        "version": 3
      },
      "pygments_lexer": "ipython3",
      "nbconvert_exporter": "python",
      "file_extension": ".py"
    },
    "kernel_info": {
      "name": "python3-azureml"
    },
    "nteract": {
      "version": "nteract-front-end@1.0.0"
    }
  },
  "nbformat": 4,
  "nbformat_minor": 2
}