{
 "cells": [
  {
   "cell_type": "code",
   "execution_count": 1,
   "id": "incorporate-twins",
   "metadata": {},
   "outputs": [
    {
     "name": "stdout",
     "output_type": "stream",
     "text": [
      "Performing interactive authentication. Please follow the instructions on the terminal.\n",
      "To sign in, use a web browser to open the page https://microsoft.com/devicelogin and enter the code DRMNN36HP to authenticate.\n",
      "You have logged in. Now let us find all the subscriptions to which you have access...\n",
      "Interactive authentication successfully completed.\n"
     ]
    }
   ],
   "source": [
    "from azureml.core import Workspace\n",
    "\n",
    "ws = Workspace.get(name='erbbimlws',\n",
    "                   subscription_id='6ed9d167-b2e6-41b8-9500-35e6df64d9dc',\n",
    "                   resource_group='MLRG')"
   ]
  },
  {
   "cell_type": "code",
   "execution_count": 2,
   "id": "plastic-degree",
   "metadata": {},
   "outputs": [
    {
     "name": "stdout",
     "output_type": "stream",
     "text": [
      "erbdatabicksml : Databricks\n",
      "inf-cluster-01 : AKS\n",
      "erbcompd2s01 : ComputeInstance\n",
      "erbmlcomp : AmlCompute\n",
      "vkcomputeHMem : ComputeInstance\n",
      "vkontogCompute : ComputeInstance\n"
     ]
    }
   ],
   "source": [
    "for compute_name in ws.compute_targets:\n",
    "    compute = ws.compute_targets[compute_name]\n",
    "    print(compute.name, \":\", compute.type)"
   ]
  }
 ],
 "metadata": {
  "kernelspec": {
   "display_name": "Python 3.6 - AzureML",
   "language": "python",
   "name": "python3-azureml"
  },
  "language_info": {
   "codemirror_mode": {
    "name": "ipython",
    "version": 3
   },
   "file_extension": ".py",
   "mimetype": "text/x-python",
   "name": "python",
   "nbconvert_exporter": "python",
   "pygments_lexer": "ipython3",
   "version": "3.6.9"
  }
 },
 "nbformat": 4,
 "nbformat_minor": 5
}
