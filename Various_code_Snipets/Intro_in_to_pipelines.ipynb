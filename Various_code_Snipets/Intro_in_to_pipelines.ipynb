{
 "cells": [
  {
   "cell_type": "code",
   "execution_count": 1,
   "id": "sticky-broadway",
   "metadata": {},
   "outputs": [],
   "source": [
    "import azureml.core\n",
    "from azureml.core import Workspace, Datastore\n",
    "\n",
    "ws = Workspace.from_config()"
   ]
  },
  {
   "cell_type": "code",
   "execution_count": 3,
   "id": "accessible-alias",
   "metadata": {},
   "outputs": [],
   "source": [
    "def_blob_store = Datastore(ws, \"workspaceblobstore\")\n"
   ]
  },
  {
   "cell_type": "code",
   "execution_count": 6,
   "id": "headed-questionnaire",
   "metadata": {},
   "outputs": [],
   "source": [
    "from azureml.core import Dataset\n",
    "from azureml.data import DataType\n",
    "\n",
    "data_types = { 'con_row_id': DataType.to_long(),'CON_COMMENTS': DataType.to_string()}  \n",
    "my_dataset = Dataset.Tabular.from_delimited_files(path = [(def_blob_store, 'UI/Contacts.csv')],separator = ',',\n",
    "    set_column_types =data_types)\n"
   ]
  },
  {
   "cell_type": "code",
   "execution_count": 10,
   "id": "inappropriate-trick",
   "metadata": {},
   "outputs": [],
   "source": [
    "import pandas as pd\n",
    "\n",
    "df = my_dataset.to_pandas_dataframe()\n",
    "df = df[['con_row_id','CON_COMMENTS']]\n",
    "df.columns = ['CON_ROW_ID','CON_COMMENTS']"
   ]
  },
  {
   "cell_type": "code",
   "execution_count": 11,
   "id": "aging-forwarding",
   "metadata": {},
   "outputs": [
    {
     "data": {
      "text/html": [
       "<div>\n",
       "<style scoped>\n",
       "    .dataframe tbody tr th:only-of-type {\n",
       "        vertical-align: middle;\n",
       "    }\n",
       "\n",
       "    .dataframe tbody tr th {\n",
       "        vertical-align: top;\n",
       "    }\n",
       "\n",
       "    .dataframe thead th {\n",
       "        text-align: right;\n",
       "    }\n",
       "</style>\n",
       "<table border=\"1\" class=\"dataframe\">\n",
       "  <thead>\n",
       "    <tr style=\"text-align: right;\">\n",
       "      <th></th>\n",
       "      <th>CON_ROW_ID</th>\n",
       "      <th>CON_COMMENTS</th>\n",
       "    </tr>\n",
       "  </thead>\n",
       "  <tbody>\n",
       "    <tr>\n",
       "      <th>0</th>\n",
       "      <td>2541510.0</td>\n",
       "      <td>ALAPIS - K.A.</td>\n",
       "    </tr>\n",
       "    <tr>\n",
       "      <th>1</th>\n",
       "      <td>2629815.0</td>\n",
       "      <td>Καμπάνια : Επαναπροσέλκυση Εκροές Φεβ-Απρ</td>\n",
       "    </tr>\n",
       "    <tr>\n",
       "      <th>2</th>\n",
       "      <td>2772435.0</td>\n",
       "      <td>EMERGENCY</td>\n",
       "    </tr>\n",
       "    <tr>\n",
       "      <th>3</th>\n",
       "      <td>2922471.0</td>\n",
       "      <td>Παλιοί πελάτες προς επικοινωνία</td>\n",
       "    </tr>\n",
       "    <tr>\n",
       "      <th>4</th>\n",
       "      <td>3381848.0</td>\n",
       "      <td>ΠΡΟΣΕΛΚΥΣΗ 207Κ$</td>\n",
       "    </tr>\n",
       "  </tbody>\n",
       "</table>\n",
       "</div>"
      ],
      "text/plain": [
       "   CON_ROW_ID                               CON_COMMENTS\n",
       "0   2541510.0                              ALAPIS - K.A.\n",
       "1   2629815.0  Καμπάνια : Επαναπροσέλκυση Εκροές Φεβ-Απρ\n",
       "2   2772435.0                                  EMERGENCY\n",
       "3   2922471.0            Παλιοί πελάτες προς επικοινωνία\n",
       "4   3381848.0                           ΠΡΟΣΕΛΚΥΣΗ 207Κ$"
      ]
     },
     "execution_count": 11,
     "metadata": {},
     "output_type": "execute_result"
    }
   ],
   "source": [
    "df.head()"
   ]
  },
  {
   "cell_type": "code",
   "execution_count": 41,
   "id": "polar-integrity",
   "metadata": {},
   "outputs": [],
   "source": [
    "import datetime\n",
    "y,m,d = datetime.date.today().year,datetime.date.today().month,datetime.date.today().day"
   ]
  },
  {
   "cell_type": "code",
   "execution_count": 53,
   "id": "smaller-editor",
   "metadata": {},
   "outputs": [
    {
     "name": "stdout",
     "output_type": "stream",
     "text": [
      "20210921\n"
     ]
    }
   ],
   "source": [
    "print(str(y)+('0'+str(m))[-2:]+('0'+str(d))[-2:])"
   ]
  }
 ],
 "metadata": {
  "kernelspec": {
   "display_name": "Python 3.6 - AzureML",
   "language": "python",
   "name": "python3-azureml"
  },
  "language_info": {
   "codemirror_mode": {
    "name": "ipython",
    "version": 3
   },
   "file_extension": ".py",
   "mimetype": "text/x-python",
   "name": "python",
   "nbconvert_exporter": "python",
   "pygments_lexer": "ipython3",
   "version": "3.6.9"
  }
 },
 "nbformat": 4,
 "nbformat_minor": 5
}
