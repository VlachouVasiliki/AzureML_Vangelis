{
  "cells": [
    {
      "cell_type": "markdown",
      "source": [
        "<b>Import necessery libraries</b>\n"
      ],
      "metadata": {},
      "id": "qualified-english"
    },
    {
      "cell_type": "code",
      "source": [
        "#!pip install openpyxl"
      ],
      "outputs": [],
      "execution_count": 32,
      "metadata": {
        "gather": {
          "logged": 1643320342567
        }
      },
      "id": "casual-renewal"
    },
    {
      "cell_type": "code",
      "source": [
        "import spacy\n",
        "import string\n",
        "import pandas as pd\n",
        "import re\n",
        "from sklearn.feature_extraction.text import TfidfVectorizer\n",
        "from azureml.core import Experiment\n",
        "from azureml.core import Workspace, Dataset\n",
        "from azureml.data import DataType\n",
        "from spacy.cli.download import download as spacy_download\n",
        "import os \n",
        "from os.path import join as osjoin\n",
        "import xlwt\n",
        "import openpyxl"
      ],
      "outputs": [],
      "execution_count": 33,
      "metadata": {
        "gather": {
          "logged": 1643320342736
        }
      },
      "id": "advised-contact"
    },
    {
      "cell_type": "code",
      "source": [
        "#!pip install --upgrade spacy"
      ],
      "outputs": [],
      "execution_count": 34,
      "metadata": {
        "gather": {
          "logged": 1643320342990
        }
      },
      "id": "9163eae5"
    },
    {
      "cell_type": "markdown",
      "source": [
        "<b>Select the default workspace & datastore</b>"
      ],
      "metadata": {},
      "id": "worse-franchise"
    },
    {
      "cell_type": "code",
      "source": [
        "# azureml-core of version 1.0.72 or higher is required\n",
        "# azureml-dataprep[pandas] of version 1.1.34 or higher is required\n",
        "from azureml.core import Workspace, Dataset\n",
        "\n",
        "subscription_id = '6ed9d167-b2e6-41b8-9500-35e6df64d9dc'\n",
        "resource_group = 'MLRG'\n",
        "workspace_name = 'erbbimlws'\n",
        "\n",
        "workspace = Workspace(subscription_id, resource_group, workspace_name)\n",
        "\n",
        "\n",
        "datastore = workspace.get_default_datastore()\n",
        "\n"
      ],
      "outputs": [],
      "execution_count": 35,
      "metadata": {
        "gather": {
          "logged": 1643320344788
        }
      },
      "id": "lesbian-teddy"
    },
    {
      "cell_type": "markdown",
      "source": [
        "<b>Loading the Greek language tools</b>"
      ],
      "metadata": {},
      "id": "stunning-timing"
    },
    {
      "cell_type": "code",
      "source": [
        "spacy_download('el_core_news_sm')\n",
        "nlp =spacy.load('el_core_news_sm', disable=['tagger', 'parser', 'ner'])"
      ],
      "outputs": [
        {
          "output_type": "stream",
          "name": "stdout",
          "text": "\u001b[38;5;2m✔ Download and installation successful\u001b[0m\nYou can now load the package via spacy.load('el_core_news_sm')\n"
        }
      ],
      "execution_count": 36,
      "metadata": {
        "gather": {
          "logged": 1643320353668
        },
        "lines_to_next_cell": 2
      },
      "id": "clear-segment"
    },
    {
      "cell_type": "markdown",
      "source": [
        "<b>Parameter definitions</b>"
      ],
      "metadata": {},
      "id": "coated-alarm"
    },
    {
      "cell_type": "code",
      "source": [
        "#minimum number of tokens in the texts\n",
        "minCount = 1000\n",
        "#ngrams parameters\n",
        "mindf,minngram,maxngram = 30,2,3\n",
        "#keep empty tokens\n",
        "deleteEmptyTokens = True\n",
        "#dataset name to be analyzed\n",
        "datasetName = 'Txns_NLP_202102'\n",
        "#export filename\n",
        "fileName = 'Txns_NLP_202102_exp'"
      ],
      "outputs": [],
      "execution_count": 37,
      "metadata": {
        "gather": {
          "logged": 1643320353841
        }
      },
      "id": "documentary-cleaners"
    },
    {
      "cell_type": "markdown",
      "source": [
        "<b>Regular expressions definitions</b>"
      ],
      "metadata": {},
      "id": "thorough-basics"
    },
    {
      "cell_type": "code",
      "source": [
        "p1 = re.compile('δεν απαντ.{1,3}\\s{0,1}',re.IGNORECASE)\n",
        "p2 = re.compile('\\sδα\\s',re.IGNORECASE)\n",
        "p3 = re.compile('δε.{0,1}\\s.{0,3}\\s{0,1}βρ.{1,2}κ.\\s{0,1}',re.IGNORECASE)\n",
        "p4 = re.compile('[^\\d]?\\d{10}')\n",
        "p5 = re.compile('[^\\d]?\\d{18}|[^\\d]\\d{20}')\n",
        "p6 = re.compile('δε[ ν]{0,1} (επιθυμ[α-ω]{2,4}?|[ήη]θ[εέ]λ[α-ω]{1,3}?|θελ[α-ω]{1,4}|.{0,20}ενδιαφ[εέ]ρ[α-ω]{2,4})',re.IGNORECASE)\n",
        "p7 = re.compile('δε[ ν]{0,1} (μπορ[α-ω]{2,5}|.εχει)',re.IGNORECASE)\n",
        "p8 = re.compile('(δεν|μη).*διαθεσιμ[οη]ς{0,1}?',re.IGNORECASE)\n",
        "p9 = re.compile('(δεν|μη)+.*εφικτη?',re.IGNORECASE)\n",
        "p10 = re.compile('δε[ ν]{0,1}.{0,20}θετικ[οόήη]ς{0,1}',re.IGNORECASE)\n",
        "\n",
        "#pinakides\n",
        "#p11 = re.compile('\\s([a-zA-Zα-ωΑ-Ω]{3}\\s*?[0-9]{3,4})\\s',re.IGNORECASE)\n",
        "p11 = re.compile('\\s[a-zA-Zα-ωΑ-Ω]{3}[0-9]{3,4}\\s',re.IGNORECASE)\n",
        "\n",
        "#enoikia\n",
        "p12=re.compile('εν(.{1,2}κ.{1,3})',re.IGNORECASE)\n",
        "p13=re.compile('en(.{1,2}k.{1,3})',re.IGNORECASE)\n",
        "\n",
        "p14 = re.compile('(γιατρος|giatros|φυσιοθεραπ|ορθοπαιδικος|ΩΡΛ|ΩΝΑΣΕΙΟ|ψυχολογος|ψυχοθεραπεια|ψυχιατρος|LOGO -ERGOTHERAPEIA|VIODIAGNOSI|KLINIKI|ΚΛΙΝΙΚΗ)\\S*' ,re.IGNORECASE)\n",
        "p15 = re.compile('(EX/SH|Εξοφληση|ΕΞΟΦΛΗΣΗ|eksoflisi|eksoflhsh|ΕΞΩΦΛΗΣΗ|Εξόφλησ|EXOFLISI|EXOFLHSH|EJOFLHSH|EΞΟΦΛ|εξοφ|εξοφλ|εξοφλη|εξοφλης|εξόφληση|εξφ|εξωφ|εξωφλ)\\S*' ,re.IGNORECASE)\n",
        "p16 = re.compile('(ASFALIA|asfaleia|ασφάλ|asfalistra|ΑΣΦΑΛΕΙΑ|ΑΣΦΑΛΕΙΑΣ|ασφαλειες|ασφάλειες|ασφαλιστηριο|ασφαλιστρα|ασφαλιστρων)\\S*' ,re.IGNORECASE)\n",
        "p17 = re.compile('(ΤΙΜΟΛΟΓΙΟ|ΤΙΜΟΛ|ΤΙΜΟΛΟΓΊΟΥ|ΠΡΟΦΟΡΜΑ|PROFORMA|INVOICE|TIMOLOGIWN)\\S*' ,re.IGNORECASE)\n",
        "p18 = re.compile('(ΝΕΡΟΥ|ΝΕΡΟ|ευδαπ|nero|nerou|eydap|PLIROMI NEROU|ΠΛΗΡΩΜΗ ΝΕΡΟΥ)\\S*' ,re.IGNORECASE)\n",
        "p38 = re.compile('(^|\\s)(ΔΕΗ|dei|DEH|ρευμα|reuma|ILEKTRIKOU|ILEKTRIKO|ηλεκτρικο)\\S*' ,re.IGNORECASE)\n",
        "p19 = re.compile('(ΜΙΣΘΟΔΟΣΙΑ|MISTHODOSIA|DORO CHRISTOUGENNON|DORO PASHA|DORO PASXA|apodoches|apodochon|μισθ|μισθου|salary|MISTH|Αδεια|ΑΠΟΔΟΧΕΣ|αποδοχων|μηνιατικο|μισθοδοσία|ΕΞΟΦΛ ΜΙΣΘ|ΜΙΣΘΟΣ|MISTHOS|misthou|ΜΙΣΘΟΔΩΣΙΑ|ΜΙΣΘ/ΣΙΑ|ΔΩΡΟ ΧΡΙΣΟΥΓΕΝΩΝ|ΔΩΡΟ ΧΡΙΣΤ|DWRO XRISTOYGENNWN|ΔΩΡΟ ΠΑΣΧΑ|ΟΔΟΙΠΟΡΙΚΑ|PAYROLL|MISTHODOSIAS|MISTHODOSIES|ODOIPORIKA|EPIDOMA ADEIAS|ΕΠΙΔΟΜΑ ΑΔΕΙΑΣ)\\S*' ,re.IGNORECASE)\n",
        "p41 = re.compile('(ΕΝΦΙΑ|enfia)\\S*' ,re.IGNORECASE)\n",
        "p20 = re.compile('(ΤΑΠ ΑΚΙΝΗΤΟΥ|ΚΤΗΜΑΤΟΛΟΓΙΟ)\\S*' ,re.IGNORECASE)\n",
        "p21 = re.compile('(^|\\s)(foros|φορος|φορος εισοδηματος|FOROI|eforia|εφορια)\\S*' ,re.IGNORECASE)\n",
        "p42 = re.compile('(^|\\s)(ΕΦΚΑ|efka)(\\s|$)' ,re.IGNORECASE)\n",
        "p43 = re.compile('(fpa|ΦΠΑ)\\S*' ,re.IGNORECASE)\n",
        "p44 = re.compile('(^|\\s)(ΙΚΑ|IKA)(\\s|$)',re.IGNORECASE)\n",
        "p45 = re.compile('(^|\\s)(TEBE|TEVE|ΤΕΒΕ|oaee|ΟΑΕΕ)(\\s|$)' ,re.IGNORECASE)\n",
        "p22 = re.compile('(KOINOXΡHΣTA|ΚΟΙΝ/ΣΤΑ|κοινοχρηστων|κοινοχρ|Συντηρηση Ανελκυστηρα|Κοινόχροιστα|KOINOXRISTA|KOINOCHRISTA|PLIROMI KOINOCHRISTON|koinoxrhsta)\\S*' ,re.IGNORECASE)\n",
        "p23 = re.compile('(να ζησετε|δωρο γαμου|na zisete|gamou|gamos|γαμος)\\S*' ,re.IGNORECASE)\n",
        "p24 = re.compile('(να σας ζησει|na sas zisei|βαφτιση|vaftisi|baftisi)\\S*' ,re.IGNORECASE)\n",
        "p25 = re.compile('(stegastiko|δοση σπίτι|Δάνειο σπίτι|δόση στεγαστικού δανείου|στεγαστικου|στεγαστικο|ΣΤΕΓΑΣΤΙΚΟ  ΔΑΝΕΙΟ|Πληρωμη στεγαστικου|mortgage installment|mortgage|STEGASTIKOU|EPISKEVASTIKOU|επισκευαστικο|episkeuastiko)\\S*' ,re.IGNORECASE)\n",
        "p26 = re.compile('(μτφ|metafora|μεταφορα|mtf|METAF)\\S*' ,re.IGNORECASE)\n",
        "p27 = re.compile('(ORDER|παραγγελίας|ΠΑΡΑΓΓΕΛΙΑ|αρ.παρ.|PARAGGELIAS|PARAGGELIA|αρ.παρ|orders|PARANGELIA)\\S*' ,re.IGNORECASE)\n",
        "p28 = re.compile('(xreos|ΔΑΝΕΙΚΑ|ΕΝΑΝΤΙ ΛΟΓΑΡΙΑΣΜΟΥ|εξοδα|ΕΞΟΔ.|exoda|expenses|οφειλη|χρεος|ENANTI LOGARIASMOU|DANEIKA|OFEILES)\\S*' ,re.IGNORECASE)\n",
        "p29 = re.compile('(κτθ|καταθεση|katathesi|ktth)\\S*' ,re.IGNORECASE)\n",
        "p30 = re.compile('(ΠΡΟΚΑΤΑ|ΠΡΟΚΑΤΑΒΟΛΉ|ΠΡΟΚΑΤΑΒ|prokatavoli|prokataboli|prokatav|PROKATABOLH|προκατ|προκαταβολες)\\S*' ,re.IGNORECASE)\n",
        "p31 = re.compile('(DIATROFI|ΔΙΑΤΡΟΦΗ|ΔΙΑΤΡΟΦΙ|DIA/FI|ΔΙΑ/ΦΗ)\\S*' ,re.IGNORECASE)\n",
        "p32 = re.compile('(δοση αυτοκινητου|δανειο αυτοκινητου|δανειο αυτοκινητο|Πληρωμη Αυτοκινητο|Αυτοκινητο πληρωμη|αυτοκινητο δοση|daneiou autokinitou|daneio autokinitou|dosi autokonitou|daneiou autokinito)\\S*' ,re.IGNORECASE)\n",
        "#p76 = re.compile('^(αυτοκινητο|autokinito)$' ,re.IGNORECASE)\n",
        "p76 = re.compile('(^|\\s)(αυτοκινητο|autokinito|αυτοκινητου)\\S*' ,re.IGNORECASE)\n",
        "p77 = re.compile('(agora autokinitou|αγορα αυτοκινητου)\\S*' ,re.IGNORECASE)\n",
        "p33 = re.compile('(ΠΛΗΡΩΜΗ ΔΑΝΕΙΟΥ|DANEIOU|δανειο|δανειου|daneioy|δαν|δανε|dosi daniou|εξοικονομω|Πληρωμη δοσης|δοση δανειου|ΔΟΣΗ ΔΑΝΕΙΟΥ|DOSΗ ΔΑΝΕΙΟΥ|ΔΌΣΗΔΑΝΕΊΟΥ|ΠΛΥΡΟΜΗ.ΔΑΝΕΙΟΥ|PLIROMI DANEIOU|DOSI DANEIOU|PLHPOMH DANEIOY|PLIROMI DOSIS DANEIOU|danio|DANEIO )\\S*' ,re.IGNORECASE)\n",
        "p34 = re.compile('(Πληρωμή καρτας|ΠΛΗΡΩΜΉ ΠΙΣΤΩΤΙΚΗΣ|card pay|card payment)\\S*' ,re.IGNORECASE)\n",
        "p47 = re.compile('(dwrea|donation|δωρεα|dorea)\\S*' ,re.IGNORECASE)\n",
        "p48 = re.compile('(dosi|dosis|doseis|dosh|δοση|δοσης|δοσεις)\\S*' ,re.IGNORECASE)\n",
        "p49 = re.compile('(ALPHA BANK|PEIRAIOS|ETHNIKI|PIRAEUS|ALPHA)\\S*' ,re.IGNORECASE)\n",
        "p70 = re.compile('(^|\\s)(ετε|ete)(\\s|$)',re.IGNORECASE)\n",
        "p50 = re.compile('(ELLINOAMERIKANIKI|EKPAIDEFTIRIA|EKPAIDEFTIKA|ELLINOAMERIKANIKO|ΕΛΛΗΝΟΑΜΕΡΙΚΑΝΙΚΗ|ΕΛΛΗΝΟΑΜΕΡΙΚΑΝΙΚΟ|ΕΚΠΑΙΔΕΥΤΗΡΙΑ)\\S*' ,re.IGNORECASE)\n",
        "p51 = re.compile('(ΟΑΕΔ|OAED)\\S*' ,re.IGNORECASE)\n",
        "p52 = re.compile('(ΤΕΛΗ ΚΥΚΛΟΦΟΡΙΑΣ|TELI KYKLOFORIAS)\\S*' ,re.IGNORECASE)\n",
        "p53 = re.compile('(ΕΠΙΤΑΓΗ|ΕΠΙΤΑΓΕΣ|ΕΠΙΤΑΓΗΣ|EPITAGHS|EPITAGES|EPITAGH|EPITAGI)\\S*' ,re.IGNORECASE)\n",
        "p54 = re.compile('(MERISMATOS|MERISMA|MERISMATA|MERISMATON|ΜΕΡΙΣΜΑ|ΜΕΡΙΣΜΑΤΑ)\\S*' ,re.IGNORECASE)\n",
        "p55 = re.compile('(COLLEGE|ΚΟΛΛΕΓΙΟ|kolegio)\\S*' ,re.IGNORECASE)\n",
        "p56 = re.compile('(VODAFON|Cosmote|WIND|FORTHNET)\\S*' ,re.IGNORECASE)\n",
        "p57 = re.compile('(DIDAKTRA|ΔΙΔΑΚΤΡΑ)\\S*' ,re.IGNORECASE)\n",
        "p59 = re.compile('(ΝΟΜΟΣ 3869|ΝΟΜΟΣ3869|Ν.3869)\\S*' ,re.IGNORECASE)\n",
        "p60 = re.compile('(Ασφαλεια αυτο/του|ασφαλεια αυτοκινητου|ασφαλειων αυτ/των|ασφαλεια αυτοκινητο|Ασφαλιστηριο αυτοκινητου|Ασφαλιστρα αυτοκινητου|ασφαλιση αυτοκινητου)\\S*' ,re.IGNORECASE)\n",
        "p61 = re.compile('(Ασφαλεια σπιτιου|asfaleia spitiou|ΑΣΦΆΛΕΙΑ ΣΠΙΤΙΟΎ|asfalia spitiou)\\S*' ,re.IGNORECASE)\n",
        "p62 = re.compile('(enoik|noiki|rent|νοικι)\\S*' ,re.IGNORECASE)\n",
        "p63 = re.compile('(payment|payments|plhpomh|pliromes|pliromi|pliromis|πληρωμες|πληρωμη)\\S*' ,re.IGNORECASE)\n",
        "p64 = re.compile('(συμβ|συμβολαιο|συμβολαιου|symv)\\S*' ,re.IGNORECASE)\n",
        "p65 = re.compile('(επιδομα|επιδοματος|epidoma|epidomatos)\\S*' ,re.IGNORECASE)\n",
        "p66 = re.compile('(κρατηση|κρατησης|kratisi|kratisis|booking)\\S*' ,re.IGNORECASE)\n",
        "p67 = re.compile('(diakopes|διακοπες|κρατηση δωματιου|kratisi dwmatiou|kratisi domatiou|κρατηση ξενοδοχειου|κρατηση δικλινου|κρατηση τρικλινου|κρατηση καταλυματος|κρατηση δωματιων|δικλινο|τρικλινο|diklino|triklino|δικλινου|τρικλινου|diklinou|triklinou)\\S*' ,re.IGNORECASE)\n",
        "p68 = re.compile('(petrelaio|πετρελαιο|πετρελαιου|petreleo|petrelaiou)\\S*' ,re.IGNORECASE)\n",
        "p69 = re.compile('(kausima|kafsima|καυσιμα)\\S*' ,re.IGNORECASE)\n",
        "p71 = re.compile('(αγορα|αγορας|αγορες|agora|agoras)\\S*' ,re.IGNORECASE)\n",
        "p75 = re.compile('(ANGLIKA|agglika|gallika|αγγλικα|γαλλικα|ΦΡΟΝΤΙΣΤΗΡΙΟ|frontistirio|frontistiriou|frontisthrio|φροντιστηριου)\\S*' ,re.IGNORECASE)\n",
        " \n",
        "\n",
        "#timologia\n",
        "p35 = re.compile('\\s?(tim|τιμ)\\s?\\.?\\d{1,30}\\s?',re.IGNORECASE)\n",
        "p72 = re.compile('\\s?(τδα|tda)\\s?\\.?\\d{1,30}\\s?',re.IGNORECASE)\n",
        "p46 = re.compile('\\s?(inv)\\s?\\.?\\d{1,30}\\s?',re.IGNORECASE)\n",
        "#μηνες για εξαιρεση από πινακιδες\n",
        "p73 = re.compile('\\s?(ιαν|φεβ|μαρ|απρ|μαι|ιου|αυγ|σεπ|οκτ|νοε|δεκ)\\s?\\.?\\d{1,30}\\s?',re.IGNORECASE)\n",
        "p74 = re.compile('\\s?(jan|feb|mar|apr|may|jun|jul|aug|sep|okt|nov|dec)\\s?\\.?\\d{1,30}\\s?',re.IGNORECASE)\n",
        "#afm\n",
        "p36 = re.compile('\\s?(αφμ|afm)\\s?\\.?\\d{1,9}\\s?',re.IGNORECASE)\n",
        "p37 = re.compile('(ΑΦΜ|AFM)\\S*' ,re.IGNORECASE)\n",
        "#transfers\n",
        "p39 = re.compile('\\s?(POO)\\s?\\.?\\s?',re.IGNORECASE)\n",
        "p40 = re.compile('\\s?(POI)\\s?\\.?\\s?',re.IGNORECASE)\n",
        "#characters\n",
        "p58 = re.compile('\\s?[\\W|_]{1}\\s?',re.IGNORECASE)\n"
      ],
      "outputs": [],
      "execution_count": 38,
      "metadata": {
        "gather": {
          "logged": 1643320354022
        },
        "lines_to_next_cell": 2
      },
      "id": "greenhouse-chicago"
    },
    {
      "cell_type": "markdown",
      "source": [
        "<b>Functions definitions</b>"
      ],
      "metadata": {},
      "id": "atmospheric-bobby"
    },
    {
      "cell_type": "code",
      "source": [
        "def loadStopWords(ws):\n",
        "    #A dataset containing the Greek stop words has been created\n",
        "    #the function loads this dataset as a dataframe\n",
        "    dataset = Dataset.get_by_name(ws, name='stopWords_gr')\n",
        "    sw = set(dataset.to_pandas_dataframe())\n",
        "    return sw"
      ],
      "outputs": [],
      "execution_count": 39,
      "metadata": {
        "gather": {
          "logged": 1643320354230
        },
        "lines_to_next_cell": 2
      },
      "id": "permanent-tolerance"
    },
    {
      "cell_type": "code",
      "source": [
        "def replaceTerm(text):\n",
        "    #This function uses the above defined regular expressions to replace text\n",
        "    #The order of the rules is importand\n",
        "    #Compinations of two or more words, are concatenated, in order to be considered as a single token\n",
        "    \n",
        "    #text = str(text)\n",
        "    text = p58.sub(' ',text)\n",
        "    \n",
        "    text = p5.sub(' λογαριασμος ',text)\n",
        "    text = p4.sub(' τηλεφωνο ',text)\n",
        "    text = p6.sub(' δενθελειδενενδιαφερεται ',text)\n",
        "    text = p10.sub(' δενθελειδενενδιαφερεται ',text)\n",
        "    text = p7.sub(' δενεχειδενμπορει ',text)\n",
        "    text = p8.sub(' δενειναιδιαθεσιμος ',text)\n",
        "    text = p9.sub(' ανεφικτη ',text)\n",
        "    text = text.replace('-banking','banking')\n",
        "    text = text.replace('v banking','vbanking')\n",
        "    text = text.replace('e banking','ebanking')\n",
        "    text = text.replace('follow up','followup')\n",
        "    text = text.replace('fup','followup')\n",
        "    text = text.replace('f/up','followup')\n",
        "    text = text.replace('πυρ/ριο','πυρασφαλιστηριο')\n",
        "    text = text.replace('safe drive','safedrive')\n",
        "    text = text.replace('safe pocket','safepocket')\n",
        "    text = text.replace('alphabank','alpha')\n",
        "    text = text.replace('sweet home smart','sweethomesmart')\n",
        "    text = text.replace('sweet home','sweethome')\n",
        "    text = text.replace('eξασφαλιζω','εξασφαλιζω')\n",
        "    text = text.replace('credit card','creditcard')\n",
        "    text = text.replace('debit card','debitcard')\n",
        "    text = text.replace('life cycle','lifecycle')\n",
        "    text = text.replace('π/κ','πκ')\n",
        "    text = text.replace('td','πκ')\n",
        "    text = text.replace('α/κ','ακ')\n",
        "    text = text.replace('δ/α','δεναπαντα ')\n",
        "    text = text.replace('εκτος αττικης','εκτοςαττικης ')\n",
        "    text = text.replace('paf payments','συναλλαγηpaf')\n",
        "    text = text.replace('paf online payments','συναλλαγηpaf')\n",
        "    text = text.replace('κτθ aps', 'καταθεσηaps')\n",
        "    text = text.replace('καταθεση μετρ. απο aps', 'καταθεσηaps')\n",
        "    text = text.replace('μτφ μεσω web','συστημικόμτφebanking')\n",
        "    text = text.replace('visa gold', 'visagold')\n",
        "\n",
        "    \n",
        "    \n",
        "    #τδ\n",
        "    text = p1.sub(' δεναπαντα ',text)\n",
        "    text = p2.sub(' δεναπαντα ',text)\n",
        "    text = p3.sub(' δεντονβρηκα ',text)\n",
        "    text = p37.sub(' αριθμοςφορολογικουμητρωου ',text)\n",
        "    text = p36.sub(' αριθμοςφορολογικουμητρωου ',text)\n",
        "    text = p35.sub(' τιμολογια ',text)\n",
        "    text = p46.sub(' τιμολογια ',text)\n",
        "    text = p72.sub(' τιμολογια ',text)\n",
        "    text = p17.sub(' τιμολογια ',text)\n",
        "    text = p73.sub(' μηνες ',text)\n",
        "    text = p74.sub(' μηνες ',text)\n",
        "    text = p11.sub(' αριθμοςκυκλοφοριας ', text)\n",
        "    text = p12.sub(' ενοικιο ',text)\n",
        "    text = p13.sub(' ενοικιο ',text)\n",
        "    text = p14.sub(' γιατροι ',text)\n",
        "    text = p15.sub(' εξοφληση ',text)\n",
        "   \n",
        "    \n",
        "    text = p18.sub(' ΝΕΡΟ ',text)\n",
        "    text = p38.sub(' ΡΕΥΜΑ ',text)\n",
        "    text = p19.sub(' μισθοδοσιες ', text)\n",
        "    text = p20.sub(' εφοριαακινητων ', text)\n",
        "    text = p41.sub(' ΕΝΦΙΑ ', text)\n",
        "    text = p21.sub(' φοροςεισοδηματος ', text)\n",
        "    text = p42.sub(' ΕΦΚΑ ', text)\n",
        "    text = p43.sub(' ΦΠΑ ', text)\n",
        "    text = p44.sub(' ΙΚΑ ', text)\n",
        "    text = p45.sub(' ΤΕΒΕ ', text)\n",
        "    text = p22.sub(' κοινοχρηστα ', text)\n",
        "    text = p23.sub(' συναλλαγεςγαμου ', text)\n",
        "    text = p24.sub(' συναλλαγεςγεννησηςβαφτισης ', text)\n",
        "    text = p25.sub(' στεγαστικα ', text)\n",
        "    text = p26.sub(' μεταφορες ', text)\n",
        "    text = p27.sub(' παραγγελιες ', text)\n",
        "    text = p28.sub(' οφειλες ', text)\n",
        "    text = p29.sub(' καταθεσεις ', text)\n",
        "    text = p30.sub(' προκαταβολες ', text)\n",
        "    text = p31.sub(' διατροφη ', text)\n",
        "    text = p32.sub(' carloan ', text)\n",
        "    text = p33.sub(' δανειο ', text)\n",
        "    text = p34.sub(' πιστωτικη ', text)\n",
        "    text = p39.sub(' εξερχομενοεμβασμα ',text)\n",
        "    text = p40.sub(' εισερχομενοεμβασμα ',text)\n",
        "    text = p47.sub(' δωρεα ',text)\n",
        "    text = p48.sub(' δοσεις ',text)\n",
        "    text = p49.sub(' τραπεζεςανταγωνισμου ',text)\n",
        "    text = p70.sub(' τραπεζεςανταγωνισμου ',text)\n",
        "    text = p50.sub(' ιδιωτικάσχολεια ',text)\n",
        "    text = p51.sub(' ΟΑΕΔ ',text)\n",
        "    text = p52.sub(' τεληκυκλοφοριας ',text)\n",
        "    text = p53.sub(' επιταγες ',text)\n",
        "    text = p54.sub(' μερισματα ',text)\n",
        "    text = p55.sub(' κολλεγια ',text)\n",
        "    text = p56.sub(' τηλεπικοινωνιες ',text)\n",
        "    text = p57.sub(' διδακτρα ',text)\n",
        "    text = p59.sub(' ΝΟΜΟΣ3869 ',text)\n",
        "    text = p60.sub(' ασφαλειααυτοκινητου ',text)\n",
        "    text = p61.sub(' ασφαλειασπιτιου ',text)\n",
        "    text = p16.sub(' ασφαλειες ',text)\n",
        "    text = p62.sub(' ενοικιο ',text)\n",
        "    text = p63.sub(' πληρωμες ',text)\n",
        "    text = p64.sub(' συμβολαια ',text)\n",
        "    text = p65.sub(' επιδομα ',text)\n",
        "    text = p67.sub(' διακοπες ',text)\n",
        "    text = p66.sub(' κρατησεις ',text)\n",
        "    text = p68.sub(' πετρελαιο ',text)\n",
        "    text = p69.sub(' καυσιμα ',text)\n",
        "    text = p77.sub(' αγορααυτοκινητου ',text)\n",
        "    text = p71.sub(' αγορες ',text)\n",
        "    text = p75.sub(' φροντιστηρια ',text)\n",
        "    text = p76.sub(' αυτοκινητο ',text)\n",
        "    \n",
        "    \n",
        "    return text"
      ],
      "outputs": [],
      "execution_count": 40,
      "metadata": {
        "gather": {
          "logged": 1643320354393
        },
        "lines_to_next_cell": 2
      },
      "id": "documentary-nelson"
    },
    {
      "cell_type": "code",
      "source": [
        "def remove_ton(text):\n",
        "    #removes punctuation, αφαιρεί τους τόνους\n",
        "    diction = {'ά':'α','έ':'ε','ή':'η','ί':'ι','ό':'ο','ώ':'ω','ύ':'υ'}\n",
        "    for key in diction.keys():\n",
        "        text = text.replace(key, diction[key])\n",
        "    return text   "
      ],
      "outputs": [],
      "execution_count": 41,
      "metadata": {
        "gather": {
          "logged": 1643320354641
        }
      },
      "id": "static-crossing"
    },
    {
      "cell_type": "code",
      "source": [
        "def clean_text(text,sw):\n",
        "    #This function performs text cleansing and returns the clean and lemmatized version of the original text\n",
        "    #conver to lower text \n",
        "    text = str(text).lower()\n",
        "    \n",
        "    # remove puncutation\n",
        "    #create a list from each text\n",
        "    text = [word.strip(string.punctuation) for word in text.split(\" \")]\n",
        "\n",
        "    # αφαιρούνται οι τόνοι\n",
        "    text = [remove_ton(x) for x in text]\n",
        "    \n",
        "    # remove stop words\n",
        "    text = [x for x in text if x not in sw]\n",
        "    \n",
        "    #remove quotes\n",
        "    text = [x.replace('quot;','').replace('&quot','') for x in text if x not in {'quot','amp'}]\n",
        "    \n",
        "    # remove words that contain numbers\n",
        "    #text = [word for word in text if not any(c.isdigit() for c in word)] #addition to return even empty tokens\n",
        "    \n",
        "    # remove empty tokens\n",
        "    text = [t for t in text if len(t) > 2] #addition to return even empty tokens\n",
        "    \n",
        "    # remove amp & quot\n",
        "    text = [x for x in text if x not in ['quot','amp']]\n",
        "    \n",
        "    # remove words with only one letter\n",
        "    #recreate text from list\n",
        "    text = \" \".join([t for t in text if len(t) > 2]) #addition to return even empty tokens\n",
        "    \n",
        "     #replacements either by rules or regular expressions\n",
        "    text = replaceTerm(text)\n",
        "    \n",
        "    # lemmatize text\n",
        "    text = \" \".join([t.lemma_ for t in nlp(text, disable=['tagger', 'parser', 'ner','tok2vec', 'morphologizer', 'parser', 'senter', 'attribute_ruler',  'ner'])])\n",
        "    return(text)"
      ],
      "outputs": [],
      "execution_count": 42,
      "metadata": {
        "gather": {
          "logged": 1643320354858
        },
        "lines_to_next_cell": 2
      },
      "id": "painful-dairy"
    },
    {
      "cell_type": "code",
      "source": [
        "def load_correctDict(ws):\n",
        "    #it creates a dictionary out of a dataset that containes pairs of (original term, corrected term)    \n",
        "    dataset = Dataset.get_by_name(ws, name='correct_Tokens')    \n",
        "    corDict = dict(dataset.to_pandas_dataframe().to_dict(\"split\")['data'])\n",
        "    return corDict"
      ],
      "outputs": [],
      "execution_count": 43,
      "metadata": {
        "gather": {
          "logged": 1643320355029
        },
        "lines_to_next_cell": 2
      },
      "id": "spoken-novel"
    },
    {
      "cell_type": "code",
      "source": [
        "def correct(x,corDict):\n",
        "    #uses the dictionary to correct the terms\n",
        "    if x in corDict.keys():\n",
        "        y = corDict[x]\n",
        "    else:\n",
        "        y = x\n",
        "    return y    "
      ],
      "outputs": [],
      "execution_count": 44,
      "metadata": {
        "gather": {
          "logged": 1643320355194
        },
        "lines_to_next_cell": 2
      },
      "id": "passing-suite"
    },
    {
      "cell_type": "code",
      "source": [
        "def get_ngrams(idf,mindf,minngram,maxngram):\n",
        "    #this function returns the bi-grams and tri-grams\n",
        "    tfidf = TfidfVectorizer(min_df = mindf,ngram_range = (minngram,maxngram))\n",
        "    tfidf_result = tfidf.fit_transform(idf['tokenized']).toarray()\n",
        "    tfidf_df = pd.DataFrame(tfidf_result, columns = tfidf.get_feature_names())\n",
        "    tfidf_df.columns = [str(x) for x in tfidf_df.columns]\n",
        "    df_i = pd.concat([df[['CON_ROW_ID']],tfidf_df],axis=1).melt(id_vars=['CON_ROW_ID'],value_vars = tfidf_df.columns).dropna()\n",
        "    df_i = df_i[df_i['value']>0]\n",
        "    return df_i"
      ],
      "outputs": [],
      "execution_count": 45,
      "metadata": {
        "gather": {
          "logged": 1643320355357
        },
        "lines_to_next_cell": 2
      },
      "id": "global-chess"
    },
    {
      "cell_type": "code",
      "source": [
        "def cleanComments(df,sw):\n",
        "    #applies the clean text function to all texts contained in the dataset\n",
        "    df = df[['CON_ROW_ID','CON_COMMENTS']]\n",
        "    df['tokenized'] = df['CON_COMMENTS'].apply(clean_text,args = (sw))\n",
        "    df = df.fillna('N/A')\n",
        "    df['variable'] = df['tokenized'].str.split()\n",
        "    return df"
      ],
      "outputs": [],
      "execution_count": 46,
      "metadata": {
        "gather": {
          "logged": 1643320355524
        },
        "lines_to_next_cell": 2
      },
      "id": "environmental-pointer"
    },
    {
      "cell_type": "code",
      "source": [
        "def getTokens(df,sw):\n",
        "    #The variable columns is a list. The explode method \"unpivots this list\"\n",
        "    df = cleanComments(df,sw)\n",
        "    df_f = df.explode('variable')[['CON_ROW_ID','variable']]\n",
        "    return df_f"
      ],
      "outputs": [],
      "execution_count": 47,
      "metadata": {
        "gather": {
          "logged": 1643320355686
        },
        "lines_to_next_cell": 2
      },
      "id": "improving-smoke"
    },
    {
      "cell_type": "code",
      "source": [
        "def getTokencount(df_f,minCount):\n",
        "    #calculate the number of occurances (counts) of each token\n",
        "    #tokens with count less than mincount are set to blank\n",
        "    tokenCount = df_f['variable'].value_counts().to_dict()\n",
        "    \n",
        "    df_f['value'] = df_f['variable'].map(tokenCount)\n",
        "   \n",
        "    df_f.loc[(df_f['value']<minCount), 'variable'] = ' ' #addition to return even empty tokens\n",
        "    \n",
        "    return df_f"
      ],
      "outputs": [],
      "execution_count": 48,
      "metadata": {
        "gather": {
          "logged": 1643320355850
        }
      },
      "id": "personal-hands"
    },
    {
      "cell_type": "code",
      "source": [
        "def performNLP(workspace,minCount,mindf,minngram,maxngram,deleteEmptyTokens,df):\n",
        "    sw = loadStopWords(workspace)\n",
        "    \n",
        "    df = cleanComments(df,sw)\n",
        "    \n",
        "    df_f = getTokens(df,sw)\n",
        "\n",
        "    df_f.count()\n",
        "    \n",
        "    df_f = df_f.fillna(' ')\n",
        "    \n",
        "    df_f = getTokencount(df_f,minCount)\n",
        "    \n",
        "    #try:\n",
        "    #    df_f = df_f.append(get_ngrams(df,mindf,minngram,maxngram ))\n",
        "    #except:\n",
        "    #    print('no bigramms or trigramms were added')\n",
        "    \n",
        "    #corDict = load_correctDict(workspace)     \n",
        "    \n",
        "    #df_f['token'] = df_f['variable'].apply(lambda x : correct(x,corDict))\n",
        "    \n",
        "    #df_f.loc[(df_f['variable'].str.len() <2), 'variable'] = ' ' #single character tokens are set to blank\n",
        "    \n",
        "    df_f['token'] = df_f['variable']\n",
        "    \n",
        "    df_f['length'] = df_f['token'].str.len() #tokens length\n",
        "    \n",
        "    df_f.loc[(df_f['length']<3), ['token']] = ' ' #till two-character tokens are set to blank\n",
        "    \n",
        "    df_f = df_f.sort_values(['CON_ROW_ID','token'])\n",
        "    \n",
        "    if deleteEmptyTokens:\n",
        "        df_f = df_f[df_f['token'] != ' ']\n",
        "    \n",
        "    df_f = df_f[['CON_ROW_ID','token']].drop_duplicates()\n",
        "    \n",
        "    return df_f"
      ],
      "outputs": [],
      "execution_count": 49,
      "metadata": {
        "gather": {
          "logged": 1643320356013
        }
      },
      "id": "bizarre-finger"
    },
    {
      "cell_type": "code",
      "source": [
        "def loadTexts(workspace,datasetName):\n",
        "    #loads the texts to be analyzed\n",
        "    dataset = Dataset.get_by_name(workspace, name=datasetName)\n",
        "    df = dataset.to_pandas_dataframe()\n",
        "    df= df[['CON_ROW_ID','CON_COMMENTS']]\n",
        "    return df   "
      ],
      "outputs": [],
      "execution_count": 50,
      "metadata": {
        "gather": {
          "logged": 1643320356173
        }
      },
      "id": "synthetic-density"
    },
    {
      "cell_type": "code",
      "source": [
        "def exportResults(workspace,datastore,fileName,df_f):\n",
        "    df_f.to_csv(fileName+'.txt',sep ='|',line_terminator='\\r\\n',index = False, encoding = 'UTF-8')\n",
        "    fil = [os.getcwd()+'/'+ fileName+'.txt']\n",
        "    #datastore.upload_files(fil, target_path='UI/NLP', overwrite=True, show_progress=True)\n",
        "    \n",
        "    "
      ],
      "outputs": [],
      "execution_count": 51,
      "metadata": {
        "gather": {
          "logged": 1643320356331
        }
      },
      "id": "intimate-architect"
    },
    {
      "cell_type": "markdown",
      "source": [
        "<b>The commended-out code is for debuging purposes</b>"
      ],
      "metadata": {},
      "id": "biological-channels"
    },
    {
      "cell_type": "code",
      "source": [
        "#txt = 'H eurobank είναι καλύτερη τράπεζα στον κόσμο'\n",
        "#com = {'CON_ROW_ID':[1],'CON_COMMENTS':[txt]}\n",
        "#df = pd.DataFrame(com)"
      ],
      "outputs": [],
      "execution_count": 52,
      "metadata": {
        "gather": {
          "logged": 1643320356498
        },
        "lines_to_next_cell": 2
      },
      "id": "choice-order"
    },
    {
      "cell_type": "code",
      "source": [
        "df = loadTexts(workspace,datasetName)"
      ],
      "outputs": [],
      "execution_count": 53,
      "metadata": {
        "gather": {
          "logged": 1643320360493
        }
      },
      "id": "nasty-farmer"
    },
    {
      "cell_type": "code",
      "source": [
        "#df = df.head(100000)"
      ],
      "outputs": [],
      "execution_count": 54,
      "metadata": {
        "gather": {
          "logged": 1643320360662
        },
        "jupyter": {
          "outputs_hidden": false,
          "source_hidden": false
        },
        "nteract": {
          "transient": {
            "deleting": false
          }
        }
      },
      "id": "f83ed741-f1e0-461b-a11b-c4f5fb26ee16"
    },
    {
      "cell_type": "code",
      "source": [
        "df.head(1000)"
      ],
      "outputs": [
        {
          "output_type": "execute_result",
          "execution_count": 55,
          "data": {
            "text/plain": "     CON_ROW_ID                     CON_COMMENTS\n0      29059570  POO SPYROS FOTEINOPOULOS      &\n1      29059571  POO KALKASINA STYLIANI MICHAIL&\n2      29059572  Αμαλία Τζατζουλη Φεβρουάριο 21&\n3      29059573  COM POO ADAMAKOS EPE SE AFOI S&\n4      29059574  POI STATHOGLOY GEORGIOS       &\n..          ...                              ...\n995    29004196  POI 0227da7a-8612-4e8d-aaae-80&\n996    29004197  POI kotronakis saridakis oe in&\n997    29004198  Θ ΠΑΓΩΝΗΣ Γ ΚΟΧΡΩΝΑ ΕΛΤΑ ΚΩΔΙΚ&\n998    29004199  ΕΙΣΠΡΑΞΕΙΣ ΤΗΝ 25/01/21 ΔΕ ΦΕΝ&\n999    29004200  ΥΠΗΡΕΣΙΕΣ ΔΙΑΤΑΚΤΙΚΩΝ Σ ΚΟΡΜΠΑ&\n\n[1000 rows x 2 columns]",
            "text/html": "<div>\n<style scoped>\n    .dataframe tbody tr th:only-of-type {\n        vertical-align: middle;\n    }\n\n    .dataframe tbody tr th {\n        vertical-align: top;\n    }\n\n    .dataframe thead th {\n        text-align: right;\n    }\n</style>\n<table border=\"1\" class=\"dataframe\">\n  <thead>\n    <tr style=\"text-align: right;\">\n      <th></th>\n      <th>CON_ROW_ID</th>\n      <th>CON_COMMENTS</th>\n    </tr>\n  </thead>\n  <tbody>\n    <tr>\n      <th>0</th>\n      <td>29059570</td>\n      <td>POO SPYROS FOTEINOPOULOS      &amp;</td>\n    </tr>\n    <tr>\n      <th>1</th>\n      <td>29059571</td>\n      <td>POO KALKASINA STYLIANI MICHAIL&amp;</td>\n    </tr>\n    <tr>\n      <th>2</th>\n      <td>29059572</td>\n      <td>Αμαλία Τζατζουλη Φεβρουάριο 21&amp;</td>\n    </tr>\n    <tr>\n      <th>3</th>\n      <td>29059573</td>\n      <td>COM POO ADAMAKOS EPE SE AFOI S&amp;</td>\n    </tr>\n    <tr>\n      <th>4</th>\n      <td>29059574</td>\n      <td>POI STATHOGLOY GEORGIOS       &amp;</td>\n    </tr>\n    <tr>\n      <th>...</th>\n      <td>...</td>\n      <td>...</td>\n    </tr>\n    <tr>\n      <th>995</th>\n      <td>29004196</td>\n      <td>POI 0227da7a-8612-4e8d-aaae-80&amp;</td>\n    </tr>\n    <tr>\n      <th>996</th>\n      <td>29004197</td>\n      <td>POI kotronakis saridakis oe in&amp;</td>\n    </tr>\n    <tr>\n      <th>997</th>\n      <td>29004198</td>\n      <td>Θ ΠΑΓΩΝΗΣ Γ ΚΟΧΡΩΝΑ ΕΛΤΑ ΚΩΔΙΚ&amp;</td>\n    </tr>\n    <tr>\n      <th>998</th>\n      <td>29004199</td>\n      <td>ΕΙΣΠΡΑΞΕΙΣ ΤΗΝ 25/01/21 ΔΕ ΦΕΝ&amp;</td>\n    </tr>\n    <tr>\n      <th>999</th>\n      <td>29004200</td>\n      <td>ΥΠΗΡΕΣΙΕΣ ΔΙΑΤΑΚΤΙΚΩΝ Σ ΚΟΡΜΠΑ&amp;</td>\n    </tr>\n  </tbody>\n</table>\n<p>1000 rows × 2 columns</p>\n</div>"
          },
          "metadata": {}
        }
      ],
      "execution_count": 55,
      "metadata": {
        "gather": {
          "logged": 1643320360853
        },
        "jupyter": {
          "outputs_hidden": false,
          "source_hidden": false
        },
        "nteract": {
          "transient": {
            "deleting": false
          }
        }
      },
      "id": "0cd6dc54-39db-47b6-9320-35cdea7b10cc"
    },
    {
      "cell_type": "code",
      "source": [
        "df_f = performNLP(workspace, minCount, mindf, minngram, maxngram, deleteEmptyTokens, df)"
      ],
      "outputs": [
        {
          "output_type": "stream",
          "name": "stderr",
          "text": "/anaconda/envs/azureml_py36/lib/python3.6/site-packages/ipykernel_launcher.py:4: SettingWithCopyWarning: \nA value is trying to be set on a copy of a slice from a DataFrame.\nTry using .loc[row_indexer,col_indexer] = value instead\n\nSee the caveats in the documentation: https://pandas.pydata.org/pandas-docs/stable/user_guide/indexing.html#returning-a-view-versus-a-copy\n  after removing the cwd from sys.path.\n"
        }
      ],
      "execution_count": 56,
      "metadata": {
        "gather": {
          "logged": 1643324302578
        }
      },
      "id": "hungarian-graphic"
    },
    {
      "cell_type": "code",
      "source": [
        "#df_f.head(1000)"
      ],
      "outputs": [],
      "execution_count": 57,
      "metadata": {
        "gather": {
          "logged": 1643324302738
        },
        "lines_to_next_cell": 2
      },
      "id": "neural-lloyd"
    },
    {
      "cell_type": "code",
      "source": [
        "exportResults(workspace,datastore,fileName,df_f)\n",
        "\n",
        "#run.complete()UT"
      ],
      "outputs": [],
      "execution_count": 58,
      "metadata": {
        "gather": {
          "logged": 1643324317897
        },
        "lines_to_next_cell": 2
      },
      "id": "collectible-tulsa"
    },
    {
      "cell_type": "code",
      "source": [
        "#pd.merge(df_f,df, how=\"inner\",on=['CON_ROW_ID']).head(1000000).to_excel('NLP{0}.xlsx'.format(fileName))"
      ],
      "outputs": [],
      "execution_count": 59,
      "metadata": {
        "gather": {
          "logged": 1643324318067
        }
      },
      "id": "apparent-subdivision"
    },
    {
      "cell_type": "code",
      "source": [
        "#df_f['token'].value_counts()"
      ],
      "outputs": [],
      "execution_count": 60,
      "metadata": {
        "gather": {
          "logged": 1643324318297
        }
      },
      "id": "organized-diameter"
    },
    {
      "cell_type": "code",
      "source": [
        "#df[df['CON_ROW_ID']==6530134]"
      ],
      "outputs": [],
      "execution_count": 61,
      "metadata": {
        "gather": {
          "logged": 1643324318460
        }
      },
      "id": "caroline-athens"
    },
    {
      "cell_type": "code",
      "source": [
        "#df_f[df_f['token']=='αριθμοςκυκλοφοριας']\n"
      ],
      "outputs": [],
      "execution_count": 62,
      "metadata": {
        "gather": {
          "logged": 1643324318620
        }
      },
      "id": "persistent-latex"
    }
  ],
  "metadata": {
    "jupytext": {
      "cell_metadata_filter": "-all",
      "encoding": "# coding: utf-8",
      "executable": "/usr/bin/env python",
      "notebook_metadata_filter": "-all",
      "text_representation": {
        "extension": ".py",
        "format_name": "percent"
      }
    },
    "kernel_info": {
      "name": "python3-azureml"
    },
    "kernelspec": {
      "name": "python3-azureml",
      "language": "python",
      "display_name": "Python 3.6 - AzureML"
    },
    "language_info": {
      "name": "python",
      "version": "3.6.9",
      "mimetype": "text/x-python",
      "codemirror_mode": {
        "name": "ipython",
        "version": 3
      },
      "pygments_lexer": "ipython3",
      "nbconvert_exporter": "python",
      "file_extension": ".py"
    },
    "microsoft": {
      "host": {
        "AzureML": {
          "notebookHasBeenCompleted": true
        }
      }
    },
    "nteract": {
      "version": "nteract-front-end@1.0.0"
    }
  },
  "nbformat": 4,
  "nbformat_minor": 5
}