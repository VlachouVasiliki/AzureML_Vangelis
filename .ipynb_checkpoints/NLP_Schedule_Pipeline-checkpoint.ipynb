{
 "cells": [
  {
   "cell_type": "code",
   "execution_count": null,
   "id": "preliminary-garlic",
   "metadata": {},
   "outputs": [],
   "source": [
    "#https://docs.microsoft.com/en-us/azure/machine-learning/how-to-trigger-published-pipeline"
   ]
  },
  {
   "cell_type": "code",
   "execution_count": 1,
   "id": "human-framework",
   "metadata": {},
   "outputs": [
    {
     "name": "stdout",
     "output_type": "stream",
     "text": [
      "cifar10-experiment\n",
      "diabetes-experiment\n",
      "jag-autoprice\n",
      "test-experiment\n",
      "dataset_profile\n",
      "Time_Deposits_Experiment\n",
      "TextAnalysis\n",
      "Text-Analytics-Test\n",
      "vk-td-expirement\n",
      "mslearn-auto-training\n",
      "mslearn-auto-inference\n",
      "mslearn-diabetes\n",
      "lr-experiment\n",
      "Link_Comments\n",
      "test\n",
      "mslearn-diabetes-mlflow\n",
      "XGBoost_test-experiment\n",
      "NLP_Pipeline_Daily,'48382000-2dbb-4467-bcf7-b94cb7cef740'\n"
     ]
    }
   ],
   "source": [
    "import azureml.core\n",
    "from azureml.core import Workspace\n",
    "from azureml.pipeline.core import Pipeline, PublishedPipeline\n",
    "from azureml.core.experiment import Experiment\n",
    "from azureml.pipeline.core.schedule import ScheduleRecurrence, Schedule\n",
    "\n",
    "ws = Workspace.from_config()\n",
    "\n",
    "experiments = Experiment.list(ws)\n",
    "for experiment in experiments:\n",
    "    print(experiment.name)\n",
    "\n",
    "published_pipelines = PublishedPipeline.list(ws)\n",
    "for published_pipeline in  published_pipelines:\n",
    "    print(f\"{published_pipeline.name},'{published_pipeline.id}'\")\n",
    "\n",
    "experiment_name = \"Link_Comments\" \n",
    "pipeline_id = \"48382000-2dbb-4467-bcf7-b94cb7cef740\" "
   ]
  },
  {
   "cell_type": "code",
   "execution_count": 2,
   "id": "greatest-proxy",
   "metadata": {},
   "outputs": [],
   "source": [
    "from azureml.pipeline.core.schedule import ScheduleRecurrence, Schedule\n",
    "\n",
    "recurrence = ScheduleRecurrence(frequency=\"Hour\", interval=24)\n",
    "recurring_schedule = Schedule.create(ws, name=\"NLPRecurringSchedule\", \n",
    "                            description=\"Based on time\",\n",
    "                            pipeline_id=pipeline_id, \n",
    "                            experiment_name=experiment_name, \n",
    "                            recurrence=recurrence)"
   ]
  },
  {
   "cell_type": "code",
   "execution_count": 2,
   "id": "stable-producer",
   "metadata": {},
   "outputs": [
    {
     "name": "stdout",
     "output_type": "stream",
     "text": [
      "Pipeline(Name: NLPRecurringSchedule,\n",
      "Id: ce3ed0c5-6c2f-45c8-9ea3-50c6c5d68e20,\n",
      "Status: Active,\n",
      "Pipeline Id: cf963f4a-662b-4e22-b8fc-29e151835791,\n",
      "Pipeline Endpoint Id: None,\n",
      "Recurrence Details: Runs every 24 Hours)\n"
     ]
    }
   ],
   "source": [
    "ss = Schedule.list(ws)\n",
    "for s in ss:\n",
    "    print(s)"
   ]
  },
  {
   "cell_type": "code",
   "execution_count": 3,
   "id": "norman-fusion",
   "metadata": {},
   "outputs": [
    {
     "data": {
      "text/html": [
       "<table style=\"width:100%\"><tr><th>Name</th><th>Id</th><th>Status</th><th>Pipeline Id</th><th>Pipeline Endpoint Id</th><th>Recurrence Details</th></tr><tr><td>NLPRecurringSchedule</td><td>ce3ed0c5-6c2f-45c8-9ea3-50c6c5d68e20</td><td>Disabled</td><td><a href=\"https://ml.azure.com/pipelines/cf963f4a-662b-4e22-b8fc-29e151835791?wsid=/subscriptions/6ed9d167-b2e6-41b8-9500-35e6df64d9dc/resourcegroups/mlrg/workspaces/erbbimlws\" target=\"_blank\" rel=\"noopener\">cf963f4a-662b-4e22-b8fc-29e151835791</a></td><td></td><td>Runs every 24 Hours</td></tr></table>"
      ],
      "text/plain": [
       "Pipeline(Name: NLPRecurringSchedule,\n",
       "Id: ce3ed0c5-6c2f-45c8-9ea3-50c6c5d68e20,\n",
       "Status: Disabled,\n",
       "Pipeline Id: cf963f4a-662b-4e22-b8fc-29e151835791,\n",
       "Pipeline Endpoint Id: None,\n",
       "Recurrence Details: Runs every 24 Hours)"
      ]
     },
     "execution_count": 3,
     "metadata": {},
     "output_type": "execute_result"
    }
   ],
   "source": [
    "schedule_id = 'ce3ed0c5-6c2f-45c8-9ea3-50c6c5d68e20'\n",
    "\n",
    "def stop_by_schedule_id(ws, schedule_id):\n",
    "    s = next(s for s in Schedule.list(ws) if s.id == schedule_id)\n",
    "    s.disable()\n",
    "    return s\n",
    "\n",
    "stop_by_schedule_id(ws, schedule_id)"
   ]
  }
 ],
 "metadata": {
  "kernelspec": {
   "display_name": "Python 3.6 - AzureML",
   "language": "python",
   "name": "python3-azureml"
  },
  "language_info": {
   "codemirror_mode": {
    "name": "ipython",
    "version": 3
   },
   "file_extension": ".py",
   "mimetype": "text/x-python",
   "name": "python",
   "nbconvert_exporter": "python",
   "pygments_lexer": "ipython3",
   "version": "3.6.9"
  }
 },
 "nbformat": 4,
 "nbformat_minor": 5
}
