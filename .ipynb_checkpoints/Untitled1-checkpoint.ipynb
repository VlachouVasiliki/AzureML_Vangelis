{
 "cells": [
  {
   "cell_type": "code",
   "execution_count": 29,
   "id": "precise-christopher",
   "metadata": {},
   "outputs": [
    {
     "name": "stdout",
     "output_type": "stream",
     "text": [
      "Product :Consumer Loans, with Probabillity 42.0%\n",
      "Product :Credit Cards, with Probabillity 34.9%\n",
      "Product :Safe Pocket, with Probabillity 23.0%\n"
     ]
    }
   ],
   "source": [
    "import urllib.request\n",
    "import json\n",
    "import os\n",
    "import ssl\n",
    "\n",
    "def allowSelfSignedHttps(allowed):\n",
    "    # bypass the server certificate verification on client side\n",
    "    if allowed and not os.environ.get('PYTHONHTTPSVERIFY', '') and getattr(ssl, '_create_unverified_context', None):\n",
    "        ssl._create_default_https_context = ssl._create_unverified_context\n",
    "\n",
    "allowSelfSignedHttps(True) # this line is needed if you use self-signed certificate in your scoring service.\n",
    "\n",
    "# Request data goes here\n",
    "data = {\n",
    "    \"Inputs\": {\n",
    "        \"WebServiceInput0\":\n",
    "        [\n",
    "            {\n",
    "                'Id': \"999\",\n",
    "                'MAR_STS_DSC': \"ΑΝΥΠΑΝΤΡΟΣ/Η\",\n",
    "                'EDU_LVL_DSC': \"ΤΡΙΤΟΒΑΘΜΙΑ ΕΚΠΑΙΔΕΥΣΗ\",\n",
    "                'OCP_LVL_1_DSC': \"ΜΙΣΘΩΤΕΣ ΥΠΗΡΕΣΙΕΣ - ΙΔΙΩΤΙΚΟΣ ΥΠΑΛΛΗΛΟΣ\",\n",
    "                'Segment': \"Ιδιώτες Πελάτες\",\n",
    "                'AGE_BAND': \"02. 26-35\",\n",
    "                'CHL_FLAG': \"1\",\n",
    "                'Support': \"0\",\n",
    "            },\n",
    "        ],\n",
    "    },\n",
    "    \"GlobalParameters\": {\n",
    "    }\n",
    "}\n",
    "\n",
    "body = str.encode(json.dumps(data))\n",
    "\n",
    "url = 'http://51.105.232.200:80/api/v1/service/twoclassdecissiononevsall/score'\n",
    "api_key = 'mktPVsTeftoJ0gTAs4yaOUuvgivRQ9qC' # Replace this with the API key for the web service\n",
    "headers = {'Content-Type':'application/json', 'Authorization':('Bearer '+ api_key)}\n",
    "\n",
    "req = urllib.request.Request(url, body, headers)\n",
    "\n",
    "try:\n",
    "    response = urllib.request.urlopen(req)\n",
    "    \n",
    "    #result = response.read()\n",
    "    result = json.load(response)\n",
    "    for p in result['Results']['WebServiceOutput0']:\n",
    "        print('Product :{0}, with Probabillity {1:.1%}'.format(p['Product'],p['Probabillity']))\n",
    "    #print(resultdict)\n",
    "except urllib.error.HTTPError as error:\n",
    "    print(\"The request failed with status code: \" + str(error.code))\n",
    "\n",
    "    # Print the headers - they include the requert ID and the timestamp, which are useful for debugging the failure\n",
    "    print(error.info())\n",
    "    print(json.loads(error.read().decode(\"utf8\", 'ignore')))"
   ]
  }
 ],
 "metadata": {
  "kernelspec": {
   "display_name": "Python 3.6 - AzureML",
   "language": "python",
   "name": "python3-azureml"
  },
  "language_info": {
   "codemirror_mode": {
    "name": "ipython",
    "version": 3
   },
   "file_extension": ".py",
   "mimetype": "text/x-python",
   "name": "python",
   "nbconvert_exporter": "python",
   "pygments_lexer": "ipython3",
   "version": "3.6.9"
  }
 },
 "nbformat": 4,
 "nbformat_minor": 5
}
