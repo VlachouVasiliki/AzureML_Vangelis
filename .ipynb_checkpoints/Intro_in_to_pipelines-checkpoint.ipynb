{
 "cells": [
  {
   "cell_type": "code",
   "execution_count": 2,
   "id": "sticky-broadway",
   "metadata": {},
   "outputs": [],
   "source": [
    "import azureml.core\n",
    "from azureml.core import Workspace, Datastore\n",
    "\n",
    "ws = Workspace.from_config()"
   ]
  },
  {
   "cell_type": "code",
   "execution_count": 3,
   "id": "accessible-alias",
   "metadata": {},
   "outputs": [],
   "source": [
    "def_blob_store = Datastore(ws, \"workspaceblobstore\")"
   ]
  },
  {
   "cell_type": "code",
   "execution_count": 14,
   "id": "headed-questionnaire",
   "metadata": {},
   "outputs": [],
   "source": [
    "from azureml.core import Dataset\n",
    "from azureml.data import DataType\n",
    "\n",
    "data_types = { 'CON_ROW_ID': DataType.to_long(),'CON_COMMENTS': DataType.to_string()}  \n",
    "my_dataset = Dataset.Tabular.from_delimited_files(path = [(def_blob_store, 'UI/Link_comments_2021_08.txt')],separator = '|',\n",
    "    set_column_types =data_types)\n"
   ]
  },
  {
   "cell_type": "code",
   "execution_count": 17,
   "id": "inappropriate-trick",
   "metadata": {},
   "outputs": [],
   "source": [
    "import pandas as pd\n",
    "\n",
    "df = my_dataset.to_pandas_dataframe()\n",
    "df = df[['CON_ROW_ID','CON_COMMENTS']]"
   ]
  },
  {
   "cell_type": "code",
   "execution_count": 18,
   "id": "aging-forwarding",
   "metadata": {},
   "outputs": [
    {
     "data": {
      "text/html": [
       "<div>\n",
       "<style scoped>\n",
       "    .dataframe tbody tr th:only-of-type {\n",
       "        vertical-align: middle;\n",
       "    }\n",
       "\n",
       "    .dataframe tbody tr th {\n",
       "        vertical-align: top;\n",
       "    }\n",
       "\n",
       "    .dataframe thead th {\n",
       "        text-align: right;\n",
       "    }\n",
       "</style>\n",
       "<table border=\"1\" class=\"dataframe\">\n",
       "  <thead>\n",
       "    <tr style=\"text-align: right;\">\n",
       "      <th></th>\n",
       "      <th>CON_ROW_ID</th>\n",
       "      <th>CON_COMMENTS</th>\n",
       "    </tr>\n",
       "  </thead>\n",
       "  <tbody>\n",
       "    <tr>\n",
       "      <th>0</th>\n",
       "      <td>69466840.0</td>\n",
       "      <td>Ενημερώθηκε από την κα. Ανδριοπούλου.</td>\n",
       "    </tr>\n",
       "    <tr>\n",
       "      <th>1</th>\n",
       "      <td>69461548.0</td>\n",
       "      <td>ΕΝΗΜΕΡΩΣΗ</td>\n",
       "    </tr>\n",
       "    <tr>\n",
       "      <th>2</th>\n",
       "      <td>69440175.0</td>\n",
       "      <td>εστάλη mail 6/8</td>\n",
       "    </tr>\n",
       "    <tr>\n",
       "      <th>3</th>\n",
       "      <td>69511428.0</td>\n",
       "      <td>PB Πλεάτης, συνδιαχείρηση</td>\n",
       "    </tr>\n",
       "    <tr>\n",
       "      <th>4</th>\n",
       "      <td>69591524.0</td>\n",
       "      <td>ΠΕΛΑΤΗΣ ΜΕ ΜΕΓΑΛΗ-ΔΥΝΑΤΗ ΣΥΝΕΡΓΑΣΙΑ,SB PB ΠΠΡΙ...</td>\n",
       "    </tr>\n",
       "  </tbody>\n",
       "</table>\n",
       "</div>"
      ],
      "text/plain": [
       "   CON_ROW_ID                                       CON_COMMENTS\n",
       "0  69466840.0              Ενημερώθηκε από την κα. Ανδριοπούλου.\n",
       "1  69461548.0                                          ΕΝΗΜΕΡΩΣΗ\n",
       "2  69440175.0                                    εστάλη mail 6/8\n",
       "3  69511428.0                          PB Πλεάτης, συνδιαχείρηση\n",
       "4  69591524.0  ΠΕΛΑΤΗΣ ΜΕ ΜΕΓΑΛΗ-ΔΥΝΑΤΗ ΣΥΝΕΡΓΑΣΙΑ,SB PB ΠΠΡΙ..."
      ]
     },
     "execution_count": 18,
     "metadata": {},
     "output_type": "execute_result"
    }
   ],
   "source": [
    "df.head()"
   ]
  },
  {
   "cell_type": "code",
   "execution_count": 41,
   "id": "polar-integrity",
   "metadata": {},
   "outputs": [],
   "source": [
    "import datetime\n",
    "y,m,d = datetime.date.today().year,datetime.date.today().month,datetime.date.today().day"
   ]
  },
  {
   "cell_type": "code",
   "execution_count": 53,
   "id": "smaller-editor",
   "metadata": {},
   "outputs": [
    {
     "name": "stdout",
     "output_type": "stream",
     "text": [
      "20210921\n"
     ]
    }
   ],
   "source": [
    "print(str(y)+('0'+str(m))[-2:]+('0'+str(d))[-2:])"
   ]
  }
 ],
 "metadata": {
  "kernelspec": {
   "display_name": "Python 3.6 - AzureML",
   "language": "python",
   "name": "python3-azureml"
  },
  "language_info": {
   "codemirror_mode": {
    "name": "ipython",
    "version": 3
   },
   "file_extension": ".py",
   "mimetype": "text/x-python",
   "name": "python",
   "nbconvert_exporter": "python",
   "pygments_lexer": "ipython3",
   "version": "3.6.9"
  }
 },
 "nbformat": 4,
 "nbformat_minor": 5
}
