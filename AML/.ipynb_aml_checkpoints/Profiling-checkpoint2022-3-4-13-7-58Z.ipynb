{
 "cells": [
  {
   "cell_type": "code",
   "execution_count": 1,
   "id": "psychological-brunswick",
   "metadata": {},
   "outputs": [],
   "source": [
    "import pandas as pd\n",
    "from pandas_profiling import ProfileReport"
   ]
  },
  {
   "cell_type": "code",
   "execution_count": 6,
   "id": "ready-prevention",
   "metadata": {},
   "outputs": [],
   "source": [
    "df = pd.read_csv('uploads/T_ACC_MON_sample.csv',sep = ',')"
   ]
  },
  {
   "cell_type": "code",
   "execution_count": 7,
   "id": "anticipated-doubt",
   "metadata": {},
   "outputs": [
    {
     "data": {
      "text/html": [
       "<div>\n",
       "<style scoped>\n",
       "    .dataframe tbody tr th:only-of-type {\n",
       "        vertical-align: middle;\n",
       "    }\n",
       "\n",
       "    .dataframe tbody tr th {\n",
       "        vertical-align: top;\n",
       "    }\n",
       "\n",
       "    .dataframe thead th {\n",
       "        text-align: right;\n",
       "    }\n",
       "</style>\n",
       "<table border=\"1\" class=\"dataframe\">\n",
       "  <thead>\n",
       "    <tr style=\"text-align: right;\">\n",
       "      <th></th>\n",
       "      <th>DT_ID</th>\n",
       "      <th>DT</th>\n",
       "      <th>ACC_ID</th>\n",
       "      <th>ACC_CD</th>\n",
       "      <th>DEAL_SEQ_NUM</th>\n",
       "      <th>AR_TP_CD</th>\n",
       "      <th>AR_TP_DSC</th>\n",
       "      <th>PD_CD</th>\n",
       "      <th>PD_DSC</th>\n",
       "      <th>PD_HIER_ID</th>\n",
       "      <th>...</th>\n",
       "      <th>ACC_NON_LDGR_INT_BAL_LC</th>\n",
       "      <th>PNDG_GOVT_PMT_AMT_LC</th>\n",
       "      <th>MIN_PMT_AMT_LC</th>\n",
       "      <th>AVG_BK_LDGR_BAL_LC</th>\n",
       "      <th>OL_APPLICATION</th>\n",
       "      <th>LTST_RUN_IND</th>\n",
       "      <th>DORMANT_FLAG</th>\n",
       "      <th>PRTFL_TP_CD</th>\n",
       "      <th>PRTFL_TP_DSC</th>\n",
       "      <th>BL_INT_PU</th>\n",
       "    </tr>\n",
       "  </thead>\n",
       "  <tbody>\n",
       "    <tr>\n",
       "      <th>0</th>\n",
       "      <td>2022020102</td>\n",
       "      <td>2022-02-28</td>\n",
       "      <td>995272</td>\n",
       "      <td>002600260200316724</td>\n",
       "      <td>NaN</td>\n",
       "      <td>PDAR</td>\n",
       "      <td>Deposit Arrangement</td>\n",
       "      <td>020212</td>\n",
       "      <td>ΚΑΤΑΘΕΣ. ΟΨΕΩΣ-ΤΡΕΧ.-ΕΝΕΧ. EUR ΚΑΘΗΜΕΡΙΝΟΣ ΛΟΓ...</td>\n",
       "      <td>93153.0</td>\n",
       "      <td>...</td>\n",
       "      <td>NaN</td>\n",
       "      <td>NaN</td>\n",
       "      <td>NaN</td>\n",
       "      <td>NaN</td>\n",
       "      <td>NaN</td>\n",
       "      <td>1.0</td>\n",
       "      <td>N</td>\n",
       "      <td>NaN</td>\n",
       "      <td>NaN</td>\n",
       "      <td>NaN</td>\n",
       "    </tr>\n",
       "    <tr>\n",
       "      <th>1</th>\n",
       "      <td>2022020102</td>\n",
       "      <td>2022-02-28</td>\n",
       "      <td>32505233</td>\n",
       "      <td>002602000117238782</td>\n",
       "      <td>NaN</td>\n",
       "      <td>PDAR</td>\n",
       "      <td>Deposit Arrangement</td>\n",
       "      <td>010102</td>\n",
       "      <td>ΚΑΤΑΘΕΣΕΙΣ ΤΑΜΙΕΥΤΗΡΙΟΥ ΣΕ EUR ΤΑΜΙΕΥΤΗΡΙΟ</td>\n",
       "      <td>93161.0</td>\n",
       "      <td>...</td>\n",
       "      <td>NaN</td>\n",
       "      <td>NaN</td>\n",
       "      <td>NaN</td>\n",
       "      <td>NaN</td>\n",
       "      <td>NaN</td>\n",
       "      <td>1.0</td>\n",
       "      <td>Y</td>\n",
       "      <td>NaN</td>\n",
       "      <td>NaN</td>\n",
       "      <td>NaN</td>\n",
       "    </tr>\n",
       "    <tr>\n",
       "      <th>2</th>\n",
       "      <td>2022020102</td>\n",
       "      <td>2022-02-28</td>\n",
       "      <td>22409328</td>\n",
       "      <td>002600015053723292</td>\n",
       "      <td>NaN</td>\n",
       "      <td>CACO</td>\n",
       "      <td>Card Contract Arrangement</td>\n",
       "      <td>50VC</td>\n",
       "      <td>EB SILVVISA CLASSIC</td>\n",
       "      <td>93426.0</td>\n",
       "      <td>...</td>\n",
       "      <td>NaN</td>\n",
       "      <td>NaN</td>\n",
       "      <td>NaN</td>\n",
       "      <td>NaN</td>\n",
       "      <td>NaN</td>\n",
       "      <td>1.0</td>\n",
       "      <td>N</td>\n",
       "      <td>NaN</td>\n",
       "      <td>NaN</td>\n",
       "      <td>NaN</td>\n",
       "    </tr>\n",
       "    <tr>\n",
       "      <th>3</th>\n",
       "      <td>2022020102</td>\n",
       "      <td>2022-02-28</td>\n",
       "      <td>33720465</td>\n",
       "      <td>002600920100393544</td>\n",
       "      <td>NaN</td>\n",
       "      <td>PDAR</td>\n",
       "      <td>Deposit Arrangement</td>\n",
       "      <td>010102</td>\n",
       "      <td>ΚΑΤΑΘΕΣΕΙΣ ΤΑΜΙΕΥΤΗΡΙΟΥ ΣΕ EUR ΤΑΜΙΕΥΤΗΡΙΟ</td>\n",
       "      <td>93161.0</td>\n",
       "      <td>...</td>\n",
       "      <td>NaN</td>\n",
       "      <td>NaN</td>\n",
       "      <td>NaN</td>\n",
       "      <td>NaN</td>\n",
       "      <td>NaN</td>\n",
       "      <td>1.0</td>\n",
       "      <td>Y</td>\n",
       "      <td>NaN</td>\n",
       "      <td>NaN</td>\n",
       "      <td>NaN</td>\n",
       "    </tr>\n",
       "    <tr>\n",
       "      <th>4</th>\n",
       "      <td>2022020102</td>\n",
       "      <td>2022-02-28</td>\n",
       "      <td>30331416</td>\n",
       "      <td>002600015067995910</td>\n",
       "      <td>NaN</td>\n",
       "      <td>CACO</td>\n",
       "      <td>Card Contract Arrangement</td>\n",
       "      <td>50ER</td>\n",
       "      <td>EUROLINEUROLINE</td>\n",
       "      <td>131217.0</td>\n",
       "      <td>...</td>\n",
       "      <td>NaN</td>\n",
       "      <td>NaN</td>\n",
       "      <td>NaN</td>\n",
       "      <td>NaN</td>\n",
       "      <td>NaN</td>\n",
       "      <td>1.0</td>\n",
       "      <td>N</td>\n",
       "      <td>NaN</td>\n",
       "      <td>NaN</td>\n",
       "      <td>NaN</td>\n",
       "    </tr>\n",
       "  </tbody>\n",
       "</table>\n",
       "<p>5 rows × 78 columns</p>\n",
       "</div>"
      ],
      "text/plain": [
       "        DT_ID          DT    ACC_ID              ACC_CD  DEAL_SEQ_NUM  \\\n",
       "0  2022020102  2022-02-28    995272  002600260200316724           NaN   \n",
       "1  2022020102  2022-02-28  32505233  002602000117238782           NaN   \n",
       "2  2022020102  2022-02-28  22409328  002600015053723292           NaN   \n",
       "3  2022020102  2022-02-28  33720465  002600920100393544           NaN   \n",
       "4  2022020102  2022-02-28  30331416  002600015067995910           NaN   \n",
       "\n",
       "  AR_TP_CD                  AR_TP_DSC   PD_CD  \\\n",
       "0     PDAR        Deposit Arrangement  020212   \n",
       "1     PDAR        Deposit Arrangement  010102   \n",
       "2     CACO  Card Contract Arrangement    50VC   \n",
       "3     PDAR        Deposit Arrangement  010102   \n",
       "4     CACO  Card Contract Arrangement    50ER   \n",
       "\n",
       "                                              PD_DSC  PD_HIER_ID  ...  \\\n",
       "0  ΚΑΤΑΘΕΣ. ΟΨΕΩΣ-ΤΡΕΧ.-ΕΝΕΧ. EUR ΚΑΘΗΜΕΡΙΝΟΣ ΛΟΓ...     93153.0  ...   \n",
       "1         ΚΑΤΑΘΕΣΕΙΣ ΤΑΜΙΕΥΤΗΡΙΟΥ ΣΕ EUR ΤΑΜΙΕΥΤΗΡΙΟ     93161.0  ...   \n",
       "2                                EB SILVVISA CLASSIC     93426.0  ...   \n",
       "3         ΚΑΤΑΘΕΣΕΙΣ ΤΑΜΙΕΥΤΗΡΙΟΥ ΣΕ EUR ΤΑΜΙΕΥΤΗΡΙΟ     93161.0  ...   \n",
       "4                                    EUROLINEUROLINE    131217.0  ...   \n",
       "\n",
       "   ACC_NON_LDGR_INT_BAL_LC PNDG_GOVT_PMT_AMT_LC  MIN_PMT_AMT_LC  \\\n",
       "0                      NaN                  NaN             NaN   \n",
       "1                      NaN                  NaN             NaN   \n",
       "2                      NaN                  NaN             NaN   \n",
       "3                      NaN                  NaN             NaN   \n",
       "4                      NaN                  NaN             NaN   \n",
       "\n",
       "  AVG_BK_LDGR_BAL_LC  OL_APPLICATION LTST_RUN_IND  DORMANT_FLAG PRTFL_TP_CD  \\\n",
       "0                NaN             NaN          1.0             N         NaN   \n",
       "1                NaN             NaN          1.0             Y         NaN   \n",
       "2                NaN             NaN          1.0             N         NaN   \n",
       "3                NaN             NaN          1.0             Y         NaN   \n",
       "4                NaN             NaN          1.0             N         NaN   \n",
       "\n",
       "   PRTFL_TP_DSC BL_INT_PU  \n",
       "0           NaN       NaN  \n",
       "1           NaN       NaN  \n",
       "2           NaN       NaN  \n",
       "3           NaN       NaN  \n",
       "4           NaN       NaN  \n",
       "\n",
       "[5 rows x 78 columns]"
      ]
     },
     "execution_count": 7,
     "metadata": {},
     "output_type": "execute_result"
    }
   ],
   "source": [
    "df.head()"
   ]
  },
  {
   "cell_type": "code",
   "execution_count": 8,
   "id": "ideal-internship",
   "metadata": {},
   "outputs": [
    {
     "data": {
      "application/vnd.jupyter.widget-view+json": {
       "model_id": "2307c3e4d7e1477db0de201fa0c7f1c8",
       "version_major": 2,
       "version_minor": 0
      },
      "text/plain": [
       "Summarize dataset:   0%|          | 0/5 [00:00<?, ?it/s]"
      ]
     },
     "metadata": {},
     "output_type": "display_data"
    },
    {
     "data": {
      "application/vnd.jupyter.widget-view+json": {
       "model_id": "51a6f3e8a48f46f9b2909742a2504b32",
       "version_major": 2,
       "version_minor": 0
      },
      "text/plain": [
       "Generate report structure:   0%|          | 0/1 [00:00<?, ?it/s]"
      ]
     },
     "metadata": {},
     "output_type": "display_data"
    },
    {
     "data": {
      "application/vnd.jupyter.widget-view+json": {
       "model_id": "2064aaed0b7e469db91656f770f9f784",
       "version_major": 2,
       "version_minor": 0
      },
      "text/plain": [
       "Render HTML:   0%|          | 0/1 [00:00<?, ?it/s]"
      ]
     },
     "metadata": {},
     "output_type": "display_data"
    }
   ],
   "source": [
    "profile = ProfileReport(df)\n",
    "profile"
   ]
  },
  {
   "cell_type": "code",
   "execution_count": 9,
   "id": "equipped-court",
   "metadata": {},
   "outputs": [
    {
     "data": {
      "application/vnd.jupyter.widget-view+json": {
       "model_id": "f5a3fc338e634f68923569fae05f6bff",
       "version_major": 2,
       "version_minor": 0
      },
      "text/plain": [
       "Export report to file:   0%|          | 0/1 [00:00<?, ?it/s]"
      ]
     },
     "metadata": {},
     "output_type": "display_data"
    }
   ],
   "source": [
    "profile.to_file(\"Analysis.html\")"
   ]
  }
 ],
 "metadata": {
  "kernelspec": {
   "display_name": "Python 3.6 - AzureML",
   "language": "python",
   "name": "python3-azureml"
  },
  "language_info": {
   "codemirror_mode": {
    "name": "ipython",
    "version": 3
   },
   "file_extension": ".py",
   "mimetype": "text/x-python",
   "name": "python",
   "nbconvert_exporter": "python",
   "pygments_lexer": "ipython3",
   "version": "3.6.9"
  }
 },
 "nbformat": 4,
 "nbformat_minor": 5
}
