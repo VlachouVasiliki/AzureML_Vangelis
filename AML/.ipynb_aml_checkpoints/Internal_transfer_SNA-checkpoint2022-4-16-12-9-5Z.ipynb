{
 "cells": [
  {
   "cell_type": "markdown",
   "id": "rolled-shade",
   "metadata": {},
   "source": [
    "<b>Load the necessery packages</b>"
   ]
  },
  {
   "cell_type": "code",
   "execution_count": null,
   "id": "constitutional-binding",
   "metadata": {},
   "outputs": [],
   "source": [
    "#!pip install pyvis"
   ]
  },
  {
   "cell_type": "code",
   "execution_count": null,
   "id": "graduate-legislature",
   "metadata": {},
   "outputs": [],
   "source": [
    "import pandas as pd\n",
    "import networkx as nx\n",
    "import matplotlib.pyplot as plt\n",
    "import matplotlib.image as mpimg\n",
    "from pyvis.network import Network\n",
    "from IPython.display import display,HTML"
   ]
  },
  {
   "cell_type": "markdown",
   "id": "underlying-barrier",
   "metadata": {},
   "source": [
    "<b>Load the internal transfers from an uploaded csv</b>"
   ]
  },
  {
   "cell_type": "code",
   "execution_count": null,
   "id": "israeli-charge",
   "metadata": {},
   "outputs": [],
   "source": [
    "pd.options.display.float_format = '{:,.2f}'.format"
   ]
  },
  {
   "cell_type": "code",
   "execution_count": null,
   "id": "dynamic-missile",
   "metadata": {},
   "outputs": [],
   "source": [
    "df = pd.read_csv('uploads/Internal_Transfer.csv',delimiter = '|')"
   ]
  },
  {
   "cell_type": "code",
   "execution_count": null,
   "id": "beneficial-jimmy",
   "metadata": {},
   "outputs": [],
   "source": [
    "#df.describe()"
   ]
  },
  {
   "cell_type": "code",
   "execution_count": null,
   "id": "european-designer",
   "metadata": {},
   "outputs": [],
   "source": [
    "df = df[df['AMT']>10000]"
   ]
  },
  {
   "cell_type": "code",
   "execution_count": null,
   "id": "comic-tsunami",
   "metadata": {},
   "outputs": [],
   "source": [
    "df.shape"
   ]
  },
  {
   "cell_type": "markdown",
   "id": "elect-context",
   "metadata": {},
   "source": [
    "<b>Convert the pair in to a graph</b>"
   ]
  },
  {
   "cell_type": "code",
   "execution_count": null,
   "id": "upper-draft",
   "metadata": {},
   "outputs": [],
   "source": [
    "G = nx.Graph()"
   ]
  },
  {
   "cell_type": "code",
   "execution_count": null,
   "id": "separate-folks",
   "metadata": {},
   "outputs": [],
   "source": [
    " G=nx.nx.from_pandas_edgelist(df, source = 'FROM_CIF', target = 'TO_CIF', edge_attr = ['AMT', 'NUM'],create_using = G)"
   ]
  },
  {
   "cell_type": "code",
   "execution_count": null,
   "id": "unnecessary-theta",
   "metadata": {},
   "outputs": [],
   "source": [
    "#nt = Network('5000px', '5000px')\n",
    "#nt.from_nx(G)\n",
    "#nt.show('Graphs/G.html')"
   ]
  },
  {
   "cell_type": "markdown",
   "id": "facial-symphony",
   "metadata": {},
   "source": [
    "<b>Find the maximumal Cliques </b>"
   ]
  },
  {
   "cell_type": "code",
   "execution_count": null,
   "id": "native-reasoning",
   "metadata": {},
   "outputs": [],
   "source": [
    "clique_list = list(nx.find_cliques(G))"
   ]
  },
  {
   "cell_type": "markdown",
   "id": "light-outreach",
   "metadata": {},
   "source": [
    "<b>Conversion to a DataFrame</b>"
   ]
  },
  {
   "cell_type": "code",
   "execution_count": null,
   "id": "copyrighted-payday",
   "metadata": {},
   "outputs": [],
   "source": [
    "df_c=pd.DataFrame({'Clique_members':clique_list})"
   ]
  },
  {
   "cell_type": "code",
   "execution_count": null,
   "id": "noticed-worcester",
   "metadata": {},
   "outputs": [],
   "source": [
    "df_c['Clique_length'] = df_c['Clique_members'].apply(len)"
   ]
  },
  {
   "cell_type": "markdown",
   "id": "aging-wilson",
   "metadata": {},
   "source": [
    "<b> Display the cliques of a certain number of members </b>"
   ]
  },
  {
   "cell_type": "code",
   "execution_count": null,
   "id": "christian-challenge",
   "metadata": {},
   "outputs": [],
   "source": [
    "df_c.shape"
   ]
  },
  {
   "cell_type": "code",
   "execution_count": null,
   "id": "automatic-young",
   "metadata": {},
   "outputs": [],
   "source": [
    "pd.set_option('max_columns', None) #display all columns\n",
    "#pd.reset_option(“max_columns”) #to return to default"
   ]
  },
  {
   "cell_type": "code",
   "execution_count": null,
   "id": "angry-lyric",
   "metadata": {},
   "outputs": [],
   "source": [
    "df_c[df_c['Clique_length'] ==7]"
   ]
  },
  {
   "cell_type": "markdown",
   "id": "italian-population",
   "metadata": {},
   "source": [
    "<b> Select a clique to be displayed</b>"
   ]
  },
  {
   "cell_type": "code",
   "execution_count": null,
   "id": "industrial-budapest",
   "metadata": {},
   "outputs": [],
   "source": [
    "subgraph_list = df_c.iloc[5247,0]"
   ]
  },
  {
   "cell_type": "code",
   "execution_count": null,
   "id": "dutch-definition",
   "metadata": {},
   "outputs": [],
   "source": [
    "print(subgraph_list)"
   ]
  },
  {
   "cell_type": "code",
   "execution_count": null,
   "id": "freelance-swift",
   "metadata": {},
   "outputs": [],
   "source": [
    "\n",
    "#[f'{mem:08d}' for mem in subgraph_list ]"
   ]
  },
  {
   "cell_type": "markdown",
   "id": "lovely-prior",
   "metadata": {},
   "source": [
    "<b> Create a subgraph, containing only the members of the clique </b>"
   ]
  },
  {
   "cell_type": "code",
   "execution_count": null,
   "id": "connected-sequence",
   "metadata": {},
   "outputs": [],
   "source": [
    "sG = G.subgraph(nodes=subgraph_list)"
   ]
  },
  {
   "cell_type": "code",
   "execution_count": null,
   "id": "involved-graduation",
   "metadata": {},
   "outputs": [],
   "source": [
    "nt = Network('500px', '500px')\n",
    "nt.from_nx(sG)\n",
    "nt.show('Graphs/sG.html')"
   ]
  },
  {
   "cell_type": "code",
   "execution_count": null,
   "id": "civic-drunk",
   "metadata": {},
   "outputs": [],
   "source": [
    "display(HTML(filename=\"Graphs/sG.html\"))"
   ]
  },
  {
   "cell_type": "markdown",
   "id": "cooked-applicant",
   "metadata": {},
   "source": [
    "<b> Display & export the picture of the subgraph</b>"
   ]
  },
  {
   "cell_type": "code",
   "execution_count": null,
   "id": "white-applicant",
   "metadata": {},
   "outputs": [],
   "source": [
    "plt.rcParams['font.size'] = 40\n",
    "fig = plt.figure(figsize = (10,10))\n",
    "nx.draw(sG, with_labels = True)\n",
    "fig.savefig('sg.jpg')"
   ]
  },
  {
   "cell_type": "markdown",
   "id": "great-finding",
   "metadata": {},
   "source": [
    "<b>Display the cliques that a certain cif is a member</b>"
   ]
  },
  {
   "cell_type": "code",
   "execution_count": null,
   "id": "organizational-toddler",
   "metadata": {},
   "outputs": [],
   "source": [
    "df_c[df_c['Clique_members'].apply(lambda x: 1 in x)]"
   ]
  },
  {
   "cell_type": "markdown",
   "id": "fitted-peninsula",
   "metadata": {},
   "source": [
    "<b>Triads </b>"
   ]
  },
  {
   "cell_type": "code",
   "execution_count": null,
   "id": "premium-header",
   "metadata": {},
   "outputs": [],
   "source": [
    "\n",
    "img = mpimg.imread('Three-node-triads-in-directed-graphs-for-undistinguishable-nodes-picture-from-21.png')\n",
    "fig = plt.figure(figsize = (10,10))\n",
    "imgplot = plt.imshow(img)\n",
    "plt.show()"
   ]
  },
  {
   "cell_type": "code",
   "execution_count": null,
   "id": "entitled-richards",
   "metadata": {},
   "outputs": [],
   "source": [
    "GD = nx.DiGraph()"
   ]
  },
  {
   "cell_type": "code",
   "execution_count": null,
   "id": "welsh-stuff",
   "metadata": {},
   "outputs": [],
   "source": [
    " GD=nx.from_pandas_edgelist(df, source = 'FROM_CIF', target = 'TO_CIF', edge_attr = ['AMT', 'NUM'],create_using = GD)"
   ]
  },
  {
   "cell_type": "code",
   "execution_count": null,
   "id": "becoming-picture",
   "metadata": {},
   "outputs": [],
   "source": [
    "#nx.triadic_census(GD)"
   ]
  },
  {
   "cell_type": "code",
   "execution_count": null,
   "id": "active-occasion",
   "metadata": {},
   "outputs": [],
   "source": [
    "#triad_list = nx.triads_by_type(GD)"
   ]
  },
  {
   "cell_type": "code",
   "execution_count": null,
   "id": "royal-lecture",
   "metadata": {},
   "outputs": [],
   "source": [
    "#sGD = GD.subgraph(nodes=subgraph_list)"
   ]
  },
  {
   "cell_type": "code",
   "execution_count": null,
   "id": "large-coordinator",
   "metadata": {},
   "outputs": [],
   "source": [
    "#plt.rcParams['font.size'] = 40\n",
    "#fig = plt.figure(figsize = (20,20))\n",
    "#nx.draw(sGD, with_labels = True)\n",
    "#fig.savefig('sgd.jpg')"
   ]
  }
 ],
 "metadata": {
  "kernelspec": {
   "display_name": "Python 3.6 - AzureML",
   "language": "python",
   "name": "python3-azureml"
  },
  "language_info": {
   "codemirror_mode": {
    "name": "ipython",
    "version": 3
   },
   "file_extension": ".py",
   "mimetype": "text/x-python",
   "name": "python",
   "nbconvert_exporter": "python",
   "pygments_lexer": "ipython3",
   "version": "3.6.9"
  },
  "nteract": {
   "version": "nteract-front-end@1.0.0"
  }
 },
 "nbformat": 4,
 "nbformat_minor": 5
}
