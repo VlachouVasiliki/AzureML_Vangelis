{
 "cells": [
  {
   "cell_type": "code",
   "execution_count": 1,
   "id": "alien-principle",
   "metadata": {},
   "outputs": [],
   "source": [
    "from pyvis.network import Network\n",
    "import networkx as nx"
   ]
  },
  {
   "cell_type": "code",
   "execution_count": 3,
   "id": "impressive-garden",
   "metadata": {},
   "outputs": [],
   "source": [
    "net = Network()"
   ]
  },
  {
   "cell_type": "code",
   "execution_count": 4,
   "id": "altered-candy",
   "metadata": {},
   "outputs": [],
   "source": [
    "net.add_node(1, label=\"Node 1\") # node id = 1 and label = Node 1\n",
    "net.add_node(2) # node id and label = 2"
   ]
  },
  {
   "cell_type": "code",
   "execution_count": 5,
   "id": "operating-soundtrack",
   "metadata": {},
   "outputs": [],
   "source": [
    "nodes = [\"a\", \"b\", \"c\", \"d\"]\n",
    "net.add_nodes(nodes) # node ids and labels = [\"a\", \"b\", \"c\", \"d\"]\n",
    "net.add_nodes(\"hello\") # node ids and labels = [\"h\", \"e\", \"l\", \"o\"]"
   ]
  },
  {
   "cell_type": "code",
   "execution_count": 6,
   "id": "balanced-table",
   "metadata": {},
   "outputs": [],
   "source": [
    " net.add_edge(\"h\", \"e\", weight=.87)"
   ]
  },
  {
   "cell_type": "code",
   "execution_count": 7,
   "id": "encouraging-bouquet",
   "metadata": {},
   "outputs": [],
   "source": [
    " net.add_edge(\"e\", \"l\", weight=.57)"
   ]
  },
  {
   "cell_type": "code",
   "execution_count": 8,
   "id": "compact-backup",
   "metadata": {},
   "outputs": [],
   "source": [
    " net.add_edge(\"l\", \"o\", weight=.07)"
   ]
  },
  {
   "cell_type": "code",
   "execution_count": 10,
   "id": "prostate-female",
   "metadata": {},
   "outputs": [],
   "source": [
    "\n",
    "net.show('mygraph.html')"
   ]
  }
 ],
 "metadata": {
  "kernelspec": {
   "display_name": "Python 3.6 - AzureML",
   "language": "python",
   "name": "python3-azureml"
  },
  "language_info": {
   "codemirror_mode": {
    "name": "ipython",
    "version": 3
   },
   "file_extension": ".py",
   "mimetype": "text/x-python",
   "name": "python",
   "nbconvert_exporter": "python",
   "pygments_lexer": "ipython3",
   "version": "3.6.9"
  }
 },
 "nbformat": 4,
 "nbformat_minor": 5
}
