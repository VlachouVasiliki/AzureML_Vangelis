{
 "cells": [
  {
   "cell_type": "markdown",
   "metadata": {
    "nteract": {
     "transient": {
      "deleting": false
     }
    }
   },
   "source": [
    "https://prrao87.github.io/blog/spacy/nlp/performance/2020/05/02/spacy-multiprocess.html\n",
    "\n"
   ]
  },
  {
   "cell_type": "markdown",
   "metadata": {
    "nteract": {
     "transient": {
      "deleting": false
     }
    }
   },
   "source": [
    "Uncommend and run the following pip & python commands when running a new compute for the <b> first</b> time! "
   ]
  },
  {
   "cell_type": "code",
   "execution_count": 491,
   "metadata": {
    "gather": {
     "logged": 1616410189884
    },
    "jupyter": {
     "outputs_hidden": false,
     "source_hidden": false
    },
    "nteract": {
     "transient": {
      "deleting": false
     }
    }
   },
   "outputs": [],
   "source": [
    "#!python -m spacy download el_core_news_sm\n",
    "#!pip install pyarrow --upgrade\n",
    "#!pip install openpyxl\n",
    "#!pip install xlrd\n",
    "#!pip install spacy"
   ]
  },
  {
   "cell_type": "code",
   "execution_count": 492,
   "metadata": {
    "gather": {
     "logged": 1616410189990
    }
   },
   "outputs": [],
   "source": [
    "import spacy\n",
    "import el_core_news_sm\n",
    "import string\n",
    "import pandas as pd\n",
    "import re\n",
    "from sklearn.feature_extraction.text import TfidfVectorizer"
   ]
  },
  {
   "cell_type": "code",
   "execution_count": 493,
   "metadata": {
    "gather": {
     "logged": 1616410190090
    }
   },
   "outputs": [],
   "source": [
    "from spacy.lang.el import GreekLemmatizer"
   ]
  },
  {
   "cell_type": "code",
   "execution_count": 494,
   "metadata": {
    "gather": {
     "logged": 1616410190398
    }
   },
   "outputs": [],
   "source": [
    "\n",
    "#lemmatizer = GreekLemmatizer(LEMMA_INDEX, LEMMA_EXC, LEMMA_RULES)"
   ]
  },
  {
   "cell_type": "code",
   "execution_count": 495,
   "metadata": {},
   "outputs": [],
   "source": [
    "nlp =spacy.load('el_core_news_sm')"
   ]
  },
  {
   "cell_type": "code",
   "execution_count": 496,
   "metadata": {
    "gather": {
     "logged": 1616410190501
    },
    "jupyter": {
     "outputs_hidden": false,
     "source_hidden": false
    },
    "nteract": {
     "transient": {
      "deleting": false
     }
    }
   },
   "outputs": [],
   "source": [
    "\n",
    "p1 = re.compile('δεν απαντ.{1,3}\\s{0,1}',re.IGNORECASE)\n",
    "p2 = re.compile('\\sδα\\s',re.IGNORECASE)\n",
    "p3 = re.compile('δε.{0,1}\\s.{0,3}\\s{0,1}βρ.{1,2}κ.\\s{0,1}',re.IGNORECASE)\n",
    "p4 = re.compile('[^\\d]?\\d{10}')\n",
    "p5 = re.compile('[^\\d]?\\d{18}|[^\\d]\\d{20}')\n",
    "p6 = re.compile('δε[ ν]{0,1} (επιθυμ[α-ω]{2,4}?|[ήη]θ[εέ]λ[α-ω]{1,3}?|θελ[α-ω]{1,4}|.{0,20}ενδιαφ[εέ]ρ[α-ω]{2,4})',re.IGNORECASE)\n",
    "p7 = re.compile('δε[ ν]{0,1} (μπορ[α-ω]{2,5}|.εχει)',re.IGNORECASE)\n",
    "p8 = re.compile('(δεν|μη).*διαθεσιμ[οη]ς{0,1}?',re.IGNORECASE)\n",
    "p9 = re.compile('(δεν|μη)+.*εφικτη?',re.IGNORECASE)\n",
    "p10 = re.compile('δε[ ν]{0,1}.{0,20}θετικ[οόήη]ς{0,1}',re.IGNORECASE)"
   ]
  },
  {
   "cell_type": "code",
   "execution_count": 497,
   "metadata": {
    "gather": {
     "logged": 1616410190614
    }
   },
   "outputs": [],
   "source": [
    "def loadStopWords():\n",
    "    sWords = open('stopWords.txt','r',encoding='utf-8')\n",
    "    sw = set(sWords.read().split('\\n'))\n",
    "    #sw = sw.remove('μη')\n",
    "    sWords.close()\n",
    "    return sw"
   ]
  },
  {
   "cell_type": "code",
   "execution_count": 498,
   "metadata": {
    "gather": {
     "logged": 1616410190728
    },
    "jupyter": {
     "outputs_hidden": false,
     "source_hidden": false
    },
    "nteract": {
     "transient": {
      "deleting": false
     }
    }
   },
   "outputs": [],
   "source": [
    "def replaceTerm(text):\n",
    "    text = p5.sub(' λογαριασμός ',text)\n",
    "    text = p4.sub(' τηλεφωνο ',text)\n",
    "    text = p6.sub(' δενθελειδενενδιαφερεται ',text)\n",
    "    text = p10.sub(' δενθελειδενενδιαφερεται ',text)\n",
    "    text = p7.sub(' δενεχειδενμπορει ',text)\n",
    "    text = p8.sub(' δενειναιδιαθεσιμος ',text)\n",
    "    text = p9.sub(' ανεφικτη ',text)\n",
    "    text = text.replace('-banking','banking')\n",
    "    text = text.replace('v banking','vbanking')\n",
    "    text = text.replace('e banking','ebanking')\n",
    "    text = text.replace('follow up','followup')\n",
    "    text = text.replace('fup','followup')\n",
    "    text = text.replace('f/up','followup')\n",
    "    text = text.replace('πυρ/ριο','πυρασφαλιστηριο')\n",
    "    text = text.replace('safe drive','safedrive')\n",
    "    text = text.replace('safe pocket','safepocket')\n",
    "    text = text.replace('alphabank','alpha')\n",
    "    text = text.replace('sweet home smart','sweethomesmart')\n",
    "    text = text.replace('sweet home','sweethome')\n",
    "    text = text.replace('eξασφαλιζω','εξασφαλιζω')\n",
    "    text = text.replace('credit card','creditcard')\n",
    "    text = text.replace('debit card','debitcard')\n",
    "    text = text.replace('life cycle','lifecycle')\n",
    "    text = text.replace('π/κ','πκ')\n",
    "    text = text.replace('td','πκ')\n",
    "    text = text.replace('α/κ','ακ')\n",
    "    text = text.replace('δ/α','δεναπαντα ')\n",
    "    text = text.replace('εκτος αττικης','εκτοςαττικης ')\n",
    "    #τδ\n",
    "    text = p1.sub(' δεναπαντα ',text)\n",
    "    text = p2.sub(' δεναπαντα ',text)\n",
    "    text = p3.sub(' δεντονβρηκα ',text)\n",
    "    \n",
    "    return text\n"
   ]
  },
  {
   "cell_type": "code",
   "execution_count": 499,
   "metadata": {
    "gather": {
     "logged": 1616410190919
    }
   },
   "outputs": [],
   "source": [
    "\n",
    "\n",
    "#sw = nlp.Defaults.stop_words\n",
    "#sw = sw|{'εχω','απο','ωστε'}\n",
    "sw = loadStopWords()\n",
    "def remove_ton(text):\n",
    "    diction = {'ά':'α','έ':'ε','ί':'ι','ό':'ο','ώ':'ω','ύ':'υ'}\n",
    "    for key in diction.keys():\n",
    "        text = text.replace(key, diction[key])\n",
    "    return text   \n",
    "def clean_text(text):\n",
    "     #text to string\n",
    "    text = str(text).lower()\n",
    "    text = replaceTerm(text)\n",
    "    \n",
    "   # tokenize text and remove puncutation\n",
    "    text = [word.strip(string.punctuation) for word in text.split(\" \")]\n",
    "    # lower text\n",
    "    text = [remove_ton(x) for x in text]\n",
    "    # remove stop words\n",
    "    text = [x for x in text if x not in sw]\n",
    " \n",
    "    #remove quotes\n",
    "    text = [x.replace('quot;','').replace('&quot','') for x in text if x not in {'quot','amp'}]\n",
    "    # remove words that contain numbers\n",
    "    text = [word for word in text if not any(c.isdigit() for c in word)]\n",
    "    # remove empty tokens\n",
    "    text = [t for t in text if len(t) > 0]\n",
    "    # remove amp & quot\n",
    "    text = [x for x in text if x not in ['quot','amp']]\n",
    "    # remove words with only one letter\n",
    "    text = \" \".join([t for t in text if len(t) > 1])\n",
    "     # lemmatize text\n",
    "    text = \" \".join([str(t) for t in nlp(text)])\n",
    "   \n",
    "    return(text)"
   ]
  },
  {
   "cell_type": "code",
   "execution_count": null,
   "metadata": {},
   "outputs": [],
   "source": []
  },
  {
   "cell_type": "code",
   "execution_count": 500,
   "metadata": {
    "gather": {
     "logged": 1616410191247
    },
    "jupyter": {
     "outputs_hidden": false,
     "source_hidden": false
    },
    "nteract": {
     "transient": {
      "deleting": false
     }
    }
   },
   "outputs": [],
   "source": [
    "def correct(x,corDict):\n",
    "    if x in corDict.keys():\n",
    "        y = corDict[x]\n",
    "    else:\n",
    "        y = x\n",
    "    return y    "
   ]
  },
  {
   "cell_type": "code",
   "execution_count": 501,
   "metadata": {
    "gather": {
     "logged": 1616410191356
    },
    "jupyter": {
     "outputs_hidden": false,
     "source_hidden": false
    },
    "nteract": {
     "transient": {
      "deleting": false
     }
    }
   },
   "outputs": [],
   "source": [
    "def get_ngrams(idf,mindf,minngram,maxngram):\n",
    "    tfidf = TfidfVectorizer(min_df = mindf,ngram_range = (minngram,maxngram))\n",
    "    tfidf_result = tfidf.fit_transform(idf['tokenized']).toarray()\n",
    "    tfidf_df = pd.DataFrame(tfidf_result, columns = tfidf.get_feature_names())\n",
    "    tfidf_df.columns = [str(x) for x in tfidf_df.columns]\n",
    "    df_i = pd.concat([df[['CON_ROW_ID']],tfidf_df],axis=1).melt(id_vars=['CON_ROW_ID'],value_vars = tfidf_df.columns).dropna()\n",
    "    df_i = df_i[df_i['value']>0]\n",
    "    return df_i"
   ]
  },
  {
   "cell_type": "code",
   "execution_count": 502,
   "metadata": {
    "gather": {
     "logged": 1616410191467
    },
    "jupyter": {
     "outputs_hidden": false,
     "source_hidden": false
    },
    "nteract": {
     "transient": {
      "deleting": false
     }
    }
   },
   "outputs": [],
   "source": [
    "def cleanComments(df):\n",
    "    df = df[['CON_ROW_ID','CON_COMMENTS']]\n",
    "    df['tokenized'] = df['CON_COMMENTS'].apply(clean_text)\n",
    "    df = df.fillna('N/A')\n",
    "    df['variable'] = df['tokenized'].str.split()\n",
    "    return df"
   ]
  },
  {
   "cell_type": "code",
   "execution_count": 503,
   "metadata": {
    "gather": {
     "logged": 1616410191572
    },
    "jupyter": {
     "outputs_hidden": false,
     "source_hidden": false
    },
    "nteract": {
     "transient": {
      "deleting": false
     }
    }
   },
   "outputs": [],
   "source": [
    "def getTokens(df):\n",
    "    df = cleanComments(df)\n",
    "    df_f = df.explode('variable')[['CON_ROW_ID','variable']]\n",
    "    return df_f\n"
   ]
  },
  {
   "cell_type": "code",
   "execution_count": 504,
   "metadata": {
    "gather": {
     "logged": 1616410811261
    },
    "jupyter": {
     "outputs_hidden": false,
     "source_hidden": false
    },
    "nteract": {
     "transient": {
      "deleting": false
     }
    }
   },
   "outputs": [],
   "source": [
    "def getTokencount(df_f,minCount):\n",
    "    tokenCount = df_f['variable'].value_counts().to_dict()\n",
    "    df_f['value'] = df_f['variable'].map(tokenCount)\n",
    "    df_f=df_f[df_f['value']>minCount] \n",
    "    return df_f"
   ]
  },
  {
   "cell_type": "code",
   "execution_count": 505,
   "metadata": {
    "gather": {
     "logged": 1616411290139
    },
    "jupyter": {
     "outputs_hidden": false,
     "source_hidden": false
    },
    "nteract": {
     "transient": {
      "deleting": false
     }
    }
   },
   "outputs": [],
   "source": [
    "txt = 'Τον ενημέρωσα για τη καμπάνια bancassurance και δεν ενδιαφέρεται'"
   ]
  },
  {
   "cell_type": "code",
   "execution_count": 506,
   "metadata": {},
   "outputs": [
    {
     "data": {
      "text/plain": [
       "[Τον, ενημέρωσα, για, τη, καμπάνια, bancassurance, και, δεν, ενδιαφέρεται]"
      ]
     },
     "execution_count": 506,
     "metadata": {},
     "output_type": "execute_result"
    }
   ],
   "source": [
    "[t for t in nlp(txt, disable=['tagger', 'parser', 'ner','tok2vec', 'morphologizer', 'parser', 'senter', 'attribute_ruler',  'ner'])]"
   ]
  },
  {
   "cell_type": "code",
   "execution_count": 507,
   "metadata": {
    "gather": {
     "logged": 1616411292618
    },
    "jupyter": {
     "outputs_hidden": false,
     "source_hidden": false
    },
    "nteract": {
     "transient": {
      "deleting": false
     }
    }
   },
   "outputs": [],
   "source": [
    "com = {'CON_ROW_ID':[1],'CON_COMMENTS':[txt]}"
   ]
  },
  {
   "cell_type": "code",
   "execution_count": 508,
   "metadata": {
    "gather": {
     "logged": 1616411295066
    },
    "jupyter": {
     "outputs_hidden": false,
     "source_hidden": false
    },
    "nteract": {
     "transient": {
      "deleting": false
     }
    }
   },
   "outputs": [],
   "source": [
    "df = pd.DataFrame(com)"
   ]
  },
  {
   "cell_type": "code",
   "execution_count": 509,
   "metadata": {
    "gather": {
     "logged": 1616411297325
    },
    "jupyter": {
     "outputs_hidden": false,
     "source_hidden": false
    },
    "nteract": {
     "transient": {
      "deleting": false
     }
    }
   },
   "outputs": [
    {
     "data": {
      "text/html": [
       "<div>\n",
       "<style scoped>\n",
       "    .dataframe tbody tr th:only-of-type {\n",
       "        vertical-align: middle;\n",
       "    }\n",
       "\n",
       "    .dataframe tbody tr th {\n",
       "        vertical-align: top;\n",
       "    }\n",
       "\n",
       "    .dataframe thead th {\n",
       "        text-align: right;\n",
       "    }\n",
       "</style>\n",
       "<table border=\"1\" class=\"dataframe\">\n",
       "  <thead>\n",
       "    <tr style=\"text-align: right;\">\n",
       "      <th></th>\n",
       "      <th>CON_ROW_ID</th>\n",
       "      <th>CON_COMMENTS</th>\n",
       "    </tr>\n",
       "  </thead>\n",
       "  <tbody>\n",
       "    <tr>\n",
       "      <th>0</th>\n",
       "      <td>1</td>\n",
       "      <td>Τον ενημέρωσα για τη καμπάνια bancassurance κα...</td>\n",
       "    </tr>\n",
       "  </tbody>\n",
       "</table>\n",
       "</div>"
      ],
      "text/plain": [
       "   CON_ROW_ID                                       CON_COMMENTS\n",
       "0           1  Τον ενημέρωσα για τη καμπάνια bancassurance κα..."
      ]
     },
     "execution_count": 509,
     "metadata": {},
     "output_type": "execute_result"
    }
   ],
   "source": [
    "df.head()"
   ]
  },
  {
   "cell_type": "code",
   "execution_count": 510,
   "metadata": {
    "gather": {
     "logged": 1616411301738
    },
    "jupyter": {
     "outputs_hidden": false,
     "source_hidden": false
    },
    "nteract": {
     "transient": {
      "deleting": false
     }
    }
   },
   "outputs": [],
   "source": [
    "df = cleanComments(df)"
   ]
  },
  {
   "cell_type": "code",
   "execution_count": 511,
   "metadata": {
    "gather": {
     "logged": 1616411304474
    },
    "jupyter": {
     "outputs_hidden": false,
     "source_hidden": false
    },
    "nteract": {
     "transient": {
      "deleting": false
     }
    }
   },
   "outputs": [
    {
     "data": {
      "text/html": [
       "<div>\n",
       "<style scoped>\n",
       "    .dataframe tbody tr th:only-of-type {\n",
       "        vertical-align: middle;\n",
       "    }\n",
       "\n",
       "    .dataframe tbody tr th {\n",
       "        vertical-align: top;\n",
       "    }\n",
       "\n",
       "    .dataframe thead th {\n",
       "        text-align: right;\n",
       "    }\n",
       "</style>\n",
       "<table border=\"1\" class=\"dataframe\">\n",
       "  <thead>\n",
       "    <tr style=\"text-align: right;\">\n",
       "      <th></th>\n",
       "      <th>CON_ROW_ID</th>\n",
       "      <th>CON_COMMENTS</th>\n",
       "      <th>tokenized</th>\n",
       "      <th>variable</th>\n",
       "    </tr>\n",
       "  </thead>\n",
       "  <tbody>\n",
       "    <tr>\n",
       "      <th>0</th>\n",
       "      <td>1</td>\n",
       "      <td>Τον ενημέρωσα για τη καμπάνια bancassurance κα...</td>\n",
       "      <td>ενημερωσα καμπανια bancassurance δενθελειδενεν...</td>\n",
       "      <td>[ενημερωσα, καμπανια, bancassurance, δενθελειδ...</td>\n",
       "    </tr>\n",
       "  </tbody>\n",
       "</table>\n",
       "</div>"
      ],
      "text/plain": [
       "   CON_ROW_ID                                       CON_COMMENTS  \\\n",
       "0           1  Τον ενημέρωσα για τη καμπάνια bancassurance κα...   \n",
       "\n",
       "                                           tokenized  \\\n",
       "0  ενημερωσα καμπανια bancassurance δενθελειδενεν...   \n",
       "\n",
       "                                            variable  \n",
       "0  [ενημερωσα, καμπανια, bancassurance, δενθελειδ...  "
      ]
     },
     "execution_count": 511,
     "metadata": {},
     "output_type": "execute_result"
    }
   ],
   "source": [
    "df.head()"
   ]
  },
  {
   "cell_type": "code",
   "execution_count": 512,
   "metadata": {
    "gather": {
     "logged": 1616411321365
    },
    "jupyter": {
     "outputs_hidden": false,
     "source_hidden": false
    },
    "nteract": {
     "transient": {
      "deleting": false
     }
    }
   },
   "outputs": [
    {
     "name": "stderr",
     "output_type": "stream",
     "text": [
      "/anaconda/envs/azureml_py36/lib/python3.6/site-packages/ipykernel_launcher.py:3: SettingWithCopyWarning: \n",
      "A value is trying to be set on a copy of a slice from a DataFrame.\n",
      "Try using .loc[row_indexer,col_indexer] = value instead\n",
      "\n",
      "See the caveats in the documentation: http://pandas.pydata.org/pandas-docs/stable/user_guide/indexing.html#returning-a-view-versus-a-copy\n",
      "  This is separate from the ipykernel package so we can avoid doing imports until\n"
     ]
    }
   ],
   "source": [
    "df_f = getTokens(df)"
   ]
  },
  {
   "cell_type": "code",
   "execution_count": 513,
   "metadata": {
    "gather": {
     "logged": 1616411326724
    },
    "jupyter": {
     "outputs_hidden": false,
     "source_hidden": false
    },
    "nteract": {
     "transient": {
      "deleting": false
     }
    }
   },
   "outputs": [
    {
     "data": {
      "text/html": [
       "<div>\n",
       "<style scoped>\n",
       "    .dataframe tbody tr th:only-of-type {\n",
       "        vertical-align: middle;\n",
       "    }\n",
       "\n",
       "    .dataframe tbody tr th {\n",
       "        vertical-align: top;\n",
       "    }\n",
       "\n",
       "    .dataframe thead th {\n",
       "        text-align: right;\n",
       "    }\n",
       "</style>\n",
       "<table border=\"1\" class=\"dataframe\">\n",
       "  <thead>\n",
       "    <tr style=\"text-align: right;\">\n",
       "      <th></th>\n",
       "      <th>CON_ROW_ID</th>\n",
       "      <th>variable</th>\n",
       "    </tr>\n",
       "  </thead>\n",
       "  <tbody>\n",
       "    <tr>\n",
       "      <th>0</th>\n",
       "      <td>1</td>\n",
       "      <td>ενημερωσα</td>\n",
       "    </tr>\n",
       "    <tr>\n",
       "      <th>0</th>\n",
       "      <td>1</td>\n",
       "      <td>καμπανια</td>\n",
       "    </tr>\n",
       "    <tr>\n",
       "      <th>0</th>\n",
       "      <td>1</td>\n",
       "      <td>bancassurance</td>\n",
       "    </tr>\n",
       "    <tr>\n",
       "      <th>0</th>\n",
       "      <td>1</td>\n",
       "      <td>δενθελειδενενδιαφερεται</td>\n",
       "    </tr>\n",
       "  </tbody>\n",
       "</table>\n",
       "</div>"
      ],
      "text/plain": [
       "   CON_ROW_ID                 variable\n",
       "0           1                ενημερωσα\n",
       "0           1                 καμπανια\n",
       "0           1            bancassurance\n",
       "0           1  δενθελειδενενδιαφερεται"
      ]
     },
     "execution_count": 513,
     "metadata": {},
     "output_type": "execute_result"
    }
   ],
   "source": [
    "df_f.head(10)"
   ]
  },
  {
   "cell_type": "code",
   "execution_count": 514,
   "metadata": {
    "gather": {
     "logged": 1616411332866
    },
    "jupyter": {
     "outputs_hidden": false,
     "source_hidden": false
    },
    "nteract": {
     "transient": {
      "deleting": false
     }
    }
   },
   "outputs": [],
   "source": [
    "    tokenCount = df_f['variable'].value_counts().to_dict()\n",
    "    "
   ]
  },
  {
   "cell_type": "code",
   "execution_count": 515,
   "metadata": {
    "gather": {
     "logged": 1616411338037
    },
    "jupyter": {
     "outputs_hidden": false,
     "source_hidden": false
    },
    "nteract": {
     "transient": {
      "deleting": false
     }
    }
   },
   "outputs": [
    {
     "data": {
      "text/html": [
       "<div>\n",
       "<style scoped>\n",
       "    .dataframe tbody tr th:only-of-type {\n",
       "        vertical-align: middle;\n",
       "    }\n",
       "\n",
       "    .dataframe tbody tr th {\n",
       "        vertical-align: top;\n",
       "    }\n",
       "\n",
       "    .dataframe thead th {\n",
       "        text-align: right;\n",
       "    }\n",
       "</style>\n",
       "<table border=\"1\" class=\"dataframe\">\n",
       "  <thead>\n",
       "    <tr style=\"text-align: right;\">\n",
       "      <th></th>\n",
       "      <th>CON_ROW_ID</th>\n",
       "      <th>variable</th>\n",
       "    </tr>\n",
       "  </thead>\n",
       "  <tbody>\n",
       "    <tr>\n",
       "      <th>0</th>\n",
       "      <td>1</td>\n",
       "      <td>ενημερωσα</td>\n",
       "    </tr>\n",
       "    <tr>\n",
       "      <th>0</th>\n",
       "      <td>1</td>\n",
       "      <td>καμπανια</td>\n",
       "    </tr>\n",
       "    <tr>\n",
       "      <th>0</th>\n",
       "      <td>1</td>\n",
       "      <td>bancassurance</td>\n",
       "    </tr>\n",
       "    <tr>\n",
       "      <th>0</th>\n",
       "      <td>1</td>\n",
       "      <td>δενθελειδενενδιαφερεται</td>\n",
       "    </tr>\n",
       "  </tbody>\n",
       "</table>\n",
       "</div>"
      ],
      "text/plain": [
       "   CON_ROW_ID                 variable\n",
       "0           1                ενημερωσα\n",
       "0           1                 καμπανια\n",
       "0           1            bancassurance\n",
       "0           1  δενθελειδενενδιαφερεται"
      ]
     },
     "execution_count": 515,
     "metadata": {},
     "output_type": "execute_result"
    }
   ],
   "source": [
    "df_f.head(10)"
   ]
  },
  {
   "cell_type": "code",
   "execution_count": 516,
   "metadata": {
    "gather": {
     "logged": 1616411349517
    },
    "jupyter": {
     "outputs_hidden": false,
     "source_hidden": false
    },
    "nteract": {
     "transient": {
      "deleting": false
     }
    }
   },
   "outputs": [],
   "source": [
    "df_f['value'] = df_f['variable'].map(tokenCount)\n"
   ]
  },
  {
   "cell_type": "code",
   "execution_count": 517,
   "metadata": {
    "gather": {
     "logged": 1616411354397
    },
    "jupyter": {
     "outputs_hidden": false,
     "source_hidden": false
    },
    "nteract": {
     "transient": {
      "deleting": false
     }
    }
   },
   "outputs": [
    {
     "data": {
      "text/html": [
       "<div>\n",
       "<style scoped>\n",
       "    .dataframe tbody tr th:only-of-type {\n",
       "        vertical-align: middle;\n",
       "    }\n",
       "\n",
       "    .dataframe tbody tr th {\n",
       "        vertical-align: top;\n",
       "    }\n",
       "\n",
       "    .dataframe thead th {\n",
       "        text-align: right;\n",
       "    }\n",
       "</style>\n",
       "<table border=\"1\" class=\"dataframe\">\n",
       "  <thead>\n",
       "    <tr style=\"text-align: right;\">\n",
       "      <th></th>\n",
       "      <th>CON_ROW_ID</th>\n",
       "      <th>variable</th>\n",
       "      <th>value</th>\n",
       "    </tr>\n",
       "  </thead>\n",
       "  <tbody>\n",
       "    <tr>\n",
       "      <th>0</th>\n",
       "      <td>1</td>\n",
       "      <td>ενημερωσα</td>\n",
       "      <td>1</td>\n",
       "    </tr>\n",
       "    <tr>\n",
       "      <th>0</th>\n",
       "      <td>1</td>\n",
       "      <td>καμπανια</td>\n",
       "      <td>1</td>\n",
       "    </tr>\n",
       "    <tr>\n",
       "      <th>0</th>\n",
       "      <td>1</td>\n",
       "      <td>bancassurance</td>\n",
       "      <td>1</td>\n",
       "    </tr>\n",
       "    <tr>\n",
       "      <th>0</th>\n",
       "      <td>1</td>\n",
       "      <td>δενθελειδενενδιαφερεται</td>\n",
       "      <td>1</td>\n",
       "    </tr>\n",
       "  </tbody>\n",
       "</table>\n",
       "</div>"
      ],
      "text/plain": [
       "   CON_ROW_ID                 variable  value\n",
       "0           1                ενημερωσα      1\n",
       "0           1                 καμπανια      1\n",
       "0           1            bancassurance      1\n",
       "0           1  δενθελειδενενδιαφερεται      1"
      ]
     },
     "execution_count": 517,
     "metadata": {},
     "output_type": "execute_result"
    }
   ],
   "source": [
    "df_f.head(10)"
   ]
  },
  {
   "cell_type": "code",
   "execution_count": 518,
   "metadata": {
    "gather": {
     "logged": 1616411370625
    },
    "jupyter": {
     "outputs_hidden": false,
     "source_hidden": false
    },
    "nteract": {
     "transient": {
      "deleting": false
     }
    }
   },
   "outputs": [],
   "source": [
    "df_f=df_f[df_f['value']>0] "
   ]
  },
  {
   "cell_type": "code",
   "execution_count": 519,
   "metadata": {
    "gather": {
     "logged": 1616411374016
    },
    "jupyter": {
     "outputs_hidden": false,
     "source_hidden": false
    },
    "nteract": {
     "transient": {
      "deleting": false
     }
    }
   },
   "outputs": [
    {
     "data": {
      "text/html": [
       "<div>\n",
       "<style scoped>\n",
       "    .dataframe tbody tr th:only-of-type {\n",
       "        vertical-align: middle;\n",
       "    }\n",
       "\n",
       "    .dataframe tbody tr th {\n",
       "        vertical-align: top;\n",
       "    }\n",
       "\n",
       "    .dataframe thead th {\n",
       "        text-align: right;\n",
       "    }\n",
       "</style>\n",
       "<table border=\"1\" class=\"dataframe\">\n",
       "  <thead>\n",
       "    <tr style=\"text-align: right;\">\n",
       "      <th></th>\n",
       "      <th>CON_ROW_ID</th>\n",
       "      <th>variable</th>\n",
       "      <th>value</th>\n",
       "    </tr>\n",
       "  </thead>\n",
       "  <tbody>\n",
       "    <tr>\n",
       "      <th>0</th>\n",
       "      <td>1</td>\n",
       "      <td>ενημερωσα</td>\n",
       "      <td>1</td>\n",
       "    </tr>\n",
       "    <tr>\n",
       "      <th>0</th>\n",
       "      <td>1</td>\n",
       "      <td>καμπανια</td>\n",
       "      <td>1</td>\n",
       "    </tr>\n",
       "    <tr>\n",
       "      <th>0</th>\n",
       "      <td>1</td>\n",
       "      <td>bancassurance</td>\n",
       "      <td>1</td>\n",
       "    </tr>\n",
       "    <tr>\n",
       "      <th>0</th>\n",
       "      <td>1</td>\n",
       "      <td>δενθελειδενενδιαφερεται</td>\n",
       "      <td>1</td>\n",
       "    </tr>\n",
       "  </tbody>\n",
       "</table>\n",
       "</div>"
      ],
      "text/plain": [
       "   CON_ROW_ID                 variable  value\n",
       "0           1                ενημερωσα      1\n",
       "0           1                 καμπανια      1\n",
       "0           1            bancassurance      1\n",
       "0           1  δενθελειδενενδιαφερεται      1"
      ]
     },
     "execution_count": 519,
     "metadata": {},
     "output_type": "execute_result"
    }
   ],
   "source": [
    "df_f.head(10)"
   ]
  },
  {
   "cell_type": "code",
   "execution_count": 520,
   "metadata": {
    "gather": {
     "logged": 1616411380187
    },
    "jupyter": {
     "outputs_hidden": false,
     "source_hidden": false
    },
    "nteract": {
     "transient": {
      "deleting": false
     }
    }
   },
   "outputs": [
    {
     "data": {
      "text/html": [
       "<div>\n",
       "<style scoped>\n",
       "    .dataframe tbody tr th:only-of-type {\n",
       "        vertical-align: middle;\n",
       "    }\n",
       "\n",
       "    .dataframe tbody tr th {\n",
       "        vertical-align: top;\n",
       "    }\n",
       "\n",
       "    .dataframe thead th {\n",
       "        text-align: right;\n",
       "    }\n",
       "</style>\n",
       "<table border=\"1\" class=\"dataframe\">\n",
       "  <thead>\n",
       "    <tr style=\"text-align: right;\">\n",
       "      <th></th>\n",
       "      <th>CON_ROW_ID</th>\n",
       "      <th>variable</th>\n",
       "      <th>value</th>\n",
       "    </tr>\n",
       "  </thead>\n",
       "  <tbody>\n",
       "    <tr>\n",
       "      <th>0</th>\n",
       "      <td>1</td>\n",
       "      <td>ενημερωσα</td>\n",
       "      <td>1</td>\n",
       "    </tr>\n",
       "    <tr>\n",
       "      <th>0</th>\n",
       "      <td>1</td>\n",
       "      <td>καμπανια</td>\n",
       "      <td>1</td>\n",
       "    </tr>\n",
       "    <tr>\n",
       "      <th>0</th>\n",
       "      <td>1</td>\n",
       "      <td>bancassurance</td>\n",
       "      <td>1</td>\n",
       "    </tr>\n",
       "    <tr>\n",
       "      <th>0</th>\n",
       "      <td>1</td>\n",
       "      <td>δενθελειδενενδιαφερεται</td>\n",
       "      <td>1</td>\n",
       "    </tr>\n",
       "  </tbody>\n",
       "</table>\n",
       "</div>"
      ],
      "text/plain": [
       "   CON_ROW_ID                 variable  value\n",
       "0           1                ενημερωσα      1\n",
       "0           1                 καμπανια      1\n",
       "0           1            bancassurance      1\n",
       "0           1  δενθελειδενενδιαφερεται      1"
      ]
     },
     "execution_count": 520,
     "metadata": {},
     "output_type": "execute_result"
    }
   ],
   "source": [
    "df_f.head(10)"
   ]
  },
  {
   "cell_type": "code",
   "execution_count": 521,
   "metadata": {
    "gather": {
     "logged": 1616411384706
    },
    "jupyter": {
     "outputs_hidden": false,
     "source_hidden": false
    },
    "nteract": {
     "transient": {
      "deleting": false
     }
    }
   },
   "outputs": [],
   "source": [
    "corDict = dict(pd.read_excel(\"corTokens.xls\").to_dict(\"split\")['data'])"
   ]
  },
  {
   "cell_type": "code",
   "execution_count": 522,
   "metadata": {
    "gather": {
     "logged": 1616411388883
    },
    "jupyter": {
     "outputs_hidden": false,
     "source_hidden": false
    },
    "nteract": {
     "transient": {
      "deleting": false
     }
    }
   },
   "outputs": [],
   "source": [
    "df_f['token'] = df_f['variable'].apply(lambda x : correct(x,corDict))"
   ]
  },
  {
   "cell_type": "code",
   "execution_count": 523,
   "metadata": {
    "gather": {
     "logged": 1616411392388
    },
    "jupyter": {
     "outputs_hidden": false,
     "source_hidden": false
    },
    "nteract": {
     "transient": {
      "deleting": false
     }
    }
   },
   "outputs": [
    {
     "data": {
      "text/html": [
       "<div>\n",
       "<style scoped>\n",
       "    .dataframe tbody tr th:only-of-type {\n",
       "        vertical-align: middle;\n",
       "    }\n",
       "\n",
       "    .dataframe tbody tr th {\n",
       "        vertical-align: top;\n",
       "    }\n",
       "\n",
       "    .dataframe thead th {\n",
       "        text-align: right;\n",
       "    }\n",
       "</style>\n",
       "<table border=\"1\" class=\"dataframe\">\n",
       "  <thead>\n",
       "    <tr style=\"text-align: right;\">\n",
       "      <th></th>\n",
       "      <th>CON_ROW_ID</th>\n",
       "      <th>variable</th>\n",
       "      <th>value</th>\n",
       "      <th>token</th>\n",
       "    </tr>\n",
       "  </thead>\n",
       "  <tbody>\n",
       "    <tr>\n",
       "      <th>0</th>\n",
       "      <td>1</td>\n",
       "      <td>ενημερωσα</td>\n",
       "      <td>1</td>\n",
       "      <td>ενημερωση</td>\n",
       "    </tr>\n",
       "    <tr>\n",
       "      <th>0</th>\n",
       "      <td>1</td>\n",
       "      <td>καμπανια</td>\n",
       "      <td>1</td>\n",
       "      <td>καμπανια</td>\n",
       "    </tr>\n",
       "    <tr>\n",
       "      <th>0</th>\n",
       "      <td>1</td>\n",
       "      <td>bancassurance</td>\n",
       "      <td>1</td>\n",
       "      <td>rmv</td>\n",
       "    </tr>\n",
       "    <tr>\n",
       "      <th>0</th>\n",
       "      <td>1</td>\n",
       "      <td>δενθελειδενενδιαφερεται</td>\n",
       "      <td>1</td>\n",
       "      <td>δεν θελει/δεν ενδιαφερεται</td>\n",
       "    </tr>\n",
       "  </tbody>\n",
       "</table>\n",
       "</div>"
      ],
      "text/plain": [
       "   CON_ROW_ID                 variable  value                       token\n",
       "0           1                ενημερωσα      1                   ενημερωση\n",
       "0           1                 καμπανια      1                    καμπανια\n",
       "0           1            bancassurance      1                         rmv\n",
       "0           1  δενθελειδενενδιαφερεται      1  δεν θελει/δεν ενδιαφερεται"
      ]
     },
     "execution_count": 523,
     "metadata": {},
     "output_type": "execute_result"
    }
   ],
   "source": [
    "df_f.head(10)"
   ]
  },
  {
   "cell_type": "code",
   "execution_count": 524,
   "metadata": {
    "gather": {
     "logged": 1616411400138
    },
    "jupyter": {
     "outputs_hidden": false,
     "source_hidden": false
    },
    "nteract": {
     "transient": {
      "deleting": false
     }
    }
   },
   "outputs": [],
   "source": [
    "df_f = df_f[df_f['token'] !='rmv']"
   ]
  },
  {
   "cell_type": "code",
   "execution_count": 525,
   "metadata": {
    "gather": {
     "logged": 1616411402734
    },
    "jupyter": {
     "outputs_hidden": false,
     "source_hidden": false
    },
    "nteract": {
     "transient": {
      "deleting": false
     }
    }
   },
   "outputs": [
    {
     "data": {
      "text/html": [
       "<div>\n",
       "<style scoped>\n",
       "    .dataframe tbody tr th:only-of-type {\n",
       "        vertical-align: middle;\n",
       "    }\n",
       "\n",
       "    .dataframe tbody tr th {\n",
       "        vertical-align: top;\n",
       "    }\n",
       "\n",
       "    .dataframe thead th {\n",
       "        text-align: right;\n",
       "    }\n",
       "</style>\n",
       "<table border=\"1\" class=\"dataframe\">\n",
       "  <thead>\n",
       "    <tr style=\"text-align: right;\">\n",
       "      <th></th>\n",
       "      <th>CON_ROW_ID</th>\n",
       "      <th>variable</th>\n",
       "      <th>value</th>\n",
       "      <th>token</th>\n",
       "    </tr>\n",
       "  </thead>\n",
       "  <tbody>\n",
       "    <tr>\n",
       "      <th>0</th>\n",
       "      <td>1</td>\n",
       "      <td>ενημερωσα</td>\n",
       "      <td>1</td>\n",
       "      <td>ενημερωση</td>\n",
       "    </tr>\n",
       "    <tr>\n",
       "      <th>0</th>\n",
       "      <td>1</td>\n",
       "      <td>καμπανια</td>\n",
       "      <td>1</td>\n",
       "      <td>καμπανια</td>\n",
       "    </tr>\n",
       "    <tr>\n",
       "      <th>0</th>\n",
       "      <td>1</td>\n",
       "      <td>δενθελειδενενδιαφερεται</td>\n",
       "      <td>1</td>\n",
       "      <td>δεν θελει/δεν ενδιαφερεται</td>\n",
       "    </tr>\n",
       "  </tbody>\n",
       "</table>\n",
       "</div>"
      ],
      "text/plain": [
       "   CON_ROW_ID                 variable  value                       token\n",
       "0           1                ενημερωσα      1                   ενημερωση\n",
       "0           1                 καμπανια      1                    καμπανια\n",
       "0           1  δενθελειδενενδιαφερεται      1  δεν θελει/δεν ενδιαφερεται"
      ]
     },
     "execution_count": 525,
     "metadata": {},
     "output_type": "execute_result"
    }
   ],
   "source": [
    "df_f.head(10)"
   ]
  },
  {
   "cell_type": "code",
   "execution_count": 526,
   "metadata": {
    "gather": {
     "logged": 1616411420001
    },
    "jupyter": {
     "outputs_hidden": false,
     "source_hidden": false
    },
    "nteract": {
     "transient": {
      "deleting": false
     }
    }
   },
   "outputs": [],
   "source": [
    "df_f = df_f[df_f['token'].str.len() >1]"
   ]
  },
  {
   "cell_type": "code",
   "execution_count": 527,
   "metadata": {
    "gather": {
     "logged": 1616411423123
    },
    "jupyter": {
     "outputs_hidden": false,
     "source_hidden": false
    },
    "nteract": {
     "transient": {
      "deleting": false
     }
    }
   },
   "outputs": [
    {
     "data": {
      "text/html": [
       "<div>\n",
       "<style scoped>\n",
       "    .dataframe tbody tr th:only-of-type {\n",
       "        vertical-align: middle;\n",
       "    }\n",
       "\n",
       "    .dataframe tbody tr th {\n",
       "        vertical-align: top;\n",
       "    }\n",
       "\n",
       "    .dataframe thead th {\n",
       "        text-align: right;\n",
       "    }\n",
       "</style>\n",
       "<table border=\"1\" class=\"dataframe\">\n",
       "  <thead>\n",
       "    <tr style=\"text-align: right;\">\n",
       "      <th></th>\n",
       "      <th>CON_ROW_ID</th>\n",
       "      <th>variable</th>\n",
       "      <th>value</th>\n",
       "      <th>token</th>\n",
       "    </tr>\n",
       "  </thead>\n",
       "  <tbody>\n",
       "    <tr>\n",
       "      <th>0</th>\n",
       "      <td>1</td>\n",
       "      <td>ενημερωσα</td>\n",
       "      <td>1</td>\n",
       "      <td>ενημερωση</td>\n",
       "    </tr>\n",
       "    <tr>\n",
       "      <th>0</th>\n",
       "      <td>1</td>\n",
       "      <td>καμπανια</td>\n",
       "      <td>1</td>\n",
       "      <td>καμπανια</td>\n",
       "    </tr>\n",
       "    <tr>\n",
       "      <th>0</th>\n",
       "      <td>1</td>\n",
       "      <td>δενθελειδενενδιαφερεται</td>\n",
       "      <td>1</td>\n",
       "      <td>δεν θελει/δεν ενδιαφερεται</td>\n",
       "    </tr>\n",
       "  </tbody>\n",
       "</table>\n",
       "</div>"
      ],
      "text/plain": [
       "   CON_ROW_ID                 variable  value                       token\n",
       "0           1                ενημερωσα      1                   ενημερωση\n",
       "0           1                 καμπανια      1                    καμπανια\n",
       "0           1  δενθελειδενενδιαφερεται      1  δεν θελει/δεν ενδιαφερεται"
      ]
     },
     "execution_count": 527,
     "metadata": {},
     "output_type": "execute_result"
    }
   ],
   "source": [
    "df_f.head(10)"
   ]
  },
  {
   "cell_type": "code",
   "execution_count": 528,
   "metadata": {
    "gather": {
     "logged": 1616411427695
    },
    "jupyter": {
     "outputs_hidden": false,
     "source_hidden": false
    },
    "nteract": {
     "transient": {
      "deleting": false
     }
    }
   },
   "outputs": [],
   "source": [
    "df_f = df_f.fillna('N/A')"
   ]
  },
  {
   "cell_type": "code",
   "execution_count": 529,
   "metadata": {
    "gather": {
     "logged": 1616411432077
    },
    "jupyter": {
     "outputs_hidden": false,
     "source_hidden": false
    },
    "nteract": {
     "transient": {
      "deleting": false
     }
    }
   },
   "outputs": [
    {
     "data": {
      "text/html": [
       "<div>\n",
       "<style scoped>\n",
       "    .dataframe tbody tr th:only-of-type {\n",
       "        vertical-align: middle;\n",
       "    }\n",
       "\n",
       "    .dataframe tbody tr th {\n",
       "        vertical-align: top;\n",
       "    }\n",
       "\n",
       "    .dataframe thead th {\n",
       "        text-align: right;\n",
       "    }\n",
       "</style>\n",
       "<table border=\"1\" class=\"dataframe\">\n",
       "  <thead>\n",
       "    <tr style=\"text-align: right;\">\n",
       "      <th></th>\n",
       "      <th>CON_ROW_ID</th>\n",
       "      <th>variable</th>\n",
       "      <th>value</th>\n",
       "      <th>token</th>\n",
       "    </tr>\n",
       "  </thead>\n",
       "  <tbody>\n",
       "    <tr>\n",
       "      <th>0</th>\n",
       "      <td>1</td>\n",
       "      <td>ενημερωσα</td>\n",
       "      <td>1</td>\n",
       "      <td>ενημερωση</td>\n",
       "    </tr>\n",
       "    <tr>\n",
       "      <th>0</th>\n",
       "      <td>1</td>\n",
       "      <td>καμπανια</td>\n",
       "      <td>1</td>\n",
       "      <td>καμπανια</td>\n",
       "    </tr>\n",
       "    <tr>\n",
       "      <th>0</th>\n",
       "      <td>1</td>\n",
       "      <td>δενθελειδενενδιαφερεται</td>\n",
       "      <td>1</td>\n",
       "      <td>δεν θελει/δεν ενδιαφερεται</td>\n",
       "    </tr>\n",
       "  </tbody>\n",
       "</table>\n",
       "</div>"
      ],
      "text/plain": [
       "   CON_ROW_ID                 variable  value                       token\n",
       "0           1                ενημερωσα      1                   ενημερωση\n",
       "0           1                 καμπανια      1                    καμπανια\n",
       "0           1  δενθελειδενενδιαφερεται      1  δεν θελει/δεν ενδιαφερεται"
      ]
     },
     "execution_count": 529,
     "metadata": {},
     "output_type": "execute_result"
    }
   ],
   "source": [
    "df_f.head(10)"
   ]
  },
  {
   "cell_type": "code",
   "execution_count": 530,
   "metadata": {
    "gather": {
     "logged": 1616411436403
    },
    "jupyter": {
     "outputs_hidden": false,
     "source_hidden": false
    },
    "nteract": {
     "transient": {
      "deleting": false
     }
    }
   },
   "outputs": [],
   "source": [
    "df_f = df_f[['CON_ROW_ID','token']].drop_duplicates()"
   ]
  },
  {
   "cell_type": "code",
   "execution_count": 531,
   "metadata": {
    "gather": {
     "logged": 1616411439920
    },
    "jupyter": {
     "outputs_hidden": false,
     "source_hidden": false
    },
    "nteract": {
     "transient": {
      "deleting": false
     }
    }
   },
   "outputs": [
    {
     "data": {
      "text/html": [
       "<div>\n",
       "<style scoped>\n",
       "    .dataframe tbody tr th:only-of-type {\n",
       "        vertical-align: middle;\n",
       "    }\n",
       "\n",
       "    .dataframe tbody tr th {\n",
       "        vertical-align: top;\n",
       "    }\n",
       "\n",
       "    .dataframe thead th {\n",
       "        text-align: right;\n",
       "    }\n",
       "</style>\n",
       "<table border=\"1\" class=\"dataframe\">\n",
       "  <thead>\n",
       "    <tr style=\"text-align: right;\">\n",
       "      <th></th>\n",
       "      <th>CON_ROW_ID</th>\n",
       "      <th>token</th>\n",
       "    </tr>\n",
       "  </thead>\n",
       "  <tbody>\n",
       "    <tr>\n",
       "      <th>0</th>\n",
       "      <td>1</td>\n",
       "      <td>ενημερωση</td>\n",
       "    </tr>\n",
       "    <tr>\n",
       "      <th>0</th>\n",
       "      <td>1</td>\n",
       "      <td>καμπανια</td>\n",
       "    </tr>\n",
       "    <tr>\n",
       "      <th>0</th>\n",
       "      <td>1</td>\n",
       "      <td>δεν θελει/δεν ενδιαφερεται</td>\n",
       "    </tr>\n",
       "  </tbody>\n",
       "</table>\n",
       "</div>"
      ],
      "text/plain": [
       "   CON_ROW_ID                       token\n",
       "0           1                   ενημερωση\n",
       "0           1                    καμπανια\n",
       "0           1  δεν θελει/δεν ενδιαφερεται"
      ]
     },
     "execution_count": 531,
     "metadata": {},
     "output_type": "execute_result"
    }
   ],
   "source": [
    "df_f.head(10)"
   ]
  }
 ],
 "metadata": {
  "kernel_info": {
   "name": "python3-azureml"
  },
  "kernelspec": {
   "display_name": "Python 3.6 - AzureML",
   "language": "python",
   "name": "python3-azureml"
  },
  "language_info": {
   "codemirror_mode": {
    "name": "ipython",
    "version": 3
   },
   "file_extension": ".py",
   "mimetype": "text/x-python",
   "name": "python",
   "nbconvert_exporter": "python",
   "pygments_lexer": "ipython3",
   "version": "3.6.9"
  },
  "microsoft": {
   "host": {
    "AzureML": {
     "notebookHasBeenCompleted": true
    }
   }
  },
  "nteract": {
   "version": "nteract-front-end@1.0.0"
  }
 },
 "nbformat": 4,
 "nbformat_minor": 2
}
