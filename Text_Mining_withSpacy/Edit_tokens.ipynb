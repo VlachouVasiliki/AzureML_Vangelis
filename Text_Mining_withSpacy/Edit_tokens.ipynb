{
  "cells": [
    {
      "cell_type": "code",
      "source": [
        "import pandas as pd\n",
        "import os "
      ],
      "outputs": [],
      "execution_count": 8,
      "metadata": {}
    },
    {
      "cell_type": "code",
      "source": [
        "def correct(x,corDict):\n",
        "    if x in corDict.keys():\n",
        "        y = corDict[x]\n",
        "    else:\n",
        "        y = x\n",
        "    return y    "
      ],
      "outputs": [],
      "execution_count": 2,
      "metadata": {}
    },
    {
      "cell_type": "code",
      "source": [
        "os.getcwd()"
      ],
      "outputs": [
        {
          "output_type": "execute_result",
          "execution_count": 9,
          "data": {
            "text/plain": "'C:\\\\Users\\\\Βαγγέλης\\\\Text_Mining_Spacy'"
          },
          "metadata": {}
        }
      ],
      "execution_count": 9,
      "metadata": {}
    },
    {
      "cell_type": "code",
      "source": [
        "df = pd.read_csv(\"D://Downloads//comments_tokens_2.txt\",sep = '\\t')"
      ],
      "outputs": [],
      "execution_count": 3,
      "metadata": {}
    },
    {
      "cell_type": "code",
      "source": [
        "#df['variable'].value_counts().to_excel(\"tokenCorrectionDict.xlsx\")\n",
        "corDict = dict(pd.read_excel(\"tokenCorrectionDict.xlsx\").to_dict(\"split\")['data'])"
      ],
      "outputs": [],
      "execution_count": 13,
      "metadata": {}
    },
    {
      "cell_type": "code",
      "source": [
        "#df['variable'].value_counts()"
      ],
      "outputs": [],
      "execution_count": 14,
      "metadata": {}
    },
    {
      "cell_type": "code",
      "source": [
        "#corDict ={\"ενημερωθηκε\":\"ενημερωση\",\"επικοινωνιας\" : \"επικοινωνία\",\n",
        "#          \"ραντεβο\":\"ραντεβου\",\"πελατη\":\"πελατης\",\n",
        "#          \"καταστημας\":\"καταστημα\"}"
      ],
      "outputs": [],
      "execution_count": 26,
      "metadata": {}
    },
    {
      "cell_type": "code",
      "source": [
        "df['token'] = df['variable'].apply(lambda x : correct(x,corDict))"
      ],
      "outputs": [],
      "execution_count": 15,
      "metadata": {}
    },
    {
      "cell_type": "code",
      "source": [
        "df['token'].value_counts()"
      ],
      "outputs": [
        {
          "output_type": "execute_result",
          "execution_count": 20,
          "data": {
            "text/plain": "ενημερωση                  59809\nραντεβού                   17012\nαιτηση                     16712\nληξη                       15617\nκαρτα                      13794\n                           ...  \nαποτιμηση χαρτοφυλακιου     1079\nsafe drive                  1073\nαποταμιευτικο               1020\nανοιγμα λογαριασμου         1012\nsweet home                  1001\nName: token, Length: 130, dtype: int64"
          },
          "metadata": {}
        }
      ],
      "execution_count": 20,
      "metadata": {}
    },
    {
      "cell_type": "code",
      "source": [
        "df = df[df['token'] !='rmv']"
      ],
      "outputs": [],
      "execution_count": 18,
      "metadata": {}
    },
    {
      "cell_type": "code",
      "source": [
        "df = df[['con_row_id','token']].drop_duplicates()"
      ],
      "outputs": [],
      "execution_count": 19,
      "metadata": {}
    },
    {
      "cell_type": "code",
      "source": [
        "df[['con_row_id','token']].to_csv('D://Downloads//comments_tokens_3.txt',index = False,sep ='\\t',line_terminator='\\n')"
      ],
      "outputs": [],
      "execution_count": 22,
      "metadata": {}
    }
  ],
  "metadata": {
    "kernelspec": {
      "name": "python3",
      "language": "python",
      "display_name": "Python 3"
    },
    "language_info": {
      "name": "python",
      "version": "3.6.9",
      "mimetype": "text/x-python",
      "codemirror_mode": {
        "name": "ipython",
        "version": 3
      },
      "pygments_lexer": "ipython3",
      "nbconvert_exporter": "python",
      "file_extension": ".py"
    },
    "kernel_info": {
      "name": "python3"
    },
    "nteract": {
      "version": "nteract-front-end@1.0.0"
    }
  },
  "nbformat": 4,
  "nbformat_minor": 2
}