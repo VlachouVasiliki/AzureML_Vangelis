{
 "cells": [
  {
   "cell_type": "code",
   "execution_count": 6,
   "metadata": {
    "gather": {
     "logged": 1616494940780
    }
   },
   "outputs": [
    {
     "name": "stdout",
     "output_type": "stream",
     "text": [
      "Deleted:comments_tokens_101.txt\n",
      "Deleted:comments_tokens_102.txt\n",
      "Deleted:comments_tokens_103.txt\n",
      "Deleted:comments_tokens_104.txt\n",
      "Deleted:comments_tokens_105.txt\n",
      "Deleted:comments_tokens_106.txt\n",
      "Deleted:comments_tokens_107.txt\n",
      "Deleted:comments_tokens_108.txt\n",
      "The file does not exist\n",
      "The file does not exist\n",
      "The file does not exist\n",
      "The file does not exist\n"
     ]
    }
   ],
   "source": [
    "import os\n",
    "yr = 2021\n",
    "\n",
    "fileList =['01','02','03','04','05','06','07','08','09','10','11','12']\n",
    "\n",
    "for fileNum in fileList:\n",
    "    if os.path.exists('comments_tokens_{0}{1}.txt'.format(yr,fileNum)):\n",
    "        os.remove('comments_tokens_{0}{1}.txt'.format(yr,fileNum))\n",
    "        print('Deleted:comments_tokens_{0}{1}.txt'.format(1,fileNum))\n",
    "    else:\n",
    "        print(\"The file does not exist\")"
   ]
  },
  {
   "cell_type": "code",
   "execution_count": null,
   "metadata": {},
   "outputs": [],
   "source": []
  }
 ],
 "metadata": {
  "kernel_info": {
   "name": "python3-azureml"
  },
  "kernelspec": {
   "display_name": "Python 3.6 - AzureML",
   "language": "python",
   "name": "python3-azureml"
  },
  "language_info": {
   "codemirror_mode": {
    "name": "ipython",
    "version": 3
   },
   "file_extension": ".py",
   "mimetype": "text/x-python",
   "name": "python",
   "nbconvert_exporter": "python",
   "pygments_lexer": "ipython3",
   "version": "3.6.9"
  },
  "microsoft": {
   "host": {
    "AzureML": {
     "notebookHasBeenCompleted": true
    }
   }
  },
  "nteract": {
   "version": "nteract-front-end@1.0.0"
  }
 },
 "nbformat": 4,
 "nbformat_minor": 2
}
