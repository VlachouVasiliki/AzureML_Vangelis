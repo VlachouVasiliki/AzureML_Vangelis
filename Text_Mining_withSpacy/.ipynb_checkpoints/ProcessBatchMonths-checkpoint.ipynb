{
 "cells": [
  {
   "cell_type": "code",
   "execution_count": null,
   "id": "offshore-civilian",
   "metadata": {},
   "outputs": [],
   "source": [
    "!python Spacy_NLP_on_LinkComments.py --fn '202101'\n",
    "#!python Spacy_NLP_on_LinkComments.py --fn '202102'\n",
    "#!python Spacy_NLP_on_LinkComments.py --fn '202103'\n",
    "#!python Spacy_NLP_on_LinkComments.py --fn '202104'\n",
    "#!python Spacy_NLP_on_LinkComments.py --fn '202105'\n",
    "#!python Spacy_NLP_on_LinkComments.py --fn '202106'\n",
    "#!python Spacy_NLP_on_LinkComments.py --fn '202107'\n",
    "#!python Spacy_NLP_on_LinkComments.py --fn '202108'\n"
   ]
  },
  {
   "cell_type": "code",
   "execution_count": null,
   "id": "stone-alert",
   "metadata": {},
   "outputs": [],
   "source": []
  }
 ],
 "metadata": {
  "kernelspec": {
   "display_name": "Python 3.6 - AzureML",
   "language": "python",
   "name": "python3-azureml"
  },
  "language_info": {
   "codemirror_mode": {
    "name": "ipython",
    "version": 3
   },
   "file_extension": ".py",
   "mimetype": "text/x-python",
   "name": "python",
   "nbconvert_exporter": "python",
   "pygments_lexer": "ipython3",
   "version": "3.6.9"
  }
 },
 "nbformat": 4,
 "nbformat_minor": 5
}
