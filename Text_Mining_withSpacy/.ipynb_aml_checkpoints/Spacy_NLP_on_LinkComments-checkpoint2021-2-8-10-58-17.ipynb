{
  "cells": [
    {
      "cell_type": "code",
      "source": [
        "#!python -m spacy download el_core_news_sm\r\n",
        "#!pip install pyarrow --upgrade"
      ],
      "outputs": [],
      "execution_count": 1,
      "metadata": {
        "collapsed": true,
        "jupyter": {
          "source_hidden": false,
          "outputs_hidden": false
        },
        "nteract": {
          "transient": {
            "deleting": false
          }
        },
        "gather": {
          "logged": 1614684038458
        }
      }
    },
    {
      "cell_type": "code",
      "source": [
        "import spacy\n",
        "import el_core_news_sm\n",
        "import string\n",
        "import pandas as pd\n",
        "import re\n",
        "from sklearn.feature_extraction.text import TfidfVectorizer"
      ],
      "outputs": [],
      "execution_count": 2,
      "metadata": {
        "gather": {
          "logged": 1614684041103
        }
      }
    },
    {
      "cell_type": "code",
      "source": [
        "from spacy.lang.el import GreekLemmatizer"
      ],
      "outputs": [],
      "execution_count": 3,
      "metadata": {
        "gather": {
          "logged": 1614684041385
        }
      }
    },
    {
      "cell_type": "code",
      "source": [
        "from spacy.lang.el import LEMMA_INDEX, LEMMA_EXC, LEMMA_RULES"
      ],
      "outputs": [],
      "execution_count": 4,
      "metadata": {
        "gather": {
          "logged": 1614684041477
        }
      }
    },
    {
      "cell_type": "code",
      "source": [
        "nlp = el_core_news_sm.load()"
      ],
      "outputs": [],
      "execution_count": 5,
      "metadata": {
        "gather": {
          "logged": 1614684041670
        }
      }
    },
    {
      "cell_type": "code",
      "source": [
        "lemmatizer = GreekLemmatizer(LEMMA_INDEX, LEMMA_EXC, LEMMA_RULES)"
      ],
      "outputs": [],
      "execution_count": 6,
      "metadata": {
        "gather": {
          "logged": 1614684041852
        }
      }
    },
    {
      "cell_type": "code",
      "source": [
        "p1 = re.compile('δεν απαντ.{1,3}\\s{0,1}',re.IGNORECASE)\r\n",
        "p2 = re.compile('\\sδα\\s',re.IGNORECASE)\r\n",
        "p3 = re.compile('δε.{0,1}\\s.{0,3}\\s{0,1}βρ.{1,2}κ.\\s{0,1}',re.IGNORECASE)\r\n",
        "p4 = re.compile('[^\\d]?\\d{10}')\r\n",
        "p5 = re.compile('[^\\d]?\\d{18}|[^\\d]\\d{20}')\r\n",
        "p6 = re.compile('δε[ ν]{0,1} (επιθυμ[α-ω]{2,4}?|ηθελ[α-ω]{1,3}?|θελ[α-ω]{1,4}|.{0,10}ενδιαφερ[α-ω]{2,4})',re.IGNORECASE)\r\n",
        "p7 = re.compile('δε[ ν]{0,1} (μπορ[α-ω]{2,5}|.εχει)',re.IGNORECASE)"
      ],
      "outputs": [],
      "execution_count": 7,
      "metadata": {
        "collapsed": true,
        "jupyter": {
          "source_hidden": false,
          "outputs_hidden": false
        },
        "nteract": {
          "transient": {
            "deleting": false
          }
        },
        "gather": {
          "logged": 1614684041940
        }
      }
    },
    {
      "cell_type": "code",
      "source": [
        "def loadStopWords():\n",
        "    sWords = open('stopWords.txt','r',encoding='utf-8')\n",
        "    sw = set(sWords.read().split('\\n'))\n",
        "    #sw = sw.remove('μη')\n",
        "    sWords.close()\n",
        "    return sw"
      ],
      "outputs": [],
      "execution_count": 8,
      "metadata": {
        "gather": {
          "logged": 1614684042152
        }
      }
    },
    {
      "cell_type": "code",
      "source": [
        "def replaceTerm(text):\r\n",
        "    text = p5.sub(' λογαριασμός ',text)\r\n",
        "    text = p4.sub(' τηλεφωνο ',text)\r\n",
        "    text = p6.sub(' δενθελειδενενδιαφερεται ',text)\r\n",
        "    text = p7.sub(' δενεχειδενμπορει ',text)\r\n",
        "    text = text.replace('-banking','banking')\r\n",
        "    text = text.replace('v banking','vbanking')\r\n",
        "    text = text.replace('e banking','ebanking')\r\n",
        "    text = text.replace('follow up','followup')\r\n",
        "    text = text.replace('safe drive','safedrive')\r\n",
        "    text = text.replace('safe pocket','safepocket')\r\n",
        "    text = text.replace('sweet home','sweethome')\r\n",
        "    text = text.replace('credit card','creditcard')\r\n",
        "    text = text.replace('debit card','debitcard')\r\n",
        "    text = text.replace('life cycle','lifecycle')\r\n",
        "    text = text.replace('π/κ','πκ')\r\n",
        "    text = text.replace('td','πκ')\r\n",
        "    text = text.replace('α/κ','ακ')\r\n",
        "    text = text.replace('δ/α','δεναπαντα ')\r\n",
        "    #τδ\r\n",
        "    text = p1.sub(' δεναπαντα ',text)\r\n",
        "    text = p2.sub(' δεναπαντα ',text)\r\n",
        "    text = p3.sub(' δεντονβρηκα ',text)\r\n",
        "    return text\r\n"
      ],
      "outputs": [],
      "execution_count": 9,
      "metadata": {
        "collapsed": true,
        "jupyter": {
          "source_hidden": false,
          "outputs_hidden": false
        },
        "nteract": {
          "transient": {
            "deleting": false
          }
        },
        "gather": {
          "logged": 1614684042242
        }
      }
    },
    {
      "cell_type": "code",
      "source": [
        "#sw = nlp.Defaults.stop_words\n",
        "#sw = sw|{'εχω','απο','ωστε'}\n",
        "sw = loadStopWords()\n",
        "def remove_ton(text):\n",
        "    diction = {'ά':'α','έ':'ε','ί':'ι','ό':'ο','ώ':'ω','ύ':'υ'}\n",
        "    for key in diction.keys():\n",
        "        text = text.replace(key, diction[key])\n",
        "    return text   \n",
        "def clean_text(text):\n",
        "     #text to string\n",
        "    text = str(text).lower()\n",
        "    text = replaceTerm(text)\n",
        "   # tokenize text and remove puncutation\n",
        "    text = [word.strip(string.punctuation) for word in text.split(\" \")]\n",
        "    # lower text\n",
        "    text = [remove_ton(x) for x in text]\n",
        "    # remove stop words\n",
        "    text = [x for x in text if x not in sw]\n",
        " \n",
        "    #remove quotes\n",
        "    text = [x.replace('quot;','').replace('&quot','') for x in text if x not in ['quot','amp']]\n",
        "    # remove words that contain numbers\n",
        "    text = [word for word in text if not any(c.isdigit() for c in word)]\n",
        "    # remove empty tokens\n",
        "    text = [t for t in text if len(t) > 0]\n",
        "    # remove amp & quot\n",
        "    text = [x for x in text if x not in ['quot','amp']]\n",
        "    # remove words with only one letter\n",
        "    text = \" \".join([t for t in text if len(t) > 1])\n",
        "    # lemmatize text\n",
        "    text = \" \".join([lemmatizer(t.text,t.pos_)[0] for t in nlp(text)])\n",
        "   \n",
        "    return(text)"
      ],
      "outputs": [],
      "execution_count": 10,
      "metadata": {
        "gather": {
          "logged": 1614684042348
        }
      }
    },
    {
      "cell_type": "code",
      "source": [
        "def correct(x,corDict):\r\n",
        "    if x in corDict.keys():\r\n",
        "        y = corDict[x]\r\n",
        "    else:\r\n",
        "        y = x\r\n",
        "    return y    "
      ],
      "outputs": [],
      "execution_count": 11,
      "metadata": {
        "collapsed": true,
        "jupyter": {
          "source_hidden": false,
          "outputs_hidden": false
        },
        "nteract": {
          "transient": {
            "deleting": false
          }
        },
        "gather": {
          "logged": 1614684042462
        }
      }
    },
    {
      "cell_type": "code",
      "source": [
        "fileNum = '01'"
      ],
      "outputs": [],
      "execution_count": 12,
      "metadata": {
        "collapsed": true,
        "jupyter": {
          "source_hidden": false,
          "outputs_hidden": false
        },
        "nteract": {
          "transient": {
            "deleting": false
          }
        },
        "gather": {
          "logged": 1614684042770
        }
      }
    },
    {
      "cell_type": "code",
      "source": [
        "# azureml-core of version 1.0.72 or higher is required\n",
        "# azureml-dataprep[pandas] of version 1.1.34 or higher is required\n",
        "from azureml.core import Workspace, Dataset\n",
        "\n",
        "subscription_id = '6ed9d167-b2e6-41b8-9500-35e6df64d9dc'\n",
        "resource_group = 'MLRG'\n",
        "workspace_name = 'erbbimlws'\n",
        "\n",
        "workspace = Workspace(subscription_id, resource_group, workspace_name)\n",
        "\n",
        "dataset = Dataset.get_by_name(workspace, name='LinkComments{0}'.format(fileNum))\n",
        "df = dataset.to_pandas_dataframe()"
      ],
      "outputs": [
        {
          "output_type": "stream",
          "name": "stderr",
          "text": [
            "/anaconda/envs/azureml_py36/lib/python3.6/site-packages/azureml/dataprep/api/_dataframereader.py:238: UserWarning: Using alternate reader. Inconsistent or mixed schemas detected across partitions: partition had different number of columns. The first partition has 5 columns. Found partition has 2 columns.\n",
            "First partition columns (ordered): ['CON_ROW_ID', 'CON_COMMENTS', 'Column3', 'Column4', 'Column5']\n",
            "Found Partition has columns (ordered): ['CON_ROW_ID', 'CON_COMMENTS']\n",
            "  warnings.warn('Using alternate reader. ' + reason)\n",
            "/anaconda/envs/azureml_py36/lib/python3.6/site-packages/azureml/dataprep/api/_dataframereader.py:171: UserWarning: Please install pyarrow>=0.16.0 for improved performance of to_pandas_dataframe. You can ensure the correct version is installed by running: pip install pyarrow>=0.16.0 --upgrade\n",
            "  warnings.warn('Please install pyarrow>=0.16.0 for improved performance of to_pandas_dataframe. '\n"
          ]
        }
      ],
      "execution_count": 13,
      "metadata": {
        "gather": {
          "logged": 1614684056422
        }
      }
    },
    {
      "cell_type": "code",
      "source": [
        "df = df[['CON_ROW_ID','CON_COMMENTS']]"
      ],
      "outputs": [],
      "execution_count": null,
      "metadata": {
        "gather": {
          "logged": 1614678573040
        }
      }
    },
    {
      "cell_type": "code",
      "source": [
        "#df.columns\r\n",
        "df.head()\r\n",
        "df.shape"
      ],
      "outputs": [],
      "execution_count": null,
      "metadata": {
        "collapsed": true,
        "jupyter": {
          "source_hidden": false,
          "outputs_hidden": false
        },
        "nteract": {
          "transient": {
            "deleting": false
          }
        },
        "gather": {
          "logged": 1614678573294
        }
      }
    },
    {
      "cell_type": "code",
      "source": [
        "df['tokenized'] = df['CON_COMMENTS'].apply(clean_text)"
      ],
      "outputs": [],
      "execution_count": null,
      "metadata": {
        "gather": {
          "logged": 1614680529630
        }
      }
    },
    {
      "cell_type": "code",
      "source": [
        "#df.to_excel('LinkCommentssample_2.xlsx')\r\n",
        "#df.head(1000)\r\n",
        "\r\n"
      ],
      "outputs": [],
      "execution_count": null,
      "metadata": {
        "gather": {
          "logged": 1614680529739
        }
      }
    },
    {
      "cell_type": "code",
      "source": [
        "df = df.fillna('N/A')"
      ],
      "outputs": [],
      "execution_count": null,
      "metadata": {
        "gather": {
          "logged": 1614680529873
        }
      }
    },
    {
      "cell_type": "code",
      "source": [
        "#df[df['tokenized'].str.contains(' χρονι ') ]#[~df['tokenized'].str.contains('banking') ]"
      ],
      "outputs": [],
      "execution_count": null,
      "metadata": {
        "collapsed": true,
        "jupyter": {
          "source_hidden": false,
          "outputs_hidden": false
        },
        "nteract": {
          "transient": {
            "deleting": false
          }
        },
        "gather": {
          "logged": 1614680530013
        }
      }
    },
    {
      "cell_type": "code",
      "source": [
        "#tfidf = TfidfVectorizer(min_df = 1000,ngram_range = (1,2))\r\n",
        "#tfidf =  TfidfVectorizer(max_features = 350,ngram_range = (1,2))"
      ],
      "outputs": [],
      "execution_count": null,
      "metadata": {
        "gather": {
          "logged": 1614683617699
        }
      }
    },
    {
      "cell_type": "code",
      "source": [
        "tfidf_result = tfidf.fit_transform(df['tokenized']).toarray()"
      ],
      "outputs": [],
      "execution_count": null,
      "metadata": {
        "gather": {
          "logged": 1614683625366
        }
      }
    },
    {
      "cell_type": "code",
      "source": [
        "tfidf_df = pd.DataFrame(tfidf_result, columns = tfidf.get_feature_names())"
      ],
      "outputs": [],
      "execution_count": null,
      "metadata": {
        "gather": {
          "logged": 1614683628620
        }
      }
    },
    {
      "cell_type": "code",
      "source": [
        "tfidf_df.shape"
      ],
      "outputs": [],
      "execution_count": null,
      "metadata": {
        "collapsed": true,
        "jupyter": {
          "source_hidden": false,
          "outputs_hidden": false
        },
        "nteract": {
          "transient": {
            "deleting": false
          }
        },
        "gather": {
          "logged": 1614683631928
        }
      }
    },
    {
      "cell_type": "code",
      "source": [
        "tfidf_df.columns = [str(x) for x in tfidf_df.columns]"
      ],
      "outputs": [],
      "execution_count": null,
      "metadata": {
        "gather": {
          "logged": 1614683635846
        }
      }
    },
    {
      "cell_type": "code",
      "source": [
        "df_f = pd.concat([df[['CON_ROW_ID']],tfidf_df],axis=1).melt(id_vars=['CON_ROW_ID'],value_vars = tfidf_df.columns).dropna()"
      ],
      "outputs": [],
      "execution_count": null,
      "metadata": {
        "gather": {
          "logged": 1614680546058
        }
      }
    },
    {
      "cell_type": "code",
      "source": [
        "df_f = df_f[df_f['value']>0]"
      ],
      "outputs": [],
      "execution_count": null,
      "metadata": {
        "gather": {
          "logged": 1614680546465
        }
      }
    },
    {
      "cell_type": "code",
      "source": [
        "df_f.shape"
      ],
      "outputs": [],
      "execution_count": null,
      "metadata": {
        "collapsed": true,
        "jupyter": {
          "source_hidden": false,
          "outputs_hidden": false
        },
        "nteract": {
          "transient": {
            "deleting": false
          }
        },
        "gather": {
          "logged": 1614680546570
        }
      }
    },
    {
      "cell_type": "code",
      "source": [
        "df_f['variable'].value_counts().to_excel('tokenlist.xlsx')"
      ],
      "outputs": [],
      "execution_count": null,
      "metadata": {
        "collapsed": true,
        "jupyter": {
          "source_hidden": false,
          "outputs_hidden": false
        },
        "nteract": {
          "transient": {
            "deleting": false
          }
        },
        "gather": {
          "logged": 1614680547305
        }
      }
    },
    {
      "cell_type": "code",
      "source": [
        "corDict = dict(pd.read_excel(\"corTokens.xls\").to_dict(\"split\")['data'])"
      ],
      "outputs": [],
      "execution_count": null,
      "metadata": {
        "collapsed": true,
        "jupyter": {
          "source_hidden": false,
          "outputs_hidden": false
        },
        "nteract": {
          "transient": {
            "deleting": false
          }
        },
        "gather": {
          "logged": 1614680547478
        }
      }
    },
    {
      "cell_type": "code",
      "source": [
        "df_f['token'] = df_f['variable'].apply(lambda x : correct(x,corDict))"
      ],
      "outputs": [],
      "execution_count": null,
      "metadata": {
        "collapsed": true,
        "jupyter": {
          "source_hidden": false,
          "outputs_hidden": false
        },
        "nteract": {
          "transient": {
            "deleting": false
          }
        },
        "gather": {
          "logged": 1614680547739
        }
      }
    },
    {
      "cell_type": "code",
      "source": [
        "df_f = df_f[df_f['token'] !='rmv']"
      ],
      "outputs": [],
      "execution_count": null,
      "metadata": {
        "collapsed": true,
        "jupyter": {
          "source_hidden": false,
          "outputs_hidden": false
        },
        "nteract": {
          "transient": {
            "deleting": false
          }
        },
        "gather": {
          "logged": 1614680547829
        }
      }
    },
    {
      "cell_type": "code",
      "source": [
        "df_f = df_f.fillna('N/A')"
      ],
      "outputs": [],
      "execution_count": null,
      "metadata": {
        "collapsed": true,
        "jupyter": {
          "source_hidden": false,
          "outputs_hidden": false
        },
        "nteract": {
          "transient": {
            "deleting": false
          }
        },
        "gather": {
          "logged": 1614680547977
        }
      }
    },
    {
      "cell_type": "code",
      "source": [
        "df_f = df_f.sort_values(['CON_ROW_ID','token'])"
      ],
      "outputs": [],
      "execution_count": null,
      "metadata": {
        "collapsed": true,
        "jupyter": {
          "source_hidden": false,
          "outputs_hidden": false
        },
        "nteract": {
          "transient": {
            "deleting": false
          }
        },
        "gather": {
          "logged": 1614680548408
        }
      }
    },
    {
      "cell_type": "code",
      "source": [
        "df_f['token_c'] = df_f['token']"
      ],
      "outputs": [],
      "execution_count": null,
      "metadata": {
        "collapsed": true,
        "jupyter": {
          "source_hidden": false,
          "outputs_hidden": false
        },
        "nteract": {
          "transient": {
            "deleting": false
          }
        },
        "gather": {
          "logged": 1614680548498
        }
      }
    },
    {
      "cell_type": "code",
      "source": [
        "n = df_f.shape[0]"
      ],
      "outputs": [],
      "execution_count": null,
      "metadata": {
        "collapsed": true,
        "jupyter": {
          "source_hidden": false,
          "outputs_hidden": false
        },
        "nteract": {
          "transient": {
            "deleting": false
          }
        },
        "gather": {
          "logged": 1614680548663
        }
      }
    },
    {
      "cell_type": "code",
      "source": [
        "df_f.head(100)"
      ],
      "outputs": [],
      "execution_count": null,
      "metadata": {
        "collapsed": true,
        "jupyter": {
          "source_hidden": false,
          "outputs_hidden": false
        },
        "nteract": {
          "transient": {
            "deleting": false
          }
        },
        "gather": {
          "logged": 1614680548773
        }
      }
    },
    {
      "cell_type": "code",
      "source": [
        "#for i in range(0,n-1):\r\n",
        "#    if df_f['CON_ROW_ID'].iloc[i] == df_f['CON_ROW_ID'].iloc[i+1]:\r\n",
        "#        #print(df_f['token_c'].iloc[i],type(df_f['token_c'].iloc[i]),type(df_f['token_c'].iloc[i+1]),df_f['token_c'].iloc[i+1])\r\n",
        "#        if df_f['token_c'].iloc[i] in df_f['token_c'].iloc[i+1]:\r\n",
        "#            df_f.iloc[i,4] = df_f['token_c'].iloc[i+1]\r\n",
        "        \r\n",
        "            "
      ],
      "outputs": [],
      "execution_count": null,
      "metadata": {
        "collapsed": true,
        "jupyter": {
          "source_hidden": false,
          "outputs_hidden": false
        },
        "nteract": {
          "transient": {
            "deleting": false
          }
        },
        "gather": {
          "logged": 1614680548867
        }
      }
    },
    {
      "cell_type": "code",
      "source": [
        "df_f = df_f[['CON_ROW_ID','token_c']].drop_duplicates()"
      ],
      "outputs": [],
      "execution_count": null,
      "metadata": {
        "collapsed": true,
        "jupyter": {
          "source_hidden": false,
          "outputs_hidden": false
        },
        "nteract": {
          "transient": {
            "deleting": false
          }
        },
        "gather": {
          "logged": 1614680548977
        }
      }
    },
    {
      "cell_type": "code",
      "source": [
        "#df_f.head()\r\n",
        "#df_f.shape\r\n",
        "#df_f['token_c'].value_counts().to_excel('tokens_c.xlsx')"
      ],
      "outputs": [],
      "execution_count": null,
      "metadata": {
        "collapsed": true,
        "jupyter": {
          "source_hidden": false,
          "outputs_hidden": false
        },
        "nteract": {
          "transient": {
            "deleting": false
          }
        },
        "gather": {
          "logged": 1614680549068
        }
      }
    },
    {
      "cell_type": "code",
      "source": [
        "df_f.to_csv('comments_tokens_{0}.txt'.format(fileNum),sep ='\\t',line_terminator='\\r\\n',index = False)"
      ],
      "outputs": [],
      "execution_count": null,
      "metadata": {
        "collapsed": true,
        "jupyter": {
          "source_hidden": false,
          "outputs_hidden": false
        },
        "nteract": {
          "transient": {
            "deleting": false
          }
        },
        "gather": {
          "logged": 1614680552619
        }
      }
    },
    {
      "cell_type": "code",
      "source": [
        "#df_f.to_excel('vBanking_tokens_s.xlsx',index = False)\n",
        "#df_f[df_f['value']>0].to_excel('D://Downloads//comments_tokens.xlsx')\n",
        "#df.to_excel('D://Downloads//comments_cleaned.xlsx')"
      ],
      "outputs": [],
      "execution_count": null,
      "metadata": {
        "gather": {
          "logged": 1614680552826
        }
      }
    },
    {
      "cell_type": "code",
      "source": [
        "#df_f[df_f['CON_ROW_ID'] ==60427536]\r\n",
        "df.head()"
      ],
      "outputs": [],
      "execution_count": null,
      "metadata": {
        "collapsed": true,
        "jupyter": {
          "source_hidden": false,
          "outputs_hidden": false
        },
        "nteract": {
          "transient": {
            "deleting": false
          }
        },
        "gather": {
          "logged": 1614680552941
        }
      }
    }
  ],
  "metadata": {
    "kernelspec": {
      "name": "python3-azureml",
      "language": "python",
      "display_name": "Python 3.6 - AzureML"
    },
    "language_info": {
      "name": "python",
      "version": "3.6.9",
      "mimetype": "text/x-python",
      "codemirror_mode": {
        "name": "ipython",
        "version": 3
      },
      "pygments_lexer": "ipython3",
      "nbconvert_exporter": "python",
      "file_extension": ".py"
    },
    "kernel_info": {
      "name": "python3-azureml"
    },
    "nteract": {
      "version": "nteract-front-end@1.0.0"
    },
    "microsoft": {
      "host": {
        "AzureML": {
          "notebookHasBeenCompleted": true
        }
      }
    }
  },
  "nbformat": 4,
  "nbformat_minor": 2
}