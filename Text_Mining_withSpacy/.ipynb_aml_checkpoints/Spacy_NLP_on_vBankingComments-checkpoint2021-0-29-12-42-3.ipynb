{
  "cells": [
    {
      "cell_type": "code",
      "source": [
        "#!python -m spacy download el_core_news_sm"
      ],
      "outputs": [],
      "execution_count": null,
      "metadata": {
        "collapsed": true,
        "jupyter": {
          "source_hidden": false,
          "outputs_hidden": false
        },
        "nteract": {
          "transient": {
            "deleting": false
          }
        }
      }
    },
    {
      "cell_type": "code",
      "source": [
        "import spacy\n",
        "import el_core_news_sm\n",
        "import string\n",
        "import pandas as pd\n",
        "from sklearn.feature_extraction.text import TfidfVectorizer"
      ],
      "outputs": [],
      "execution_count": 1,
      "metadata": {
        "gather": {
          "logged": 1611915577969
        }
      }
    },
    {
      "cell_type": "code",
      "source": [
        "from spacy.lang.el import GreekLemmatizer"
      ],
      "outputs": [],
      "execution_count": 2,
      "metadata": {
        "gather": {
          "logged": 1611915602158
        }
      }
    },
    {
      "cell_type": "code",
      "source": [
        "from spacy.lang.el import LEMMA_INDEX, LEMMA_EXC, LEMMA_RULES"
      ],
      "outputs": [],
      "execution_count": 3,
      "metadata": {
        "gather": {
          "logged": 1611915607309
        }
      }
    },
    {
      "cell_type": "code",
      "source": [
        "nlp = el_core_news_sm.load()"
      ],
      "outputs": [],
      "execution_count": 4,
      "metadata": {
        "gather": {
          "logged": 1611915614306
        }
      }
    },
    {
      "cell_type": "code",
      "source": [
        "lemmatizer = GreekLemmatizer(LEMMA_INDEX, LEMMA_EXC, LEMMA_RULES)"
      ],
      "outputs": [],
      "execution_count": 5,
      "metadata": {
        "gather": {
          "logged": 1611915616995
        }
      }
    },
    {
      "cell_type": "code",
      "source": [
        "def loadStopWords():\n",
        "    sWords = open('stopWords.txt','r',encoding='utf-8')\n",
        "    sw = set(sWords.read().split('\\n'))\n",
        "    sWords.close()\n",
        "    return sw"
      ],
      "outputs": [],
      "execution_count": 6,
      "metadata": {
        "gather": {
          "logged": 1611915619811
        }
      }
    },
    {
      "cell_type": "code",
      "source": [
        "#sw = nlp.Defaults.stop_words\n",
        "#sw = sw|{'εχω','απο','ωστε'}\n",
        "sw = loadStopWords()\n",
        "def remove_ton(text):\n",
        "    diction = {'ά':'α','έ':'ε','ί':'ι','ό':'ο','ώ':'ω','ύ':'υ'}\n",
        "    for key in diction.keys():\n",
        "        text = text.replace(key, diction[key])\n",
        "    return text   \n",
        "def clean_text(text):\n",
        "     #text to string\n",
        "    text = str(text).lower()\n",
        "   # tokenize text and remove puncutation\n",
        "    text = [word.strip(string.punctuation) for word in text.split(\" \")]\n",
        "    # lower text\n",
        "    text = [remove_ton(x) for x in text]\n",
        "    # remove stop words\n",
        "    text = [x for x in text if x not in sw]\n",
        " \n",
        "    #remove quotes\n",
        "    text = [x.replace('quot;','').replace('&quot','') for x in text if x not in ['quot','amp']]\n",
        "    # remove words that contain numbers\n",
        "    text = [word for word in text if not any(c.isdigit() for c in word)]\n",
        "    # remove empty tokens\n",
        "    text = [t for t in text if len(t) > 0]\n",
        "    # remove amp & quot\n",
        "    text = [x for x in text if x not in ['quot','amp']]\n",
        "    # remove words with only one letter\n",
        "    text = \" \".join([t for t in text if len(t) > 1])\n",
        "    # lemmatize text\n",
        "    text = \" \".join([lemmatizer(t.text,t.pos_)[0] for t in nlp(text)])\n",
        "   \n",
        "    return(text)"
      ],
      "outputs": [],
      "execution_count": 7,
      "metadata": {
        "gather": {
          "logged": 1611915623406
        }
      }
    },
    {
      "cell_type": "code",
      "source": [
        "# azureml-core of version 1.0.72 or higher is required\n",
        "# azureml-dataprep[pandas] of version 1.1.34 or higher is required\n",
        "from azureml.core import Workspace, Dataset\n",
        "\n",
        "subscription_id = '6ed9d167-b2e6-41b8-9500-35e6df64d9dc'\n",
        "resource_group = 'MLRG'\n",
        "workspace_name = 'erbbimlws'\n",
        "\n",
        "workspace = Workspace(subscription_id, resource_group, workspace_name)\n",
        "\n",
        "dataset = Dataset.get_by_name(workspace, name='vBankingComments')\n",
        "df = dataset.to_pandas_dataframe()"
      ],
      "outputs": [],
      "execution_count": 8,
      "metadata": {
        "gather": {
          "logged": 1611915686069
        }
      }
    },
    {
      "cell_type": "code",
      "source": [
        "df.head()"
      ],
      "outputs": [
        {
          "output_type": "execute_result",
          "execution_count": 9,
          "data": {
            "text/plain": "   CON_ROW_ID                                       CON_COMMENTS        Source\n0  65444303.0                            ανανεωση γνωματευσης οκ  Contact Type\n1  63843091.0  ενημερωση για μη υποβολη αιτήματος ΠΡΟΕΞΟΦΛΗΣΗ...  Contact Type\n2  65048084.0    θα παει στο καταστημα για εκδοση Business debit  Contact Type\n3  64958601.0  ΖΗΤΗΣΕ ΑΠΟΔΕΙΚΤΙΚΟ ΤΕΚΜΗΡΙΩΣΗΣ ΕΤΑΙΡΙΚΟΥ ΛΟΓΑΡ...  Contact Type\n4  64878281.0                                            επιταγη  Contact Type",
            "text/html": "<div>\n<style scoped>\n    .dataframe tbody tr th:only-of-type {\n        vertical-align: middle;\n    }\n\n    .dataframe tbody tr th {\n        vertical-align: top;\n    }\n\n    .dataframe thead th {\n        text-align: right;\n    }\n</style>\n<table border=\"1\" class=\"dataframe\">\n  <thead>\n    <tr style=\"text-align: right;\">\n      <th></th>\n      <th>CON_ROW_ID</th>\n      <th>CON_COMMENTS</th>\n      <th>Source</th>\n    </tr>\n  </thead>\n  <tbody>\n    <tr>\n      <th>0</th>\n      <td>65444303.0</td>\n      <td>ανανεωση γνωματευσης οκ</td>\n      <td>Contact Type</td>\n    </tr>\n    <tr>\n      <th>1</th>\n      <td>63843091.0</td>\n      <td>ενημερωση για μη υποβολη αιτήματος ΠΡΟΕΞΟΦΛΗΣΗ...</td>\n      <td>Contact Type</td>\n    </tr>\n    <tr>\n      <th>2</th>\n      <td>65048084.0</td>\n      <td>θα παει στο καταστημα για εκδοση Business debit</td>\n      <td>Contact Type</td>\n    </tr>\n    <tr>\n      <th>3</th>\n      <td>64958601.0</td>\n      <td>ΖΗΤΗΣΕ ΑΠΟΔΕΙΚΤΙΚΟ ΤΕΚΜΗΡΙΩΣΗΣ ΕΤΑΙΡΙΚΟΥ ΛΟΓΑΡ...</td>\n      <td>Contact Type</td>\n    </tr>\n    <tr>\n      <th>4</th>\n      <td>64878281.0</td>\n      <td>επιταγη</td>\n      <td>Contact Type</td>\n    </tr>\n  </tbody>\n</table>\n</div>"
          },
          "metadata": {}
        }
      ],
      "execution_count": 9,
      "metadata": {
        "gather": {
          "logged": 1611915710055
        }
      }
    },
    {
      "cell_type": "code",
      "source": [
        "df['tokenized'] = df['CON_COMMENTS'].apply(clean_text)"
      ],
      "outputs": [],
      "execution_count": 11,
      "metadata": {
        "gather": {
          "logged": 1611916264688
        }
      }
    },
    {
      "cell_type": "code",
      "source": [
        "df.head(1000)"
      ],
      "outputs": [
        {
          "output_type": "execute_result",
          "execution_count": 12,
          "data": {
            "text/plain": "     CON_ROW_ID                                       CON_COMMENTS  \\\n0    65444303.0                            ανανεωση γνωματευσης οκ   \n1    63843091.0  ενημερωση για μη υποβολη αιτήματος ΠΡΟΕΞΟΦΛΗΣΗ...   \n2    65048084.0    θα παει στο καταστημα για εκδοση Business debit   \n3    64958601.0  ΖΗΤΗΣΕ ΑΠΟΔΕΙΚΤΙΚΟ ΤΕΚΜΗΡΙΩΣΗΣ ΕΤΑΙΡΙΚΟΥ ΛΟΓΑΡ...   \n4    64878281.0                                            επιταγη   \n..          ...                                                ...   \n995  64792612.0                                 ΓΙΑ ΚΑΡΝΕ ΕΠΙΤΑΓΩΝ   \n996  65731484.0  έγινε η βιντεοκλήση και ενημερώθηκε για τις δυ...   \n997  65735510.0  ζητησε πληροφοριες για να καταθεσει ποσο εκτος...   \n998  66657265.0         v-call για βεβαίωση ΜΜΥ για προγραμμα ΕΣΠΑ   \n999  66357389.0             ενημέρωση για επικαιροποίηση στοιχείων   \n\n           Source                                          tokenized  \n0    Contact Type                             ανανεωση γνωματευση οκ  \n1    Contact Type  ενημερωση υποβολη αιτήμα προεξοφληση ατοκος δο...  \n2    Contact Type              παει καταστημας εκδοση business debit  \n3    Contact Type  ζητησε αποδεικτικος τεκμηριωση εταιρικος λογαρ...  \n4    Contact Type                                            επιταγη  \n..            ...                                                ...  \n995  Contact Type                                      καρνε επιταγο  \n996  Contact Type           εγινε βιντεοκλήση ενημερωθηκε δυνατοτητα  \n997  Contact Type  ζητησε πληροφορια καταθεσω ποσο ωραριου κατ / των  \n998  Contact Type                v-call βεβαιωση μμυ προγραμμο εσπας  \n999  Contact Type                  ενημερωση επικαιροποιηση στοιχεια  \n\n[1000 rows x 4 columns]",
            "text/html": "<div>\n<style scoped>\n    .dataframe tbody tr th:only-of-type {\n        vertical-align: middle;\n    }\n\n    .dataframe tbody tr th {\n        vertical-align: top;\n    }\n\n    .dataframe thead th {\n        text-align: right;\n    }\n</style>\n<table border=\"1\" class=\"dataframe\">\n  <thead>\n    <tr style=\"text-align: right;\">\n      <th></th>\n      <th>CON_ROW_ID</th>\n      <th>CON_COMMENTS</th>\n      <th>Source</th>\n      <th>tokenized</th>\n    </tr>\n  </thead>\n  <tbody>\n    <tr>\n      <th>0</th>\n      <td>65444303.0</td>\n      <td>ανανεωση γνωματευσης οκ</td>\n      <td>Contact Type</td>\n      <td>ανανεωση γνωματευση οκ</td>\n    </tr>\n    <tr>\n      <th>1</th>\n      <td>63843091.0</td>\n      <td>ενημερωση για μη υποβολη αιτήματος ΠΡΟΕΞΟΦΛΗΣΗ...</td>\n      <td>Contact Type</td>\n      <td>ενημερωση υποβολη αιτήμα προεξοφληση ατοκος δο...</td>\n    </tr>\n    <tr>\n      <th>2</th>\n      <td>65048084.0</td>\n      <td>θα παει στο καταστημα για εκδοση Business debit</td>\n      <td>Contact Type</td>\n      <td>παει καταστημας εκδοση business debit</td>\n    </tr>\n    <tr>\n      <th>3</th>\n      <td>64958601.0</td>\n      <td>ΖΗΤΗΣΕ ΑΠΟΔΕΙΚΤΙΚΟ ΤΕΚΜΗΡΙΩΣΗΣ ΕΤΑΙΡΙΚΟΥ ΛΟΓΑΡ...</td>\n      <td>Contact Type</td>\n      <td>ζητησε αποδεικτικος τεκμηριωση εταιρικος λογαρ...</td>\n    </tr>\n    <tr>\n      <th>4</th>\n      <td>64878281.0</td>\n      <td>επιταγη</td>\n      <td>Contact Type</td>\n      <td>επιταγη</td>\n    </tr>\n    <tr>\n      <th>...</th>\n      <td>...</td>\n      <td>...</td>\n      <td>...</td>\n      <td>...</td>\n    </tr>\n    <tr>\n      <th>995</th>\n      <td>64792612.0</td>\n      <td>ΓΙΑ ΚΑΡΝΕ ΕΠΙΤΑΓΩΝ</td>\n      <td>Contact Type</td>\n      <td>καρνε επιταγο</td>\n    </tr>\n    <tr>\n      <th>996</th>\n      <td>65731484.0</td>\n      <td>έγινε η βιντεοκλήση και ενημερώθηκε για τις δυ...</td>\n      <td>Contact Type</td>\n      <td>εγινε βιντεοκλήση ενημερωθηκε δυνατοτητα</td>\n    </tr>\n    <tr>\n      <th>997</th>\n      <td>65735510.0</td>\n      <td>ζητησε πληροφοριες για να καταθεσει ποσο εκτος...</td>\n      <td>Contact Type</td>\n      <td>ζητησε πληροφορια καταθεσω ποσο ωραριου κατ / των</td>\n    </tr>\n    <tr>\n      <th>998</th>\n      <td>66657265.0</td>\n      <td>v-call για βεβαίωση ΜΜΥ για προγραμμα ΕΣΠΑ</td>\n      <td>Contact Type</td>\n      <td>v-call βεβαιωση μμυ προγραμμο εσπας</td>\n    </tr>\n    <tr>\n      <th>999</th>\n      <td>66357389.0</td>\n      <td>ενημέρωση για επικαιροποίηση στοιχείων</td>\n      <td>Contact Type</td>\n      <td>ενημερωση επικαιροποιηση στοιχεια</td>\n    </tr>\n  </tbody>\n</table>\n<p>1000 rows × 4 columns</p>\n</div>"
          },
          "metadata": {}
        }
      ],
      "execution_count": 12,
      "metadata": {
        "gather": {
          "logged": 1611916327731
        }
      }
    },
    {
      "cell_type": "code",
      "source": [
        "df = df.fillna('N/A')"
      ],
      "outputs": [],
      "execution_count": 13,
      "metadata": {
        "gather": {
          "logged": 1611916386254
        }
      }
    },
    {
      "cell_type": "code",
      "source": [
        "tfidf = TfidfVectorizer(min_df = 100,ngram_range = (1,2))"
      ],
      "outputs": [],
      "execution_count": 17,
      "metadata": {
        "gather": {
          "logged": 1611916416167
        }
      }
    },
    {
      "cell_type": "code",
      "source": [
        "tfidf_result = tfidf.fit_transform(df['tokenized']).toarray()"
      ],
      "outputs": [],
      "execution_count": 18,
      "metadata": {
        "gather": {
          "logged": 1611916420739
        }
      }
    },
    {
      "cell_type": "code",
      "source": [
        "tfidf_df = pd.DataFrame(tfidf_result, columns = tfidf.get_feature_names())"
      ],
      "outputs": [],
      "execution_count": 19,
      "metadata": {
        "gather": {
          "logged": 1611916424292
        }
      }
    },
    {
      "cell_type": "code",
      "source": [
        "tfidf_df.columns = [str(x) for x in tfidf_df.columns]"
      ],
      "outputs": [],
      "execution_count": 20,
      "metadata": {
        "gather": {
          "logged": 1611916430058
        }
      }
    },
    {
      "cell_type": "code",
      "source": [
        "df_f = pd.concat([df[['CON_ROW_ID']],tfidf_df],axis=1).melt(id_vars=['CON_ROW_ID'],value_vars = tfidf_df.columns).dropna()"
      ],
      "outputs": [],
      "execution_count": 22,
      "metadata": {
        "gather": {
          "logged": 1611916476653
        }
      }
    },
    {
      "cell_type": "code",
      "source": [
        "df_f = df_f[df_f['value']>0]"
      ],
      "outputs": [],
      "execution_count": 23,
      "metadata": {
        "gather": {
          "logged": 1611916492361
        }
      }
    },
    {
      "cell_type": "code",
      "source": [
        "#!pip install openpyxl\r\n",
        "#import openpyxl"
      ],
      "outputs": [],
      "execution_count": 29,
      "metadata": {
        "collapsed": true,
        "jupyter": {
          "source_hidden": false,
          "outputs_hidden": false
        },
        "nteract": {
          "transient": {
            "deleting": false
          }
        },
        "gather": {
          "logged": 1611916741658
        }
      }
    },
    {
      "cell_type": "code",
      "source": [
        "df_f[['CON_ROW_ID','variable']].to_excel('vBanking_tokens.xlsx',index = False)\n",
        "#df_f[df_f['value']>0].to_excel('D://Downloads//comments_tokens.xlsx')\n",
        "#df.to_excel('D://Downloads//comments_cleaned.xlsx')"
      ],
      "outputs": [],
      "execution_count": 28,
      "metadata": {
        "gather": {
          "logged": 1611916732755
        }
      }
    }
  ],
  "metadata": {
    "kernelspec": {
      "name": "python3",
      "language": "python",
      "display_name": "Python 3"
    },
    "language_info": {
      "name": "python",
      "version": "3.6.9",
      "mimetype": "text/x-python",
      "codemirror_mode": {
        "name": "ipython",
        "version": 3
      },
      "pygments_lexer": "ipython3",
      "nbconvert_exporter": "python",
      "file_extension": ".py"
    },
    "kernel_info": {
      "name": "python3"
    },
    "nteract": {
      "version": "nteract-front-end@1.0.0"
    }
  },
  "nbformat": 4,
  "nbformat_minor": 2
}