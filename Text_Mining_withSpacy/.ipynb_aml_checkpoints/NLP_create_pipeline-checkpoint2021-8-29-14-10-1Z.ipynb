{
 "cells": [
  {
   "cell_type": "code",
   "execution_count": null,
   "id": "departmental-diagnosis",
   "metadata": {},
   "outputs": [],
   "source": [
    "import azureml.core\n",
    "from azureml.core import Workspace, Datastore\n",
    "from azureml.data import OutputFileDatasetConfig\n",
    "\n",
    "ws = Workspace.from_config()"
   ]
  },
  {
   "cell_type": "code",
   "execution_count": null,
   "id": "interested-region",
   "metadata": {},
   "outputs": [],
   "source": [
    "from azureml.core.compute import ComputeTarget, AmlCompute"
   ]
  },
  {
   "cell_type": "code",
   "execution_count": null,
   "id": "advisory-violin",
   "metadata": {},
   "outputs": [],
   "source": [
    "compute_name = \"vkontogCompute\""
   ]
  },
  {
   "cell_type": "code",
   "execution_count": null,
   "id": "billion-capture",
   "metadata": {},
   "outputs": [],
   "source": [
    "# Default datastore \n",
    "#datastore= Datastore(ws, \"workspaceblobstore\")\n",
    "datastore= Datastore(ws, \"workspacefilestore\")"
   ]
  },
  {
   "cell_type": "code",
   "execution_count": null,
   "id": "seeing-amateur",
   "metadata": {},
   "outputs": [],
   "source": [
    "if compute_name in ws.compute_targets:\n",
    "    compute_target = ws.compute_targets[compute_name]\n",
    "    if compute_target and type(compute_target) is AmlCompute:\n",
    "        print('Found compute target: ' + compute_name)\n",
    "else:\n",
    "    print('Please set up a proper compute')\n"
   ]
  },
  {
   "cell_type": "code",
   "execution_count": null,
   "id": "czech-meter",
   "metadata": {},
   "outputs": [],
   "source": [
    "from azureml.core.runconfig import RunConfiguration\n",
    "from azureml.core.conda_dependencies import CondaDependencies\n",
    "from azureml.core import Environment \n",
    "\n",
    "\n",
    "aml_run_config = RunConfiguration()\n",
    "# Use just-specified compute target (\"cpu-cluster\")\n",
    "aml_run_config.target = compute_target"
   ]
  },
  {
   "cell_type": "code",
   "execution_count": null,
   "id": "electronic-philosophy",
   "metadata": {},
   "outputs": [],
   "source": [
    "aml_run_config.environment.python.conda_dependencies = CondaDependencies.create(\n",
    "    conda_packages=['pandas','scikit-learn'], \n",
    "    pip_packages=['azureml-sdk', 'azureml-dataset-runtime[fuse,pandas]',' pyarrow','openpyxl','xlrd','spacy'], \n",
    "    pin_sdk_version=False)\n",
    "\n"
   ]
  },
  {
   "cell_type": "code",
   "execution_count": null,
   "id": "arabic-nomination",
   "metadata": {},
   "outputs": [],
   "source": [
    "output_data = OutputFileDatasetConfig(destination = (datastore, 'UI/NLP/tokens'))\n",
    "output_data_dataset = output_data.register_on_complete(name = 'exported_tokens')"
   ]
  },
  {
   "cell_type": "code",
   "execution_count": null,
   "id": "armed-robin",
   "metadata": {},
   "outputs": [],
   "source": [
    "from azureml.data import OutputFileDatasetConfig\n",
    "from azureml.pipeline.steps import PythonScriptStep\n",
    "\n",
    "dataprep_step0 = PythonScriptStep(\n",
    "    name=\"Spacy_NLP_v0\", \n",
    "    script_name=\"./Text_Mining_withSpacy/pipTest.py\", \n",
    "    compute_target=compute_target, \n",
    "    runconfig=aml_run_config,\n",
    "    allow_reuse=True\n",
    ")\n",
    "\n",
    "dataprep_step1 = PythonScriptStep(\n",
    "    name=\"Spacy_NLP_v1\", \n",
    "    script_name=\"./Text_Mining_withSpacy/Spacy_NLP_on_LinkComments_v5.py\", \n",
    "    compute_target=compute_target, \n",
    "    runconfig=aml_run_config,\n",
    "    allow_reuse=True,\n",
    "    arguments=[\"--output\", output_data]\n",
    "    )"
   ]
  },
  {
   "cell_type": "code",
   "execution_count": null,
   "id": "together-liabilities",
   "metadata": {},
   "outputs": [],
   "source": [
    "from azureml.pipeline.core import Pipeline\n",
    "from azureml.core import Experiment\n",
    "\n",
    "pipeline = Pipeline(ws, [dataprep_step0,dataprep_step1])\n",
    "\n",
    "experiment = Experiment(workspace=ws, name='Link_Comments')\n",
    "\n",
    "azureml._restclient.snapshots_client.SNAPSHOT_MAX_SIZE_BYTES = 1000000000\n",
    "\n",
    "run = experiment.submit(pipeline, show_output=True)\n",
    "run.wait_for_completion()"
   ]
  }
 ],
 "metadata": {
  "kernelspec": {
   "display_name": "Python 3.6 - AzureML",
   "language": "python",
   "name": "python3-azureml"
  },
  "language_info": {
   "codemirror_mode": {
    "name": "ipython",
    "version": 3
   },
   "file_extension": ".py",
   "mimetype": "text/x-python",
   "name": "python",
   "nbconvert_exporter": "python",
   "pygments_lexer": "ipython3",
   "version": "3.6.9"
  }
 },
 "nbformat": 4,
 "nbformat_minor": 5
}
