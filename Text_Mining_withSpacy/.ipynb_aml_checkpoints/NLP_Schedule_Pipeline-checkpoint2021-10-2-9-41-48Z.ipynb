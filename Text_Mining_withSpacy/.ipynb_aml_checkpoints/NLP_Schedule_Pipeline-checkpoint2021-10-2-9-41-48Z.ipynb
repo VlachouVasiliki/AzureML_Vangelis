{
  "cells": [
    {
      "cell_type": "code",
      "source": [
        "#https://docs.microsoft.com/en-us/azure/machine-learning/how-to-trigger-published-pipeline"
      ],
      "outputs": [],
      "execution_count": null,
      "metadata": {},
      "id": "preliminary-garlic"
    },
    {
      "cell_type": "code",
      "source": [
        "import azureml.core\n",
        "from azureml.core import Workspace\n",
        "from azureml.pipeline.core import Pipeline, PublishedPipeline\n",
        "from azureml.core.experiment import Experiment\n",
        "from azureml.pipeline.core.schedule import ScheduleRecurrence, Schedule\n",
        "\n",
        "ws = Workspace.from_config()\n",
        "\n",
        "experiments = Experiment.list(ws)\n",
        "for experiment in experiments:\n",
        "    print(experiment.name)\n",
        "\n",
        "published_pipelines = PublishedPipeline.list(ws)\n",
        "for published_pipeline in  published_pipelines:\n",
        "    print(f\"{published_pipeline.name},'{published_pipeline.id}'\")\n",
        "\n",
        "experiment_name = \"Link_Comments\" \n",
        "pipeline_id = \"3f403aba-32ae-4497-b8ab-a770d1c23875\" "
      ],
      "outputs": [
        {
          "output_type": "stream",
          "name": "stdout",
          "text": "cifar10-experiment\ndiabetes-experiment\njag-autoprice\ntest-experiment\ndataset_profile\nTime_Deposits_Experiment\nTextAnalysis\nText-Analytics-Test\nvk-td-expirement\nmslearn-auto-training\nmslearn-auto-inference\nmslearn-diabetes\nlr-experiment\nLink_Comments\ntest\nmslearn-diabetes-mlflow\nXGBoost_test-experiment\nRE_exp\nRecommenderEngineDW\nMulticlassBoostedDecision\nNLP_Pipeline_Daily,'48382000-2dbb-4467-bcf7-b94cb7cef740'\nRecommenderEngineDW 10-27-2021-01-37,'f8d0e2bd-e638-4220-8f35-43138c032bad'\nRecommenderEngineDW 10-26-2021-03-52,'21fad364-d1af-43ec-a75a-d6f1ce1afe41'\n"
        }
      ],
      "execution_count": 1,
      "metadata": {
        "gather": {
          "logged": 1635843613615
        }
      },
      "id": "human-framework"
    },
    {
      "cell_type": "code",
      "source": [
        "from azureml.pipeline.core.schedule import ScheduleRecurrence, Schedule\n",
        "\n",
        "recurrence = ScheduleRecurrence(frequency=\"Hour\", interval=24)\n",
        "recurring_schedule = Schedule.create(ws, name=\"NLPRecurringSchedule\", \n",
        "                            description=\"Based on time\",\n",
        "                            pipeline_id=pipeline_id, \n",
        "                            experiment_name=experiment_name, \n",
        "                            recurrence=recurrence)"
      ],
      "outputs": [],
      "execution_count": 2,
      "metadata": {},
      "id": "greatest-proxy"
    },
    {
      "cell_type": "code",
      "source": [
        "ss = Schedule.list(ws)\n",
        "for s in ss:\n",
        "    print(s)"
      ],
      "outputs": [],
      "execution_count": 5,
      "metadata": {
        "gather": {
          "logged": 1635843694903
        }
      },
      "id": "stable-producer"
    },
    {
      "cell_type": "code",
      "source": [
        "schedule_id = '33efcb5d-314f-43d5-b5a9-4a522850a392'\n",
        "\n",
        "def stop_by_schedule_id(ws, schedule_id):\n",
        "    s = next(s for s in Schedule.list(ws) if s.id == schedule_id)\n",
        "    s.disable()\n",
        "    return s\n",
        "\n",
        "stop_by_schedule_id(ws, schedule_id)"
      ],
      "outputs": [
        {
          "output_type": "error",
          "ename": "StopIteration",
          "evalue": "",
          "traceback": [
            "\u001b[0;31m---------------------------------------------------------------------------\u001b[0m",
            "\u001b[0;31mStopIteration\u001b[0m                             Traceback (most recent call last)",
            "\u001b[0;32m<ipython-input-4-9453129f2808>\u001b[0m in \u001b[0;36m<module>\u001b[0;34m\u001b[0m\n\u001b[1;32m      6\u001b[0m     \u001b[0;32mreturn\u001b[0m \u001b[0ms\u001b[0m\u001b[0;34m\u001b[0m\u001b[0;34m\u001b[0m\u001b[0m\n\u001b[1;32m      7\u001b[0m \u001b[0;34m\u001b[0m\u001b[0m\n\u001b[0;32m----> 8\u001b[0;31m \u001b[0mstop_by_schedule_id\u001b[0m\u001b[0;34m(\u001b[0m\u001b[0mws\u001b[0m\u001b[0;34m,\u001b[0m \u001b[0mschedule_id\u001b[0m\u001b[0;34m)\u001b[0m\u001b[0;34m\u001b[0m\u001b[0;34m\u001b[0m\u001b[0m\n\u001b[0m",
            "\u001b[0;32m<ipython-input-4-9453129f2808>\u001b[0m in \u001b[0;36mstop_by_schedule_id\u001b[0;34m(ws, schedule_id)\u001b[0m\n\u001b[1;32m      2\u001b[0m \u001b[0;34m\u001b[0m\u001b[0m\n\u001b[1;32m      3\u001b[0m \u001b[0;32mdef\u001b[0m \u001b[0mstop_by_schedule_id\u001b[0m\u001b[0;34m(\u001b[0m\u001b[0mws\u001b[0m\u001b[0;34m,\u001b[0m \u001b[0mschedule_id\u001b[0m\u001b[0;34m)\u001b[0m\u001b[0;34m:\u001b[0m\u001b[0;34m\u001b[0m\u001b[0;34m\u001b[0m\u001b[0m\n\u001b[0;32m----> 4\u001b[0;31m     \u001b[0ms\u001b[0m \u001b[0;34m=\u001b[0m \u001b[0mnext\u001b[0m\u001b[0;34m(\u001b[0m\u001b[0ms\u001b[0m \u001b[0;32mfor\u001b[0m \u001b[0ms\u001b[0m \u001b[0;32min\u001b[0m \u001b[0mSchedule\u001b[0m\u001b[0;34m.\u001b[0m\u001b[0mlist\u001b[0m\u001b[0;34m(\u001b[0m\u001b[0mws\u001b[0m\u001b[0;34m)\u001b[0m \u001b[0;32mif\u001b[0m \u001b[0ms\u001b[0m\u001b[0;34m.\u001b[0m\u001b[0mid\u001b[0m \u001b[0;34m==\u001b[0m \u001b[0mschedule_id\u001b[0m\u001b[0;34m)\u001b[0m\u001b[0;34m\u001b[0m\u001b[0;34m\u001b[0m\u001b[0m\n\u001b[0m\u001b[1;32m      5\u001b[0m     \u001b[0ms\u001b[0m\u001b[0;34m.\u001b[0m\u001b[0mdisable\u001b[0m\u001b[0;34m(\u001b[0m\u001b[0;34m)\u001b[0m\u001b[0;34m\u001b[0m\u001b[0;34m\u001b[0m\u001b[0m\n\u001b[1;32m      6\u001b[0m     \u001b[0;32mreturn\u001b[0m \u001b[0ms\u001b[0m\u001b[0;34m\u001b[0m\u001b[0;34m\u001b[0m\u001b[0m\n",
            "\u001b[0;31mStopIteration\u001b[0m: "
          ]
        }
      ],
      "execution_count": 4,
      "metadata": {},
      "id": "norman-fusion"
    }
  ],
  "metadata": {
    "kernelspec": {
      "name": "python3-azureml",
      "language": "python",
      "display_name": "Python 3.6 - AzureML"
    },
    "language_info": {
      "name": "python",
      "version": "3.6.9",
      "mimetype": "text/x-python",
      "codemirror_mode": {
        "name": "ipython",
        "version": 3
      },
      "pygments_lexer": "ipython3",
      "nbconvert_exporter": "python",
      "file_extension": ".py"
    },
    "kernel_info": {
      "name": "python3-azureml"
    },
    "nteract": {
      "version": "nteract-front-end@1.0.0"
    }
  },
  "nbformat": 4,
  "nbformat_minor": 5
}