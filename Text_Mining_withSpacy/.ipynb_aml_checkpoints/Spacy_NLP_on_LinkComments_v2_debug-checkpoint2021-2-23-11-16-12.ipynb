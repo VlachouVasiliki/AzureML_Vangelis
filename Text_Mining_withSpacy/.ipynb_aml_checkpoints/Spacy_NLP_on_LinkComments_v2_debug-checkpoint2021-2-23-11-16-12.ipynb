{
  "cells": [
    {
      "cell_type": "markdown",
      "source": [
        "https://prrao87.github.io/blog/spacy/nlp/performance/2020/05/02/spacy-multiprocess.html\r\n",
        "\r\n"
      ],
      "metadata": {
        "nteract": {
          "transient": {
            "deleting": false
          }
        }
      }
    },
    {
      "cell_type": "markdown",
      "source": [
        "Uncommend and run the following pip & python commands when running a new compute for the <b> first</b> time! "
      ],
      "metadata": {
        "nteract": {
          "transient": {
            "deleting": false
          }
        }
      }
    },
    {
      "cell_type": "code",
      "source": [
        "#!python -m spacy download el_core_news_sm\r\n",
        "#!pip install pyarrow --upgrade\r\n",
        "#!pip install openpyxl\r\n",
        "#!pip install xlrd"
      ],
      "outputs": [],
      "execution_count": 122,
      "metadata": {
        "collapsed": true,
        "jupyter": {
          "source_hidden": false,
          "outputs_hidden": false
        },
        "nteract": {
          "transient": {
            "deleting": false
          }
        },
        "gather": {
          "logged": 1616410189884
        }
      }
    },
    {
      "cell_type": "code",
      "source": [
        "import spacy\n",
        "import el_core_news_sm\n",
        "import string\n",
        "import pandas as pd\n",
        "import re\n",
        "from sklearn.feature_extraction.text import TfidfVectorizer"
      ],
      "outputs": [],
      "execution_count": 123,
      "metadata": {
        "gather": {
          "logged": 1616410189990
        }
      }
    },
    {
      "cell_type": "code",
      "source": [
        "from spacy.lang.el import GreekLemmatizer"
      ],
      "outputs": [],
      "execution_count": 124,
      "metadata": {
        "gather": {
          "logged": 1616410190090
        }
      }
    },
    {
      "cell_type": "code",
      "source": [
        "from spacy.lang.el import LEMMA_INDEX, LEMMA_EXC, LEMMA_RULES"
      ],
      "outputs": [],
      "execution_count": 125,
      "metadata": {
        "gather": {
          "logged": 1616410190194
        }
      }
    },
    {
      "cell_type": "code",
      "source": [
        "nlp =spacy.load('el_core_news_sm', disable=['tagger', 'parser', 'ner'])\r\n"
      ],
      "outputs": [],
      "execution_count": 126,
      "metadata": {
        "gather": {
          "logged": 1616410190295
        }
      }
    },
    {
      "cell_type": "code",
      "source": [
        "lemmatizer = GreekLemmatizer(LEMMA_INDEX, LEMMA_EXC, LEMMA_RULES)"
      ],
      "outputs": [],
      "execution_count": 127,
      "metadata": {
        "gather": {
          "logged": 1616410190398
        }
      }
    },
    {
      "cell_type": "code",
      "source": [
        "p1 = re.compile('δεν απαντ.{1,3}\\s{0,1}',re.IGNORECASE)\r\n",
        "p2 = re.compile('\\sδα\\s',re.IGNORECASE)\r\n",
        "p3 = re.compile('δε.{0,1}\\s.{0,3}\\s{0,1}βρ.{1,2}κ.\\s{0,1}',re.IGNORECASE)\r\n",
        "p4 = re.compile('[^\\d]?\\d{10}')\r\n",
        "p5 = re.compile('[^\\d]?\\d{18}|[^\\d]\\d{20}')\r\n",
        "p6 = re.compile('δε[ ν]{0,1} (επιθυμ[α-ω]{2,4}?|ηθελ[α-ω]{1,3}?|θελ[α-ω]{1,4}|.{0,10}ενδιαφερ[α-ω]{2,4})',re.IGNORECASE)\r\n",
        "p7 = re.compile('δε[ ν]{0,1} (μπορ[α-ω]{2,5}|.εχει)',re.IGNORECASE)"
      ],
      "outputs": [],
      "execution_count": 128,
      "metadata": {
        "collapsed": true,
        "jupyter": {
          "source_hidden": false,
          "outputs_hidden": false
        },
        "nteract": {
          "transient": {
            "deleting": false
          }
        },
        "gather": {
          "logged": 1616410190501
        }
      }
    },
    {
      "cell_type": "code",
      "source": [
        "def loadStopWords():\n",
        "    sWords = open('stopWords.txt','r',encoding='utf-8')\n",
        "    sw = set(sWords.read().split('\\n'))\n",
        "    #sw = sw.remove('μη')\n",
        "    sWords.close()\n",
        "    return sw"
      ],
      "outputs": [],
      "execution_count": 129,
      "metadata": {
        "gather": {
          "logged": 1616410190614
        }
      }
    },
    {
      "cell_type": "code",
      "source": [
        "def replaceTerm(text):\r\n",
        "    text = p5.sub(' λογαριασμός ',text)\r\n",
        "    text = p4.sub(' τηλεφωνο ',text)\r\n",
        "    text = p6.sub(' δενθελειδενενδιαφερεται ',text)\r\n",
        "    text = p7.sub(' δενεχειδενμπορει ',text)\r\n",
        "    text = text.replace('-banking','banking')\r\n",
        "    text = text.replace('v banking','vbanking')\r\n",
        "    text = text.replace('e banking','ebanking')\r\n",
        "    text = text.replace('follow up','followup')\r\n",
        "    text = text.replace('safe drive','safedrive')\r\n",
        "    text = text.replace('safe pocket','safepocket')\r\n",
        "    text = text.replace('sweet home','sweethome')\r\n",
        "    text = text.replace('credit card','creditcard')\r\n",
        "    text = text.replace('debit card','debitcard')\r\n",
        "    text = text.replace('life cycle','lifecycle')\r\n",
        "    text = text.replace('eξασφαλιζω','εξασφαλιζω')\r\n",
        "    text = text.replace('π/κ','πκ')\r\n",
        "    text = text.replace('td','πκ')\r\n",
        "    text = text.replace('α/κ','ακ')\r\n",
        "    text = text.replace('δ/α','δεναπαντα ')\r\n",
        "    #τδ\r\n",
        "    text = p1.sub(' δεναπαντα ',text)\r\n",
        "    text = p2.sub(' δεναπαντα ',text)\r\n",
        "    text = p3.sub(' δεντονβρηκα ',text)\r\n",
        "    return text\r\n"
      ],
      "outputs": [],
      "execution_count": 130,
      "metadata": {
        "collapsed": true,
        "jupyter": {
          "source_hidden": false,
          "outputs_hidden": false
        },
        "nteract": {
          "transient": {
            "deleting": false
          }
        },
        "gather": {
          "logged": 1616410190728
        }
      }
    },
    {
      "cell_type": "code",
      "source": [
        "#sw = nlp.Defaults.stop_words\n",
        "#sw = sw|{'εχω','απο','ωστε'}\n",
        "sw = loadStopWords()\n",
        "def remove_ton(text):\n",
        "    diction = {'ά':'α','έ':'ε','ί':'ι','ό':'ο','ώ':'ω','ύ':'υ'}\n",
        "    for key in diction.keys():\n",
        "        text = text.replace(key, diction[key])\n",
        "    return text   \n",
        "def clean_text(text):\n",
        "     #text to string\n",
        "    text = str(text).lower()\n",
        "    text = replaceTerm(text)\n",
        "    \n",
        "   # tokenize text and remove puncutation\n",
        "    text = [word.strip(string.punctuation) for word in text.split(\" \")]\n",
        "    # lower text\n",
        "    text = [remove_ton(x) for x in text]\n",
        "    # remove stop words\n",
        "    text = [x for x in text if x not in sw]\n",
        " \n",
        "    #remove quotes\n",
        "    text = [x.replace('quot;','').replace('&quot','') for x in text if x not in {'quot','amp'}]\n",
        "    # remove words that contain numbers\n",
        "    text = [word for word in text if not any(c.isdigit() for c in word)]\n",
        "    # remove empty tokens\n",
        "    text = [t for t in text if len(t) > 0]\n",
        "    # remove amp & quot\n",
        "    text = [x for x in text if x not in ['quot','amp']]\n",
        "    # remove words with only one letter\n",
        "    text = \" \".join([t for t in text if len(t) > 1])\n",
        "     # lemmatize text\n",
        "    text = \" \".join([lemmatizer(t.text,t.pos_)[0] for t in nlp(text)])\n",
        "   \n",
        "    return(text)"
      ],
      "outputs": [],
      "execution_count": 131,
      "metadata": {
        "gather": {
          "logged": 1616410190919
        }
      }
    },
    {
      "cell_type": "code",
      "source": [
        "def correct(x,corDict):\r\n",
        "    if x in corDict.keys():\r\n",
        "        y = corDict[x]\r\n",
        "    else:\r\n",
        "        y = x\r\n",
        "    return y    "
      ],
      "outputs": [],
      "execution_count": 132,
      "metadata": {
        "collapsed": true,
        "jupyter": {
          "source_hidden": false,
          "outputs_hidden": false
        },
        "nteract": {
          "transient": {
            "deleting": false
          }
        },
        "gather": {
          "logged": 1616410191247
        }
      }
    },
    {
      "cell_type": "code",
      "source": [
        "def get_ngrams(idf,mindf,minngram,maxngram):\r\n",
        "    tfidf = TfidfVectorizer(min_df = mindf,ngram_range = (minngram,maxngram))\r\n",
        "    tfidf_result = tfidf.fit_transform(idf['tokenized']).toarray()\r\n",
        "    tfidf_df = pd.DataFrame(tfidf_result, columns = tfidf.get_feature_names())\r\n",
        "    tfidf_df.columns = [str(x) for x in tfidf_df.columns]\r\n",
        "    df_i = pd.concat([df[['CON_ROW_ID']],tfidf_df],axis=1).melt(id_vars=['CON_ROW_ID'],value_vars = tfidf_df.columns).dropna()\r\n",
        "    df_i = df_i[df_i['value']>0]\r\n",
        "    return df_i"
      ],
      "outputs": [],
      "execution_count": 133,
      "metadata": {
        "collapsed": true,
        "jupyter": {
          "source_hidden": false,
          "outputs_hidden": false
        },
        "nteract": {
          "transient": {
            "deleting": false
          }
        },
        "gather": {
          "logged": 1616410191356
        }
      }
    },
    {
      "cell_type": "code",
      "source": [
        "def cleanComments(df):\r\n",
        "    df = df[['CON_ROW_ID','CON_COMMENTS']]\r\n",
        "    df['tokenized'] = df['CON_COMMENTS'].apply(clean_text)\r\n",
        "    df = df.fillna('N/A')\r\n",
        "    df['variable'] = df['tokenized'].str.split()\r\n",
        "    return df"
      ],
      "outputs": [],
      "execution_count": 134,
      "metadata": {
        "collapsed": true,
        "jupyter": {
          "source_hidden": false,
          "outputs_hidden": false
        },
        "nteract": {
          "transient": {
            "deleting": false
          }
        },
        "gather": {
          "logged": 1616410191467
        }
      }
    },
    {
      "cell_type": "code",
      "source": [
        "def getTokens(df):\r\n",
        "    df = cleanComments(df)\r\n",
        "    df_f = df.explode('variable')[['CON_ROW_ID','variable']]\r\n",
        "    return df_f\r\n"
      ],
      "outputs": [],
      "execution_count": 135,
      "metadata": {
        "collapsed": true,
        "jupyter": {
          "source_hidden": false,
          "outputs_hidden": false
        },
        "nteract": {
          "transient": {
            "deleting": false
          }
        },
        "gather": {
          "logged": 1616410191572
        }
      }
    },
    {
      "cell_type": "code",
      "source": [
        "def getTokencount(df_f,minCount):\r\n",
        "    tokenCount = df_f['variable'].value_counts().to_dict()\r\n",
        "    df_f['value'] = df_f['variable'].map(tokenCount)\r\n",
        "    df_f=df_f[df_f['value']>minCount] \r\n",
        "    return df_f"
      ],
      "outputs": [],
      "execution_count": 162,
      "metadata": {
        "collapsed": true,
        "jupyter": {
          "source_hidden": false,
          "outputs_hidden": false
        },
        "nteract": {
          "transient": {
            "deleting": false
          }
        },
        "gather": {
          "logged": 1616410811261
        }
      }
    },
    {
      "cell_type": "code",
      "source": [
        "txt = 'ΟΚ ΕΠΙΚΟΙΝΩΝΙΑ ΣΤΟ 2810 289068...ΔΕΝ ΕΧΕΙ ΝΑ ΠΛΗΡΩΣΕΙ ΤΟ ΚΙΝΗΤΟ ΓΙ ΑΥΤΟ Η ΦΡΑΓΗ...ΑΝΑΜΕΝΕΙ ΑΠΟ ΤΟΝ 08/2019 ΑΠΟΦΑΣΗ ΓΙΑ ΕΠΙΔΟΜΑ ΑΝΑΠΗΡΙΑΣ...ΜΕΧΡΙ 02/2020 ΘΑ ΚΑΤΑΒΛΗΘΟΥΝ ΣΕ ΛΟΓ/ΣΜΟ ΤΗΣ EUROBANK ΤΑ ΑΝΑΔΡΟΜΙΚΑ ΟΠΟΤΕ ΚΑΙ ΘΑ ΤΑΚΤΟΠΟΙΗΘΟΥΝ ΟΛΑ ΤΑ ΛΗΞΗΠΡΟΘΕΣΜΑ...ΔΕΝ ΥΠΑΡΧΕΙ ΔΥΝΑΤΟΤΗΤΑ ΑΛΛΗΣ ΚΤΘΣ ΓΙΑ 12/2019..ΟΚ ΕΝΗΜΕΡΩΣΗ ΚΑΙ ΓΙΑ ΔΙΚΑΙΟΛΟΓΗΤΙΚΑ ΡΥΘΜΙΣΗΣ...ΘΑ ΤΑ ΠΡΟΣΚΟΜΙΣΕΙ ΚΑΠΟΙΟ ΠΑΙΔΙ!!!!/////////////ΟΚ ΚΑΤΑΒΟΛΗ 02/01/2020'"
      ],
      "outputs": [],
      "execution_count": 215,
      "metadata": {
        "collapsed": true,
        "jupyter": {
          "source_hidden": false,
          "outputs_hidden": false
        },
        "nteract": {
          "transient": {
            "deleting": false
          }
        },
        "gather": {
          "logged": 1616411290139
        }
      }
    },
    {
      "cell_type": "code",
      "source": [
        "com = {'CON_ROW_ID':[1],'CON_COMMENTS':[txt]}"
      ],
      "outputs": [],
      "execution_count": 216,
      "metadata": {
        "collapsed": true,
        "jupyter": {
          "source_hidden": false,
          "outputs_hidden": false
        },
        "nteract": {
          "transient": {
            "deleting": false
          }
        },
        "gather": {
          "logged": 1616411292618
        }
      }
    },
    {
      "cell_type": "code",
      "source": [
        "df = pd.DataFrame(com)"
      ],
      "outputs": [],
      "execution_count": 217,
      "metadata": {
        "collapsed": true,
        "jupyter": {
          "source_hidden": false,
          "outputs_hidden": false
        },
        "nteract": {
          "transient": {
            "deleting": false
          }
        },
        "gather": {
          "logged": 1616411295066
        }
      }
    },
    {
      "cell_type": "code",
      "source": [
        "df.head()"
      ],
      "outputs": [
        {
          "output_type": "execute_result",
          "execution_count": 218,
          "data": {
            "text/plain": "   CON_ROW_ID                                       CON_COMMENTS\n0           1  ΟΚ ΕΠΙΚΟΙΝΩΝΙΑ ΣΤΟ 2810 289068...ΔΕΝ ΕΧΕΙ ΝΑ Π...",
            "text/html": "<div>\n<style scoped>\n    .dataframe tbody tr th:only-of-type {\n        vertical-align: middle;\n    }\n\n    .dataframe tbody tr th {\n        vertical-align: top;\n    }\n\n    .dataframe thead th {\n        text-align: right;\n    }\n</style>\n<table border=\"1\" class=\"dataframe\">\n  <thead>\n    <tr style=\"text-align: right;\">\n      <th></th>\n      <th>CON_ROW_ID</th>\n      <th>CON_COMMENTS</th>\n    </tr>\n  </thead>\n  <tbody>\n    <tr>\n      <th>0</th>\n      <td>1</td>\n      <td>ΟΚ ΕΠΙΚΟΙΝΩΝΙΑ ΣΤΟ 2810 289068...ΔΕΝ ΕΧΕΙ ΝΑ Π...</td>\n    </tr>\n  </tbody>\n</table>\n</div>"
          },
          "metadata": {}
        }
      ],
      "execution_count": 218,
      "metadata": {
        "collapsed": true,
        "jupyter": {
          "source_hidden": false,
          "outputs_hidden": false
        },
        "nteract": {
          "transient": {
            "deleting": false
          }
        },
        "gather": {
          "logged": 1616411297325
        }
      }
    },
    {
      "cell_type": "code",
      "source": [
        "df = cleanComments(df)"
      ],
      "outputs": [],
      "execution_count": 219,
      "metadata": {
        "collapsed": true,
        "jupyter": {
          "source_hidden": false,
          "outputs_hidden": false
        },
        "nteract": {
          "transient": {
            "deleting": false
          }
        },
        "gather": {
          "logged": 1616411301738
        }
      }
    },
    {
      "cell_type": "code",
      "source": [
        "df.head()"
      ],
      "outputs": [
        {
          "output_type": "execute_result",
          "execution_count": 220,
          "data": {
            "text/plain": "   CON_ROW_ID                                       CON_COMMENTS  \\\n0           1  ΟΚ ΕΠΙΚΟΙΝΩΝΙΑ ΣΤΟ 2810 289068...ΔΕΝ ΕΧΕΙ ΝΑ Π...   \n\n                                           tokenized  \\\n0  οκ επικοινωνια πληρωσει κινητο φραγη ... αναμε...   \n\n                                            variable  \n0  [οκ, επικοινωνια, πληρωσει, κινητο, φραγη, ......  ",
            "text/html": "<div>\n<style scoped>\n    .dataframe tbody tr th:only-of-type {\n        vertical-align: middle;\n    }\n\n    .dataframe tbody tr th {\n        vertical-align: top;\n    }\n\n    .dataframe thead th {\n        text-align: right;\n    }\n</style>\n<table border=\"1\" class=\"dataframe\">\n  <thead>\n    <tr style=\"text-align: right;\">\n      <th></th>\n      <th>CON_ROW_ID</th>\n      <th>CON_COMMENTS</th>\n      <th>tokenized</th>\n      <th>variable</th>\n    </tr>\n  </thead>\n  <tbody>\n    <tr>\n      <th>0</th>\n      <td>1</td>\n      <td>ΟΚ ΕΠΙΚΟΙΝΩΝΙΑ ΣΤΟ 2810 289068...ΔΕΝ ΕΧΕΙ ΝΑ Π...</td>\n      <td>οκ επικοινωνια πληρωσει κινητο φραγη ... αναμε...</td>\n      <td>[οκ, επικοινωνια, πληρωσει, κινητο, φραγη, ......</td>\n    </tr>\n  </tbody>\n</table>\n</div>"
          },
          "metadata": {}
        }
      ],
      "execution_count": 220,
      "metadata": {
        "collapsed": true,
        "jupyter": {
          "source_hidden": false,
          "outputs_hidden": false
        },
        "nteract": {
          "transient": {
            "deleting": false
          }
        },
        "gather": {
          "logged": 1616411304474
        }
      }
    },
    {
      "cell_type": "code",
      "source": [
        "df_f = getTokens(df)"
      ],
      "outputs": [
        {
          "output_type": "stream",
          "name": "stderr",
          "text": [
            "/anaconda/envs/azureml_py36/lib/python3.6/site-packages/ipykernel_launcher.py:3: SettingWithCopyWarning: \n",
            "A value is trying to be set on a copy of a slice from a DataFrame.\n",
            "Try using .loc[row_indexer,col_indexer] = value instead\n",
            "\n",
            "See the caveats in the documentation: http://pandas.pydata.org/pandas-docs/stable/user_guide/indexing.html#returning-a-view-versus-a-copy\n",
            "  This is separate from the ipykernel package so we can avoid doing imports until\n"
          ]
        }
      ],
      "execution_count": 221,
      "metadata": {
        "collapsed": true,
        "jupyter": {
          "source_hidden": false,
          "outputs_hidden": false
        },
        "nteract": {
          "transient": {
            "deleting": false
          }
        },
        "gather": {
          "logged": 1616411321365
        }
      }
    },
    {
      "cell_type": "code",
      "source": [
        "df_f.head()"
      ],
      "outputs": [
        {
          "output_type": "execute_result",
          "execution_count": 222,
          "data": {
            "text/plain": "   CON_ROW_ID     variable\n0           1           οκ\n0           1  επικοινωνια\n0           1     πληρωσει\n0           1       κινητο\n0           1        φραγη",
            "text/html": "<div>\n<style scoped>\n    .dataframe tbody tr th:only-of-type {\n        vertical-align: middle;\n    }\n\n    .dataframe tbody tr th {\n        vertical-align: top;\n    }\n\n    .dataframe thead th {\n        text-align: right;\n    }\n</style>\n<table border=\"1\" class=\"dataframe\">\n  <thead>\n    <tr style=\"text-align: right;\">\n      <th></th>\n      <th>CON_ROW_ID</th>\n      <th>variable</th>\n    </tr>\n  </thead>\n  <tbody>\n    <tr>\n      <th>0</th>\n      <td>1</td>\n      <td>οκ</td>\n    </tr>\n    <tr>\n      <th>0</th>\n      <td>1</td>\n      <td>επικοινωνια</td>\n    </tr>\n    <tr>\n      <th>0</th>\n      <td>1</td>\n      <td>πληρωσει</td>\n    </tr>\n    <tr>\n      <th>0</th>\n      <td>1</td>\n      <td>κινητο</td>\n    </tr>\n    <tr>\n      <th>0</th>\n      <td>1</td>\n      <td>φραγη</td>\n    </tr>\n  </tbody>\n</table>\n</div>"
          },
          "metadata": {}
        }
      ],
      "execution_count": 222,
      "metadata": {
        "collapsed": true,
        "jupyter": {
          "source_hidden": false,
          "outputs_hidden": false
        },
        "nteract": {
          "transient": {
            "deleting": false
          }
        },
        "gather": {
          "logged": 1616411326724
        }
      }
    },
    {
      "cell_type": "code",
      "source": [
        "    tokenCount = df_f['variable'].value_counts().to_dict()\r\n",
        "    "
      ],
      "outputs": [],
      "execution_count": 223,
      "metadata": {
        "collapsed": true,
        "jupyter": {
          "source_hidden": false,
          "outputs_hidden": false
        },
        "nteract": {
          "transient": {
            "deleting": false
          }
        },
        "gather": {
          "logged": 1616411332866
        }
      }
    },
    {
      "cell_type": "code",
      "source": [
        "df_f.head()"
      ],
      "outputs": [
        {
          "output_type": "execute_result",
          "execution_count": 224,
          "data": {
            "text/plain": "   CON_ROW_ID     variable\n0           1           οκ\n0           1  επικοινωνια\n0           1     πληρωσει\n0           1       κινητο\n0           1        φραγη",
            "text/html": "<div>\n<style scoped>\n    .dataframe tbody tr th:only-of-type {\n        vertical-align: middle;\n    }\n\n    .dataframe tbody tr th {\n        vertical-align: top;\n    }\n\n    .dataframe thead th {\n        text-align: right;\n    }\n</style>\n<table border=\"1\" class=\"dataframe\">\n  <thead>\n    <tr style=\"text-align: right;\">\n      <th></th>\n      <th>CON_ROW_ID</th>\n      <th>variable</th>\n    </tr>\n  </thead>\n  <tbody>\n    <tr>\n      <th>0</th>\n      <td>1</td>\n      <td>οκ</td>\n    </tr>\n    <tr>\n      <th>0</th>\n      <td>1</td>\n      <td>επικοινωνια</td>\n    </tr>\n    <tr>\n      <th>0</th>\n      <td>1</td>\n      <td>πληρωσει</td>\n    </tr>\n    <tr>\n      <th>0</th>\n      <td>1</td>\n      <td>κινητο</td>\n    </tr>\n    <tr>\n      <th>0</th>\n      <td>1</td>\n      <td>φραγη</td>\n    </tr>\n  </tbody>\n</table>\n</div>"
          },
          "metadata": {}
        }
      ],
      "execution_count": 224,
      "metadata": {
        "collapsed": true,
        "jupyter": {
          "source_hidden": false,
          "outputs_hidden": false
        },
        "nteract": {
          "transient": {
            "deleting": false
          }
        },
        "gather": {
          "logged": 1616411338037
        }
      }
    },
    {
      "cell_type": "code",
      "source": [
        "df_f['value'] = df_f['variable'].map(tokenCount)\r\n"
      ],
      "outputs": [],
      "execution_count": 225,
      "metadata": {
        "collapsed": true,
        "jupyter": {
          "source_hidden": false,
          "outputs_hidden": false
        },
        "nteract": {
          "transient": {
            "deleting": false
          }
        },
        "gather": {
          "logged": 1616411349517
        }
      }
    },
    {
      "cell_type": "code",
      "source": [
        "df_f.head()"
      ],
      "outputs": [
        {
          "output_type": "execute_result",
          "execution_count": 226,
          "data": {
            "text/plain": "   CON_ROW_ID     variable  value\n0           1           οκ      1\n0           1  επικοινωνια      1\n0           1     πληρωσει      1\n0           1       κινητο      1\n0           1        φραγη      1",
            "text/html": "<div>\n<style scoped>\n    .dataframe tbody tr th:only-of-type {\n        vertical-align: middle;\n    }\n\n    .dataframe tbody tr th {\n        vertical-align: top;\n    }\n\n    .dataframe thead th {\n        text-align: right;\n    }\n</style>\n<table border=\"1\" class=\"dataframe\">\n  <thead>\n    <tr style=\"text-align: right;\">\n      <th></th>\n      <th>CON_ROW_ID</th>\n      <th>variable</th>\n      <th>value</th>\n    </tr>\n  </thead>\n  <tbody>\n    <tr>\n      <th>0</th>\n      <td>1</td>\n      <td>οκ</td>\n      <td>1</td>\n    </tr>\n    <tr>\n      <th>0</th>\n      <td>1</td>\n      <td>επικοινωνια</td>\n      <td>1</td>\n    </tr>\n    <tr>\n      <th>0</th>\n      <td>1</td>\n      <td>πληρωσει</td>\n      <td>1</td>\n    </tr>\n    <tr>\n      <th>0</th>\n      <td>1</td>\n      <td>κινητο</td>\n      <td>1</td>\n    </tr>\n    <tr>\n      <th>0</th>\n      <td>1</td>\n      <td>φραγη</td>\n      <td>1</td>\n    </tr>\n  </tbody>\n</table>\n</div>"
          },
          "metadata": {}
        }
      ],
      "execution_count": 226,
      "metadata": {
        "collapsed": true,
        "jupyter": {
          "source_hidden": false,
          "outputs_hidden": false
        },
        "nteract": {
          "transient": {
            "deleting": false
          }
        },
        "gather": {
          "logged": 1616411354397
        }
      }
    },
    {
      "cell_type": "code",
      "source": [
        "df_f=df_f[df_f['value']>0] "
      ],
      "outputs": [],
      "execution_count": 227,
      "metadata": {
        "collapsed": true,
        "jupyter": {
          "source_hidden": false,
          "outputs_hidden": false
        },
        "nteract": {
          "transient": {
            "deleting": false
          }
        },
        "gather": {
          "logged": 1616411370625
        }
      }
    },
    {
      "cell_type": "code",
      "source": [
        "df_f.head()"
      ],
      "outputs": [
        {
          "output_type": "execute_result",
          "execution_count": 228,
          "data": {
            "text/plain": "   CON_ROW_ID     variable  value\n0           1           οκ      1\n0           1  επικοινωνια      1\n0           1     πληρωσει      1\n0           1       κινητο      1\n0           1        φραγη      1",
            "text/html": "<div>\n<style scoped>\n    .dataframe tbody tr th:only-of-type {\n        vertical-align: middle;\n    }\n\n    .dataframe tbody tr th {\n        vertical-align: top;\n    }\n\n    .dataframe thead th {\n        text-align: right;\n    }\n</style>\n<table border=\"1\" class=\"dataframe\">\n  <thead>\n    <tr style=\"text-align: right;\">\n      <th></th>\n      <th>CON_ROW_ID</th>\n      <th>variable</th>\n      <th>value</th>\n    </tr>\n  </thead>\n  <tbody>\n    <tr>\n      <th>0</th>\n      <td>1</td>\n      <td>οκ</td>\n      <td>1</td>\n    </tr>\n    <tr>\n      <th>0</th>\n      <td>1</td>\n      <td>επικοινωνια</td>\n      <td>1</td>\n    </tr>\n    <tr>\n      <th>0</th>\n      <td>1</td>\n      <td>πληρωσει</td>\n      <td>1</td>\n    </tr>\n    <tr>\n      <th>0</th>\n      <td>1</td>\n      <td>κινητο</td>\n      <td>1</td>\n    </tr>\n    <tr>\n      <th>0</th>\n      <td>1</td>\n      <td>φραγη</td>\n      <td>1</td>\n    </tr>\n  </tbody>\n</table>\n</div>"
          },
          "metadata": {}
        }
      ],
      "execution_count": 228,
      "metadata": {
        "collapsed": true,
        "jupyter": {
          "source_hidden": false,
          "outputs_hidden": false
        },
        "nteract": {
          "transient": {
            "deleting": false
          }
        },
        "gather": {
          "logged": 1616411374016
        }
      }
    },
    {
      "cell_type": "code",
      "source": [
        "df_f.head()"
      ],
      "outputs": [
        {
          "output_type": "execute_result",
          "execution_count": 229,
          "data": {
            "text/plain": "   CON_ROW_ID     variable  value\n0           1           οκ      1\n0           1  επικοινωνια      1\n0           1     πληρωσει      1\n0           1       κινητο      1\n0           1        φραγη      1",
            "text/html": "<div>\n<style scoped>\n    .dataframe tbody tr th:only-of-type {\n        vertical-align: middle;\n    }\n\n    .dataframe tbody tr th {\n        vertical-align: top;\n    }\n\n    .dataframe thead th {\n        text-align: right;\n    }\n</style>\n<table border=\"1\" class=\"dataframe\">\n  <thead>\n    <tr style=\"text-align: right;\">\n      <th></th>\n      <th>CON_ROW_ID</th>\n      <th>variable</th>\n      <th>value</th>\n    </tr>\n  </thead>\n  <tbody>\n    <tr>\n      <th>0</th>\n      <td>1</td>\n      <td>οκ</td>\n      <td>1</td>\n    </tr>\n    <tr>\n      <th>0</th>\n      <td>1</td>\n      <td>επικοινωνια</td>\n      <td>1</td>\n    </tr>\n    <tr>\n      <th>0</th>\n      <td>1</td>\n      <td>πληρωσει</td>\n      <td>1</td>\n    </tr>\n    <tr>\n      <th>0</th>\n      <td>1</td>\n      <td>κινητο</td>\n      <td>1</td>\n    </tr>\n    <tr>\n      <th>0</th>\n      <td>1</td>\n      <td>φραγη</td>\n      <td>1</td>\n    </tr>\n  </tbody>\n</table>\n</div>"
          },
          "metadata": {}
        }
      ],
      "execution_count": 229,
      "metadata": {
        "collapsed": true,
        "jupyter": {
          "source_hidden": false,
          "outputs_hidden": false
        },
        "nteract": {
          "transient": {
            "deleting": false
          }
        },
        "gather": {
          "logged": 1616411380187
        }
      }
    },
    {
      "cell_type": "code",
      "source": [
        "corDict = dict(pd.read_excel(\"corTokens.xls\").to_dict(\"split\")['data'])"
      ],
      "outputs": [],
      "execution_count": 230,
      "metadata": {
        "collapsed": true,
        "jupyter": {
          "source_hidden": false,
          "outputs_hidden": false
        },
        "nteract": {
          "transient": {
            "deleting": false
          }
        },
        "gather": {
          "logged": 1616411384706
        }
      }
    },
    {
      "cell_type": "code",
      "source": [
        "df_f['token'] = df_f['variable'].apply(lambda x : correct(x,corDict))"
      ],
      "outputs": [],
      "execution_count": 231,
      "metadata": {
        "collapsed": true,
        "jupyter": {
          "source_hidden": false,
          "outputs_hidden": false
        },
        "nteract": {
          "transient": {
            "deleting": false
          }
        },
        "gather": {
          "logged": 1616411388883
        }
      }
    },
    {
      "cell_type": "code",
      "source": [
        "df_f.head()"
      ],
      "outputs": [
        {
          "output_type": "execute_result",
          "execution_count": 232,
          "data": {
            "text/plain": "   CON_ROW_ID     variable  value        token\n0           1           οκ      1           ok\n0           1  επικοινωνια      1  επικοινωνια\n0           1     πληρωσει      1      πληρωμη\n0           1       κινητο      1       κινητο\n0           1        φραγη      1        φραγη",
            "text/html": "<div>\n<style scoped>\n    .dataframe tbody tr th:only-of-type {\n        vertical-align: middle;\n    }\n\n    .dataframe tbody tr th {\n        vertical-align: top;\n    }\n\n    .dataframe thead th {\n        text-align: right;\n    }\n</style>\n<table border=\"1\" class=\"dataframe\">\n  <thead>\n    <tr style=\"text-align: right;\">\n      <th></th>\n      <th>CON_ROW_ID</th>\n      <th>variable</th>\n      <th>value</th>\n      <th>token</th>\n    </tr>\n  </thead>\n  <tbody>\n    <tr>\n      <th>0</th>\n      <td>1</td>\n      <td>οκ</td>\n      <td>1</td>\n      <td>ok</td>\n    </tr>\n    <tr>\n      <th>0</th>\n      <td>1</td>\n      <td>επικοινωνια</td>\n      <td>1</td>\n      <td>επικοινωνια</td>\n    </tr>\n    <tr>\n      <th>0</th>\n      <td>1</td>\n      <td>πληρωσει</td>\n      <td>1</td>\n      <td>πληρωμη</td>\n    </tr>\n    <tr>\n      <th>0</th>\n      <td>1</td>\n      <td>κινητο</td>\n      <td>1</td>\n      <td>κινητο</td>\n    </tr>\n    <tr>\n      <th>0</th>\n      <td>1</td>\n      <td>φραγη</td>\n      <td>1</td>\n      <td>φραγη</td>\n    </tr>\n  </tbody>\n</table>\n</div>"
          },
          "metadata": {}
        }
      ],
      "execution_count": 232,
      "metadata": {
        "collapsed": true,
        "jupyter": {
          "source_hidden": false,
          "outputs_hidden": false
        },
        "nteract": {
          "transient": {
            "deleting": false
          }
        },
        "gather": {
          "logged": 1616411392388
        }
      }
    },
    {
      "cell_type": "code",
      "source": [
        "df_f = df_f[df_f['token'] !='rmv']"
      ],
      "outputs": [],
      "execution_count": 233,
      "metadata": {
        "collapsed": true,
        "jupyter": {
          "source_hidden": false,
          "outputs_hidden": false
        },
        "nteract": {
          "transient": {
            "deleting": false
          }
        },
        "gather": {
          "logged": 1616411400138
        }
      }
    },
    {
      "cell_type": "code",
      "source": [
        "df_f.head()"
      ],
      "outputs": [
        {
          "output_type": "execute_result",
          "execution_count": 234,
          "data": {
            "text/plain": "   CON_ROW_ID     variable  value        token\n0           1           οκ      1           ok\n0           1  επικοινωνια      1  επικοινωνια\n0           1     πληρωσει      1      πληρωμη\n0           1       κινητο      1       κινητο\n0           1        φραγη      1        φραγη",
            "text/html": "<div>\n<style scoped>\n    .dataframe tbody tr th:only-of-type {\n        vertical-align: middle;\n    }\n\n    .dataframe tbody tr th {\n        vertical-align: top;\n    }\n\n    .dataframe thead th {\n        text-align: right;\n    }\n</style>\n<table border=\"1\" class=\"dataframe\">\n  <thead>\n    <tr style=\"text-align: right;\">\n      <th></th>\n      <th>CON_ROW_ID</th>\n      <th>variable</th>\n      <th>value</th>\n      <th>token</th>\n    </tr>\n  </thead>\n  <tbody>\n    <tr>\n      <th>0</th>\n      <td>1</td>\n      <td>οκ</td>\n      <td>1</td>\n      <td>ok</td>\n    </tr>\n    <tr>\n      <th>0</th>\n      <td>1</td>\n      <td>επικοινωνια</td>\n      <td>1</td>\n      <td>επικοινωνια</td>\n    </tr>\n    <tr>\n      <th>0</th>\n      <td>1</td>\n      <td>πληρωσει</td>\n      <td>1</td>\n      <td>πληρωμη</td>\n    </tr>\n    <tr>\n      <th>0</th>\n      <td>1</td>\n      <td>κινητο</td>\n      <td>1</td>\n      <td>κινητο</td>\n    </tr>\n    <tr>\n      <th>0</th>\n      <td>1</td>\n      <td>φραγη</td>\n      <td>1</td>\n      <td>φραγη</td>\n    </tr>\n  </tbody>\n</table>\n</div>"
          },
          "metadata": {}
        }
      ],
      "execution_count": 234,
      "metadata": {
        "collapsed": true,
        "jupyter": {
          "source_hidden": false,
          "outputs_hidden": false
        },
        "nteract": {
          "transient": {
            "deleting": false
          }
        },
        "gather": {
          "logged": 1616411402734
        }
      }
    },
    {
      "cell_type": "code",
      "source": [
        "df_f = df_f[df_f['token'].str.len() >1]"
      ],
      "outputs": [],
      "execution_count": 235,
      "metadata": {
        "collapsed": true,
        "jupyter": {
          "source_hidden": false,
          "outputs_hidden": false
        },
        "nteract": {
          "transient": {
            "deleting": false
          }
        },
        "gather": {
          "logged": 1616411420001
        }
      }
    },
    {
      "cell_type": "code",
      "source": [
        "df_f.head()"
      ],
      "outputs": [
        {
          "output_type": "execute_result",
          "execution_count": 236,
          "data": {
            "text/plain": "   CON_ROW_ID     variable  value        token\n0           1           οκ      1           ok\n0           1  επικοινωνια      1  επικοινωνια\n0           1     πληρωσει      1      πληρωμη\n0           1       κινητο      1       κινητο\n0           1        φραγη      1        φραγη",
            "text/html": "<div>\n<style scoped>\n    .dataframe tbody tr th:only-of-type {\n        vertical-align: middle;\n    }\n\n    .dataframe tbody tr th {\n        vertical-align: top;\n    }\n\n    .dataframe thead th {\n        text-align: right;\n    }\n</style>\n<table border=\"1\" class=\"dataframe\">\n  <thead>\n    <tr style=\"text-align: right;\">\n      <th></th>\n      <th>CON_ROW_ID</th>\n      <th>variable</th>\n      <th>value</th>\n      <th>token</th>\n    </tr>\n  </thead>\n  <tbody>\n    <tr>\n      <th>0</th>\n      <td>1</td>\n      <td>οκ</td>\n      <td>1</td>\n      <td>ok</td>\n    </tr>\n    <tr>\n      <th>0</th>\n      <td>1</td>\n      <td>επικοινωνια</td>\n      <td>1</td>\n      <td>επικοινωνια</td>\n    </tr>\n    <tr>\n      <th>0</th>\n      <td>1</td>\n      <td>πληρωσει</td>\n      <td>1</td>\n      <td>πληρωμη</td>\n    </tr>\n    <tr>\n      <th>0</th>\n      <td>1</td>\n      <td>κινητο</td>\n      <td>1</td>\n      <td>κινητο</td>\n    </tr>\n    <tr>\n      <th>0</th>\n      <td>1</td>\n      <td>φραγη</td>\n      <td>1</td>\n      <td>φραγη</td>\n    </tr>\n  </tbody>\n</table>\n</div>"
          },
          "metadata": {}
        }
      ],
      "execution_count": 236,
      "metadata": {
        "collapsed": true,
        "jupyter": {
          "source_hidden": false,
          "outputs_hidden": false
        },
        "nteract": {
          "transient": {
            "deleting": false
          }
        },
        "gather": {
          "logged": 1616411423123
        }
      }
    },
    {
      "cell_type": "code",
      "source": [
        "df_f = df_f.fillna('N/A')"
      ],
      "outputs": [],
      "execution_count": 237,
      "metadata": {
        "collapsed": true,
        "jupyter": {
          "source_hidden": false,
          "outputs_hidden": false
        },
        "nteract": {
          "transient": {
            "deleting": false
          }
        },
        "gather": {
          "logged": 1616411427695
        }
      }
    },
    {
      "cell_type": "code",
      "source": [
        "df_f.head()"
      ],
      "outputs": [
        {
          "output_type": "execute_result",
          "execution_count": 238,
          "data": {
            "text/plain": "   CON_ROW_ID     variable  value        token\n0           1           οκ      1           ok\n0           1  επικοινωνια      1  επικοινωνια\n0           1     πληρωσει      1      πληρωμη\n0           1       κινητο      1       κινητο\n0           1        φραγη      1        φραγη",
            "text/html": "<div>\n<style scoped>\n    .dataframe tbody tr th:only-of-type {\n        vertical-align: middle;\n    }\n\n    .dataframe tbody tr th {\n        vertical-align: top;\n    }\n\n    .dataframe thead th {\n        text-align: right;\n    }\n</style>\n<table border=\"1\" class=\"dataframe\">\n  <thead>\n    <tr style=\"text-align: right;\">\n      <th></th>\n      <th>CON_ROW_ID</th>\n      <th>variable</th>\n      <th>value</th>\n      <th>token</th>\n    </tr>\n  </thead>\n  <tbody>\n    <tr>\n      <th>0</th>\n      <td>1</td>\n      <td>οκ</td>\n      <td>1</td>\n      <td>ok</td>\n    </tr>\n    <tr>\n      <th>0</th>\n      <td>1</td>\n      <td>επικοινωνια</td>\n      <td>1</td>\n      <td>επικοινωνια</td>\n    </tr>\n    <tr>\n      <th>0</th>\n      <td>1</td>\n      <td>πληρωσει</td>\n      <td>1</td>\n      <td>πληρωμη</td>\n    </tr>\n    <tr>\n      <th>0</th>\n      <td>1</td>\n      <td>κινητο</td>\n      <td>1</td>\n      <td>κινητο</td>\n    </tr>\n    <tr>\n      <th>0</th>\n      <td>1</td>\n      <td>φραγη</td>\n      <td>1</td>\n      <td>φραγη</td>\n    </tr>\n  </tbody>\n</table>\n</div>"
          },
          "metadata": {}
        }
      ],
      "execution_count": 238,
      "metadata": {
        "collapsed": true,
        "jupyter": {
          "source_hidden": false,
          "outputs_hidden": false
        },
        "nteract": {
          "transient": {
            "deleting": false
          }
        },
        "gather": {
          "logged": 1616411432077
        }
      }
    },
    {
      "cell_type": "code",
      "source": [
        "df_f = df_f[['CON_ROW_ID','token']].drop_duplicates()"
      ],
      "outputs": [],
      "execution_count": 239,
      "metadata": {
        "collapsed": true,
        "jupyter": {
          "source_hidden": false,
          "outputs_hidden": false
        },
        "nteract": {
          "transient": {
            "deleting": false
          }
        },
        "gather": {
          "logged": 1616411436403
        }
      }
    },
    {
      "cell_type": "code",
      "source": [
        "df_f.head()"
      ],
      "outputs": [
        {
          "output_type": "execute_result",
          "execution_count": 240,
          "data": {
            "text/plain": "   CON_ROW_ID        token\n0           1           ok\n0           1  επικοινωνια\n0           1      πληρωμη\n0           1       κινητο\n0           1        φραγη",
            "text/html": "<div>\n<style scoped>\n    .dataframe tbody tr th:only-of-type {\n        vertical-align: middle;\n    }\n\n    .dataframe tbody tr th {\n        vertical-align: top;\n    }\n\n    .dataframe thead th {\n        text-align: right;\n    }\n</style>\n<table border=\"1\" class=\"dataframe\">\n  <thead>\n    <tr style=\"text-align: right;\">\n      <th></th>\n      <th>CON_ROW_ID</th>\n      <th>token</th>\n    </tr>\n  </thead>\n  <tbody>\n    <tr>\n      <th>0</th>\n      <td>1</td>\n      <td>ok</td>\n    </tr>\n    <tr>\n      <th>0</th>\n      <td>1</td>\n      <td>επικοινωνια</td>\n    </tr>\n    <tr>\n      <th>0</th>\n      <td>1</td>\n      <td>πληρωμη</td>\n    </tr>\n    <tr>\n      <th>0</th>\n      <td>1</td>\n      <td>κινητο</td>\n    </tr>\n    <tr>\n      <th>0</th>\n      <td>1</td>\n      <td>φραγη</td>\n    </tr>\n  </tbody>\n</table>\n</div>"
          },
          "metadata": {}
        }
      ],
      "execution_count": 240,
      "metadata": {
        "collapsed": true,
        "jupyter": {
          "source_hidden": false,
          "outputs_hidden": false
        },
        "nteract": {
          "transient": {
            "deleting": false
          }
        },
        "gather": {
          "logged": 1616411439920
        }
      }
    }
  ],
  "metadata": {
    "kernelspec": {
      "name": "python3-azureml",
      "language": "python",
      "display_name": "Python 3.6 - AzureML"
    },
    "language_info": {
      "name": "python",
      "version": "3.6.9",
      "mimetype": "text/x-python",
      "codemirror_mode": {
        "name": "ipython",
        "version": 3
      },
      "pygments_lexer": "ipython3",
      "nbconvert_exporter": "python",
      "file_extension": ".py"
    },
    "kernel_info": {
      "name": "python3-azureml"
    },
    "nteract": {
      "version": "nteract-front-end@1.0.0"
    },
    "microsoft": {
      "host": {
        "AzureML": {
          "notebookHasBeenCompleted": true
        }
      }
    }
  },
  "nbformat": 4,
  "nbformat_minor": 2
}