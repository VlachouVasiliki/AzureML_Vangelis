{
  "cells": [
    {
      "cell_type": "code",
      "source": [
        "import os\r\n",
        "\r\n",
        "fileList =['01','02','03','04','05','06','07','08','09','10','11','12']\r\n",
        "\r\n",
        "for fileNum in fileList:\r\n",
        "    if os.path.exists('comments_tokens_2020_{0}.txt'.format(fileNum)):\r\n",
        "        os.remove('comments_tokens_2020_{0}.txt'.format(fileNum))\r\n",
        "        print('Deleted:comments_tokens_2020_{0}.txt'.format(fileNum))\r\n",
        "    else:\r\n",
        "        print(\"The file does not exist\")"
      ],
      "outputs": [
        {
          "output_type": "stream",
          "name": "stdout",
          "text": [
            "Deleted:comments_tokens_2020_01.txt\n",
            "Deleted:comments_tokens_2020_02.txt\n",
            "Deleted:comments_tokens_2020_03.txt\n",
            "Deleted:comments_tokens_2020_04.txt\n",
            "Deleted:comments_tokens_2020_05.txt\n",
            "Deleted:comments_tokens_2020_06.txt\n",
            "Deleted:comments_tokens_2020_07.txt\n",
            "Deleted:comments_tokens_2020_08.txt\n",
            "Deleted:comments_tokens_2020_09.txt\n",
            "Deleted:comments_tokens_2020_10.txt\n",
            "Deleted:comments_tokens_2020_11.txt\n",
            "Deleted:comments_tokens_2020_12.txt\n"
          ]
        }
      ],
      "execution_count": 1,
      "metadata": {
        "gather": {
          "logged": 1616143224593
        }
      }
    }
  ],
  "metadata": {
    "kernelspec": {
      "name": "python3-azureml",
      "language": "python",
      "display_name": "Python 3.6 - AzureML"
    },
    "language_info": {
      "name": "python",
      "version": "3.6.9",
      "mimetype": "text/x-python",
      "codemirror_mode": {
        "name": "ipython",
        "version": 3
      },
      "pygments_lexer": "ipython3",
      "nbconvert_exporter": "python",
      "file_extension": ".py"
    },
    "nteract": {
      "version": "nteract-front-end@1.0.0"
    },
    "microsoft": {
      "host": {
        "AzureML": {
          "notebookHasBeenCompleted": true
        }
      }
    },
    "kernel_info": {
      "name": "python3-azureml"
    }
  },
  "nbformat": 4,
  "nbformat_minor": 2
}