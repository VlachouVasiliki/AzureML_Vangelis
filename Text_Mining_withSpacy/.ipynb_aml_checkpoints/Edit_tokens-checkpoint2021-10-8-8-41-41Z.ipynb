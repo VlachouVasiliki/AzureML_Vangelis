{
 "cells": [
  {
   "cell_type": "code",
   "execution_count": 8,
   "metadata": {},
   "outputs": [],
   "source": [
    "import pandas as pd\n",
    "import os "
   ]
  },
  {
   "cell_type": "code",
   "execution_count": 2,
   "metadata": {},
   "outputs": [],
   "source": [
    "def correct(x,corDict):\n",
    "    if x in corDict.keys():\n",
    "        y = corDict[x]\n",
    "    else:\n",
    "        y = x\n",
    "    return y    "
   ]
  },
  {
   "cell_type": "code",
   "execution_count": 9,
   "metadata": {},
   "outputs": [
    {
     "data": {
      "text/plain": [
       "'C:\\\\Users\\\\Βαγγέλης\\\\Text_Mining_Spacy'"
      ]
     },
     "execution_count": 9,
     "metadata": {},
     "output_type": "execute_result"
    }
   ],
   "source": [
    "os.getcwd()"
   ]
  },
  {
   "cell_type": "code",
   "execution_count": 3,
   "metadata": {},
   "outputs": [],
   "source": [
    "df = pd.read_csv(\"D://Downloads//comments_tokens_2.txt\",sep = '\\t')"
   ]
  },
  {
   "cell_type": "code",
   "execution_count": 13,
   "metadata": {},
   "outputs": [],
   "source": [
    "#df['variable'].value_counts().to_excel(\"tokenCorrectionDict.xlsx\")\n",
    "corDict = dict(pd.read_excel(\"tokenCorrectionDict.xlsx\").to_dict(\"split\")['data'])"
   ]
  },
  {
   "cell_type": "code",
   "execution_count": 14,
   "metadata": {},
   "outputs": [],
   "source": [
    "#df['variable'].value_counts()"
   ]
  },
  {
   "cell_type": "code",
   "execution_count": 26,
   "metadata": {},
   "outputs": [],
   "source": [
    "#corDict ={\"ενημερωθηκε\":\"ενημερωση\",\"επικοινωνιας\" : \"επικοινωνία\",\n",
    "#          \"ραντεβο\":\"ραντεβου\",\"πελατη\":\"πελατης\",\n",
    "#          \"καταστημας\":\"καταστημα\"}"
   ]
  },
  {
   "cell_type": "code",
   "execution_count": 15,
   "metadata": {},
   "outputs": [],
   "source": [
    "df['token'] = df['variable'].apply(lambda x : correct(x,corDict))"
   ]
  },
  {
   "cell_type": "code",
   "execution_count": 20,
   "metadata": {},
   "outputs": [
    {
     "data": {
      "text/plain": [
       "ενημερωση                  59809\n",
       "ραντεβού                   17012\n",
       "αιτηση                     16712\n",
       "ληξη                       15617\n",
       "καρτα                      13794\n",
       "                           ...  \n",
       "αποτιμηση χαρτοφυλακιου     1079\n",
       "safe drive                  1073\n",
       "αποταμιευτικο               1020\n",
       "ανοιγμα λογαριασμου         1012\n",
       "sweet home                  1001\n",
       "Name: token, Length: 130, dtype: int64"
      ]
     },
     "execution_count": 20,
     "metadata": {},
     "output_type": "execute_result"
    }
   ],
   "source": [
    "df['token'].value_counts()"
   ]
  },
  {
   "cell_type": "code",
   "execution_count": 18,
   "metadata": {},
   "outputs": [],
   "source": [
    "df = df[df['token'] !='rmv']"
   ]
  },
  {
   "cell_type": "code",
   "execution_count": 19,
   "metadata": {},
   "outputs": [],
   "source": [
    "df = df[['con_row_id','token']].drop_duplicates()"
   ]
  },
  {
   "cell_type": "code",
   "execution_count": 22,
   "metadata": {},
   "outputs": [],
   "source": [
    "df[['con_row_id','token']].to_csv('D://Downloads//comments_tokens_3.txt',index = False,sep ='\\t',line_terminator='\\n')"
   ]
  }
 ],
 "metadata": {
  "kernelspec": {
   "display_name": "Python 3",
   "language": "python",
   "name": "python3"
  },
  "language_info": {
   "codemirror_mode": {
    "name": "ipython",
    "version": 3
   },
   "file_extension": ".py",
   "mimetype": "text/x-python",
   "name": "python",
   "nbconvert_exporter": "python",
   "pygments_lexer": "ipython3",
   "version": "3.6.7"
  }
 },
 "nbformat": 4,
 "nbformat_minor": 2
}
