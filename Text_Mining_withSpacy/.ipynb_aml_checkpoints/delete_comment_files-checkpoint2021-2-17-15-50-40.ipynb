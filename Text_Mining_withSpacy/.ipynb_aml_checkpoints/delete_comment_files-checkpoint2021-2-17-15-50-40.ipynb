{
  "cells": [
    {
      "cell_type": "code",
      "source": [
        "import os\r\n",
        "\r\n",
        "fileList =['01','02','03','04','05','06','07','08','09','10','11','12']\r\n",
        "\r\n",
        "for fileNum in fileList:\r\n",
        "    if os.path.exists('comments_tokens_2020_{0}.txt'.format(fileNum)):\r\n",
        "        os.remove('comments_tokens_2020_{0}.txt'.format(fileNum))\r\n",
        "        #print('comments_tokens_2020_{0}.txt'.format(fileNum))\r\n",
        "    else:\r\n",
        "        print(\"The file does not exist\")"
      ],
      "outputs": [
        {
          "output_type": "stream",
          "name": "stdout",
          "text": [
            "The file does not exist\n",
            "The file does not exist\n"
          ]
        }
      ],
      "execution_count": 3,
      "metadata": {
        "gather": {
          "logged": 1615989012396
        }
      }
    }
  ],
  "metadata": {
    "kernelspec": {
      "display_name": "Python 3.6 - AzureML",
      "language": "python",
      "name": "python3-azureml"
    },
    "language_info": {
      "name": "python",
      "version": "3.6.9",
      "mimetype": "text/x-python",
      "codemirror_mode": {
        "name": "ipython",
        "version": 3
      },
      "pygments_lexer": "ipython3",
      "nbconvert_exporter": "python",
      "file_extension": ".py"
    },
    "nteract": {
      "version": "nteract-front-end@1.0.0"
    }
  },
  "nbformat": 4,
  "nbformat_minor": 2
}