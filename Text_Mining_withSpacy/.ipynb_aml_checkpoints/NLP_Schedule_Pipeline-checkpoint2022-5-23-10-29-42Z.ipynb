{
  "cells": [
    {
      "cell_type": "code",
      "source": [
        "#https://docs.microsoft.com/en-us/azure/machine-learning/how-to-trigger-published-pipeline"
      ],
      "outputs": [],
      "execution_count": null,
      "metadata": {},
      "id": "preliminary-garlic"
    },
    {
      "cell_type": "code",
      "source": [
        "import azureml.core\n",
        "from azureml.core import Workspace\n",
        "from azureml.pipeline.core import Pipeline, PublishedPipeline\n",
        "from azureml.core.experiment import Experiment\n",
        "from azureml.pipeline.core.schedule import ScheduleRecurrence, Schedule\n",
        "\n",
        "ws = Workspace.from_config()\n",
        "\n",
        "experiments = Experiment.list(ws)\n",
        "for experiment in experiments:\n",
        "    print(experiment.name)\n",
        "\n",
        "published_pipelines = PublishedPipeline.list(ws)\n",
        "for published_pipeline in  published_pipelines:\n",
        "    print(f\"{published_pipeline.name},'{published_pipeline.id}'\")\n",
        "\n",
        "experiment_name = \"Link_Comments\" \n",
        "pipeline_id = \"870c9398-51e2-4d1a-84a1-8a238cff1fa4\" "
      ],
      "outputs": [
        {
          "output_type": "stream",
          "name": "stdout",
          "text": "cifar10-experiment\ndiabetes-experiment\njag-autoprice\ntest-experiment\ndataset_profile\nTime_Deposits_Experiment\nTextAnalysis\nText-Analytics-Test\nvk-td-expirement\nmslearn-auto-training\nmslearn-auto-inference\nmslearn-diabetes\nlr-experiment\nLink_Comments\ntest\nmslearn-diabetes-mlflow\nXGBoost_test-experiment\nRE_exp\nRecommenderEngineDW\nMulticlassBoostedDecision\nRecommendationSystemDTonevsMany\nnewCifRecommendations\nSB_RE\nPB_RE\nIB_RE\ntest-vbarakou\nPrimary_Bank_Light_GBM\nLightGBM_on_Primary_Bank\nLogistic_Regression_on_Primary_Bank\nNLP-on-Transaction-Comments\nvBanking\nvBankingPB\nvBankingPB_LGBM\nDeploy_XGBoost_Test\nvBanking_PB_Pipeline\nNLP_Pipeline_Daily,'870c9398-51e2-4d1a-84a1-8a238cff1fa4'\nRecommenderEngineDW 10-27-2021-01-37,'f8d0e2bd-e638-4220-8f35-43138c032bad'\nRecommenderEngineDW 10-26-2021-03-52,'21fad364-d1af-43ec-a75a-d6f1ce1afe41'\n"
        }
      ],
      "execution_count": 1,
      "metadata": {
        "gather": {
          "logged": 1655979940903
        }
      },
      "id": "human-framework"
    },
    {
      "cell_type": "code",
      "source": [
        "from azureml.pipeline.core.schedule import ScheduleRecurrence, Schedule\n",
        "\n",
        "recurrence = ScheduleRecurrence(frequency=\"Hour\", interval=24)\n",
        "recurring_schedule = Schedule.create(ws, name=\"NLPRecurringSchedule\", \n",
        "                            description=\"Based on time\",\n",
        "                            pipeline_id=pipeline_id, \n",
        "                            experiment_name=experiment_name, \n",
        "                            recurrence=recurrence)"
      ],
      "outputs": [],
      "execution_count": 3,
      "metadata": {
        "gather": {
          "logged": 1635960735474
        }
      },
      "id": "greatest-proxy"
    },
    {
      "cell_type": "code",
      "source": [
        "ss = Schedule.list(ws)\n",
        "for s in ss:\n",
        "    print(s)"
      ],
      "outputs": [
        {
          "output_type": "stream",
          "name": "stdout",
          "text": "Pipeline(Name: NLPRecurringSchedule,\nId: 5a188234-98ac-43e7-a218-6f03051f324c,\nStatus: Active,\nPipeline Id: 870c9398-51e2-4d1a-84a1-8a238cff1fa4,\nPipeline Endpoint Id: None,\nRecurrence Details: Runs every 24 Hours)\n"
        }
      ],
      "execution_count": 2,
      "metadata": {
        "gather": {
          "logged": 1655980064006
        }
      },
      "id": "stable-producer"
    },
    {
      "cell_type": "code",
      "source": [
        "schedule_id = '5a188234-98ac-43e7-a218-6f03051f324c'\n",
        "\n",
        "def stop_by_schedule_id(ws, schedule_id):\n",
        "    s = next(s for s in Schedule.list(ws) if s.id == schedule_id)\n",
        "    s.disable()\n",
        "    return s\n",
        "\n",
        "stop_by_schedule_id(ws, schedule_id)"
      ],
      "outputs": [
        {
          "output_type": "execute_result",
          "execution_count": 3,
          "data": {
            "text/plain": "Pipeline(Name: NLPRecurringSchedule,\nId: 5a188234-98ac-43e7-a218-6f03051f324c,\nStatus: Disabled,\nPipeline Id: 870c9398-51e2-4d1a-84a1-8a238cff1fa4,\nPipeline Endpoint Id: None,\nRecurrence Details: Runs every 24 Hours)",
            "text/html": "<table style=\"width:100%\"><tr><th>Name</th><th>Id</th><th>Status</th><th>Pipeline Id</th><th>Pipeline Endpoint Id</th><th>Recurrence Details</th></tr><tr><td>NLPRecurringSchedule</td><td>5a188234-98ac-43e7-a218-6f03051f324c</td><td>Disabled</td><td><a href=\"https://ml.azure.com/pipelines/870c9398-51e2-4d1a-84a1-8a238cff1fa4?wsid=/subscriptions/6ed9d167-b2e6-41b8-9500-35e6df64d9dc/resourcegroups/mlrg/workspaces/erbbimlws\" target=\"_blank\" rel=\"noopener\">870c9398-51e2-4d1a-84a1-8a238cff1fa4</a></td><td></td><td>Runs every 24 Hours</td></tr></table>"
          },
          "metadata": {}
        }
      ],
      "execution_count": 3,
      "metadata": {
        "gather": {
          "logged": 1655980088284
        }
      },
      "id": "norman-fusion"
    }
  ],
  "metadata": {
    "kernelspec": {
      "name": "python3-azureml",
      "language": "python",
      "display_name": "Python 3.6 - AzureML"
    },
    "language_info": {
      "name": "python",
      "version": "3.8.5",
      "mimetype": "text/x-python",
      "codemirror_mode": {
        "name": "ipython",
        "version": 3
      },
      "pygments_lexer": "ipython3",
      "nbconvert_exporter": "python",
      "file_extension": ".py"
    },
    "kernel_info": {
      "name": "python3-azureml"
    },
    "nteract": {
      "version": "nteract-front-end@1.0.0"
    },
    "microsoft": {
      "host": {
        "AzureML": {
          "notebookHasBeenCompleted": true
        }
      }
    }
  },
  "nbformat": 4,
  "nbformat_minor": 5
}