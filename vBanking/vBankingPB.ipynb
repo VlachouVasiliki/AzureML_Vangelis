{
 "cells": [
  {
   "cell_type": "code",
   "execution_count": null,
   "metadata": {
    "gather": {
     "logged": 1648624951060
    }
   },
   "outputs": [],
   "source": [
    "from xgboost import XGBClassifier\n",
    "from hyperopt import Trials, fmin, tpe, space_eval, STATUS_OK, hp\n",
    "from sklearn.model_selection import StratifiedKFold"
   ]
  },
  {
   "cell_type": "code",
   "execution_count": null,
   "metadata": {
    "gather": {
     "logged": 1648624976555
    }
   },
   "outputs": [],
   "source": [
    "%matplotlib inline\n",
    "import matplotlib.pyplot as plt\n",
    "plt.rc(\"font\", size=14)\n",
    "import pandas as pd\n",
    "import numpy as np\n",
    "import math\n",
    "from sklearn.model_selection import train_test_split\n",
    "#from sklearn.feature_selection import RFE\n",
    "from sklearn.metrics import confusion_matrix\n",
    "from sklearn.metrics import classification_report\n",
    "from sklearn.metrics import plot_confusion_matrix\n",
    "from sklearn.metrics import roc_auc_score\n",
    "from sklearn.metrics import roc_curve\n",
    "from sklearn.metrics import auc\n",
    "import seaborn as sns\n",
    "sns.set(style=\"white\")\n",
    "sns.set(style=\"whitegrid\", color_codes=True)\n"
   ]
  },
  {
   "cell_type": "code",
   "execution_count": null,
   "metadata": {
    "gather": {
     "logged": 1648624978567
    },
    "jupyter": {
     "outputs_hidden": false,
     "source_hidden": false
    },
    "nteract": {
     "transient": {
      "deleting": false
     }
    }
   },
   "outputs": [],
   "source": [
    "import os"
   ]
  },
  {
   "cell_type": "code",
   "execution_count": null,
   "metadata": {
    "gather": {
     "logged": 1648624982482
    }
   },
   "outputs": [],
   "source": [
    "from azureml.core import Experiment\n",
    "from azureml.core import Workspace, Dataset"
   ]
  },
  {
   "cell_type": "code",
   "execution_count": null,
   "metadata": {
    "gather": {
     "logged": 1648624991858
    }
   },
   "outputs": [],
   "source": [
    "import shap\n",
    "shap.initjs()"
   ]
  },
  {
   "cell_type": "code",
   "execution_count": null,
   "metadata": {
    "gather": {
     "logged": 1648624994132
    },
    "jupyter": {
     "outputs_hidden": false,
     "source_hidden": false
    },
    "nteract": {
     "transient": {
      "deleting": false
     }
    }
   },
   "outputs": [],
   "source": [
    "def delFile(filetoDelete):\n",
    "    if os.path.exists(filetoDelete):\n",
    "        os.remove(filetoDelete)"
   ]
  },
  {
   "cell_type": "code",
   "execution_count": null,
   "metadata": {
    "gather": {
     "logged": 1648624999503
    }
   },
   "outputs": [],
   "source": [
    "subscription_id = '6ed9d167-b2e6-41b8-9500-35e6df64d9dc'\n",
    "resource_group = 'MLRG'\n",
    "workspace_name = 'erbbimlws'\n",
    "\n",
    "workspace = Workspace(subscription_id, resource_group, workspace_name)"
   ]
  },
  {
   "cell_type": "code",
   "execution_count": null,
   "metadata": {
    "gather": {
     "logged": 1648625002937
    }
   },
   "outputs": [],
   "source": [
    "experiment = Experiment(workspace = workspace, name = \"vBankingPB\")"
   ]
  },
  {
   "cell_type": "code",
   "execution_count": null,
   "metadata": {
    "gather": {
     "logged": 1648625007154
    }
   },
   "outputs": [],
   "source": [
    "run = experiment.start_logging(snapshot_directory=None)"
   ]
  },
  {
   "cell_type": "code",
   "execution_count": null,
   "metadata": {
    "gather": {
     "logged": 1648625023124
    }
   },
   "outputs": [],
   "source": [
    "dataset = Dataset.get_by_name(workspace, name='vBankingPB')\n",
    "df = dataset.to_pandas_dataframe()"
   ]
  },
  {
   "cell_type": "code",
   "execution_count": null,
   "metadata": {},
   "outputs": [],
   "source": [
    "df.shape"
   ]
  },
  {
   "cell_type": "code",
   "execution_count": null,
   "metadata": {
    "gather": {
     "logged": 1648625037550
    }
   },
   "outputs": [],
   "source": [
    "pd.set_option('max_columns', None) #display all columns\n",
    "#pd.reset_option(“max_columns”) #to return to default"
   ]
  },
  {
   "cell_type": "code",
   "execution_count": null,
   "metadata": {
    "gather": {
     "logged": 1648625041553
    }
   },
   "outputs": [],
   "source": [
    "df.head()"
   ]
  },
  {
   "cell_type": "code",
   "execution_count": null,
   "metadata": {
    "gather": {
     "logged": 1648625045736
    }
   },
   "outputs": [],
   "source": [
    "df['vBankingFlag'].value_counts().plot(kind = 'pie',y = 'vBankingFlag',figsize=(5, 5),title = 'vBankingFlag',autopct='%1.1f%%')"
   ]
  },
  {
   "cell_type": "code",
   "execution_count": null,
   "metadata": {
    "gather": {
     "logged": 1648625048693
    }
   },
   "outputs": [],
   "source": [
    "df = df.drop(columns = ['Customer_ID','Year','Month','Remmitances_In_nonGR_1Y_MaxAmount','Remmitances_In_nonGR_1Y_Amount','education_Code',\\\n",
    "    'Link_contacts_Last_3m_neu','Eb_Logins_3M_Months_num','Eb_Logins_3M_num','Legal_Person','City','Age_Band','Occupation','Global_SubSubSegment'])"
   ]
  },
  {
   "cell_type": "code",
   "execution_count": null,
   "metadata": {
    "gather": {
     "logged": 1648625051054
    }
   },
   "outputs": [],
   "source": [
    "def binF(x):\n",
    "    if x is False:\n",
    "        z = 0\n",
    "    elif math.isnan(x):\n",
    "        z = 0\n",
    "    else:\n",
    "        z =1\n",
    "    return z"
   ]
  },
  {
   "cell_type": "code",
   "execution_count": null,
   "metadata": {
    "gather": {
     "logged": 1648625054003
    }
   },
   "outputs": [],
   "source": [
    "df['vBankingFlag'] = df['vBankingFlag'].apply(binF)"
   ]
  },
  {
   "cell_type": "code",
   "execution_count": null,
   "metadata": {
    "gather": {
     "logged": 1648625066574
    }
   },
   "outputs": [],
   "source": [
    "#dummy variables\n",
    "for col in df.columns:       \n",
    "       if df[col].dtypes=='object':\n",
    "            #df.drop(columns=col, inplace = True)\n",
    "            df = pd.get_dummies(df, prefix=col + '_', columns=[col])"
   ]
  },
  {
   "cell_type": "code",
   "execution_count": null,
   "metadata": {
    "gather": {
     "logged": 1648625121056
    }
   },
   "outputs": [],
   "source": [
    "for col in df.columns:       \n",
    "       if df[col].dtypes=='datetime64[ns]':\n",
    "            df = df.drop(columns = col)"
   ]
  },
  {
   "cell_type": "code",
   "execution_count": null,
   "metadata": {
    "gather": {
     "logged": 1648625125542
    }
   },
   "outputs": [],
   "source": [
    "def replace_gt(x):\n",
    "    x = x.replace('<=','le ')\n",
    "    x = x.replace('>=','ge')\n",
    "    x = x.replace('>','gt ')\n",
    "    x = x.replace('<','lt ')\n",
    "    return x"
   ]
  },
  {
   "cell_type": "code",
   "execution_count": null,
   "metadata": {
    "gather": {
     "logged": 1648625129550
    }
   },
   "outputs": [],
   "source": [
    "df.columns = [replace_gt(x) for x in df.columns]"
   ]
  },
  {
   "cell_type": "code",
   "execution_count": null,
   "metadata": {
    "gather": {
     "logged": 1648625133036
    }
   },
   "outputs": [],
   "source": [
    "x_train, x_test, y_train, y_test = train_test_split(df.loc[:,df.columns !='vBankingFlag'].fillna(0), df['vBankingFlag'].fillna(0), test_size=0.25, random_state=0)"
   ]
  },
  {
   "cell_type": "code",
   "execution_count": null,
   "metadata": {
    "gather": {
     "logged": 1648547775930
    }
   },
   "outputs": [],
   "source": [
    "space = {\n",
    "    \"n_estimators\": hp.choice(\"n_estimators\", [100]),\n",
    "    \"max_depth\": hp.choice(\"max_depth\", np.arange(4,7)),\n",
    "     #\"learning_rate\": hp.choice(\"learning_rate\", np.round(np.arange(0.1, 1, 0.1), 2)),\n",
    "    \"reg_alpha\": hp.choice(\"reg_alpha\", np.arange(10,500,50)),\n",
    "    \"scale_pos_weight\": hp.choice(\"scale_pos_weight\", np.arange(1,20,5)),\n",
    "    \"label_encoder\":False\n",
    "}"
   ]
  },
  {
   "cell_type": "code",
   "execution_count": null,
   "metadata": {
    "gather": {
     "logged": 1648547781475
    }
   },
   "outputs": [],
   "source": [
    "def hyperparameter_tuning(training_data, training_target):\n",
    "    \n",
    "    def objective(params):\n",
    "    \n",
    "        cv_scores = []\n",
    "        \n",
    "        print('Params testing: ', params)\n",
    "        print('\\n ')\n",
    "\n",
    "        cv = StratifiedKFold(n_splits = 10, shuffle = True, random_state = 42)\n",
    "\n",
    "        for train, val in cv.split(training_data, training_target):\n",
    "        \n",
    "            x_temp, y_temp = training_data.iloc[train].reset_index(drop = True), training_target.iloc[train].reset_index(drop = True)\n",
    "\n",
    "\n",
    "            model_xgboost = XGBClassifier(**params, n_jobs=-1)\n",
    "            model_xgboost.fit(x_temp, y_temp)\n",
    "            \n",
    "            predictions = model_xgboost.predict(training_data.iloc[val])\n",
    "\n",
    "            metric = roc_auc_score(training_target.iloc[val], predictions)    \n",
    "\n",
    "            cv_scores.append(metric)\n",
    "\n",
    "        loss = 1 - np.mean(cv_scores)\n",
    "        \n",
    "        return {'loss': loss, 'status': STATUS_OK}\n",
    "\n",
    "    return objective"
   ]
  },
  {
   "cell_type": "code",
   "execution_count": null,
   "metadata": {
    "gather": {
     "logged": 1648547788494
    }
   },
   "outputs": [],
   "source": [
    "objective = hyperparameter_tuning(x_train, y_train)"
   ]
  },
  {
   "cell_type": "code",
   "execution_count": null,
   "metadata": {
    "gather": {
     "logged": 1648547791773
    }
   },
   "outputs": [],
   "source": [
    "def select_parameters(objective_function, parameter_space, max_evals, prints = True):\n",
    "\n",
    "    trials = Trials()\n",
    "\n",
    "    best_indices = fmin(objective_function,\n",
    "                        parameter_space,\n",
    "                        algo=tpe.suggest,\n",
    "                        trials=trials,\n",
    "                        max_evals=max_evals,\n",
    "                        rstate=np.random.default_rng(42))\n",
    "\n",
    "    best_parameters = space_eval(parameter_space, trials.argmin)\n",
    "\n",
    "    if prints:\n",
    "        print('Best params are:')\n",
    "        print(best_parameters)\n",
    "\n",
    "        #main_plot_history(trials)  \n",
    "\n",
    "    return best_parameters, best_indices, trials"
   ]
  },
  {
   "cell_type": "code",
   "execution_count": null,
   "metadata": {},
   "outputs": [],
   "source": [
    "params, indices, trials = select_parameters(objective, space, 10, prints = True)"
   ]
  },
  {
   "cell_type": "code",
   "execution_count": null,
   "metadata": {},
   "outputs": [],
   "source": [
    "params"
   ]
  },
  {
   "cell_type": "code",
   "execution_count": null,
   "metadata": {},
   "outputs": [],
   "source": [
    "run.log_table('Best Parameters', params)"
   ]
  },
  {
   "cell_type": "code",
   "execution_count": null,
   "metadata": {
    "gather": {
     "logged": 1648625144678
    }
   },
   "outputs": [],
   "source": [
    "xgb = XGBClassifier(label_encoder = False,max_depth = 5,reg_alpha =160,n_estimators= 100,learning_rate = 0.3,scale_pos_weight = 16)"
   ]
  },
  {
   "cell_type": "code",
   "execution_count": null,
   "metadata": {
    "gather": {
     "logged": 1648625203327
    }
   },
   "outputs": [],
   "source": [
    "xgb.fit(x_train,y_train,early_stopping_rounds =10, eval_metric = 'aucpr', eval_set = [(x_test,y_test)],verbose = False)"
   ]
  },
  {
   "cell_type": "code",
   "execution_count": null,
   "metadata": {
    "gather": {
     "logged": 1648547863876
    }
   },
   "outputs": [],
   "source": [
    "print(classification_report(y_train,  xgb.predict(x_train)))"
   ]
  },
  {
   "cell_type": "code",
   "execution_count": null,
   "metadata": {
    "gather": {
     "logged": 1648547870143
    }
   },
   "outputs": [],
   "source": [
    "print('Accuracy of XGBoost classifier on train set: {:.4f}'.format(xgb.score(x_train, y_train)))"
   ]
  },
  {
   "cell_type": "code",
   "execution_count": null,
   "metadata": {
    "gather": {
     "logged": 1648547877811
    },
    "jupyter": {
     "outputs_hidden": false,
     "source_hidden": false
    },
    "nteract": {
     "transient": {
      "deleting": false
     }
    }
   },
   "outputs": [],
   "source": [
    "print(classification_report(y_test,  xgb.predict(x_test)))"
   ]
  },
  {
   "cell_type": "code",
   "execution_count": null,
   "metadata": {
    "gather": {
     "logged": 1648547887146
    }
   },
   "outputs": [],
   "source": [
    "print('Accuracy of XGBoost classifier on test set: {:.4f}'.format(xgb.score(x_test, y_test)))"
   ]
  },
  {
   "cell_type": "code",
   "execution_count": null,
   "metadata": {
    "gather": {
     "logged": 1648547891016
    }
   },
   "outputs": [],
   "source": [
    "cm = plot_confusion_matrix(xgb,x_train,y_train,display_labels = ['Non vBanking', 'vBanking'])"
   ]
  },
  {
   "cell_type": "code",
   "execution_count": null,
   "metadata": {
    "gather": {
     "logged": 1648547895157
    }
   },
   "outputs": [],
   "source": [
    "delFile('images/Confusion_Matrix_train.jpg')\n",
    "cm.figure_.savefig('images/Confusion_Matrix_train.jpg')\n",
    "plt.close()"
   ]
  },
  {
   "cell_type": "code",
   "execution_count": null,
   "metadata": {
    "gather": {
     "logged": 1648547900347
    }
   },
   "outputs": [],
   "source": [
    "run.log_image('Confusion Matrix (train)','images/Confusion_Matrix_train.jpg')"
   ]
  },
  {
   "cell_type": "code",
   "execution_count": null,
   "metadata": {
    "gather": {
     "logged": 1648547912401
    }
   },
   "outputs": [],
   "source": [
    "cm = plot_confusion_matrix(xgb,x_test,y_test,display_labels = ['Non vBanking', 'vBanking'])"
   ]
  },
  {
   "cell_type": "code",
   "execution_count": null,
   "metadata": {
    "gather": {
     "logged": 1648547921568
    }
   },
   "outputs": [],
   "source": [
    "delFile('images/Confusion_Matrix_test.jpg')\n",
    "cm.figure_.savefig('images/Confusion_Matrix_test.jpg')\n",
    "plt.close()"
   ]
  },
  {
   "cell_type": "code",
   "execution_count": null,
   "metadata": {
    "gather": {
     "logged": 1648547926960
    }
   },
   "outputs": [],
   "source": [
    "run.log_image('Confusion Matrix (test)','images/Confusion_Matrix_test.jpg')"
   ]
  },
  {
   "cell_type": "code",
   "execution_count": null,
   "metadata": {
    "gather": {
     "logged": 1648625206198
    }
   },
   "outputs": [],
   "source": [
    "logit_roc_auc = roc_auc_score(y_train.to_numpy(), xgb.predict(x_train))\n",
    "fpr, tpr, thresholds = roc_curve(y_train.to_numpy(), xgb.predict_proba(x_train)[:,1])\n",
    "auc_train = roc_auc = auc(fpr, tpr)\n",
    "\n",
    "logit_roc_auc = roc_auc_score(y_test, xgb.predict(x_test))\n",
    "fpr_t, tpr_t, thresholds_t = roc_curve(y_test, xgb.predict_proba(x_test)[:,1])\n",
    "auc_test = roc_auc = auc(fpr_t, tpr_t)\n",
    "cm =plt.figure(figsize = (10,8))\n",
    "\n",
    "plt.plot(fpr, tpr, label='XGBoost - train (area = %0.2f)' % auc_train)\n",
    "plt.plot(fpr_t, tpr_t, label='XGBoost test (area = %0.2f)' % auc_test)\n",
    "plt.plot([0, 1], [0, 1],'r--')\n",
    "plt.xlim([0.0, 1.0])\n",
    "plt.ylim([0.0, 1.05])\n",
    "plt.xlabel('False Positive Rate')\n",
    "plt.ylabel('True Positive Rate')\n",
    "plt.title('Receiver operating characteristic')\n",
    "plt.legend(loc=\"lower right\")"
   ]
  },
  {
   "cell_type": "code",
   "execution_count": null,
   "metadata": {
    "gather": {
     "logged": 1648547939928
    }
   },
   "outputs": [],
   "source": [
    "delFile('images/ROC.jpg')\n",
    "cm.savefig('images/ROC.jpg')\n",
    "plt.close()\n",
    "run.log_image('ROC','images/ROC.jpg')"
   ]
  },
  {
   "cell_type": "code",
   "execution_count": null,
   "metadata": {
    "gather": {
     "logged": 1648547964959
    }
   },
   "outputs": [],
   "source": [
    "#explainer = shap.TreeExplainer(model, x_train)\n",
    "explainer = shap.Explainer(xgb, x_train)\n",
    "shap_values = explainer.shap_values(x_train,check_additivity=False)\n",
    "x_train_array = x_train#.to_numpy() # we need to pass a dense version for the plotting functions"
   ]
  },
  {
   "cell_type": "code",
   "execution_count": null,
   "metadata": {
    "gather": {
     "logged": 1648547996565
    }
   },
   "outputs": [],
   "source": [
    "ss= plt.figure()\n",
    "shap.summary_plot(shap_values, x_train_array,x_train.columns,max_display = 20)"
   ]
  },
  {
   "cell_type": "code",
   "execution_count": null,
   "metadata": {
    "gather": {
     "logged": 1648548014346
    }
   },
   "outputs": [],
   "source": [
    "delFile('images/SHAP_Summary.jpg')\n",
    "ss.savefig('images/SHAP_Summary.jpg',bbox_inches='tight')\n",
    "plt.close()\n",
    "run.log_image('SHAP - Summary','images/SHAP_Summary.jpg')"
   ]
  },
  {
   "cell_type": "code",
   "execution_count": null,
   "metadata": {
    "gather": {
     "logged": 1648548063354
    }
   },
   "outputs": [],
   "source": [
    "bs = plt.figure()\n",
    "shap.plots.beeswarm(explainer(x_train),max_display = 20)"
   ]
  },
  {
   "cell_type": "code",
   "execution_count": null,
   "metadata": {
    "gather": {
     "logged": 1648548078165
    }
   },
   "outputs": [],
   "source": [
    "delFile('images/SHAP_bees.jpg')\n",
    "ss.savefig('images/SHAP_bees.jpg',bbox_inches='tight')\n",
    "plt.close()\n",
    "run.log_image('SHAP - Beeswarm','images/SHAP_bees.jpg')"
   ]
  },
  {
   "cell_type": "markdown",
   "metadata": {
    "nteract": {
     "transient": {
      "deleting": false
     }
    }
   },
   "source": [
    "**Create a pickle file with the model** Comment out, if there is no need to change the existing model"
   ]
  },
  {
   "cell_type": "code",
   "execution_count": null,
   "metadata": {
    "gather": {
     "logged": 1648625369463
    },
    "jupyter": {
     "outputs_hidden": false,
     "source_hidden": false
    },
    "nteract": {
     "transient": {
      "deleting": false
     }
    }
   },
   "outputs": [],
   "source": [
    "#import joblib\n",
    "\n",
    "#joblib.dump(xgb, \"models/vBanking_PB_XGBoost_model.pkl\")"
   ]
  },
  {
   "cell_type": "code",
   "execution_count": null,
   "metadata": {
    "gather": {
     "logged": 1648625373973
    }
   },
   "outputs": [],
   "source": [
    "run.complete()"
   ]
  }
 ],
 "metadata": {
  "kernel_info": {
   "name": "python3-azureml"
  },
  "kernelspec": {
   "display_name": "Python 3.6 - AzureML",
   "language": "python",
   "name": "python3-azureml"
  },
  "language_info": {
   "codemirror_mode": {
    "name": "ipython",
    "version": 3
   },
   "file_extension": ".py",
   "mimetype": "text/x-python",
   "name": "python",
   "nbconvert_exporter": "python",
   "pygments_lexer": "ipython3",
   "version": "3.6.9"
  },
  "microsoft": {
   "host": {
    "AzureML": {
     "notebookHasBeenCompleted": true
    }
   }
  },
  "nteract": {
   "version": "nteract-front-end@1.0.0"
  }
 },
 "nbformat": 4,
 "nbformat_minor": 2
}
