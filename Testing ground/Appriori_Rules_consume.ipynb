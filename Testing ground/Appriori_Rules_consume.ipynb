{
  "cells": [
    {
      "cell_type": "code",
      "source": [
        "import pandas as pd\n"
      ],
      "outputs": [],
      "execution_count": 2,
      "metadata": {},
      "id": "stable-flight"
    },
    {
      "cell_type": "code",
      "source": [
        "# azureml-core of version 1.0.72 or higher is required\n",
        "# azureml-dataprep[pandas] of version 1.1.34 or higher is required\n",
        "from azureml.core import Workspace, Dataset\n",
        "\n",
        "subscription_id = '6ed9d167-b2e6-41b8-9500-35e6df64d9dc'\n",
        "resource_group = 'MLRG'\n",
        "workspace_name = 'erbbimlws'\n",
        "\n",
        "workspace = Workspace(subscription_id, resource_group, workspace_name)\n",
        "\n",
        "dataset = Dataset.get_by_name(workspace, name='RecommendationEngineRules')\n",
        "rs = dataset.to_pandas_dataframe()"
      ],
      "outputs": [],
      "execution_count": 3,
      "metadata": {},
      "id": "limiting-sheriff"
    },
    {
      "cell_type": "code",
      "source": [
        "rs.columns = ['MaritalStatus','Education','Occupation','Segment','AgeBand','ChildrenFlag','Proposal','Support']"
      ],
      "outputs": [],
      "execution_count": 4,
      "metadata": {},
      "id": "capable-mambo"
    },
    {
      "cell_type": "code",
      "source": [
        "rs.head()"
      ],
      "outputs": [
        {
          "output_type": "execute_result",
          "execution_count": 5,
          "data": {
            "text/html": "<div>\n<style scoped>\n    .dataframe tbody tr th:only-of-type {\n        vertical-align: middle;\n    }\n\n    .dataframe tbody tr th {\n        vertical-align: top;\n    }\n\n    .dataframe thead th {\n        text-align: right;\n    }\n</style>\n<table border=\"1\" class=\"dataframe\">\n  <thead>\n    <tr style=\"text-align: right;\">\n      <th></th>\n      <th>MaritalStatus</th>\n      <th>Education</th>\n      <th>Occupation</th>\n      <th>Segment</th>\n      <th>AgeBand</th>\n      <th>ChildrenFlag</th>\n      <th>Proposal</th>\n      <th>Support</th>\n    </tr>\n  </thead>\n  <tbody>\n    <tr>\n      <th>0</th>\n      <td>ΑΝΥΠΑΝΤΡΟΣ/Η</td>\n      <td>ΑΡΝΗΘΗΚΕ</td>\n      <td>ΛΟΙΠΕΣ ΠΗΓΕΣ - ΠΡΟΣΤΑΤΕΥΟΜΕΝΟΣ ΜΕΛΟΣ</td>\n      <td>Ιδιώτες Πελάτες</td>\n      <td>01. &lt;=25</td>\n      <td>0</td>\n      <td>Credit Cards</td>\n      <td>0.260950</td>\n    </tr>\n    <tr>\n      <th>1</th>\n      <td>ΑΝΥΠΑΝΤΡΟΣ/Η</td>\n      <td>ΑΡΝΗΘΗΚΕ</td>\n      <td>ΛΟΙΠΕΣ ΠΗΓΕΣ - ΠΡΟΣΤΑΤΕΥΟΜΕΝΟΣ ΜΕΛΟΣ</td>\n      <td>Ιδιώτες Πελάτες</td>\n      <td>01. &lt;=25</td>\n      <td>0</td>\n      <td>Safe Pocket</td>\n      <td>0.458791</td>\n    </tr>\n    <tr>\n      <th>2</th>\n      <td>ΑΝΥΠΑΝΤΡΟΣ/Η</td>\n      <td>ΑΡΝΗΘΗΚΕ</td>\n      <td>ΛΟΙΠΕΣ ΠΗΓΕΣ - ΠΡΟΣΤΑΤΕΥΟΜΕΝΟΣ ΜΕΛΟΣ</td>\n      <td>Ιδιώτες Πελάτες</td>\n      <td>04. 46-55</td>\n      <td>0</td>\n      <td>Credit Cards</td>\n      <td>0.246410</td>\n    </tr>\n    <tr>\n      <th>3</th>\n      <td>ΑΝΥΠΑΝΤΡΟΣ/Η</td>\n      <td>ΑΡΝΗΘΗΚΕ</td>\n      <td>ΛΟΙΠΕΣ ΠΗΓΕΣ - ΠΡΟΣΤΑΤΕΥΟΜΕΝΟΣ ΜΕΛΟΣ</td>\n      <td>Ιδιώτες Πελάτες</td>\n      <td>04. 46-55</td>\n      <td>0</td>\n      <td>Safe Pocket</td>\n      <td>0.455026</td>\n    </tr>\n    <tr>\n      <th>4</th>\n      <td>ΑΝΥΠΑΝΤΡΟΣ/Η</td>\n      <td>ΑΡΝΗΘΗΚΕ</td>\n      <td>ΛΟΙΠΕΣ ΠΗΓΕΣ - ΠΡΟΣΤΑΤΕΥΟΜΕΝΟΣ ΜΕΛΟΣ</td>\n      <td>Ιδιώτες Πελάτες</td>\n      <td>05. 56-65</td>\n      <td>0</td>\n      <td>Credit Cards</td>\n      <td>0.246410</td>\n    </tr>\n  </tbody>\n</table>\n</div>",
            "text/plain": "  MaritalStatus Education                            Occupation  \\\n0  ΑΝΥΠΑΝΤΡΟΣ/Η  ΑΡΝΗΘΗΚΕ  ΛΟΙΠΕΣ ΠΗΓΕΣ - ΠΡΟΣΤΑΤΕΥΟΜΕΝΟΣ ΜΕΛΟΣ   \n1  ΑΝΥΠΑΝΤΡΟΣ/Η  ΑΡΝΗΘΗΚΕ  ΛΟΙΠΕΣ ΠΗΓΕΣ - ΠΡΟΣΤΑΤΕΥΟΜΕΝΟΣ ΜΕΛΟΣ   \n2  ΑΝΥΠΑΝΤΡΟΣ/Η  ΑΡΝΗΘΗΚΕ  ΛΟΙΠΕΣ ΠΗΓΕΣ - ΠΡΟΣΤΑΤΕΥΟΜΕΝΟΣ ΜΕΛΟΣ   \n3  ΑΝΥΠΑΝΤΡΟΣ/Η  ΑΡΝΗΘΗΚΕ  ΛΟΙΠΕΣ ΠΗΓΕΣ - ΠΡΟΣΤΑΤΕΥΟΜΕΝΟΣ ΜΕΛΟΣ   \n4  ΑΝΥΠΑΝΤΡΟΣ/Η  ΑΡΝΗΘΗΚΕ  ΛΟΙΠΕΣ ΠΗΓΕΣ - ΠΡΟΣΤΑΤΕΥΟΜΕΝΟΣ ΜΕΛΟΣ   \n\n           Segment    AgeBand  ChildrenFlag      Proposal   Support  \n0  Ιδιώτες Πελάτες   01. <=25             0  Credit Cards  0.260950  \n1  Ιδιώτες Πελάτες   01. <=25             0   Safe Pocket  0.458791  \n2  Ιδιώτες Πελάτες  04. 46-55             0  Credit Cards  0.246410  \n3  Ιδιώτες Πελάτες  04. 46-55             0   Safe Pocket  0.455026  \n4  Ιδιώτες Πελάτες  05. 56-65             0  Credit Cards  0.246410  "
          },
          "metadata": {}
        }
      ],
      "execution_count": 5,
      "metadata": {},
      "id": "dress-wages"
    },
    {
      "cell_type": "code",
      "source": [
        "rs.MaritalStatus.unique()"
      ],
      "outputs": [
        {
          "output_type": "execute_result",
          "execution_count": 6,
          "data": {
            "text/plain": "array(['ΑΝΥΠΑΝΤΡΟΣ/Η', 'ΜΗ ΔΙΑΘΕΣΙΜΟ', 'ΠΑΝΤΡΕΜΕΝΟΣ/Η', 'ΣΥΓΚΑΤΟΙΚΗΣΗ',\n       'ΧΗΡΟΣ/Α', 'ΧΩΡΙΣΜΕΝΟΣ/Η'], dtype=object)"
          },
          "metadata": {}
        }
      ],
      "execution_count": 6,
      "metadata": {},
      "id": "nuclear-affect"
    },
    {
      "cell_type": "code",
      "source": [
        "rs.Education.unique()"
      ],
      "outputs": [
        {
          "output_type": "execute_result",
          "execution_count": 7,
          "data": {
            "text/plain": "array(['ΑΡΝΗΘΗΚΕ', 'ΓΥΜΝΑΣΙΟ', 'ΔΙΔΑΚΤΟΡΙΚΟ', 'ΙΕΚ', 'ΛΥΚΕΙΟ',\n       'ΜΕΤΑΠΤΥΧΙΑΚΑ', 'ΜΗ ΔΙΑΘΕΣΙΜΟ', 'ΠΡΩΤΟΒΑΘΜΙΑ ΕΚΠΑΙΔΕΥΣΗ',\n       'ΤΡΙΤΟΒΑΘΜΙΑ ΕΚΠΑΙΔΕΥΣΗ'], dtype=object)"
          },
          "metadata": {}
        }
      ],
      "execution_count": 7,
      "metadata": {},
      "id": "union-revision"
    },
    {
      "cell_type": "code",
      "source": [
        "rs.Occupation.unique()"
      ],
      "outputs": [
        {
          "output_type": "execute_result",
          "execution_count": 8,
          "data": {
            "text/plain": "array(['ΛΟΙΠΕΣ ΠΗΓΕΣ - ΠΡΟΣΤΑΤΕΥΟΜΕΝΟΣ ΜΕΛΟΣ',\n       'ΜΙΣΘΩΤΕΣ ΥΠΗΡΕΣΙΕΣ - ΔΗΜΟΣΙΟΣ ΥΠΑΛΛΗΛΟΣ',\n       'ΜΙΣΘΩΤΕΣ ΥΠΗΡΕΣΙΕΣ - ΙΔΙΩΤΙΚΟΣ ΥΠΑΛΛΗΛΟΣ',\n       'ΓΕΩΡΓΙΚΕΣ ΕΠΙΧΕΙΡΗΣΕΙΣ', 'ΕΛΕΥΘΕΡΑ ΕΠΑΓΓΕΛΜΑΤΑ',\n       'ΕΜΠΟΡΙΚΕΣ ΕΠΙΧΕΙΡΗΣΕΙΣ', 'ΚΙΝΗΤΕΣ ΑΞΙΕΣ - ΑΚΙΝΗΤΑ',\n       'ΛΟΙΠΕΣ ΠΗΓΕΣ - ΣΥΝΤΑΞΙΟΥΧΟΣ'], dtype=object)"
          },
          "metadata": {}
        }
      ],
      "execution_count": 8,
      "metadata": {},
      "id": "patient-panic"
    },
    {
      "cell_type": "code",
      "source": [
        "rs.Segment.unique()"
      ],
      "outputs": [
        {
          "output_type": "execute_result",
          "execution_count": 9,
          "data": {
            "text/plain": "array(['Ιδιώτες Πελάτες', 'Personal Banking', 'Small Business Banking'],\n      dtype=object)"
          },
          "metadata": {}
        }
      ],
      "execution_count": 9,
      "metadata": {},
      "id": "neither-running"
    },
    {
      "cell_type": "code",
      "source": [
        "rs.AgeBand.unique()"
      ],
      "outputs": [
        {
          "output_type": "execute_result",
          "execution_count": 10,
          "data": {
            "text/plain": "array(['01. <=25', '04. 46-55', '05. 56-65', '02. 26-35', '03. 36-45',\n       '06. 66+'], dtype=object)"
          },
          "metadata": {}
        }
      ],
      "execution_count": 10,
      "metadata": {},
      "id": "obvious-russia"
    },
    {
      "cell_type": "code",
      "source": [
        "rs.Segment.unique()"
      ],
      "outputs": [
        {
          "output_type": "execute_result",
          "execution_count": 11,
          "data": {
            "text/plain": "array(['Ιδιώτες Πελάτες', 'Personal Banking', 'Small Business Banking'],\n      dtype=object)"
          },
          "metadata": {}
        }
      ],
      "execution_count": 11,
      "metadata": {},
      "id": "alternate-wallpaper"
    },
    {
      "cell_type": "code",
      "source": [
        "ms = 'ΠΑΝΤΡΕΜΕΝΟΣ/Η'\n",
        "ed = 'ΛΥΚΕΙΟ'\n",
        "oc = 'ΜΙΣΘΩΤΕΣ ΥΠΗΡΕΣΙΕΣ - ΙΔΙΩΤΙΚΟΣ ΥΠΑΛΛΗΛΟΣ'\n",
        "ag = '04. 46-55'\n",
        "cf = 1\n",
        "sg = 'Personal Banking'"
      ],
      "outputs": [],
      "execution_count": 12,
      "metadata": {},
      "id": "vertical-marathon"
    },
    {
      "cell_type": "code",
      "source": [
        "result = pd.DataFrame(rs[(rs['MaritalStatus'] == ms)&(rs['Education']==ed)&(rs['Occupation']==oc)&\n",
        "   (rs['AgeBand']==ag)&(rs['ChildrenFlag']==cf)&(rs['Segment']==sg)].sort_values(by=['Support'], ascending = False).Proposal.head(3))"
      ],
      "outputs": [],
      "execution_count": 13,
      "metadata": {},
      "id": "governmental-field"
    },
    {
      "cell_type": "code",
      "source": [
        "rs.MaritalStatus[0]"
      ],
      "outputs": [
        {
          "output_type": "execute_result",
          "execution_count": 16,
          "data": {
            "text/plain": "'ΑΝΥΠΑΝΤΡΟΣ/Η'"
          },
          "metadata": {}
        }
      ],
      "execution_count": 16,
      "metadata": {},
      "id": "equipped-thompson"
    }
  ],
  "metadata": {
    "kernelspec": {
      "name": "python3-azureml",
      "language": "python",
      "display_name": "Python 3.6 - AzureML"
    },
    "language_info": {
      "name": "python",
      "version": "3.6.9",
      "mimetype": "text/x-python",
      "codemirror_mode": {
        "name": "ipython",
        "version": 3
      },
      "pygments_lexer": "ipython3",
      "nbconvert_exporter": "python",
      "file_extension": ".py"
    },
    "kernel_info": {
      "name": "python3-azureml"
    },
    "nteract": {
      "version": "nteract-front-end@1.0.0"
    }
  },
  "nbformat": 4,
  "nbformat_minor": 5
}