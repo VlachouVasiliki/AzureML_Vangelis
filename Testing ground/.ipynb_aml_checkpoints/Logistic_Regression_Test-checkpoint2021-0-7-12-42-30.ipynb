{
  "cells": [
    {
      "cell_type": "code",
      "source": [
        "%matplotlib inline\r\n",
        "import matplotlib.pyplot as plt\r\n",
        "plt.rc(\"font\", size=14)\r\n",
        "import pandas as pd\r\n",
        "import numpy as np\r\n",
        "import math\r\n",
        "from sklearn.model_selection import train_test_split\r\n",
        "from sklearn.linear_model import LogisticRegression\r\n",
        "from sklearn.feature_selection import RFE\r\n",
        "from sklearn.metrics import confusion_matrix\r\n",
        "from sklearn.metrics import classification_report\r\n",
        "from sklearn.metrics import roc_auc_score\r\n",
        "from sklearn.metrics import roc_curve\r\n",
        "from sklearn.metrics import auc\r\n"
      ],
      "outputs": [],
      "execution_count": 4,
      "metadata": {
        "collapsed": true,
        "jupyter": {
          "source_hidden": false,
          "outputs_hidden": false
        },
        "nteract": {
          "transient": {
            "deleting": false
          }
        },
        "gather": {
          "logged": 1609765910119
        }
      }
    },
    {
      "cell_type": "code",
      "source": [
        "# azureml-core of version 1.0.72 or higher is required\r\n",
        "# azureml-dataprep[pandas] of version 1.1.34 or higher is required\r\n",
        "from azureml.core import Workspace, Dataset\r\n",
        "\r\n",
        "subscription_id = '6ed9d167-b2e6-41b8-9500-35e6df64d9dc'\r\n",
        "resource_group = 'MLRG'\r\n",
        "workspace_name = 'erbbimlws'\r\n",
        "\r\n",
        "workspace = Workspace(subscription_id, resource_group, workspace_name)\r\n",
        "\r\n"
      ],
      "outputs": [
        {
          "output_type": "stream",
          "name": "stdout",
          "text": [
            "Performing interactive authentication. Please follow the instructions on the terminal.\n",
            "To sign in, use a web browser to open the page https://microsoft.com/devicelogin and enter the code CQ2EFGDEG to authenticate.\n",
            "You have logged in. Now let us find all the subscriptions to which you have access...\n",
            "Interactive authentication successfully completed.\n"
          ]
        }
      ],
      "execution_count": 5,
      "metadata": {
        "collapsed": true,
        "jupyter": {
          "source_hidden": false,
          "outputs_hidden": false
        },
        "nteract": {
          "transient": {
            "deleting": false
          }
        },
        "gather": {
          "logged": 1609765942880
        }
      }
    },
    {
      "cell_type": "code",
      "source": [
        "df = Dataset.get_by_name(workspace, name='Time_Deposits_Data_Set')\r\n",
        "df.to_pandas_dataframe()"
      ],
      "outputs": [
        {
          "output_type": "execute_result",
          "execution_count": 6,
          "data": {
            "text/plain": "        Customer_ID  Gender Birth_Date   Ref_Date Marital_Status  \\\n0             36163    Male 1968-01-20 2008-12-31         Single   \n1           5904434    Male 1973-04-07 2008-12-31         Single   \n2           5904453    Male 1960-10-17 2008-12-31        Married   \n3            855752    Male 1969-07-28 2008-12-31        Married   \n4                81    Male 1950-07-27 2008-12-31        Married   \n...             ...     ...        ...        ...            ...   \n119995      5902524    Male 1972-07-22 2008-12-31        Married   \n119996      5902564    Male 1978-09-30 2008-12-31         Single   \n119997      5902614  Female 1984-11-26 2008-12-31        Married   \n119998      5902625    Male 1968-02-21 2008-12-31        Married   \n119999      5902641    Male 1957-01-17 2008-12-31         Single   \n\n        Children_Num Occupation_Category  Total_Income  Payroll_Flag  \\\n0                  0           Employees         17637             0   \n1                  0            Rentiers          5800             0   \n2                  2            Rentiers         14000             0   \n3                  2     Business-Owners         54814             0   \n4                  2           Employees         64988             0   \n...              ...                 ...           ...           ...   \n119995             2           Employees         30647             1   \n119996             0     Business-Owners         65714             0   \n119997             0           Employees          4730             0   \n119998             2     Business-Owners         30476             0   \n119999             0      Self-Employees          6012             0   \n\n        Business_Flag  ...  Transfer_Trans_Amount  Credit_Cards_Installments  \\\n0                   0  ...               0.000000                   0.000000   \n1                   0  ...               0.000000                   0.000000   \n2                   0  ...               0.000000                   0.000000   \n3                   0  ...             105.000000                   1.666667   \n4                   0  ...               0.000000                   0.666667   \n...               ...  ...                    ...                        ...   \n119995              0  ...               0.000000                   0.000000   \n119996              0  ...               0.000000                   0.000000   \n119997              0  ...               0.000000                   0.000000   \n119998              0  ...               0.000000                   0.000000   \n119999              0  ...             198.333333                   0.000000   \n\n        Credit_Cards_Payments_Num  Credit_Cards_Purchases_Num  \\\n0                        0.000000                         0.0   \n1                        0.000000                         0.0   \n2                        0.000000                         0.0   \n3                        0.666667                         1.0   \n4                        0.666667                         0.0   \n...                           ...                         ...   \n119995                   0.000000                         0.0   \n119996                   0.000000                         0.0   \n119997                   0.000000                         0.0   \n119998                   0.000000                         0.0   \n119999                   0.000000                         0.0   \n\n        Credit_Cards_Witrhdrawals_Num  Credit_Cards_Payments_Amount  \\\n0                                 0.0                      0.000000   \n1                                 0.0                      0.000000   \n2                                 0.0                      0.000000   \n3                                 0.0                    141.666666   \n4                                 0.0                    603.816666   \n...                               ...                           ...   \n119995                            0.0                      0.000000   \n119996                            0.0                      0.000000   \n119997                            0.0                      0.000000   \n119998                            0.0                      0.000000   \n119999                            0.0                      0.000000   \n\n        Credit_Cards_Purchases_Amount  Credit_Cards_Witrhdrawals_Amount  \\\n0                                0.00                               0.0   \n1                                0.00                               0.0   \n2                                0.00                               0.0   \n3                              230.45                               0.0   \n4                                0.00                               0.0   \n...                               ...                               ...   \n119995                           0.00                               0.0   \n119996                           0.00                               0.0   \n119997                           0.00                               0.0   \n119998                           0.00                               0.0   \n119999                           0.00                               0.0   \n\n        Arrears_Months_Max  Time_Deposits_Flag  \n0                        1               False  \n1                        1               False  \n2                        1               False  \n3                        1               False  \n4                        1               False  \n...                    ...                 ...  \n119995                   0               False  \n119996                   0                True  \n119997                   0               False  \n119998                   1               False  \n119999                   1               False  \n\n[120000 rows x 46 columns]",
            "text/html": "<div>\n<style scoped>\n    .dataframe tbody tr th:only-of-type {\n        vertical-align: middle;\n    }\n\n    .dataframe tbody tr th {\n        vertical-align: top;\n    }\n\n    .dataframe thead th {\n        text-align: right;\n    }\n</style>\n<table border=\"1\" class=\"dataframe\">\n  <thead>\n    <tr style=\"text-align: right;\">\n      <th></th>\n      <th>Customer_ID</th>\n      <th>Gender</th>\n      <th>Birth_Date</th>\n      <th>Ref_Date</th>\n      <th>Marital_Status</th>\n      <th>Children_Num</th>\n      <th>Occupation_Category</th>\n      <th>Total_Income</th>\n      <th>Payroll_Flag</th>\n      <th>Business_Flag</th>\n      <th>...</th>\n      <th>Transfer_Trans_Amount</th>\n      <th>Credit_Cards_Installments</th>\n      <th>Credit_Cards_Payments_Num</th>\n      <th>Credit_Cards_Purchases_Num</th>\n      <th>Credit_Cards_Witrhdrawals_Num</th>\n      <th>Credit_Cards_Payments_Amount</th>\n      <th>Credit_Cards_Purchases_Amount</th>\n      <th>Credit_Cards_Witrhdrawals_Amount</th>\n      <th>Arrears_Months_Max</th>\n      <th>Time_Deposits_Flag</th>\n    </tr>\n  </thead>\n  <tbody>\n    <tr>\n      <th>0</th>\n      <td>36163</td>\n      <td>Male</td>\n      <td>1968-01-20</td>\n      <td>2008-12-31</td>\n      <td>Single</td>\n      <td>0</td>\n      <td>Employees</td>\n      <td>17637</td>\n      <td>0</td>\n      <td>0</td>\n      <td>...</td>\n      <td>0.000000</td>\n      <td>0.000000</td>\n      <td>0.000000</td>\n      <td>0.0</td>\n      <td>0.0</td>\n      <td>0.000000</td>\n      <td>0.00</td>\n      <td>0.0</td>\n      <td>1</td>\n      <td>False</td>\n    </tr>\n    <tr>\n      <th>1</th>\n      <td>5904434</td>\n      <td>Male</td>\n      <td>1973-04-07</td>\n      <td>2008-12-31</td>\n      <td>Single</td>\n      <td>0</td>\n      <td>Rentiers</td>\n      <td>5800</td>\n      <td>0</td>\n      <td>0</td>\n      <td>...</td>\n      <td>0.000000</td>\n      <td>0.000000</td>\n      <td>0.000000</td>\n      <td>0.0</td>\n      <td>0.0</td>\n      <td>0.000000</td>\n      <td>0.00</td>\n      <td>0.0</td>\n      <td>1</td>\n      <td>False</td>\n    </tr>\n    <tr>\n      <th>2</th>\n      <td>5904453</td>\n      <td>Male</td>\n      <td>1960-10-17</td>\n      <td>2008-12-31</td>\n      <td>Married</td>\n      <td>2</td>\n      <td>Rentiers</td>\n      <td>14000</td>\n      <td>0</td>\n      <td>0</td>\n      <td>...</td>\n      <td>0.000000</td>\n      <td>0.000000</td>\n      <td>0.000000</td>\n      <td>0.0</td>\n      <td>0.0</td>\n      <td>0.000000</td>\n      <td>0.00</td>\n      <td>0.0</td>\n      <td>1</td>\n      <td>False</td>\n    </tr>\n    <tr>\n      <th>3</th>\n      <td>855752</td>\n      <td>Male</td>\n      <td>1969-07-28</td>\n      <td>2008-12-31</td>\n      <td>Married</td>\n      <td>2</td>\n      <td>Business-Owners</td>\n      <td>54814</td>\n      <td>0</td>\n      <td>0</td>\n      <td>...</td>\n      <td>105.000000</td>\n      <td>1.666667</td>\n      <td>0.666667</td>\n      <td>1.0</td>\n      <td>0.0</td>\n      <td>141.666666</td>\n      <td>230.45</td>\n      <td>0.0</td>\n      <td>1</td>\n      <td>False</td>\n    </tr>\n    <tr>\n      <th>4</th>\n      <td>81</td>\n      <td>Male</td>\n      <td>1950-07-27</td>\n      <td>2008-12-31</td>\n      <td>Married</td>\n      <td>2</td>\n      <td>Employees</td>\n      <td>64988</td>\n      <td>0</td>\n      <td>0</td>\n      <td>...</td>\n      <td>0.000000</td>\n      <td>0.666667</td>\n      <td>0.666667</td>\n      <td>0.0</td>\n      <td>0.0</td>\n      <td>603.816666</td>\n      <td>0.00</td>\n      <td>0.0</td>\n      <td>1</td>\n      <td>False</td>\n    </tr>\n    <tr>\n      <th>...</th>\n      <td>...</td>\n      <td>...</td>\n      <td>...</td>\n      <td>...</td>\n      <td>...</td>\n      <td>...</td>\n      <td>...</td>\n      <td>...</td>\n      <td>...</td>\n      <td>...</td>\n      <td>...</td>\n      <td>...</td>\n      <td>...</td>\n      <td>...</td>\n      <td>...</td>\n      <td>...</td>\n      <td>...</td>\n      <td>...</td>\n      <td>...</td>\n      <td>...</td>\n      <td>...</td>\n    </tr>\n    <tr>\n      <th>119995</th>\n      <td>5902524</td>\n      <td>Male</td>\n      <td>1972-07-22</td>\n      <td>2008-12-31</td>\n      <td>Married</td>\n      <td>2</td>\n      <td>Employees</td>\n      <td>30647</td>\n      <td>1</td>\n      <td>0</td>\n      <td>...</td>\n      <td>0.000000</td>\n      <td>0.000000</td>\n      <td>0.000000</td>\n      <td>0.0</td>\n      <td>0.0</td>\n      <td>0.000000</td>\n      <td>0.00</td>\n      <td>0.0</td>\n      <td>0</td>\n      <td>False</td>\n    </tr>\n    <tr>\n      <th>119996</th>\n      <td>5902564</td>\n      <td>Male</td>\n      <td>1978-09-30</td>\n      <td>2008-12-31</td>\n      <td>Single</td>\n      <td>0</td>\n      <td>Business-Owners</td>\n      <td>65714</td>\n      <td>0</td>\n      <td>0</td>\n      <td>...</td>\n      <td>0.000000</td>\n      <td>0.000000</td>\n      <td>0.000000</td>\n      <td>0.0</td>\n      <td>0.0</td>\n      <td>0.000000</td>\n      <td>0.00</td>\n      <td>0.0</td>\n      <td>0</td>\n      <td>True</td>\n    </tr>\n    <tr>\n      <th>119997</th>\n      <td>5902614</td>\n      <td>Female</td>\n      <td>1984-11-26</td>\n      <td>2008-12-31</td>\n      <td>Married</td>\n      <td>0</td>\n      <td>Employees</td>\n      <td>4730</td>\n      <td>0</td>\n      <td>0</td>\n      <td>...</td>\n      <td>0.000000</td>\n      <td>0.000000</td>\n      <td>0.000000</td>\n      <td>0.0</td>\n      <td>0.0</td>\n      <td>0.000000</td>\n      <td>0.00</td>\n      <td>0.0</td>\n      <td>0</td>\n      <td>False</td>\n    </tr>\n    <tr>\n      <th>119998</th>\n      <td>5902625</td>\n      <td>Male</td>\n      <td>1968-02-21</td>\n      <td>2008-12-31</td>\n      <td>Married</td>\n      <td>2</td>\n      <td>Business-Owners</td>\n      <td>30476</td>\n      <td>0</td>\n      <td>0</td>\n      <td>...</td>\n      <td>0.000000</td>\n      <td>0.000000</td>\n      <td>0.000000</td>\n      <td>0.0</td>\n      <td>0.0</td>\n      <td>0.000000</td>\n      <td>0.00</td>\n      <td>0.0</td>\n      <td>1</td>\n      <td>False</td>\n    </tr>\n    <tr>\n      <th>119999</th>\n      <td>5902641</td>\n      <td>Male</td>\n      <td>1957-01-17</td>\n      <td>2008-12-31</td>\n      <td>Single</td>\n      <td>0</td>\n      <td>Self-Employees</td>\n      <td>6012</td>\n      <td>0</td>\n      <td>0</td>\n      <td>...</td>\n      <td>198.333333</td>\n      <td>0.000000</td>\n      <td>0.000000</td>\n      <td>0.0</td>\n      <td>0.0</td>\n      <td>0.000000</td>\n      <td>0.00</td>\n      <td>0.0</td>\n      <td>1</td>\n      <td>False</td>\n    </tr>\n  </tbody>\n</table>\n<p>120000 rows × 46 columns</p>\n</div>"
          },
          "metadata": {}
        }
      ],
      "execution_count": 6,
      "metadata": {
        "collapsed": true,
        "jupyter": {
          "source_hidden": false,
          "outputs_hidden": false
        },
        "nteract": {
          "transient": {
            "deleting": false
          }
        },
        "gather": {
          "logged": 1609766015697
        }
      }
    },
    {
      "cell_type": "code",
      "source": [
        "df = df.to_pandas_dataframe()"
      ],
      "outputs": [],
      "execution_count": 10,
      "metadata": {
        "collapsed": true,
        "jupyter": {
          "source_hidden": false,
          "outputs_hidden": false
        },
        "nteract": {
          "transient": {
            "deleting": false
          }
        },
        "gather": {
          "logged": 1609766114521
        }
      }
    },
    {
      "cell_type": "code",
      "source": [
        "df.head()"
      ],
      "outputs": [
        {
          "output_type": "execute_result",
          "execution_count": 12,
          "data": {
            "text/plain": "   Customer_ID Gender Birth_Date   Ref_Date Marital_Status  Children_Num  \\\n0        36163   Male 1968-01-20 2008-12-31         Single             0   \n1      5904434   Male 1973-04-07 2008-12-31         Single             0   \n2      5904453   Male 1960-10-17 2008-12-31        Married             2   \n3       855752   Male 1969-07-28 2008-12-31        Married             2   \n4           81   Male 1950-07-27 2008-12-31        Married             2   \n\n  Occupation_Category  Total_Income  Payroll_Flag  Business_Flag  ...  \\\n0           Employees         17637             0              0  ...   \n1            Rentiers          5800             0              0  ...   \n2            Rentiers         14000             0              0  ...   \n3     Business-Owners         54814             0              0  ...   \n4           Employees         64988             0              0  ...   \n\n   Transfer_Trans_Amount  Credit_Cards_Installments  \\\n0                    0.0                   0.000000   \n1                    0.0                   0.000000   \n2                    0.0                   0.000000   \n3                  105.0                   1.666667   \n4                    0.0                   0.666667   \n\n   Credit_Cards_Payments_Num  Credit_Cards_Purchases_Num  \\\n0                   0.000000                         0.0   \n1                   0.000000                         0.0   \n2                   0.000000                         0.0   \n3                   0.666667                         1.0   \n4                   0.666667                         0.0   \n\n   Credit_Cards_Witrhdrawals_Num  Credit_Cards_Payments_Amount  \\\n0                            0.0                      0.000000   \n1                            0.0                      0.000000   \n2                            0.0                      0.000000   \n3                            0.0                    141.666666   \n4                            0.0                    603.816666   \n\n   Credit_Cards_Purchases_Amount  Credit_Cards_Witrhdrawals_Amount  \\\n0                           0.00                               0.0   \n1                           0.00                               0.0   \n2                           0.00                               0.0   \n3                         230.45                               0.0   \n4                           0.00                               0.0   \n\n   Arrears_Months_Max  Time_Deposits_Flag  \n0                   1               False  \n1                   1               False  \n2                   1               False  \n3                   1               False  \n4                   1               False  \n\n[5 rows x 46 columns]",
            "text/html": "<div>\n<style scoped>\n    .dataframe tbody tr th:only-of-type {\n        vertical-align: middle;\n    }\n\n    .dataframe tbody tr th {\n        vertical-align: top;\n    }\n\n    .dataframe thead th {\n        text-align: right;\n    }\n</style>\n<table border=\"1\" class=\"dataframe\">\n  <thead>\n    <tr style=\"text-align: right;\">\n      <th></th>\n      <th>Customer_ID</th>\n      <th>Gender</th>\n      <th>Birth_Date</th>\n      <th>Ref_Date</th>\n      <th>Marital_Status</th>\n      <th>Children_Num</th>\n      <th>Occupation_Category</th>\n      <th>Total_Income</th>\n      <th>Payroll_Flag</th>\n      <th>Business_Flag</th>\n      <th>...</th>\n      <th>Transfer_Trans_Amount</th>\n      <th>Credit_Cards_Installments</th>\n      <th>Credit_Cards_Payments_Num</th>\n      <th>Credit_Cards_Purchases_Num</th>\n      <th>Credit_Cards_Witrhdrawals_Num</th>\n      <th>Credit_Cards_Payments_Amount</th>\n      <th>Credit_Cards_Purchases_Amount</th>\n      <th>Credit_Cards_Witrhdrawals_Amount</th>\n      <th>Arrears_Months_Max</th>\n      <th>Time_Deposits_Flag</th>\n    </tr>\n  </thead>\n  <tbody>\n    <tr>\n      <th>0</th>\n      <td>36163</td>\n      <td>Male</td>\n      <td>1968-01-20</td>\n      <td>2008-12-31</td>\n      <td>Single</td>\n      <td>0</td>\n      <td>Employees</td>\n      <td>17637</td>\n      <td>0</td>\n      <td>0</td>\n      <td>...</td>\n      <td>0.0</td>\n      <td>0.000000</td>\n      <td>0.000000</td>\n      <td>0.0</td>\n      <td>0.0</td>\n      <td>0.000000</td>\n      <td>0.00</td>\n      <td>0.0</td>\n      <td>1</td>\n      <td>False</td>\n    </tr>\n    <tr>\n      <th>1</th>\n      <td>5904434</td>\n      <td>Male</td>\n      <td>1973-04-07</td>\n      <td>2008-12-31</td>\n      <td>Single</td>\n      <td>0</td>\n      <td>Rentiers</td>\n      <td>5800</td>\n      <td>0</td>\n      <td>0</td>\n      <td>...</td>\n      <td>0.0</td>\n      <td>0.000000</td>\n      <td>0.000000</td>\n      <td>0.0</td>\n      <td>0.0</td>\n      <td>0.000000</td>\n      <td>0.00</td>\n      <td>0.0</td>\n      <td>1</td>\n      <td>False</td>\n    </tr>\n    <tr>\n      <th>2</th>\n      <td>5904453</td>\n      <td>Male</td>\n      <td>1960-10-17</td>\n      <td>2008-12-31</td>\n      <td>Married</td>\n      <td>2</td>\n      <td>Rentiers</td>\n      <td>14000</td>\n      <td>0</td>\n      <td>0</td>\n      <td>...</td>\n      <td>0.0</td>\n      <td>0.000000</td>\n      <td>0.000000</td>\n      <td>0.0</td>\n      <td>0.0</td>\n      <td>0.000000</td>\n      <td>0.00</td>\n      <td>0.0</td>\n      <td>1</td>\n      <td>False</td>\n    </tr>\n    <tr>\n      <th>3</th>\n      <td>855752</td>\n      <td>Male</td>\n      <td>1969-07-28</td>\n      <td>2008-12-31</td>\n      <td>Married</td>\n      <td>2</td>\n      <td>Business-Owners</td>\n      <td>54814</td>\n      <td>0</td>\n      <td>0</td>\n      <td>...</td>\n      <td>105.0</td>\n      <td>1.666667</td>\n      <td>0.666667</td>\n      <td>1.0</td>\n      <td>0.0</td>\n      <td>141.666666</td>\n      <td>230.45</td>\n      <td>0.0</td>\n      <td>1</td>\n      <td>False</td>\n    </tr>\n    <tr>\n      <th>4</th>\n      <td>81</td>\n      <td>Male</td>\n      <td>1950-07-27</td>\n      <td>2008-12-31</td>\n      <td>Married</td>\n      <td>2</td>\n      <td>Employees</td>\n      <td>64988</td>\n      <td>0</td>\n      <td>0</td>\n      <td>...</td>\n      <td>0.0</td>\n      <td>0.666667</td>\n      <td>0.666667</td>\n      <td>0.0</td>\n      <td>0.0</td>\n      <td>603.816666</td>\n      <td>0.00</td>\n      <td>0.0</td>\n      <td>1</td>\n      <td>False</td>\n    </tr>\n  </tbody>\n</table>\n<p>5 rows × 46 columns</p>\n</div>"
          },
          "metadata": {}
        }
      ],
      "execution_count": 12,
      "metadata": {
        "collapsed": true,
        "jupyter": {
          "source_hidden": false,
          "outputs_hidden": false
        },
        "nteract": {
          "transient": {
            "deleting": false
          }
        },
        "gather": {
          "logged": 1609766136619
        }
      }
    }
  ],
  "metadata": {
    "kernelspec": {
      "name": "python3-azureml",
      "language": "python",
      "display_name": "Python 3.6 - AzureML"
    },
    "language_info": {
      "name": "python",
      "version": "3.6.9",
      "mimetype": "text/x-python",
      "codemirror_mode": {
        "name": "ipython",
        "version": 3
      },
      "pygments_lexer": "ipython3",
      "nbconvert_exporter": "python",
      "file_extension": ".py"
    },
    "kernel_info": {
      "name": "python3-azureml"
    },
    "nteract": {
      "version": "nteract-front-end@1.0.0"
    }
  },
  "nbformat": 4,
  "nbformat_minor": 2
}