{
 "cells": [
  {
   "cell_type": "code",
   "execution_count": 2,
   "id": "stable-flight",
   "metadata": {},
   "outputs": [],
   "source": [
    "import pandas as pd\n"
   ]
  },
  {
   "cell_type": "code",
   "execution_count": 3,
   "id": "limiting-sheriff",
   "metadata": {},
   "outputs": [],
   "source": [
    "# azureml-core of version 1.0.72 or higher is required\n",
    "# azureml-dataprep[pandas] of version 1.1.34 or higher is required\n",
    "from azureml.core import Workspace, Dataset\n",
    "\n",
    "subscription_id = '6ed9d167-b2e6-41b8-9500-35e6df64d9dc'\n",
    "resource_group = 'MLRG'\n",
    "workspace_name = 'erbbimlws'\n",
    "\n",
    "workspace = Workspace(subscription_id, resource_group, workspace_name)\n",
    "\n",
    "dataset = Dataset.get_by_name(workspace, name='RecommendationEngineRules')\n",
    "rs = dataset.to_pandas_dataframe()"
   ]
  },
  {
   "cell_type": "code",
   "execution_count": 4,
   "id": "capable-mambo",
   "metadata": {},
   "outputs": [],
   "source": [
    "rs.columns = ['MaritalStatus','Education','Occupation','Segment','AgeBand','ChildrenFlag','Proposal','Support']"
   ]
  },
  {
   "cell_type": "code",
   "execution_count": 5,
   "id": "dress-wages",
   "metadata": {},
   "outputs": [
    {
     "data": {
      "text/html": [
       "<div>\n",
       "<style scoped>\n",
       "    .dataframe tbody tr th:only-of-type {\n",
       "        vertical-align: middle;\n",
       "    }\n",
       "\n",
       "    .dataframe tbody tr th {\n",
       "        vertical-align: top;\n",
       "    }\n",
       "\n",
       "    .dataframe thead th {\n",
       "        text-align: right;\n",
       "    }\n",
       "</style>\n",
       "<table border=\"1\" class=\"dataframe\">\n",
       "  <thead>\n",
       "    <tr style=\"text-align: right;\">\n",
       "      <th></th>\n",
       "      <th>MaritalStatus</th>\n",
       "      <th>Education</th>\n",
       "      <th>Occupation</th>\n",
       "      <th>Segment</th>\n",
       "      <th>AgeBand</th>\n",
       "      <th>ChildrenFlag</th>\n",
       "      <th>Proposal</th>\n",
       "      <th>Support</th>\n",
       "    </tr>\n",
       "  </thead>\n",
       "  <tbody>\n",
       "    <tr>\n",
       "      <th>0</th>\n",
       "      <td>ΑΝΥΠΑΝΤΡΟΣ/Η</td>\n",
       "      <td>ΑΡΝΗΘΗΚΕ</td>\n",
       "      <td>ΛΟΙΠΕΣ ΠΗΓΕΣ - ΠΡΟΣΤΑΤΕΥΟΜΕΝΟΣ ΜΕΛΟΣ</td>\n",
       "      <td>Ιδιώτες Πελάτες</td>\n",
       "      <td>01. &lt;=25</td>\n",
       "      <td>0</td>\n",
       "      <td>Credit Cards</td>\n",
       "      <td>0.260950</td>\n",
       "    </tr>\n",
       "    <tr>\n",
       "      <th>1</th>\n",
       "      <td>ΑΝΥΠΑΝΤΡΟΣ/Η</td>\n",
       "      <td>ΑΡΝΗΘΗΚΕ</td>\n",
       "      <td>ΛΟΙΠΕΣ ΠΗΓΕΣ - ΠΡΟΣΤΑΤΕΥΟΜΕΝΟΣ ΜΕΛΟΣ</td>\n",
       "      <td>Ιδιώτες Πελάτες</td>\n",
       "      <td>01. &lt;=25</td>\n",
       "      <td>0</td>\n",
       "      <td>Safe Pocket</td>\n",
       "      <td>0.458791</td>\n",
       "    </tr>\n",
       "    <tr>\n",
       "      <th>2</th>\n",
       "      <td>ΑΝΥΠΑΝΤΡΟΣ/Η</td>\n",
       "      <td>ΑΡΝΗΘΗΚΕ</td>\n",
       "      <td>ΛΟΙΠΕΣ ΠΗΓΕΣ - ΠΡΟΣΤΑΤΕΥΟΜΕΝΟΣ ΜΕΛΟΣ</td>\n",
       "      <td>Ιδιώτες Πελάτες</td>\n",
       "      <td>04. 46-55</td>\n",
       "      <td>0</td>\n",
       "      <td>Credit Cards</td>\n",
       "      <td>0.246410</td>\n",
       "    </tr>\n",
       "    <tr>\n",
       "      <th>3</th>\n",
       "      <td>ΑΝΥΠΑΝΤΡΟΣ/Η</td>\n",
       "      <td>ΑΡΝΗΘΗΚΕ</td>\n",
       "      <td>ΛΟΙΠΕΣ ΠΗΓΕΣ - ΠΡΟΣΤΑΤΕΥΟΜΕΝΟΣ ΜΕΛΟΣ</td>\n",
       "      <td>Ιδιώτες Πελάτες</td>\n",
       "      <td>04. 46-55</td>\n",
       "      <td>0</td>\n",
       "      <td>Safe Pocket</td>\n",
       "      <td>0.455026</td>\n",
       "    </tr>\n",
       "    <tr>\n",
       "      <th>4</th>\n",
       "      <td>ΑΝΥΠΑΝΤΡΟΣ/Η</td>\n",
       "      <td>ΑΡΝΗΘΗΚΕ</td>\n",
       "      <td>ΛΟΙΠΕΣ ΠΗΓΕΣ - ΠΡΟΣΤΑΤΕΥΟΜΕΝΟΣ ΜΕΛΟΣ</td>\n",
       "      <td>Ιδιώτες Πελάτες</td>\n",
       "      <td>05. 56-65</td>\n",
       "      <td>0</td>\n",
       "      <td>Credit Cards</td>\n",
       "      <td>0.246410</td>\n",
       "    </tr>\n",
       "  </tbody>\n",
       "</table>\n",
       "</div>"
      ],
      "text/plain": [
       "  MaritalStatus Education                            Occupation  \\\n",
       "0  ΑΝΥΠΑΝΤΡΟΣ/Η  ΑΡΝΗΘΗΚΕ  ΛΟΙΠΕΣ ΠΗΓΕΣ - ΠΡΟΣΤΑΤΕΥΟΜΕΝΟΣ ΜΕΛΟΣ   \n",
       "1  ΑΝΥΠΑΝΤΡΟΣ/Η  ΑΡΝΗΘΗΚΕ  ΛΟΙΠΕΣ ΠΗΓΕΣ - ΠΡΟΣΤΑΤΕΥΟΜΕΝΟΣ ΜΕΛΟΣ   \n",
       "2  ΑΝΥΠΑΝΤΡΟΣ/Η  ΑΡΝΗΘΗΚΕ  ΛΟΙΠΕΣ ΠΗΓΕΣ - ΠΡΟΣΤΑΤΕΥΟΜΕΝΟΣ ΜΕΛΟΣ   \n",
       "3  ΑΝΥΠΑΝΤΡΟΣ/Η  ΑΡΝΗΘΗΚΕ  ΛΟΙΠΕΣ ΠΗΓΕΣ - ΠΡΟΣΤΑΤΕΥΟΜΕΝΟΣ ΜΕΛΟΣ   \n",
       "4  ΑΝΥΠΑΝΤΡΟΣ/Η  ΑΡΝΗΘΗΚΕ  ΛΟΙΠΕΣ ΠΗΓΕΣ - ΠΡΟΣΤΑΤΕΥΟΜΕΝΟΣ ΜΕΛΟΣ   \n",
       "\n",
       "           Segment    AgeBand  ChildrenFlag      Proposal   Support  \n",
       "0  Ιδιώτες Πελάτες   01. <=25             0  Credit Cards  0.260950  \n",
       "1  Ιδιώτες Πελάτες   01. <=25             0   Safe Pocket  0.458791  \n",
       "2  Ιδιώτες Πελάτες  04. 46-55             0  Credit Cards  0.246410  \n",
       "3  Ιδιώτες Πελάτες  04. 46-55             0   Safe Pocket  0.455026  \n",
       "4  Ιδιώτες Πελάτες  05. 56-65             0  Credit Cards  0.246410  "
      ]
     },
     "execution_count": 5,
     "metadata": {},
     "output_type": "execute_result"
    }
   ],
   "source": [
    "rs.head()"
   ]
  },
  {
   "cell_type": "code",
   "execution_count": 6,
   "id": "nuclear-affect",
   "metadata": {},
   "outputs": [
    {
     "data": {
      "text/plain": [
       "array(['ΑΝΥΠΑΝΤΡΟΣ/Η', 'ΜΗ ΔΙΑΘΕΣΙΜΟ', 'ΠΑΝΤΡΕΜΕΝΟΣ/Η', 'ΣΥΓΚΑΤΟΙΚΗΣΗ',\n",
       "       'ΧΗΡΟΣ/Α', 'ΧΩΡΙΣΜΕΝΟΣ/Η'], dtype=object)"
      ]
     },
     "execution_count": 6,
     "metadata": {},
     "output_type": "execute_result"
    }
   ],
   "source": [
    "rs.MaritalStatus.unique()"
   ]
  },
  {
   "cell_type": "code",
   "execution_count": 7,
   "id": "union-revision",
   "metadata": {},
   "outputs": [
    {
     "data": {
      "text/plain": [
       "array(['ΑΡΝΗΘΗΚΕ', 'ΓΥΜΝΑΣΙΟ', 'ΔΙΔΑΚΤΟΡΙΚΟ', 'ΙΕΚ', 'ΛΥΚΕΙΟ',\n",
       "       'ΜΕΤΑΠΤΥΧΙΑΚΑ', 'ΜΗ ΔΙΑΘΕΣΙΜΟ', 'ΠΡΩΤΟΒΑΘΜΙΑ ΕΚΠΑΙΔΕΥΣΗ',\n",
       "       'ΤΡΙΤΟΒΑΘΜΙΑ ΕΚΠΑΙΔΕΥΣΗ'], dtype=object)"
      ]
     },
     "execution_count": 7,
     "metadata": {},
     "output_type": "execute_result"
    }
   ],
   "source": [
    "rs.Education.unique()"
   ]
  },
  {
   "cell_type": "code",
   "execution_count": 8,
   "id": "patient-panic",
   "metadata": {},
   "outputs": [
    {
     "data": {
      "text/plain": [
       "array(['ΛΟΙΠΕΣ ΠΗΓΕΣ - ΠΡΟΣΤΑΤΕΥΟΜΕΝΟΣ ΜΕΛΟΣ',\n",
       "       'ΜΙΣΘΩΤΕΣ ΥΠΗΡΕΣΙΕΣ - ΔΗΜΟΣΙΟΣ ΥΠΑΛΛΗΛΟΣ',\n",
       "       'ΜΙΣΘΩΤΕΣ ΥΠΗΡΕΣΙΕΣ - ΙΔΙΩΤΙΚΟΣ ΥΠΑΛΛΗΛΟΣ',\n",
       "       'ΓΕΩΡΓΙΚΕΣ ΕΠΙΧΕΙΡΗΣΕΙΣ', 'ΕΛΕΥΘΕΡΑ ΕΠΑΓΓΕΛΜΑΤΑ',\n",
       "       'ΕΜΠΟΡΙΚΕΣ ΕΠΙΧΕΙΡΗΣΕΙΣ', 'ΚΙΝΗΤΕΣ ΑΞΙΕΣ - ΑΚΙΝΗΤΑ',\n",
       "       'ΛΟΙΠΕΣ ΠΗΓΕΣ - ΣΥΝΤΑΞΙΟΥΧΟΣ'], dtype=object)"
      ]
     },
     "execution_count": 8,
     "metadata": {},
     "output_type": "execute_result"
    }
   ],
   "source": [
    "rs.Occupation.unique()"
   ]
  },
  {
   "cell_type": "code",
   "execution_count": 9,
   "id": "neither-running",
   "metadata": {},
   "outputs": [
    {
     "data": {
      "text/plain": [
       "array(['Ιδιώτες Πελάτες', 'Personal Banking', 'Small Business Banking'],\n",
       "      dtype=object)"
      ]
     },
     "execution_count": 9,
     "metadata": {},
     "output_type": "execute_result"
    }
   ],
   "source": [
    "rs.Segment.unique()"
   ]
  },
  {
   "cell_type": "code",
   "execution_count": 10,
   "id": "obvious-russia",
   "metadata": {},
   "outputs": [
    {
     "data": {
      "text/plain": [
       "array(['01. <=25', '04. 46-55', '05. 56-65', '02. 26-35', '03. 36-45',\n",
       "       '06. 66+'], dtype=object)"
      ]
     },
     "execution_count": 10,
     "metadata": {},
     "output_type": "execute_result"
    }
   ],
   "source": [
    "rs.AgeBand.unique()"
   ]
  },
  {
   "cell_type": "code",
   "execution_count": 11,
   "id": "alternate-wallpaper",
   "metadata": {},
   "outputs": [
    {
     "data": {
      "text/plain": [
       "array(['Ιδιώτες Πελάτες', 'Personal Banking', 'Small Business Banking'],\n",
       "      dtype=object)"
      ]
     },
     "execution_count": 11,
     "metadata": {},
     "output_type": "execute_result"
    }
   ],
   "source": [
    "rs.Segment.unique()"
   ]
  },
  {
   "cell_type": "code",
   "execution_count": 12,
   "id": "vertical-marathon",
   "metadata": {},
   "outputs": [],
   "source": [
    "ms = 'ΠΑΝΤΡΕΜΕΝΟΣ/Η'\n",
    "ed = 'ΛΥΚΕΙΟ'\n",
    "oc = 'ΜΙΣΘΩΤΕΣ ΥΠΗΡΕΣΙΕΣ - ΙΔΙΩΤΙΚΟΣ ΥΠΑΛΛΗΛΟΣ'\n",
    "ag = '04. 46-55'\n",
    "cf = 1\n",
    "sg = 'Personal Banking'"
   ]
  },
  {
   "cell_type": "code",
   "execution_count": 13,
   "id": "governmental-field",
   "metadata": {},
   "outputs": [],
   "source": [
    "result = pd.DataFrame(rs[(rs['MaritalStatus'] == ms)&(rs['Education']==ed)&(rs['Occupation']==oc)&\n",
    "   (rs['AgeBand']==ag)&(rs['ChildrenFlag']==cf)&(rs['Segment']==sg)].sort_values(by=['Support'], ascending = False).Proposal.head(3))"
   ]
  },
  {
   "cell_type": "code",
   "execution_count": 16,
   "id": "equipped-thompson",
   "metadata": {},
   "outputs": [
    {
     "data": {
      "text/plain": [
       "'ΑΝΥΠΑΝΤΡΟΣ/Η'"
      ]
     },
     "execution_count": 16,
     "metadata": {},
     "output_type": "execute_result"
    }
   ],
   "source": [
    "rs.MaritalStatus[0]"
   ]
  }
 ],
 "metadata": {
  "kernelspec": {
   "display_name": "Python 3.6 - AzureML",
   "language": "python",
   "name": "python3-azureml"
  },
  "language_info": {
   "codemirror_mode": {
    "name": "ipython",
    "version": 3
   },
   "file_extension": ".py",
   "mimetype": "text/x-python",
   "name": "python",
   "nbconvert_exporter": "python",
   "pygments_lexer": "ipython3",
   "version": "3.6.9"
  }
 },
 "nbformat": 4,
 "nbformat_minor": 5
}
