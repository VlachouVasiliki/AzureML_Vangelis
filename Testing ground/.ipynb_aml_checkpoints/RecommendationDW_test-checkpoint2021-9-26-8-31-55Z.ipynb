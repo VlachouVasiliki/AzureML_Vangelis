{
 "cells": [
  {
   "cell_type": "code",
   "execution_count": 3,
   "id": "overhead-limit",
   "metadata": {},
   "outputs": [],
   "source": [
    "import azureml.core\n",
    "from azureml.core import Workspace, Datastore\n",
    "\n",
    "\n",
    "ws = Workspace.from_config()"
   ]
  },
  {
   "cell_type": "code",
   "execution_count": 4,
   "id": "weekly-three",
   "metadata": {},
   "outputs": [],
   "source": [
    "datastore= Datastore(ws, \"workspaceblobstore\")\n"
   ]
  },
  {
   "cell_type": "code",
   "execution_count": 9,
   "id": "assured-minnesota",
   "metadata": {},
   "outputs": [],
   "source": [
    "import os"
   ]
  },
  {
   "cell_type": "code",
   "execution_count": 15,
   "id": "regulated-grass",
   "metadata": {},
   "outputs": [],
   "source": [
    "from azure.storage.blob import BlockBlobService\n",
    "\n",
    "block_blob_service = BlockBlobService(account_name='yraccountname', account_key='accountkey')\n",
    "print(\"Retreiving blobs in specified container...\")\n",
    "blob_list=[]\n",
    "container=\"containername\"\n",
    "def list_blobs(container):\n",
    "        try:\n",
    "\n",
    "                global blob_list\n",
    "                content = block_blob_service.list_blobs(container)\n",
    "                print(\"******Blobs currently in the container:**********\")\n",
    "                for blob in content:\n",
    "                        blob_list.append(blob.name)\n",
    "                        print(blob.name)\n",
    "        except:\n",
    "                print(\"The specified container does not exist, Please check the container name or if it exists.\")\n",
    "list_blobs(container)\n"
   ]
  },
  {
   "cell_type": "code",
   "execution_count": 16,
   "id": "convinced-value",
   "metadata": {},
   "outputs": [
    {
     "name": "stdout",
     "output_type": "stream",
     "text": [
      "None\n"
     ]
    }
   ],
   "source": [
    "print(connect_str)"
   ]
  }
 ],
 "metadata": {
  "kernelspec": {
   "display_name": "Python 3.6 - AzureML",
   "language": "python",
   "name": "python3-azureml"
  },
  "language_info": {
   "codemirror_mode": {
    "name": "ipython",
    "version": 3
   },
   "file_extension": ".py",
   "mimetype": "text/x-python",
   "name": "python",
   "nbconvert_exporter": "python",
   "pygments_lexer": "ipython3",
   "version": "3.6.9"
  }
 },
 "nbformat": 4,
 "nbformat_minor": 5
}
