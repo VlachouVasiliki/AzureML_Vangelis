{
 "cells": [
  {
   "cell_type": "code",
   "execution_count": 103,
   "metadata": {
    "gather": {
     "logged": 1617095498167
    },
    "jupyter": {
     "outputs_hidden": false,
     "source_hidden": false
    },
    "nteract": {
     "transient": {
      "deleting": false
     }
    }
   },
   "outputs": [],
   "source": [
    "#%matplotlib inline\n",
    "import matplotlib.pyplot as plt\n",
    "plt.rc(\"font\", size=14)\n",
    "import pandas as pd\n",
    "import numpy as np\n",
    "import math\n",
    "from sklearn.model_selection import train_test_split\n",
    "from sklearn.linear_model import LogisticRegression\n",
    "from sklearn.feature_selection import RFE\n",
    "from sklearn.metrics import confusion_matrix\n",
    "from sklearn.metrics import classification_report\n",
    "from sklearn.metrics import roc_auc_score\n",
    "from sklearn.metrics import roc_curve\n",
    "from sklearn.metrics import auc\n",
    "\n",
    "from azureml.core import Experiment"
   ]
  },
  {
   "cell_type": "code",
   "execution_count": 104,
   "metadata": {
    "gather": {
     "logged": 1617095499050
    },
    "jupyter": {
     "outputs_hidden": false,
     "source_hidden": false
    },
    "nteract": {
     "transient": {
      "deleting": false
     }
    }
   },
   "outputs": [],
   "source": [
    "# azureml-core of version 1.0.72 or higher is required\n",
    "# azureml-dataprep[pandas] of version 1.1.34 or higher is required\n",
    "from azureml.core import Workspace, Dataset\n",
    "\n",
    "subscription_id = '6ed9d167-b2e6-41b8-9500-35e6df64d9dc'\n",
    "resource_group = 'MLRG'\n",
    "workspace_name = 'erbbimlws'\n",
    "\n",
    "ws = Workspace(subscription_id, resource_group, workspace_name)\n",
    "\n"
   ]
  },
  {
   "cell_type": "code",
   "execution_count": 105,
   "metadata": {
    "gather": {
     "logged": 1617095500024
    },
    "jupyter": {
     "outputs_hidden": false,
     "source_hidden": false
    },
    "nteract": {
     "transient": {
      "deleting": false
     }
    }
   },
   "outputs": [],
   "source": [
    "experiment = Experiment(workspace = ws, name = \"lr-experiment\")"
   ]
  },
  {
   "cell_type": "code",
   "execution_count": 106,
   "metadata": {
    "jupyter": {
     "outputs_hidden": false,
     "source_hidden": false
    },
    "nteract": {
     "transient": {
      "deleting": false
     }
    }
   },
   "outputs": [],
   "source": [
    "run = experiment.start_logging(snapshot_directory=None)"
   ]
  },
  {
   "cell_type": "code",
   "execution_count": 107,
   "metadata": {
    "gather": {
     "logged": 1610016968762
    },
    "jupyter": {
     "outputs_hidden": false,
     "source_hidden": false
    },
    "nteract": {
     "transient": {
      "deleting": false
     }
    }
   },
   "outputs": [],
   "source": [
    "df = Dataset.get_by_name(ws, name='Time_Deposits_Data_Set')\n",
    "#df.to_pandas_dataframe()"
   ]
  },
  {
   "cell_type": "code",
   "execution_count": 108,
   "metadata": {
    "gather": {
     "logged": 1610016981081
    },
    "jupyter": {
     "outputs_hidden": false,
     "source_hidden": false
    },
    "nteract": {
     "transient": {
      "deleting": false
     }
    }
   },
   "outputs": [],
   "source": [
    "df = df.to_pandas_dataframe()"
   ]
  },
  {
   "cell_type": "code",
   "execution_count": 109,
   "metadata": {
    "gather": {
     "logged": 1610017012499
    },
    "jupyter": {
     "outputs_hidden": false,
     "source_hidden": false
    },
    "nteract": {
     "transient": {
      "deleting": false
     }
    }
   },
   "outputs": [
    {
     "data": {
      "text/plain": [
       "Customer_ID                                  int64\n",
       "Gender                                      object\n",
       "Birth_Date                          datetime64[ns]\n",
       "Ref_Date                            datetime64[ns]\n",
       "Marital_Status                              object\n",
       "Children_Num                                 int64\n",
       "Occupation_Category                         object\n",
       "Total_Income                                 int64\n",
       "Payroll_Flag                                 int64\n",
       "Business_Flag                                int64\n",
       "Saving_Current_Accounts_Flag               float64\n",
       "Investment_Products_Flag                   float64\n",
       "Insurance_Products_Flag                    float64\n",
       "Business_Loans_Flag                        float64\n",
       "Housing_Loans_Flag                         float64\n",
       "Consumer_Loans_Flag                        float64\n",
       "Credit_Cards_Flag                          float64\n",
       "Saving_Current_Balance                     float64\n",
       "Investment_Products_Balance                float64\n",
       "Insurance_Balances                         float64\n",
       "Business_Loans_Balance                     float64\n",
       "Housing_Loans_Balance                      float64\n",
       "Consumer_Loans_Balance                     float64\n",
       "Credit_Cards_Balance                       float64\n",
       "Branch_Trans_Num                           float64\n",
       "ATM_Trans_Num                              float64\n",
       "APS_Trans_Num                              float64\n",
       "Phone_Trans_Num                            float64\n",
       "Internet_Trans_Num                         float64\n",
       "Deposit_Trans_Num                          float64\n",
       "Withdrawl_Trans_Num                        float64\n",
       "Payment_Trans_Num                          float64\n",
       "Transfer_Trans_Num                         float64\n",
       "Deposit_Trans_Amount                       float64\n",
       "Withdrawl_Trans_Amount                     float64\n",
       "Payment_Trans_Amount                       float64\n",
       "Transfer_Trans_Amount                      float64\n",
       "Credit_Cards_Installments                  float64\n",
       "Credit_Cards_Payments_Num                  float64\n",
       "Credit_Cards_Purchases_Num                 float64\n",
       "Credit_Cards_Witrhdrawals_Num              float64\n",
       "Credit_Cards_Payments_Amount               float64\n",
       "Credit_Cards_Purchases_Amount              float64\n",
       "Credit_Cards_Witrhdrawals_Amount           float64\n",
       "Arrears_Months_Max                           int64\n",
       "Time_Deposits_Flag                            bool\n",
       "dtype: object"
      ]
     },
     "execution_count": 109,
     "metadata": {},
     "output_type": "execute_result"
    }
   ],
   "source": [
    "df.head()\n",
    "df.dtypes"
   ]
  },
  {
   "cell_type": "code",
   "execution_count": 110,
   "metadata": {
    "gather": {
     "logged": 1610016496251
    },
    "jupyter": {
     "outputs_hidden": false,
     "source_hidden": false
    },
    "nteract": {
     "transient": {
      "deleting": false
     }
    }
   },
   "outputs": [],
   "source": [
    "def full_log_likelihood(w, X, y):\n",
    "    score = np.dot(X, w).reshape(1, X.shape[0])\n",
    "    return np.sum(-np.log(1 + np.exp(score))) + np.sum(y * score)\n",
    "\n",
    "def null_log_likelihood(w, X, y):\n",
    "    z = np.array([w if i == 0 else 0.0 for i, w in enumerate(w.reshape(1, X.shape[1])[0])]).reshape(X.shape[1], 1)\n",
    "    score = np.dot(X, z).reshape(1, X.shape[0])\n",
    "    return np.sum(-np.log(1 + np.exp(score))) + np.sum(y * score)\n",
    "\n",
    "def mcfadden_rsquare(w, X, y):\n",
    "    return 1.0 - (full_log_likelihood(w, X, y) / null_log_likelihood(w, X, y))\n",
    "\n",
    "def mcfadden_adjusted_rsquare(w, X, y):\n",
    "    k = float(X.shape[1])\n",
    "    return 1.0 - ((full_log_likelihood(w, X, y) - k) / null_log_likelihood(w, X, y))\n",
    "def efron_rsquare(y, y_pred):\n",
    "    n = float(len(y))\n",
    "    t1 = np.sum(np.power(y - y_pred, 2.0))\n",
    "    t2 = np.sum(np.power((y - (np.sum(y) / n)), 2.0))\n",
    "    return 1.0 - (t1 / t2)\n",
    "def true_probabilities (p,a):\n",
    "    tp =p/(p+(1-p)/a)\n",
    "    return tp"
   ]
  },
  {
   "cell_type": "code",
   "execution_count": 111,
   "metadata": {
    "gather": {
     "logged": 1610017036800
    },
    "jupyter": {
     "outputs_hidden": false,
     "source_hidden": false
    },
    "nteract": {
     "transient": {
      "deleting": false
     }
    }
   },
   "outputs": [
    {
     "data": {
      "text/plain": [
       "0         0\n",
       "1         0\n",
       "2         0\n",
       "3         0\n",
       "4         0\n",
       "         ..\n",
       "119995    0\n",
       "119996    1\n",
       "119997    0\n",
       "119998    0\n",
       "119999    0\n",
       "Name: Time_Deposits_Flag, Length: 120000, dtype: int64"
      ]
     },
     "execution_count": 111,
     "metadata": {},
     "output_type": "execute_result"
    }
   ],
   "source": [
    "recode = {True:\"1\",False:\"0\"}\n",
    "\n",
    "df['Time_Deposits_Flag'] = df['Time_Deposits_Flag'].map(recode)\n",
    "df['Time_Deposits_Flag'].astype(int)"
   ]
  },
  {
   "cell_type": "code",
   "execution_count": 112,
   "metadata": {
    "gather": {
     "logged": 1610017090364
    },
    "jupyter": {
     "outputs_hidden": false,
     "source_hidden": false
    },
    "nteract": {
     "transient": {
      "deleting": false
     }
    }
   },
   "outputs": [
    {
     "data": {
      "text/plain": [
       "0    118663\n",
       "1      1337\n",
       "Name: Time_Deposits_Flag, dtype: int64"
      ]
     },
     "execution_count": 112,
     "metadata": {},
     "output_type": "execute_result"
    }
   ],
   "source": [
    "df['Time_Deposits_Flag'].value_counts()"
   ]
  },
  {
   "cell_type": "code",
   "execution_count": 113,
   "metadata": {
    "gather": {
     "logged": 1610017117223
    },
    "jupyter": {
     "outputs_hidden": false,
     "source_hidden": false
    },
    "nteract": {
     "transient": {
      "deleting": false
     }
    }
   },
   "outputs": [],
   "source": [
    "for col in df.columns[1:-1]:       \n",
    "       if df[col].dtype =='object' and col not in ['Birth_Date','Ref_Date']:\n",
    "            \n",
    "            df = pd.get_dummies(df, prefix=col + '_', columns=[col])"
   ]
  },
  {
   "cell_type": "code",
   "execution_count": 114,
   "metadata": {
    "gather": {
     "logged": 1610017145794
    },
    "jupyter": {
     "outputs_hidden": false,
     "source_hidden": false
    },
    "nteract": {
     "transient": {
      "deleting": false
     }
    }
   },
   "outputs": [],
   "source": [
    "for col in df.columns[1:-1]:       \n",
    "       if df[col].dtype =='float' and ('_Num' in col or '_Flag' in col):\n",
    "            \n",
    "            df[col] = df[col].astype('int')"
   ]
  },
  {
   "cell_type": "code",
   "execution_count": 115,
   "metadata": {
    "gather": {
     "logged": 1610017164994
    },
    "jupyter": {
     "outputs_hidden": false,
     "source_hidden": false
    },
    "nteract": {
     "transient": {
      "deleting": false
     }
    }
   },
   "outputs": [],
   "source": [
    "df['Total_Income'] = df['Total_Income'].astype('float')"
   ]
  },
  {
   "cell_type": "code",
   "execution_count": 116,
   "metadata": {
    "gather": {
     "logged": 1610017187946
    },
    "jupyter": {
     "outputs_hidden": false,
     "source_hidden": false
    },
    "nteract": {
     "transient": {
      "deleting": false
     }
    }
   },
   "outputs": [],
   "source": [
    "df['Time_Deposits_Flag'] = df['Time_Deposits_Flag'].astype('int')"
   ]
  },
  {
   "cell_type": "code",
   "execution_count": 117,
   "metadata": {
    "gather": {
     "logged": 1610017216027
    },
    "jupyter": {
     "outputs_hidden": false,
     "source_hidden": false
    },
    "nteract": {
     "transient": {
      "deleting": false
     }
    }
   },
   "outputs": [],
   "source": [
    "df = df.drop(['Birth_Date','Ref_Date'],axis = 1)"
   ]
  },
  {
   "cell_type": "code",
   "execution_count": 118,
   "metadata": {
    "gather": {
     "logged": 1610017232737
    },
    "jupyter": {
     "outputs_hidden": false,
     "source_hidden": false
    },
    "nteract": {
     "transient": {
      "deleting": false
     }
    }
   },
   "outputs": [],
   "source": [
    "X = df[df.columns[1:]].drop(['Time_Deposits_Flag'],axis = 1)"
   ]
  },
  {
   "cell_type": "code",
   "execution_count": 119,
   "metadata": {
    "gather": {
     "logged": 1610017251104
    },
    "jupyter": {
     "outputs_hidden": false,
     "source_hidden": false
    },
    "nteract": {
     "transient": {
      "deleting": false
     }
    }
   },
   "outputs": [],
   "source": [
    "y = df['Time_Deposits_Flag']"
   ]
  },
  {
   "cell_type": "code",
   "execution_count": 120,
   "metadata": {
    "gather": {
     "logged": 1610017272122
    },
    "jupyter": {
     "outputs_hidden": false,
     "source_hidden": false
    },
    "nteract": {
     "transient": {
      "deleting": false
     }
    }
   },
   "outputs": [],
   "source": [
    "f_count = df[df['Time_Deposits_Flag']== 0].iloc[:,0].count()\n",
    "t_count = df[df['Time_Deposits_Flag']== 1].iloc[:,0].count()\n",
    "weights = {1:1,0:t_count*3/f_count}"
   ]
  },
  {
   "cell_type": "code",
   "execution_count": 121,
   "metadata": {},
   "outputs": [],
   "source": [
    "run.log_table('Weights',weights)"
   ]
  },
  {
   "cell_type": "code",
   "execution_count": 122,
   "metadata": {
    "gather": {
     "logged": 1610017742057
    },
    "jupyter": {
     "outputs_hidden": false,
     "source_hidden": false
    },
    "nteract": {
     "transient": {
      "deleting": false
     }
    }
   },
   "outputs": [],
   "source": [
    "LR = LogisticRegression(class_weight = weights,solver = 'liblinear',max_iter = 1000)#class_weight = 'balanced'"
   ]
  },
  {
   "cell_type": "code",
   "execution_count": 123,
   "metadata": {
    "gather": {
     "logged": 1610017749070
    },
    "jupyter": {
     "outputs_hidden": false,
     "source_hidden": false
    },
    "nteract": {
     "transient": {
      "deleting": false
     }
    }
   },
   "outputs": [],
   "source": [
    "selector = RFE(LR)"
   ]
  },
  {
   "cell_type": "code",
   "execution_count": 124,
   "metadata": {
    "gather": {
     "logged": 1610017868268
    },
    "jupyter": {
     "outputs_hidden": false,
     "source_hidden": false
    },
    "nteract": {
     "transient": {
      "deleting": false
     }
    }
   },
   "outputs": [
    {
     "data": {
      "text/plain": [
       "RFE(estimator=LogisticRegression(C=1.0,\n",
       "                                 class_weight={0: 0.033801606229405964, 1: 1},\n",
       "                                 dual=False, fit_intercept=True,\n",
       "                                 intercept_scaling=1, l1_ratio=None,\n",
       "                                 max_iter=1000, multi_class='auto', n_jobs=None,\n",
       "                                 penalty='l2', random_state=None,\n",
       "                                 solver='liblinear', tol=0.0001, verbose=0,\n",
       "                                 warm_start=False),\n",
       "    n_features_to_select=None, step=1, verbose=0)"
      ]
     },
     "execution_count": 124,
     "metadata": {},
     "output_type": "execute_result"
    }
   ],
   "source": [
    "selector.fit(X,y)"
   ]
  },
  {
   "cell_type": "code",
   "execution_count": 125,
   "metadata": {
    "gather": {
     "logged": 1610017888529
    },
    "jupyter": {
     "outputs_hidden": false,
     "source_hidden": false
    },
    "nteract": {
     "transient": {
      "deleting": false
     }
    }
   },
   "outputs": [
    {
     "name": "stdout",
     "output_type": "stream",
     "text": [
      "              precision    recall  f1-score   support\n",
      "\n",
      "           0       0.99      0.96      0.98    118663\n",
      "           1       0.04      0.14      0.07      1337\n",
      "\n",
      "    accuracy                           0.96    120000\n",
      "   macro avg       0.52      0.55      0.52    120000\n",
      "weighted avg       0.98      0.96      0.97    120000\n",
      "\n"
     ]
    }
   ],
   "source": [
    "print(classification_report(y,  selector.predict(X)))"
   ]
  },
  {
   "cell_type": "code",
   "execution_count": 126,
   "metadata": {
    "gather": {
     "logged": 1610017917792
    },
    "jupyter": {
     "outputs_hidden": false,
     "source_hidden": false
    },
    "nteract": {
     "transient": {
      "deleting": false
     }
    }
   },
   "outputs": [
    {
     "name": "stdout",
     "output_type": "stream",
     "text": [
      "Accuracy of logistic regression classifier on train set: 0.9551\n"
     ]
    }
   ],
   "source": [
    "print('Accuracy of logistic regression classifier on train set: {:.4f}'.format(selector.score(X, y)))"
   ]
  },
  {
   "cell_type": "code",
   "execution_count": 127,
   "metadata": {
    "gather": {
     "logged": 1610017946033
    },
    "jupyter": {
     "outputs_hidden": false,
     "source_hidden": false
    },
    "nteract": {
     "transient": {
      "deleting": false
     }
    }
   },
   "outputs": [],
   "source": [
    "y_pred = selector.predict(X)"
   ]
  },
  {
   "cell_type": "code",
   "execution_count": 128,
   "metadata": {
    "gather": {
     "logged": 1610017968468
    },
    "jupyter": {
     "outputs_hidden": false,
     "source_hidden": false
    },
    "nteract": {
     "transient": {
      "deleting": false
     }
    }
   },
   "outputs": [
    {
     "data": {
      "text/plain": [
       "<matplotlib.legend.Legend at 0x7fb55856a5f8>"
      ]
     },
     "execution_count": 128,
     "metadata": {},
     "output_type": "execute_result"
    },
    {
     "data": {
      "image/png": "[encoded data removed]",
      "text/plain": [
       "<Figure size 432x432 with 1 Axes>"
      ]
     },
     "metadata": {
      "needs_background": "light"
     },
     "output_type": "display_data"
    }
   ],
   "source": [
    "logit_roc_auc = roc_auc_score(y, selector.predict(X))\n",
    "fpr, tpr, thresholds = roc_curve(y, selector.predict_proba(X)[:,1])\n",
    "auc_train = roc_auc = auc(fpr, tpr)\n",
    "fig = plt.figure(figsize=(6,6))\n",
    "plt.plot(fpr, tpr, label='Logistic Regression - train (area = %0.2f)' % auc_train)\n",
    "plt.plot([0, 1], [0, 1],'r--')\n",
    "plt.plot([0.1,0.1],[0,1],'g--')\n",
    "plt.xlim([0.0, 1.0])\n",
    "plt.ylim([0.0, 1.05])\n",
    "plt.xlabel('False Positive Rate')\n",
    "plt.ylabel('True Positive Rate')\n",
    "plt.title('Receiver operating characteristic')\n",
    "plt.legend(loc=\"lower right\")"
   ]
  },
  {
   "cell_type": "code",
   "execution_count": 129,
   "metadata": {},
   "outputs": [],
   "source": [
    "run.log_image(name='roc curve', plot=fig)"
   ]
  },
  {
   "cell_type": "code",
   "execution_count": 130,
   "metadata": {
    "jupyter": {
     "outputs_hidden": false,
     "source_hidden": false
    },
    "nteract": {
     "transient": {
      "deleting": false
     }
    }
   },
   "outputs": [],
   "source": [
    "run.log('auc (train)', auc_train)"
   ]
  },
  {
   "cell_type": "code",
   "execution_count": 131,
   "metadata": {
    "gather": {
     "logged": 1610018006910
    },
    "jupyter": {
     "outputs_hidden": false,
     "source_hidden": false
    },
    "nteract": {
     "transient": {
      "deleting": false
     }
    }
   },
   "outputs": [],
   "source": [
    "df_lift = pd.DataFrame(zip(y,selector.predict_proba(X)[:,1]),columns =['Actual','Predicted']).sort_values(by ='Predicted',ascending = False)"
   ]
  },
  {
   "cell_type": "code",
   "execution_count": 132,
   "metadata": {
    "gather": {
     "logged": 1610018033477
    },
    "jupyter": {
     "outputs_hidden": false,
     "source_hidden": false
    },
    "nteract": {
     "transient": {
      "deleting": false
     }
    }
   },
   "outputs": [
    {
     "data": {
      "text/plain": [
       "'lift at 10% is 2.857'"
      ]
     },
     "execution_count": 132,
     "metadata": {},
     "output_type": "execute_result"
    }
   ],
   "source": [
    "'lift at 10% is {:.03f}'.format(df_lift['Actual'].head(12000).sum()/df_lift['Actual'].sum()/0.1)"
   ]
  },
  {
   "cell_type": "code",
   "execution_count": 133,
   "metadata": {
    "gather": {
     "logged": 1610018070618
    },
    "jupyter": {
     "outputs_hidden": false,
     "source_hidden": false
    },
    "nteract": {
     "transient": {
      "deleting": false
     }
    }
   },
   "outputs": [
    {
     "data": {
      "text/html": [
       "<div>\n",
       "<style scoped>\n",
       "    .dataframe tbody tr th:only-of-type {\n",
       "        vertical-align: middle;\n",
       "    }\n",
       "\n",
       "    .dataframe tbody tr th {\n",
       "        vertical-align: top;\n",
       "    }\n",
       "\n",
       "    .dataframe thead th {\n",
       "        text-align: right;\n",
       "    }\n",
       "</style>\n",
       "<table border=\"1\" class=\"dataframe\">\n",
       "  <thead>\n",
       "    <tr style=\"text-align: right;\">\n",
       "      <th></th>\n",
       "      <th>Column</th>\n",
       "      <th>Importance</th>\n",
       "    </tr>\n",
       "  </thead>\n",
       "  <tbody>\n",
       "    <tr>\n",
       "      <th>25</th>\n",
       "      <td>Occupation_Category__default</td>\n",
       "      <td>1</td>\n",
       "    </tr>\n",
       "    <tr>\n",
       "      <th>2</th>\n",
       "      <td>Saving_Current_Accounts_Flag</td>\n",
       "      <td>1</td>\n",
       "    </tr>\n",
       "    <tr>\n",
       "      <th>3</th>\n",
       "      <td>Investment_Products_Flag</td>\n",
       "      <td>1</td>\n",
       "    </tr>\n",
       "    <tr>\n",
       "      <th>4</th>\n",
       "      <td>Business_Loans_Flag</td>\n",
       "      <td>1</td>\n",
       "    </tr>\n",
       "    <tr>\n",
       "      <th>5</th>\n",
       "      <td>Housing_Loans_Flag</td>\n",
       "      <td>1</td>\n",
       "    </tr>\n",
       "    <tr>\n",
       "      <th>7</th>\n",
       "      <td>Credit_Cards_Flag</td>\n",
       "      <td>1</td>\n",
       "    </tr>\n",
       "    <tr>\n",
       "      <th>8</th>\n",
       "      <td>Branch_Trans_Num</td>\n",
       "      <td>1</td>\n",
       "    </tr>\n",
       "    <tr>\n",
       "      <th>9</th>\n",
       "      <td>APS_Trans_Num</td>\n",
       "      <td>1</td>\n",
       "    </tr>\n",
       "    <tr>\n",
       "      <th>10</th>\n",
       "      <td>Phone_Trans_Num</td>\n",
       "      <td>1</td>\n",
       "    </tr>\n",
       "    <tr>\n",
       "      <th>21</th>\n",
       "      <td>Occupation_Category__Employees</td>\n",
       "      <td>1</td>\n",
       "    </tr>\n",
       "    <tr>\n",
       "      <th>20</th>\n",
       "      <td>Occupation_Category__Business-Owners</td>\n",
       "      <td>1</td>\n",
       "    </tr>\n",
       "    <tr>\n",
       "      <th>18</th>\n",
       "      <td>Marital_Status__Single</td>\n",
       "      <td>1</td>\n",
       "    </tr>\n",
       "    <tr>\n",
       "      <th>6</th>\n",
       "      <td>Consumer_Loans_Flag</td>\n",
       "      <td>2</td>\n",
       "    </tr>\n",
       "    <tr>\n",
       "      <th>24</th>\n",
       "      <td>Occupation_Category__Unemployeed</td>\n",
       "      <td>6</td>\n",
       "    </tr>\n",
       "    <tr>\n",
       "      <th>19</th>\n",
       "      <td>Marital_Status__Widow</td>\n",
       "      <td>7</td>\n",
       "    </tr>\n",
       "    <tr>\n",
       "      <th>23</th>\n",
       "      <td>Occupation_Category__Self-Employees</td>\n",
       "      <td>9</td>\n",
       "    </tr>\n",
       "    <tr>\n",
       "      <th>0</th>\n",
       "      <td>Payroll_Flag</td>\n",
       "      <td>10</td>\n",
       "    </tr>\n",
       "    <tr>\n",
       "      <th>22</th>\n",
       "      <td>Occupation_Category__Retirees</td>\n",
       "      <td>12</td>\n",
       "    </tr>\n",
       "    <tr>\n",
       "      <th>11</th>\n",
       "      <td>Payment_Trans_Num</td>\n",
       "      <td>13</td>\n",
       "    </tr>\n",
       "    <tr>\n",
       "      <th>12</th>\n",
       "      <td>Transfer_Trans_Num</td>\n",
       "      <td>16</td>\n",
       "    </tr>\n",
       "    <tr>\n",
       "      <th>13</th>\n",
       "      <td>Credit_Cards_Payments_Num</td>\n",
       "      <td>19</td>\n",
       "    </tr>\n",
       "    <tr>\n",
       "      <th>17</th>\n",
       "      <td>Marital_Status__Divorced</td>\n",
       "      <td>20</td>\n",
       "    </tr>\n",
       "    <tr>\n",
       "      <th>16</th>\n",
       "      <td>Gender__Female</td>\n",
       "      <td>22</td>\n",
       "    </tr>\n",
       "    <tr>\n",
       "      <th>14</th>\n",
       "      <td>Credit_Cards_Purchases_Num</td>\n",
       "      <td>25</td>\n",
       "    </tr>\n",
       "    <tr>\n",
       "      <th>1</th>\n",
       "      <td>Business_Flag</td>\n",
       "      <td>26</td>\n",
       "    </tr>\n",
       "    <tr>\n",
       "      <th>15</th>\n",
       "      <td>Arrears_Months_Max</td>\n",
       "      <td>27</td>\n",
       "    </tr>\n",
       "  </tbody>\n",
       "</table>\n",
       "</div>"
      ],
      "text/plain": [
       "                                  Column  Importance\n",
       "25          Occupation_Category__default           1\n",
       "2           Saving_Current_Accounts_Flag           1\n",
       "3               Investment_Products_Flag           1\n",
       "4                    Business_Loans_Flag           1\n",
       "5                     Housing_Loans_Flag           1\n",
       "7                      Credit_Cards_Flag           1\n",
       "8                       Branch_Trans_Num           1\n",
       "9                          APS_Trans_Num           1\n",
       "10                       Phone_Trans_Num           1\n",
       "21        Occupation_Category__Employees           1\n",
       "20  Occupation_Category__Business-Owners           1\n",
       "18                Marital_Status__Single           1\n",
       "6                    Consumer_Loans_Flag           2\n",
       "24      Occupation_Category__Unemployeed           6\n",
       "19                 Marital_Status__Widow           7\n",
       "23   Occupation_Category__Self-Employees           9\n",
       "0                           Payroll_Flag          10\n",
       "22         Occupation_Category__Retirees          12\n",
       "11                     Payment_Trans_Num          13\n",
       "12                    Transfer_Trans_Num          16\n",
       "13             Credit_Cards_Payments_Num          19\n",
       "17              Marital_Status__Divorced          20\n",
       "16                        Gender__Female          22\n",
       "14            Credit_Cards_Purchases_Num          25\n",
       "1                          Business_Flag          26\n",
       "15                    Arrears_Months_Max          27"
      ]
     },
     "execution_count": 133,
     "metadata": {},
     "output_type": "execute_result"
    }
   ],
   "source": [
    "pd.DataFrame(zip(X.columns[selector.support_],selector.ranking_),columns=['Column','Importance']).sort_values(by ='Importance')"
   ]
  },
  {
   "cell_type": "code",
   "execution_count": 134,
   "metadata": {
    "jupyter": {
     "outputs_hidden": false,
     "source_hidden": false
    },
    "nteract": {
     "transient": {
      "deleting": false
     }
    }
   },
   "outputs": [],
   "source": [
    "run.complete()"
   ]
  },
  {
   "cell_type": "code",
   "execution_count": 135,
   "metadata": {},
   "outputs": [
    {
     "data": {
      "application/vnd.jupyter.widget-view+json": {
       "model_id": "9f88f01b66dc45abb26e0915e77dcd69",
       "version_major": 2,
       "version_minor": 0
      },
      "text/plain": [
       "_UserRunWidget(widget_settings={'childWidgetDisplay': 'popup', 'send_telemetry': False, 'log_level': 'INFO', '…"
      ]
     },
     "metadata": {},
     "output_type": "display_data"
    },
    {
     "data": {
      "application/aml.mini.widget.v1": "{\"status\": \"Completed\", \"workbench_run_details_uri\": \"https://ml.azure.com/experiments/lr-experiment/runs/05a46113-374b-46fa-9ba7-4c59ce5a7799?wsid=/subscriptions/6ed9d167-b2e6-41b8-9500-35e6df64d9dc/resourcegroups/MLRG/workspaces/erbbimlws\", \"run_id\": \"05a46113-374b-46fa-9ba7-4c59ce5a7799\", \"run_properties\": {\"run_id\": \"05a46113-374b-46fa-9ba7-4c59ce5a7799\", \"created_utc\": \"2021-03-30T09:53:01.495303Z\", \"properties\": {}, \"tags\": {}, \"end_time_utc\": \"2021-03-30T09:55:12.34543Z\", \"status\": \"Completed\", \"log_files\": {}, \"log_groups\": [], \"run_duration\": \"0:02:10\", \"run_number\": \"7\", \"run_queued_details\": {\"status\": \"Completed\", \"details\": null}}, \"child_runs\": [], \"children_metrics\": {}, \"run_metrics\": [{\"name\": \"Weights\", \"run_id\": \"05a46113-374b-46fa-9ba7-4c59ce5a7799\", \"categories\": [0], \"series\": [{\"data\": [{\"1\": 1, \"0\": 0.033801606229405964}]}]}, {\"name\": \"roc curve\", \"run_id\": \"05a46113-374b-46fa-9ba7-4c59ce5a7799\", \"categories\": [0], \"series\": [{\"data\": [\"aml://artifactId/ExperimentRun/dcid.05a46113-374b-46fa-9ba7-4c59ce5a7799/roc curve_1617098106.png\"]}]}, {\"name\": \"auc (train)\", \"run_id\": \"05a46113-374b-46fa-9ba7-4c59ce5a7799\", \"categories\": [0], \"series\": [{\"data\": [0.7258801442506733]}]}], \"run_logs\": \"\\nRun is completed.\", \"graph\": {}, \"widget_settings\": {\"childWidgetDisplay\": \"popup\", \"send_telemetry\": false, \"log_level\": \"INFO\", \"sdk_version\": \"1.22.0\"}, \"loading\": false}"
     },
     "metadata": {},
     "output_type": "display_data"
    }
   ],
   "source": [
    "from azureml.widgets import RunDetails\n",
    "\n",
    "RunDetails(run).show()"
   ]
  },
  {
   "cell_type": "code",
   "execution_count": 136,
   "metadata": {},
   "outputs": [
    {
     "name": "stdout",
     "output_type": "stream",
     "text": [
      "Metrics:\n",
      "Weights : {'1': 1, '0': 0.033801606229405964}\n",
      "roc curve : aml://artifactId/ExperimentRun/dcid.05a46113-374b-46fa-9ba7-4c59ce5a7799/roc curve_1617098106.png\n",
      "auc (train) : 0.7258801442506733\n",
      "\n",
      "Files:\n",
      "roc curve_1617098106.png\n"
     ]
    }
   ],
   "source": [
    "import json\n",
    "\n",
    "# Get logged metrics\n",
    "print(\"Metrics:\")\n",
    "metrics = run.get_metrics()\n",
    "for metric_name in metrics:\n",
    "    print(metric_name, \":\", metrics[metric_name])\n",
    "\n",
    "# Get output files\n",
    "print(\"\\nFiles:\")\n",
    "files = run.get_file_names()\n",
    "for file in files:\n",
    "    print(file)"
   ]
  },
  {
   "cell_type": "code",
   "execution_count": 137,
   "metadata": {},
   "outputs": [],
   "source": [
    "import os\n",
    "\n",
    "download_folder = 'downloaded-files'\n",
    "\n",
    "# Download files in the \"outputs\" folder\n",
    "run.download_files(prefix='outputs', output_directory=download_folder)\n",
    "\n",
    "# Verify the files have been downloaded\n",
    "for root, directories, filenames in os.walk(download_folder): \n",
    "    for filename in filenames:  \n",
    "        print (os.path.join(root,filename))"
   ]
  },
  {
   "cell_type": "code",
   "execution_count": 138,
   "metadata": {},
   "outputs": [
    {
     "data": {
      "text/plain": [
       "{'runId': '05a46113-374b-46fa-9ba7-4c59ce5a7799',\n",
       " 'target': 'local',\n",
       " 'status': 'Completed',\n",
       " 'startTimeUtc': '2021-03-30T09:53:01.603195Z',\n",
       " 'endTimeUtc': '2021-03-30T09:55:12.34543Z',\n",
       " 'properties': {},\n",
       " 'inputDatasets': [],\n",
       " 'outputDatasets': [],\n",
       " 'logFiles': {},\n",
       " 'submittedBy': 'Evaggelos Kontogeorgakos'}"
      ]
     },
     "execution_count": 138,
     "metadata": {},
     "output_type": "execute_result"
    }
   ],
   "source": [
    "run.get_details_with_logs()"
   ]
  }
 ],
 "metadata": {
  "kernel_info": {
   "name": "python3-azureml"
  },
  "kernelspec": {
   "display_name": "Python 3.6 - AzureML",
   "language": "python",
   "name": "python3-azureml"
  },
  "language_info": {
   "codemirror_mode": {
    "name": "ipython",
    "version": 3
   },
   "file_extension": ".py",
   "mimetype": "text/x-python",
   "name": "python",
   "nbconvert_exporter": "python",
   "pygments_lexer": "ipython3",
   "version": "3.6.9"
  },
  "microsoft": {
   "host": {
    "AzureML": {
     "notebookHasBeenCompleted": true
    }
   }
  },
  "nteract": {
   "version": "nteract-front-end@1.0.0"
  }
 },
 "nbformat": 4,
 "nbformat_minor": 2
}
