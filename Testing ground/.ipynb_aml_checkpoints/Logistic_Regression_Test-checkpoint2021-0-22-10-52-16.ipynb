{
  "cells": [
    {
      "cell_type": "code",
      "source": [
        "#%matplotlib inline\r\n",
        "import matplotlib.pyplot as plt\r\n",
        "plt.rc(\"font\", size=14)\r\n",
        "import pandas as pd\r\n",
        "import numpy as np\r\n",
        "import math\r\n",
        "from sklearn.model_selection import train_test_split\r\n",
        "from sklearn.linear_model import LogisticRegression\r\n",
        "from sklearn.feature_selection import RFE\r\n",
        "from sklearn.metrics import confusion_matrix\r\n",
        "from sklearn.metrics import classification_report\r\n",
        "from sklearn.metrics import roc_auc_score\r\n",
        "from sklearn.metrics import roc_curve\r\n",
        "from sklearn.metrics import auc\r\n"
      ],
      "outputs": [],
      "execution_count": 2,
      "metadata": {
        "collapsed": true,
        "jupyter": {
          "source_hidden": false,
          "outputs_hidden": false
        },
        "nteract": {
          "transient": {
            "deleting": false
          }
        },
        "gather": {
          "logged": 1610016350329
        }
      }
    },
    {
      "cell_type": "code",
      "source": [
        "# azureml-core of version 1.0.72 or higher is required\r\n",
        "# azureml-dataprep[pandas] of version 1.1.34 or higher is required\r\n",
        "from azureml.core import Workspace, Dataset\r\n",
        "\r\n",
        "subscription_id = '6ed9d167-b2e6-41b8-9500-35e6df64d9dc'\r\n",
        "resource_group = 'MLRG'\r\n",
        "workspace_name = 'erbbimlws'\r\n",
        "\r\n",
        "workspace = Workspace(subscription_id, resource_group, workspace_name)\r\n",
        "\r\n"
      ],
      "outputs": [
        {
          "output_type": "stream",
          "name": "stdout",
          "text": [
            "Performing interactive authentication. Please follow the instructions on the terminal.\n",
            "To sign in, use a web browser to open the page https://microsoft.com/devicelogin and enter the code DYURB73QV to authenticate.\n",
            "You have logged in. Now let us find all the subscriptions to which you have access...\n",
            "Interactive authentication successfully completed.\n"
          ]
        }
      ],
      "execution_count": 3,
      "metadata": {
        "collapsed": true,
        "jupyter": {
          "source_hidden": false,
          "outputs_hidden": false
        },
        "nteract": {
          "transient": {
            "deleting": false
          }
        },
        "gather": {
          "logged": 1610016395350
        }
      }
    },
    {
      "cell_type": "code",
      "source": [
        "df = Dataset.get_by_name(workspace, name='Time_Deposits_Data_Set')\r\n",
        "df.to_pandas_dataframe()"
      ],
      "outputs": [
        {
          "output_type": "execute_result",
          "execution_count": 14,
          "data": {
            "text/plain": "        Customer_ID  Gender Birth_Date   Ref_Date Marital_Status  \\\n0             36163    Male 1968-01-20 2008-12-31         Single   \n1           5904434    Male 1973-04-07 2008-12-31         Single   \n2           5904453    Male 1960-10-17 2008-12-31        Married   \n3            855752    Male 1969-07-28 2008-12-31        Married   \n4                81    Male 1950-07-27 2008-12-31        Married   \n...             ...     ...        ...        ...            ...   \n119995      5902524    Male 1972-07-22 2008-12-31        Married   \n119996      5902564    Male 1978-09-30 2008-12-31         Single   \n119997      5902614  Female 1984-11-26 2008-12-31        Married   \n119998      5902625    Male 1968-02-21 2008-12-31        Married   \n119999      5902641    Male 1957-01-17 2008-12-31         Single   \n\n        Children_Num Occupation_Category  Total_Income  Payroll_Flag  \\\n0                  0           Employees         17637             0   \n1                  0            Rentiers          5800             0   \n2                  2            Rentiers         14000             0   \n3                  2     Business-Owners         54814             0   \n4                  2           Employees         64988             0   \n...              ...                 ...           ...           ...   \n119995             2           Employees         30647             1   \n119996             0     Business-Owners         65714             0   \n119997             0           Employees          4730             0   \n119998             2     Business-Owners         30476             0   \n119999             0      Self-Employees          6012             0   \n\n        Business_Flag  ...  Transfer_Trans_Amount  Credit_Cards_Installments  \\\n0                   0  ...               0.000000                   0.000000   \n1                   0  ...               0.000000                   0.000000   \n2                   0  ...               0.000000                   0.000000   \n3                   0  ...             105.000000                   1.666667   \n4                   0  ...               0.000000                   0.666667   \n...               ...  ...                    ...                        ...   \n119995              0  ...               0.000000                   0.000000   \n119996              0  ...               0.000000                   0.000000   \n119997              0  ...               0.000000                   0.000000   \n119998              0  ...               0.000000                   0.000000   \n119999              0  ...             198.333333                   0.000000   \n\n        Credit_Cards_Payments_Num  Credit_Cards_Purchases_Num  \\\n0                        0.000000                         0.0   \n1                        0.000000                         0.0   \n2                        0.000000                         0.0   \n3                        0.666667                         1.0   \n4                        0.666667                         0.0   \n...                           ...                         ...   \n119995                   0.000000                         0.0   \n119996                   0.000000                         0.0   \n119997                   0.000000                         0.0   \n119998                   0.000000                         0.0   \n119999                   0.000000                         0.0   \n\n        Credit_Cards_Witrhdrawals_Num  Credit_Cards_Payments_Amount  \\\n0                                 0.0                      0.000000   \n1                                 0.0                      0.000000   \n2                                 0.0                      0.000000   \n3                                 0.0                    141.666666   \n4                                 0.0                    603.816666   \n...                               ...                           ...   \n119995                            0.0                      0.000000   \n119996                            0.0                      0.000000   \n119997                            0.0                      0.000000   \n119998                            0.0                      0.000000   \n119999                            0.0                      0.000000   \n\n        Credit_Cards_Purchases_Amount  Credit_Cards_Witrhdrawals_Amount  \\\n0                                0.00                               0.0   \n1                                0.00                               0.0   \n2                                0.00                               0.0   \n3                              230.45                               0.0   \n4                                0.00                               0.0   \n...                               ...                               ...   \n119995                           0.00                               0.0   \n119996                           0.00                               0.0   \n119997                           0.00                               0.0   \n119998                           0.00                               0.0   \n119999                           0.00                               0.0   \n\n        Arrears_Months_Max  Time_Deposits_Flag  \n0                        1               False  \n1                        1               False  \n2                        1               False  \n3                        1               False  \n4                        1               False  \n...                    ...                 ...  \n119995                   0               False  \n119996                   0                True  \n119997                   0               False  \n119998                   1               False  \n119999                   1               False  \n\n[120000 rows x 46 columns]",
            "text/html": "<div>\n<style scoped>\n    .dataframe tbody tr th:only-of-type {\n        vertical-align: middle;\n    }\n\n    .dataframe tbody tr th {\n        vertical-align: top;\n    }\n\n    .dataframe thead th {\n        text-align: right;\n    }\n</style>\n<table border=\"1\" class=\"dataframe\">\n  <thead>\n    <tr style=\"text-align: right;\">\n      <th></th>\n      <th>Customer_ID</th>\n      <th>Gender</th>\n      <th>Birth_Date</th>\n      <th>Ref_Date</th>\n      <th>Marital_Status</th>\n      <th>Children_Num</th>\n      <th>Occupation_Category</th>\n      <th>Total_Income</th>\n      <th>Payroll_Flag</th>\n      <th>Business_Flag</th>\n      <th>...</th>\n      <th>Transfer_Trans_Amount</th>\n      <th>Credit_Cards_Installments</th>\n      <th>Credit_Cards_Payments_Num</th>\n      <th>Credit_Cards_Purchases_Num</th>\n      <th>Credit_Cards_Witrhdrawals_Num</th>\n      <th>Credit_Cards_Payments_Amount</th>\n      <th>Credit_Cards_Purchases_Amount</th>\n      <th>Credit_Cards_Witrhdrawals_Amount</th>\n      <th>Arrears_Months_Max</th>\n      <th>Time_Deposits_Flag</th>\n    </tr>\n  </thead>\n  <tbody>\n    <tr>\n      <th>0</th>\n      <td>36163</td>\n      <td>Male</td>\n      <td>1968-01-20</td>\n      <td>2008-12-31</td>\n      <td>Single</td>\n      <td>0</td>\n      <td>Employees</td>\n      <td>17637</td>\n      <td>0</td>\n      <td>0</td>\n      <td>...</td>\n      <td>0.000000</td>\n      <td>0.000000</td>\n      <td>0.000000</td>\n      <td>0.0</td>\n      <td>0.0</td>\n      <td>0.000000</td>\n      <td>0.00</td>\n      <td>0.0</td>\n      <td>1</td>\n      <td>False</td>\n    </tr>\n    <tr>\n      <th>1</th>\n      <td>5904434</td>\n      <td>Male</td>\n      <td>1973-04-07</td>\n      <td>2008-12-31</td>\n      <td>Single</td>\n      <td>0</td>\n      <td>Rentiers</td>\n      <td>5800</td>\n      <td>0</td>\n      <td>0</td>\n      <td>...</td>\n      <td>0.000000</td>\n      <td>0.000000</td>\n      <td>0.000000</td>\n      <td>0.0</td>\n      <td>0.0</td>\n      <td>0.000000</td>\n      <td>0.00</td>\n      <td>0.0</td>\n      <td>1</td>\n      <td>False</td>\n    </tr>\n    <tr>\n      <th>2</th>\n      <td>5904453</td>\n      <td>Male</td>\n      <td>1960-10-17</td>\n      <td>2008-12-31</td>\n      <td>Married</td>\n      <td>2</td>\n      <td>Rentiers</td>\n      <td>14000</td>\n      <td>0</td>\n      <td>0</td>\n      <td>...</td>\n      <td>0.000000</td>\n      <td>0.000000</td>\n      <td>0.000000</td>\n      <td>0.0</td>\n      <td>0.0</td>\n      <td>0.000000</td>\n      <td>0.00</td>\n      <td>0.0</td>\n      <td>1</td>\n      <td>False</td>\n    </tr>\n    <tr>\n      <th>3</th>\n      <td>855752</td>\n      <td>Male</td>\n      <td>1969-07-28</td>\n      <td>2008-12-31</td>\n      <td>Married</td>\n      <td>2</td>\n      <td>Business-Owners</td>\n      <td>54814</td>\n      <td>0</td>\n      <td>0</td>\n      <td>...</td>\n      <td>105.000000</td>\n      <td>1.666667</td>\n      <td>0.666667</td>\n      <td>1.0</td>\n      <td>0.0</td>\n      <td>141.666666</td>\n      <td>230.45</td>\n      <td>0.0</td>\n      <td>1</td>\n      <td>False</td>\n    </tr>\n    <tr>\n      <th>4</th>\n      <td>81</td>\n      <td>Male</td>\n      <td>1950-07-27</td>\n      <td>2008-12-31</td>\n      <td>Married</td>\n      <td>2</td>\n      <td>Employees</td>\n      <td>64988</td>\n      <td>0</td>\n      <td>0</td>\n      <td>...</td>\n      <td>0.000000</td>\n      <td>0.666667</td>\n      <td>0.666667</td>\n      <td>0.0</td>\n      <td>0.0</td>\n      <td>603.816666</td>\n      <td>0.00</td>\n      <td>0.0</td>\n      <td>1</td>\n      <td>False</td>\n    </tr>\n    <tr>\n      <th>...</th>\n      <td>...</td>\n      <td>...</td>\n      <td>...</td>\n      <td>...</td>\n      <td>...</td>\n      <td>...</td>\n      <td>...</td>\n      <td>...</td>\n      <td>...</td>\n      <td>...</td>\n      <td>...</td>\n      <td>...</td>\n      <td>...</td>\n      <td>...</td>\n      <td>...</td>\n      <td>...</td>\n      <td>...</td>\n      <td>...</td>\n      <td>...</td>\n      <td>...</td>\n      <td>...</td>\n    </tr>\n    <tr>\n      <th>119995</th>\n      <td>5902524</td>\n      <td>Male</td>\n      <td>1972-07-22</td>\n      <td>2008-12-31</td>\n      <td>Married</td>\n      <td>2</td>\n      <td>Employees</td>\n      <td>30647</td>\n      <td>1</td>\n      <td>0</td>\n      <td>...</td>\n      <td>0.000000</td>\n      <td>0.000000</td>\n      <td>0.000000</td>\n      <td>0.0</td>\n      <td>0.0</td>\n      <td>0.000000</td>\n      <td>0.00</td>\n      <td>0.0</td>\n      <td>0</td>\n      <td>False</td>\n    </tr>\n    <tr>\n      <th>119996</th>\n      <td>5902564</td>\n      <td>Male</td>\n      <td>1978-09-30</td>\n      <td>2008-12-31</td>\n      <td>Single</td>\n      <td>0</td>\n      <td>Business-Owners</td>\n      <td>65714</td>\n      <td>0</td>\n      <td>0</td>\n      <td>...</td>\n      <td>0.000000</td>\n      <td>0.000000</td>\n      <td>0.000000</td>\n      <td>0.0</td>\n      <td>0.0</td>\n      <td>0.000000</td>\n      <td>0.00</td>\n      <td>0.0</td>\n      <td>0</td>\n      <td>True</td>\n    </tr>\n    <tr>\n      <th>119997</th>\n      <td>5902614</td>\n      <td>Female</td>\n      <td>1984-11-26</td>\n      <td>2008-12-31</td>\n      <td>Married</td>\n      <td>0</td>\n      <td>Employees</td>\n      <td>4730</td>\n      <td>0</td>\n      <td>0</td>\n      <td>...</td>\n      <td>0.000000</td>\n      <td>0.000000</td>\n      <td>0.000000</td>\n      <td>0.0</td>\n      <td>0.0</td>\n      <td>0.000000</td>\n      <td>0.00</td>\n      <td>0.0</td>\n      <td>0</td>\n      <td>False</td>\n    </tr>\n    <tr>\n      <th>119998</th>\n      <td>5902625</td>\n      <td>Male</td>\n      <td>1968-02-21</td>\n      <td>2008-12-31</td>\n      <td>Married</td>\n      <td>2</td>\n      <td>Business-Owners</td>\n      <td>30476</td>\n      <td>0</td>\n      <td>0</td>\n      <td>...</td>\n      <td>0.000000</td>\n      <td>0.000000</td>\n      <td>0.000000</td>\n      <td>0.0</td>\n      <td>0.0</td>\n      <td>0.000000</td>\n      <td>0.00</td>\n      <td>0.0</td>\n      <td>1</td>\n      <td>False</td>\n    </tr>\n    <tr>\n      <th>119999</th>\n      <td>5902641</td>\n      <td>Male</td>\n      <td>1957-01-17</td>\n      <td>2008-12-31</td>\n      <td>Single</td>\n      <td>0</td>\n      <td>Self-Employees</td>\n      <td>6012</td>\n      <td>0</td>\n      <td>0</td>\n      <td>...</td>\n      <td>198.333333</td>\n      <td>0.000000</td>\n      <td>0.000000</td>\n      <td>0.0</td>\n      <td>0.0</td>\n      <td>0.000000</td>\n      <td>0.00</td>\n      <td>0.0</td>\n      <td>1</td>\n      <td>False</td>\n    </tr>\n  </tbody>\n</table>\n<p>120000 rows × 46 columns</p>\n</div>"
          },
          "metadata": {}
        }
      ],
      "execution_count": 14,
      "metadata": {
        "collapsed": true,
        "jupyter": {
          "source_hidden": false,
          "outputs_hidden": false
        },
        "nteract": {
          "transient": {
            "deleting": false
          }
        },
        "gather": {
          "logged": 1610016968762
        }
      }
    },
    {
      "cell_type": "code",
      "source": [
        "df = df.to_pandas_dataframe()"
      ],
      "outputs": [
        {
          "output_type": "error",
          "ename": "AttributeError",
          "evalue": "'DataFrame' object has no attribute 'to_pandas_dataframe'",
          "traceback": [
            "\u001b[0;31m---------------------------------------------------------------------------\u001b[0m",
            "\u001b[0;31mAttributeError\u001b[0m                            Traceback (most recent call last)",
            "\u001b[0;32m<ipython-input-16-20821816bce1>\u001b[0m in \u001b[0;36m<module>\u001b[0;34m\u001b[0m\n\u001b[0;32m----> 1\u001b[0;31m \u001b[0mdf\u001b[0m \u001b[0;34m=\u001b[0m \u001b[0mdf\u001b[0m\u001b[0;34m.\u001b[0m\u001b[0mto_pandas_dataframe\u001b[0m\u001b[0;34m(\u001b[0m\u001b[0;34m)\u001b[0m\u001b[0;34m\u001b[0m\u001b[0;34m\u001b[0m\u001b[0m\n\u001b[0m",
            "\u001b[0;32m/anaconda/envs/azureml_py36/lib/python3.6/site-packages/pandas/core/generic.py\u001b[0m in \u001b[0;36m__getattr__\u001b[0;34m(self, name)\u001b[0m\n\u001b[1;32m   5177\u001b[0m             \u001b[0;32mif\u001b[0m \u001b[0mself\u001b[0m\u001b[0;34m.\u001b[0m\u001b[0m_info_axis\u001b[0m\u001b[0;34m.\u001b[0m\u001b[0m_can_hold_identifiers_and_holds_name\u001b[0m\u001b[0;34m(\u001b[0m\u001b[0mname\u001b[0m\u001b[0;34m)\u001b[0m\u001b[0;34m:\u001b[0m\u001b[0;34m\u001b[0m\u001b[0;34m\u001b[0m\u001b[0m\n\u001b[1;32m   5178\u001b[0m                 \u001b[0;32mreturn\u001b[0m \u001b[0mself\u001b[0m\u001b[0;34m[\u001b[0m\u001b[0mname\u001b[0m\u001b[0;34m]\u001b[0m\u001b[0;34m\u001b[0m\u001b[0;34m\u001b[0m\u001b[0m\n\u001b[0;32m-> 5179\u001b[0;31m             \u001b[0;32mreturn\u001b[0m \u001b[0mobject\u001b[0m\u001b[0;34m.\u001b[0m\u001b[0m__getattribute__\u001b[0m\u001b[0;34m(\u001b[0m\u001b[0mself\u001b[0m\u001b[0;34m,\u001b[0m \u001b[0mname\u001b[0m\u001b[0;34m)\u001b[0m\u001b[0;34m\u001b[0m\u001b[0;34m\u001b[0m\u001b[0m\n\u001b[0m\u001b[1;32m   5180\u001b[0m \u001b[0;34m\u001b[0m\u001b[0m\n\u001b[1;32m   5181\u001b[0m     \u001b[0;32mdef\u001b[0m \u001b[0m__setattr__\u001b[0m\u001b[0;34m(\u001b[0m\u001b[0mself\u001b[0m\u001b[0;34m,\u001b[0m \u001b[0mname\u001b[0m\u001b[0;34m,\u001b[0m \u001b[0mvalue\u001b[0m\u001b[0;34m)\u001b[0m\u001b[0;34m:\u001b[0m\u001b[0;34m\u001b[0m\u001b[0;34m\u001b[0m\u001b[0m\n",
            "\u001b[0;31mAttributeError\u001b[0m: 'DataFrame' object has no attribute 'to_pandas_dataframe'"
          ]
        }
      ],
      "execution_count": 16,
      "metadata": {
        "collapsed": true,
        "jupyter": {
          "source_hidden": false,
          "outputs_hidden": false
        },
        "nteract": {
          "transient": {
            "deleting": false
          }
        },
        "gather": {
          "logged": 1610016981081
        }
      }
    },
    {
      "cell_type": "code",
      "source": [
        "df.head()\r\n",
        "df.dtypes"
      ],
      "outputs": [
        {
          "output_type": "execute_result",
          "execution_count": 18,
          "data": {
            "text/plain": "Customer_ID                                  int64\nGender                                      object\nBirth_Date                          datetime64[ns]\nRef_Date                            datetime64[ns]\nMarital_Status                              object\nChildren_Num                                 int64\nOccupation_Category                         object\nTotal_Income                                 int64\nPayroll_Flag                                 int64\nBusiness_Flag                                int64\nSaving_Current_Accounts_Flag               float64\nInvestment_Products_Flag                   float64\nInsurance_Products_Flag                    float64\nBusiness_Loans_Flag                        float64\nHousing_Loans_Flag                         float64\nConsumer_Loans_Flag                        float64\nCredit_Cards_Flag                          float64\nSaving_Current_Balance                     float64\nInvestment_Products_Balance                float64\nInsurance_Balances                         float64\nBusiness_Loans_Balance                     float64\nHousing_Loans_Balance                      float64\nConsumer_Loans_Balance                     float64\nCredit_Cards_Balance                       float64\nBranch_Trans_Num                           float64\nATM_Trans_Num                              float64\nAPS_Trans_Num                              float64\nPhone_Trans_Num                            float64\nInternet_Trans_Num                         float64\nDeposit_Trans_Num                          float64\nWithdrawl_Trans_Num                        float64\nPayment_Trans_Num                          float64\nTransfer_Trans_Num                         float64\nDeposit_Trans_Amount                       float64\nWithdrawl_Trans_Amount                     float64\nPayment_Trans_Amount                       float64\nTransfer_Trans_Amount                      float64\nCredit_Cards_Installments                  float64\nCredit_Cards_Payments_Num                  float64\nCredit_Cards_Purchases_Num                 float64\nCredit_Cards_Witrhdrawals_Num              float64\nCredit_Cards_Payments_Amount               float64\nCredit_Cards_Purchases_Amount              float64\nCredit_Cards_Witrhdrawals_Amount           float64\nArrears_Months_Max                           int64\nTime_Deposits_Flag                            bool\ndtype: object"
          },
          "metadata": {}
        }
      ],
      "execution_count": 18,
      "metadata": {
        "collapsed": true,
        "jupyter": {
          "source_hidden": false,
          "outputs_hidden": false
        },
        "nteract": {
          "transient": {
            "deleting": false
          }
        },
        "gather": {
          "logged": 1610017012499
        }
      }
    },
    {
      "cell_type": "code",
      "source": [
        "def full_log_likelihood(w, X, y):\r\n",
        "    score = np.dot(X, w).reshape(1, X.shape[0])\r\n",
        "    return np.sum(-np.log(1 + np.exp(score))) + np.sum(y * score)\r\n",
        "\r\n",
        "def null_log_likelihood(w, X, y):\r\n",
        "    z = np.array([w if i == 0 else 0.0 for i, w in enumerate(w.reshape(1, X.shape[1])[0])]).reshape(X.shape[1], 1)\r\n",
        "    score = np.dot(X, z).reshape(1, X.shape[0])\r\n",
        "    return np.sum(-np.log(1 + np.exp(score))) + np.sum(y * score)\r\n",
        "\r\n",
        "def mcfadden_rsquare(w, X, y):\r\n",
        "    return 1.0 - (full_log_likelihood(w, X, y) / null_log_likelihood(w, X, y))\r\n",
        "\r\n",
        "def mcfadden_adjusted_rsquare(w, X, y):\r\n",
        "    k = float(X.shape[1])\r\n",
        "    return 1.0 - ((full_log_likelihood(w, X, y) - k) / null_log_likelihood(w, X, y))\r\n",
        "def efron_rsquare(y, y_pred):\r\n",
        "    n = float(len(y))\r\n",
        "    t1 = np.sum(np.power(y - y_pred, 2.0))\r\n",
        "    t2 = np.sum(np.power((y - (np.sum(y) / n)), 2.0))\r\n",
        "    return 1.0 - (t1 / t2)\r\n",
        "def true_probabilities (p,a):\r\n",
        "    tp =p/(p+(1-p)/a)\r\n",
        "    return tp"
      ],
      "outputs": [],
      "execution_count": 7,
      "metadata": {
        "collapsed": true,
        "jupyter": {
          "source_hidden": false,
          "outputs_hidden": false
        },
        "nteract": {
          "transient": {
            "deleting": false
          }
        },
        "gather": {
          "logged": 1610016496251
        }
      }
    },
    {
      "cell_type": "code",
      "source": [
        "recode = {True:\"1\",False:\"0\"}\r\n",
        "\r\n",
        "df['Time_Deposits_Flag'] = df['Time_Deposits_Flag'].map(recode)\r\n",
        "df['Time_Deposits_Flag'].astype(int)"
      ],
      "outputs": [
        {
          "output_type": "execute_result",
          "execution_count": 19,
          "data": {
            "text/plain": "0         0\n1         0\n2         0\n3         0\n4         0\n         ..\n119995    0\n119996    1\n119997    0\n119998    0\n119999    0\nName: Time_Deposits_Flag, Length: 120000, dtype: int64"
          },
          "metadata": {}
        }
      ],
      "execution_count": 19,
      "metadata": {
        "collapsed": true,
        "jupyter": {
          "source_hidden": false,
          "outputs_hidden": false
        },
        "nteract": {
          "transient": {
            "deleting": false
          }
        },
        "gather": {
          "logged": 1610017036800
        }
      }
    },
    {
      "cell_type": "code",
      "source": [
        "df['Time_Deposits_Flag'].value_counts()"
      ],
      "outputs": [
        {
          "output_type": "execute_result",
          "execution_count": 20,
          "data": {
            "text/plain": "0    118663\n1      1337\nName: Time_Deposits_Flag, dtype: int64"
          },
          "metadata": {}
        }
      ],
      "execution_count": 20,
      "metadata": {
        "collapsed": true,
        "jupyter": {
          "source_hidden": false,
          "outputs_hidden": false
        },
        "nteract": {
          "transient": {
            "deleting": false
          }
        },
        "gather": {
          "logged": 1610017090364
        }
      }
    },
    {
      "cell_type": "code",
      "source": [
        "for col in df.columns[1:-1]:       \r\n",
        "       if df[col].dtype =='object' and col not in ['Birth_Date','Ref_Date']:\r\n",
        "            \r\n",
        "            df = pd.get_dummies(df, prefix=col + '_', columns=[col])"
      ],
      "outputs": [],
      "execution_count": 21,
      "metadata": {
        "collapsed": true,
        "jupyter": {
          "source_hidden": false,
          "outputs_hidden": false
        },
        "nteract": {
          "transient": {
            "deleting": false
          }
        },
        "gather": {
          "logged": 1610017117223
        }
      }
    },
    {
      "cell_type": "code",
      "source": [
        "for col in df.columns[1:-1]:       \r\n",
        "       if df[col].dtype =='float' and ('_Num' in col or '_Flag' in col):\r\n",
        "            \r\n",
        "            df[col] = df[col].astype('int')"
      ],
      "outputs": [],
      "execution_count": 22,
      "metadata": {
        "collapsed": true,
        "jupyter": {
          "source_hidden": false,
          "outputs_hidden": false
        },
        "nteract": {
          "transient": {
            "deleting": false
          }
        },
        "gather": {
          "logged": 1610017145794
        }
      }
    },
    {
      "cell_type": "code",
      "source": [
        "df['Total_Income'] = df['Total_Income'].astype('float')"
      ],
      "outputs": [],
      "execution_count": 23,
      "metadata": {
        "collapsed": true,
        "jupyter": {
          "source_hidden": false,
          "outputs_hidden": false
        },
        "nteract": {
          "transient": {
            "deleting": false
          }
        },
        "gather": {
          "logged": 1610017164994
        }
      }
    },
    {
      "cell_type": "code",
      "source": [
        "df['Time_Deposits_Flag'] = df['Time_Deposits_Flag'].astype('int')"
      ],
      "outputs": [],
      "execution_count": 24,
      "metadata": {
        "collapsed": true,
        "jupyter": {
          "source_hidden": false,
          "outputs_hidden": false
        },
        "nteract": {
          "transient": {
            "deleting": false
          }
        },
        "gather": {
          "logged": 1610017187946
        }
      }
    },
    {
      "cell_type": "code",
      "source": [
        "df = df.drop(['Birth_Date','Ref_Date'],axis = 1)"
      ],
      "outputs": [],
      "execution_count": 25,
      "metadata": {
        "collapsed": true,
        "jupyter": {
          "source_hidden": false,
          "outputs_hidden": false
        },
        "nteract": {
          "transient": {
            "deleting": false
          }
        },
        "gather": {
          "logged": 1610017216027
        }
      }
    },
    {
      "cell_type": "code",
      "source": [
        "X = df[df.columns[1:]].drop(['Time_Deposits_Flag'],axis = 1)"
      ],
      "outputs": [],
      "execution_count": 26,
      "metadata": {
        "collapsed": true,
        "jupyter": {
          "source_hidden": false,
          "outputs_hidden": false
        },
        "nteract": {
          "transient": {
            "deleting": false
          }
        },
        "gather": {
          "logged": 1610017232737
        }
      }
    },
    {
      "cell_type": "code",
      "source": [
        "y = df['Time_Deposits_Flag']"
      ],
      "outputs": [],
      "execution_count": 27,
      "metadata": {
        "collapsed": true,
        "jupyter": {
          "source_hidden": false,
          "outputs_hidden": false
        },
        "nteract": {
          "transient": {
            "deleting": false
          }
        },
        "gather": {
          "logged": 1610017251104
        }
      }
    },
    {
      "cell_type": "code",
      "source": [
        "f_count = df[df['Time_Deposits_Flag']== 0].iloc[:,0].count()\r\n",
        "t_count = df[df['Time_Deposits_Flag']== 1].iloc[:,0].count()\r\n",
        "weights = {1:1,0:t_count*3/f_count}"
      ],
      "outputs": [],
      "execution_count": 28,
      "metadata": {
        "collapsed": true,
        "jupyter": {
          "source_hidden": false,
          "outputs_hidden": false
        },
        "nteract": {
          "transient": {
            "deleting": false
          }
        },
        "gather": {
          "logged": 1610017272122
        }
      }
    },
    {
      "cell_type": "code",
      "source": [
        "LR = LogisticRegression(class_weight = 'balanced',solver = 'liblinear',max_iter = 1000  )"
      ],
      "outputs": [],
      "execution_count": 34,
      "metadata": {
        "collapsed": true,
        "jupyter": {
          "source_hidden": false,
          "outputs_hidden": false
        },
        "nteract": {
          "transient": {
            "deleting": false
          }
        },
        "gather": {
          "logged": 1610017742057
        }
      }
    },
    {
      "cell_type": "code",
      "source": [
        "selector = RFE(LR)"
      ],
      "outputs": [],
      "execution_count": 35,
      "metadata": {
        "collapsed": true,
        "jupyter": {
          "source_hidden": false,
          "outputs_hidden": false
        },
        "nteract": {
          "transient": {
            "deleting": false
          }
        },
        "gather": {
          "logged": 1610017749070
        }
      }
    },
    {
      "cell_type": "code",
      "source": [
        "selector.fit(X,y)"
      ],
      "outputs": [
        {
          "output_type": "execute_result",
          "execution_count": 36,
          "data": {
            "text/plain": "RFE(estimator=LogisticRegression(C=1.0, class_weight='balanced', dual=False,\n                                 fit_intercept=True, intercept_scaling=1,\n                                 l1_ratio=None, max_iter=1000,\n                                 multi_class='auto', n_jobs=None, penalty='l2',\n                                 random_state=None, solver='liblinear',\n                                 tol=0.0001, verbose=0, warm_start=False),\n    n_features_to_select=None, step=1, verbose=0)"
          },
          "metadata": {}
        }
      ],
      "execution_count": 36,
      "metadata": {
        "collapsed": true,
        "jupyter": {
          "source_hidden": false,
          "outputs_hidden": false
        },
        "nteract": {
          "transient": {
            "deleting": false
          }
        },
        "gather": {
          "logged": 1610017868268
        }
      }
    },
    {
      "cell_type": "code",
      "source": [
        "print(classification_report(y,  selector.predict(X)))"
      ],
      "outputs": [
        {
          "output_type": "stream",
          "name": "stdout",
          "text": [
            "              precision    recall  f1-score   support\n",
            "\n",
            "           0       0.99      0.62      0.76    118663\n",
            "           1       0.02      0.71      0.04      1337\n",
            "\n",
            "    accuracy                           0.62    120000\n",
            "   macro avg       0.51      0.66      0.40    120000\n",
            "weighted avg       0.98      0.62      0.76    120000\n",
            "\n"
          ]
        }
      ],
      "execution_count": 37,
      "metadata": {
        "collapsed": true,
        "jupyter": {
          "source_hidden": false,
          "outputs_hidden": false
        },
        "nteract": {
          "transient": {
            "deleting": false
          }
        },
        "gather": {
          "logged": 1610017888529
        }
      }
    },
    {
      "cell_type": "code",
      "source": [
        "print('Accuracy of logistic regression classifier on train set: {:.4f}'.format(selector.score(X, y)))"
      ],
      "outputs": [
        {
          "output_type": "stream",
          "name": "stdout",
          "text": [
            "Accuracy of logistic regression classifier on train set: 0.6207\n"
          ]
        }
      ],
      "execution_count": 38,
      "metadata": {
        "collapsed": true,
        "jupyter": {
          "source_hidden": false,
          "outputs_hidden": false
        },
        "nteract": {
          "transient": {
            "deleting": false
          }
        },
        "gather": {
          "logged": 1610017917792
        }
      }
    },
    {
      "cell_type": "code",
      "source": [
        "y_pred = selector.predict(X)"
      ],
      "outputs": [],
      "execution_count": 39,
      "metadata": {
        "collapsed": true,
        "jupyter": {
          "source_hidden": false,
          "outputs_hidden": false
        },
        "nteract": {
          "transient": {
            "deleting": false
          }
        },
        "gather": {
          "logged": 1610017946033
        }
      }
    },
    {
      "cell_type": "code",
      "source": [
        "logit_roc_auc = roc_auc_score(y, selector.predict(X))\r\n",
        "fpr, tpr, thresholds = roc_curve(y, selector.predict_proba(X)[:,1])\r\n",
        "auc_train = roc_auc = auc(fpr, tpr)\r\n",
        "\r\n",
        "plt.plot(fpr, tpr, label='Logistic Regression - train (area = %0.2f)' % auc_train)\r\n",
        "plt.plot([0, 1], [0, 1],'r--')\r\n",
        "plt.plot([0.1,0.1],[0,1],'g--')\r\n",
        "plt.xlim([0.0, 1.0])\r\n",
        "plt.ylim([0.0, 1.05])\r\n",
        "plt.xlabel('False Positive Rate')\r\n",
        "plt.ylabel('True Positive Rate')\r\n",
        "plt.title('Receiver operating characteristic')\r\n",
        "plt.legend(loc=\"lower right\")"
      ],
      "outputs": [
        {
          "output_type": "execute_result",
          "execution_count": 40,
          "data": {
            "text/plain": "<matplotlib.legend.Legend at 0x7f66dbe59f60>"
          },
          "metadata": {}
        },
        {
          "output_type": "display_data",
          "data": {
            "text/plain": "<Figure size 432x288 with 1 Axes>",
            "image/png": "[encoded data removed]"
          },
          "metadata": {
            "needs_background": "light"
          }
        }
      ],
      "execution_count": 40,
      "metadata": {
        "collapsed": true,
        "jupyter": {
          "source_hidden": false,
          "outputs_hidden": false
        },
        "nteract": {
          "transient": {
            "deleting": false
          }
        },
        "gather": {
          "logged": 1610017968468
        }
      }
    },
    {
      "cell_type": "code",
      "source": [
        "df_lift = pd.DataFrame(zip(y,selector.predict_proba(X)[:,1]),columns =['Actual','Predicted']).sort_values(by ='Predicted',ascending = False)"
      ],
      "outputs": [],
      "execution_count": 41,
      "metadata": {
        "collapsed": true,
        "jupyter": {
          "source_hidden": false,
          "outputs_hidden": false
        },
        "nteract": {
          "transient": {
            "deleting": false
          }
        },
        "gather": {
          "logged": 1610018006910
        }
      }
    },
    {
      "cell_type": "code",
      "source": [
        "'lift at 10% is {:.03f}'.format(df_lift['Actual'].head(12000).sum()/df_lift['Actual'].sum()/0.1)"
      ],
      "outputs": [
        {
          "output_type": "execute_result",
          "execution_count": 42,
          "data": {
            "text/plain": "'lift at 10% is 2.820'"
          },
          "metadata": {}
        }
      ],
      "execution_count": 42,
      "metadata": {
        "collapsed": true,
        "jupyter": {
          "source_hidden": false,
          "outputs_hidden": false
        },
        "nteract": {
          "transient": {
            "deleting": false
          }
        },
        "gather": {
          "logged": 1610018033477
        }
      }
    },
    {
      "cell_type": "code",
      "source": [
        "pd.DataFrame(zip(X.columns[selector.support_],selector.ranking_),columns=['Column','Importance']).sort_values(by ='Importance')"
      ],
      "outputs": [
        {
          "output_type": "execute_result",
          "execution_count": 43,
          "data": {
            "text/plain": "                                  Column  Importance\n25          Occupation_Category__default           1\n20                 Marital_Status__Widow           1\n21  Occupation_Category__Business-Owners           1\n10                       Phone_Trans_Num           1\n9                          APS_Trans_Num           1\n7                      Credit_Cards_Flag           1\n8                       Branch_Trans_Num           1\n5                     Housing_Loans_Flag           1\n4                    Business_Loans_Flag           1\n3                Insurance_Products_Flag           1\n6                    Consumer_Loans_Flag           1\n18               Marital_Status__Married           1\n2               Investment_Products_Flag           2\n23         Occupation_Category__Retirees           4\n22         Occupation_Category__Rentiers           8\n24   Occupation_Category__Self-Employees          10\n19                Marital_Status__Single          11\n0                          Business_Flag          12\n11                     Payment_Trans_Num          14\n12                    Transfer_Trans_Num          15\n13             Credit_Cards_Payments_Num          19\n17                          Gender__Male          21\n16                        Gender__Female          23\n14            Credit_Cards_Purchases_Num          25\n1           Saving_Current_Accounts_Flag          26\n15                    Arrears_Months_Max          27",
            "text/html": "<div>\n<style scoped>\n    .dataframe tbody tr th:only-of-type {\n        vertical-align: middle;\n    }\n\n    .dataframe tbody tr th {\n        vertical-align: top;\n    }\n\n    .dataframe thead th {\n        text-align: right;\n    }\n</style>\n<table border=\"1\" class=\"dataframe\">\n  <thead>\n    <tr style=\"text-align: right;\">\n      <th></th>\n      <th>Column</th>\n      <th>Importance</th>\n    </tr>\n  </thead>\n  <tbody>\n    <tr>\n      <th>25</th>\n      <td>Occupation_Category__default</td>\n      <td>1</td>\n    </tr>\n    <tr>\n      <th>20</th>\n      <td>Marital_Status__Widow</td>\n      <td>1</td>\n    </tr>\n    <tr>\n      <th>21</th>\n      <td>Occupation_Category__Business-Owners</td>\n      <td>1</td>\n    </tr>\n    <tr>\n      <th>10</th>\n      <td>Phone_Trans_Num</td>\n      <td>1</td>\n    </tr>\n    <tr>\n      <th>9</th>\n      <td>APS_Trans_Num</td>\n      <td>1</td>\n    </tr>\n    <tr>\n      <th>7</th>\n      <td>Credit_Cards_Flag</td>\n      <td>1</td>\n    </tr>\n    <tr>\n      <th>8</th>\n      <td>Branch_Trans_Num</td>\n      <td>1</td>\n    </tr>\n    <tr>\n      <th>5</th>\n      <td>Housing_Loans_Flag</td>\n      <td>1</td>\n    </tr>\n    <tr>\n      <th>4</th>\n      <td>Business_Loans_Flag</td>\n      <td>1</td>\n    </tr>\n    <tr>\n      <th>3</th>\n      <td>Insurance_Products_Flag</td>\n      <td>1</td>\n    </tr>\n    <tr>\n      <th>6</th>\n      <td>Consumer_Loans_Flag</td>\n      <td>1</td>\n    </tr>\n    <tr>\n      <th>18</th>\n      <td>Marital_Status__Married</td>\n      <td>1</td>\n    </tr>\n    <tr>\n      <th>2</th>\n      <td>Investment_Products_Flag</td>\n      <td>2</td>\n    </tr>\n    <tr>\n      <th>23</th>\n      <td>Occupation_Category__Retirees</td>\n      <td>4</td>\n    </tr>\n    <tr>\n      <th>22</th>\n      <td>Occupation_Category__Rentiers</td>\n      <td>8</td>\n    </tr>\n    <tr>\n      <th>24</th>\n      <td>Occupation_Category__Self-Employees</td>\n      <td>10</td>\n    </tr>\n    <tr>\n      <th>19</th>\n      <td>Marital_Status__Single</td>\n      <td>11</td>\n    </tr>\n    <tr>\n      <th>0</th>\n      <td>Business_Flag</td>\n      <td>12</td>\n    </tr>\n    <tr>\n      <th>11</th>\n      <td>Payment_Trans_Num</td>\n      <td>14</td>\n    </tr>\n    <tr>\n      <th>12</th>\n      <td>Transfer_Trans_Num</td>\n      <td>15</td>\n    </tr>\n    <tr>\n      <th>13</th>\n      <td>Credit_Cards_Payments_Num</td>\n      <td>19</td>\n    </tr>\n    <tr>\n      <th>17</th>\n      <td>Gender__Male</td>\n      <td>21</td>\n    </tr>\n    <tr>\n      <th>16</th>\n      <td>Gender__Female</td>\n      <td>23</td>\n    </tr>\n    <tr>\n      <th>14</th>\n      <td>Credit_Cards_Purchases_Num</td>\n      <td>25</td>\n    </tr>\n    <tr>\n      <th>1</th>\n      <td>Saving_Current_Accounts_Flag</td>\n      <td>26</td>\n    </tr>\n    <tr>\n      <th>15</th>\n      <td>Arrears_Months_Max</td>\n      <td>27</td>\n    </tr>\n  </tbody>\n</table>\n</div>"
          },
          "metadata": {}
        }
      ],
      "execution_count": 43,
      "metadata": {
        "collapsed": true,
        "jupyter": {
          "source_hidden": false,
          "outputs_hidden": false
        },
        "nteract": {
          "transient": {
            "deleting": false
          }
        },
        "gather": {
          "logged": 1610018070618
        }
      }
    }
  ],
  "metadata": {
    "kernelspec": {
      "name": "python3-azureml",
      "language": "python",
      "display_name": "Python 3.6 - AzureML"
    },
    "language_info": {
      "name": "python",
      "version": "3.6.9",
      "mimetype": "text/x-python",
      "codemirror_mode": {
        "name": "ipython",
        "version": 3
      },
      "pygments_lexer": "ipython3",
      "nbconvert_exporter": "python",
      "file_extension": ".py"
    },
    "kernel_info": {
      "name": "python3-azureml"
    },
    "nteract": {
      "version": "nteract-front-end@1.0.0"
    }
  },
  "nbformat": 4,
  "nbformat_minor": 2
}