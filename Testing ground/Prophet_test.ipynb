{
 "cells": [
  {
   "cell_type": "code",
   "execution_count": null,
   "id": "finished-treasure",
   "metadata": {},
   "outputs": [],
   "source": [
    "#https://facebook.github.io/prophet/"
   ]
  },
  {
   "cell_type": "code",
   "execution_count": null,
   "id": "unexpected-support",
   "metadata": {},
   "outputs": [],
   "source": [
    "#!pip install prophet\n",
    "#!pip install plotly"
   ]
  },
  {
   "cell_type": "code",
   "execution_count": 1,
   "id": "absent-breakfast",
   "metadata": {},
   "outputs": [],
   "source": [
    "import pandas as pd\n",
    "from prophet import Prophet"
   ]
  },
  {
   "cell_type": "code",
   "execution_count": 2,
   "id": "built-market",
   "metadata": {},
   "outputs": [
    {
     "data": {
      "text/html": [
       "<div>\n",
       "<style scoped>\n",
       "    .dataframe tbody tr th:only-of-type {\n",
       "        vertical-align: middle;\n",
       "    }\n",
       "\n",
       "    .dataframe tbody tr th {\n",
       "        vertical-align: top;\n",
       "    }\n",
       "\n",
       "    .dataframe thead th {\n",
       "        text-align: right;\n",
       "    }\n",
       "</style>\n",
       "<table border=\"1\" class=\"dataframe\">\n",
       "  <thead>\n",
       "    <tr style=\"text-align: right;\">\n",
       "      <th></th>\n",
       "      <th>DT</th>\n",
       "      <th>Customer_id</th>\n",
       "      <th>AUM</th>\n",
       "    </tr>\n",
       "  </thead>\n",
       "  <tbody>\n",
       "    <tr>\n",
       "      <th>0</th>\n",
       "      <td>2016-08-31</td>\n",
       "      <td>3642150</td>\n",
       "      <td>26863.85</td>\n",
       "    </tr>\n",
       "    <tr>\n",
       "      <th>1</th>\n",
       "      <td>2016-09-30</td>\n",
       "      <td>3642150</td>\n",
       "      <td>26619.96</td>\n",
       "    </tr>\n",
       "    <tr>\n",
       "      <th>2</th>\n",
       "      <td>2016-10-31</td>\n",
       "      <td>3642150</td>\n",
       "      <td>25839.00</td>\n",
       "    </tr>\n",
       "    <tr>\n",
       "      <th>3</th>\n",
       "      <td>2016-11-30</td>\n",
       "      <td>3642150</td>\n",
       "      <td>24592.85</td>\n",
       "    </tr>\n",
       "    <tr>\n",
       "      <th>4</th>\n",
       "      <td>2016-12-31</td>\n",
       "      <td>3642150</td>\n",
       "      <td>24322.76</td>\n",
       "    </tr>\n",
       "  </tbody>\n",
       "</table>\n",
       "</div>"
      ],
      "text/plain": [
       "           DT  Customer_id       AUM\n",
       "0  2016-08-31      3642150  26863.85\n",
       "1  2016-09-30      3642150  26619.96\n",
       "2  2016-10-31      3642150  25839.00\n",
       "3  2016-11-30      3642150  24592.85\n",
       "4  2016-12-31      3642150  24322.76"
      ]
     },
     "execution_count": 2,
     "metadata": {},
     "output_type": "execute_result"
    }
   ],
   "source": [
    "df = pd.read_csv('./test_prophet.csv')\n",
    "df.head()"
   ]
  },
  {
   "cell_type": "code",
   "execution_count": 3,
   "id": "indoor-magnitude",
   "metadata": {},
   "outputs": [],
   "source": [
    "df = df[['DT','AUM']]"
   ]
  },
  {
   "cell_type": "code",
   "execution_count": 4,
   "id": "incomplete-constraint",
   "metadata": {},
   "outputs": [],
   "source": [
    "df.columns = ['ds','y']"
   ]
  },
  {
   "cell_type": "code",
   "execution_count": 5,
   "id": "august-bulgaria",
   "metadata": {},
   "outputs": [
    {
     "name": "stderr",
     "output_type": "stream",
     "text": [
      "INFO:numexpr.utils:NumExpr defaulting to 2 threads.\n",
      "INFO:prophet:Disabling weekly seasonality. Run prophet with weekly_seasonality=True to override this.\n",
      "INFO:prophet:Disabling daily seasonality. Run prophet with daily_seasonality=True to override this.\n"
     ]
    },
    {
     "data": {
      "text/plain": [
       "<prophet.forecaster.Prophet at 0x7fc919f5a550>"
      ]
     },
     "execution_count": 5,
     "metadata": {},
     "output_type": "execute_result"
    }
   ],
   "source": [
    "m = Prophet(seasonality_mode='multiplicative') #for monthly data\n",
    "m.fit(df)"
   ]
  },
  {
   "cell_type": "code",
   "execution_count": 6,
   "id": "nominated-dublin",
   "metadata": {},
   "outputs": [
    {
     "data": {
      "text/html": [
       "<div>\n",
       "<style scoped>\n",
       "    .dataframe tbody tr th:only-of-type {\n",
       "        vertical-align: middle;\n",
       "    }\n",
       "\n",
       "    .dataframe tbody tr th {\n",
       "        vertical-align: top;\n",
       "    }\n",
       "\n",
       "    .dataframe thead th {\n",
       "        text-align: right;\n",
       "    }\n",
       "</style>\n",
       "<table border=\"1\" class=\"dataframe\">\n",
       "  <thead>\n",
       "    <tr style=\"text-align: right;\">\n",
       "      <th></th>\n",
       "      <th>ds</th>\n",
       "    </tr>\n",
       "  </thead>\n",
       "  <tbody>\n",
       "    <tr>\n",
       "      <th>88</th>\n",
       "      <td>2021-10-27</td>\n",
       "    </tr>\n",
       "    <tr>\n",
       "      <th>89</th>\n",
       "      <td>2021-10-28</td>\n",
       "    </tr>\n",
       "    <tr>\n",
       "      <th>90</th>\n",
       "      <td>2021-10-29</td>\n",
       "    </tr>\n",
       "    <tr>\n",
       "      <th>91</th>\n",
       "      <td>2021-10-30</td>\n",
       "    </tr>\n",
       "    <tr>\n",
       "      <th>92</th>\n",
       "      <td>2021-10-31</td>\n",
       "    </tr>\n",
       "  </tbody>\n",
       "</table>\n",
       "</div>"
      ],
      "text/plain": [
       "           ds\n",
       "88 2021-10-27\n",
       "89 2021-10-28\n",
       "90 2021-10-29\n",
       "91 2021-10-30\n",
       "92 2021-10-31"
      ]
     },
     "execution_count": 6,
     "metadata": {},
     "output_type": "execute_result"
    }
   ],
   "source": [
    "future = m.make_future_dataframe(periods=31)\n",
    "future.tail()"
   ]
  },
  {
   "cell_type": "code",
   "execution_count": 7,
   "id": "valid-dancing",
   "metadata": {},
   "outputs": [
    {
     "data": {
      "text/html": [
       "<div>\n",
       "<style scoped>\n",
       "    .dataframe tbody tr th:only-of-type {\n",
       "        vertical-align: middle;\n",
       "    }\n",
       "\n",
       "    .dataframe tbody tr th {\n",
       "        vertical-align: top;\n",
       "    }\n",
       "\n",
       "    .dataframe thead th {\n",
       "        text-align: right;\n",
       "    }\n",
       "</style>\n",
       "<table border=\"1\" class=\"dataframe\">\n",
       "  <thead>\n",
       "    <tr style=\"text-align: right;\">\n",
       "      <th></th>\n",
       "      <th>ds</th>\n",
       "      <th>yhat</th>\n",
       "      <th>yhat_lower</th>\n",
       "      <th>yhat_upper</th>\n",
       "    </tr>\n",
       "  </thead>\n",
       "  <tbody>\n",
       "    <tr>\n",
       "      <th>80</th>\n",
       "      <td>2021-10-19</td>\n",
       "      <td>9713.355881</td>\n",
       "      <td>9452.123786</td>\n",
       "      <td>9972.587388</td>\n",
       "    </tr>\n",
       "    <tr>\n",
       "      <th>81</th>\n",
       "      <td>2021-10-20</td>\n",
       "      <td>9519.182656</td>\n",
       "      <td>9236.334545</td>\n",
       "      <td>9776.289838</td>\n",
       "    </tr>\n",
       "    <tr>\n",
       "      <th>82</th>\n",
       "      <td>2021-10-21</td>\n",
       "      <td>9378.375431</td>\n",
       "      <td>9111.566477</td>\n",
       "      <td>9653.111969</td>\n",
       "    </tr>\n",
       "    <tr>\n",
       "      <th>83</th>\n",
       "      <td>2021-10-22</td>\n",
       "      <td>9297.414459</td>\n",
       "      <td>9017.177097</td>\n",
       "      <td>9548.237070</td>\n",
       "    </tr>\n",
       "    <tr>\n",
       "      <th>84</th>\n",
       "      <td>2021-10-23</td>\n",
       "      <td>9281.172055</td>\n",
       "      <td>9030.456906</td>\n",
       "      <td>9528.368406</td>\n",
       "    </tr>\n",
       "    <tr>\n",
       "      <th>85</th>\n",
       "      <td>2021-10-24</td>\n",
       "      <td>9332.766940</td>\n",
       "      <td>9068.726433</td>\n",
       "      <td>9608.880873</td>\n",
       "    </tr>\n",
       "    <tr>\n",
       "      <th>86</th>\n",
       "      <td>2021-10-25</td>\n",
       "      <td>9453.467251</td>\n",
       "      <td>9180.228306</td>\n",
       "      <td>9711.111471</td>\n",
       "    </tr>\n",
       "    <tr>\n",
       "      <th>87</th>\n",
       "      <td>2021-10-26</td>\n",
       "      <td>9642.645066</td>\n",
       "      <td>9401.304868</td>\n",
       "      <td>9892.933330</td>\n",
       "    </tr>\n",
       "    <tr>\n",
       "      <th>88</th>\n",
       "      <td>2021-10-27</td>\n",
       "      <td>9897.783765</td>\n",
       "      <td>9624.308181</td>\n",
       "      <td>10150.618378</td>\n",
       "    </tr>\n",
       "    <tr>\n",
       "      <th>89</th>\n",
       "      <td>2021-10-28</td>\n",
       "      <td>10214.538115</td>\n",
       "      <td>9959.160923</td>\n",
       "      <td>10480.028289</td>\n",
       "    </tr>\n",
       "    <tr>\n",
       "      <th>90</th>\n",
       "      <td>2021-10-29</td>\n",
       "      <td>10586.845433</td>\n",
       "      <td>10323.529801</td>\n",
       "      <td>10845.044205</td>\n",
       "    </tr>\n",
       "    <tr>\n",
       "      <th>91</th>\n",
       "      <td>2021-10-30</td>\n",
       "      <td>11007.084747</td>\n",
       "      <td>10730.930727</td>\n",
       "      <td>11277.923727</td>\n",
       "    </tr>\n",
       "    <tr>\n",
       "      <th>92</th>\n",
       "      <td>2021-10-31</td>\n",
       "      <td>11466.279520</td>\n",
       "      <td>11188.073160</td>\n",
       "      <td>11714.955603</td>\n",
       "    </tr>\n",
       "  </tbody>\n",
       "</table>\n",
       "</div>"
      ],
      "text/plain": [
       "           ds          yhat    yhat_lower    yhat_upper\n",
       "80 2021-10-19   9713.355881   9452.123786   9972.587388\n",
       "81 2021-10-20   9519.182656   9236.334545   9776.289838\n",
       "82 2021-10-21   9378.375431   9111.566477   9653.111969\n",
       "83 2021-10-22   9297.414459   9017.177097   9548.237070\n",
       "84 2021-10-23   9281.172055   9030.456906   9528.368406\n",
       "85 2021-10-24   9332.766940   9068.726433   9608.880873\n",
       "86 2021-10-25   9453.467251   9180.228306   9711.111471\n",
       "87 2021-10-26   9642.645066   9401.304868   9892.933330\n",
       "88 2021-10-27   9897.783765   9624.308181  10150.618378\n",
       "89 2021-10-28  10214.538115   9959.160923  10480.028289\n",
       "90 2021-10-29  10586.845433  10323.529801  10845.044205\n",
       "91 2021-10-30  11007.084747  10730.930727  11277.923727\n",
       "92 2021-10-31  11466.279520  11188.073160  11714.955603"
      ]
     },
     "execution_count": 7,
     "metadata": {},
     "output_type": "execute_result"
    }
   ],
   "source": [
    "forecast = m.predict(future)\n",
    "forecast[['ds', 'yhat', 'yhat_lower', 'yhat_upper']].tail(13)\n"
   ]
  },
  {
   "cell_type": "code",
   "execution_count": 8,
   "id": "baking-boost",
   "metadata": {},
   "outputs": [
    {
     "data": {
      "text/html": [
       "<div>\n",
       "<style scoped>\n",
       "    .dataframe tbody tr th:only-of-type {\n",
       "        vertical-align: middle;\n",
       "    }\n",
       "\n",
       "    .dataframe tbody tr th {\n",
       "        vertical-align: top;\n",
       "    }\n",
       "\n",
       "    .dataframe thead th {\n",
       "        text-align: right;\n",
       "    }\n",
       "</style>\n",
       "<table border=\"1\" class=\"dataframe\">\n",
       "  <thead>\n",
       "    <tr style=\"text-align: right;\">\n",
       "      <th></th>\n",
       "      <th>ds</th>\n",
       "      <th>trend</th>\n",
       "      <th>yhat_lower</th>\n",
       "      <th>yhat_upper</th>\n",
       "      <th>trend_lower</th>\n",
       "      <th>trend_upper</th>\n",
       "      <th>multiplicative_terms</th>\n",
       "      <th>multiplicative_terms_lower</th>\n",
       "      <th>multiplicative_terms_upper</th>\n",
       "      <th>yearly</th>\n",
       "      <th>yearly_lower</th>\n",
       "      <th>yearly_upper</th>\n",
       "      <th>additive_terms</th>\n",
       "      <th>additive_terms_lower</th>\n",
       "      <th>additive_terms_upper</th>\n",
       "      <th>yhat</th>\n",
       "    </tr>\n",
       "  </thead>\n",
       "  <tbody>\n",
       "    <tr>\n",
       "      <th>92</th>\n",
       "      <td>2021-10-31</td>\n",
       "      <td>11646.200971</td>\n",
       "      <td>11188.07316</td>\n",
       "      <td>11714.955603</td>\n",
       "      <td>11640.913304</td>\n",
       "      <td>11651.337725</td>\n",
       "      <td>-0.015449</td>\n",
       "      <td>-0.015449</td>\n",
       "      <td>-0.015449</td>\n",
       "      <td>-0.015449</td>\n",
       "      <td>-0.015449</td>\n",
       "      <td>-0.015449</td>\n",
       "      <td>0.0</td>\n",
       "      <td>0.0</td>\n",
       "      <td>0.0</td>\n",
       "      <td>11466.27952</td>\n",
       "    </tr>\n",
       "  </tbody>\n",
       "</table>\n",
       "</div>"
      ],
      "text/plain": [
       "           ds         trend   yhat_lower    yhat_upper   trend_lower  \\\n",
       "92 2021-10-31  11646.200971  11188.07316  11714.955603  11640.913304   \n",
       "\n",
       "     trend_upper  multiplicative_terms  multiplicative_terms_lower  \\\n",
       "92  11651.337725             -0.015449                   -0.015449   \n",
       "\n",
       "    multiplicative_terms_upper    yearly  yearly_lower  yearly_upper  \\\n",
       "92                   -0.015449 -0.015449     -0.015449     -0.015449   \n",
       "\n",
       "    additive_terms  additive_terms_lower  additive_terms_upper         yhat  \n",
       "92             0.0                   0.0                   0.0  11466.27952  "
      ]
     },
     "execution_count": 8,
     "metadata": {},
     "output_type": "execute_result"
    }
   ],
   "source": [
    "forecast[forecast['ds']=='2021-10-31']"
   ]
  },
  {
   "cell_type": "code",
   "execution_count": 9,
   "id": "parallel-channels",
   "metadata": {},
   "outputs": [
    {
     "data": {
      "image/png": "[encoded data removed]",
      "text/plain": [
       "<Figure size 720x432 with 1 Axes>"
      ]
     },
     "metadata": {},
     "output_type": "display_data"
    }
   ],
   "source": [
    "fcst = m.predict(future)\n",
    "fig = m.plot(fcst)"
   ]
  }
 ],
 "metadata": {
  "kernelspec": {
   "display_name": "Python 3.6 - AzureML",
   "language": "python",
   "name": "python3-azureml"
  },
  "language_info": {
   "codemirror_mode": {
    "name": "ipython",
    "version": 3
   },
   "file_extension": ".py",
   "mimetype": "text/x-python",
   "name": "python",
   "nbconvert_exporter": "python",
   "pygments_lexer": "ipython3",
   "version": "3.6.9"
  }
 },
 "nbformat": 4,
 "nbformat_minor": 5
}
